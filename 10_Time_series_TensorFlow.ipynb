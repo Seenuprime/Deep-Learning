{
  "nbformat": 4,
  "nbformat_minor": 0,
  "metadata": {
    "colab": {
      "provenance": [],
      "authorship_tag": "ABX9TyMRMi9t5k1l7pS6k96G6REQ",
      "include_colab_link": true
    },
    "kernelspec": {
      "name": "python3",
      "display_name": "Python 3"
    },
    "language_info": {
      "name": "python"
    }
  },
  "cells": [
    {
      "cell_type": "markdown",
      "metadata": {
        "id": "view-in-github",
        "colab_type": "text"
      },
      "source": [
        "<a href=\"https://colab.research.google.com/github/Seenuprime/Deep-Learning/blob/main/10_Time_series_TensorFlow.ipynb\" target=\"_parent\"><img src=\"https://colab.research.google.com/assets/colab-badge.svg\" alt=\"Open In Colab\"/></a>"
      ]
    },
    {
      "cell_type": "markdown",
      "source": [
        "# Time Series forecasting fundamentals with tensorflow + Milestone Project: 3"
      ],
      "metadata": {
        "id": "GSW3IDbpRcek"
      }
    },
    {
      "cell_type": "code",
      "execution_count": 2,
      "metadata": {
        "colab": {
          "base_uri": "https://localhost:8080/"
        },
        "id": "Zccy42YjRalN",
        "outputId": "d29d2804-61f2-4d82-d2bb-c54480dd3b10"
      },
      "outputs": [
        {
          "output_type": "stream",
          "name": "stdout",
          "text": [
            "--2024-05-24 11:22:05--  https://raw.githubusercontent.com/mrdbourke/tensorflow-deep-learning/main/extras/BTC_USD_2013-10-01_2021-05-18-CoinDesk.csv\n",
            "Resolving raw.githubusercontent.com (raw.githubusercontent.com)... 185.199.109.133, 185.199.111.133, 185.199.110.133, ...\n",
            "Connecting to raw.githubusercontent.com (raw.githubusercontent.com)|185.199.109.133|:443... connected.\n",
            "HTTP request sent, awaiting response... 200 OK\n",
            "Length: 178509 (174K) [text/plain]\n",
            "Saving to: ‘BTC_USD_2013-10-01_2021-05-18-CoinDesk.csv’\n",
            "\n",
            "\r          BTC_USD_2   0%[                    ]       0  --.-KB/s               \rBTC_USD_2013-10-01_ 100%[===================>] 174.33K  --.-KB/s    in 0.03s   \n",
            "\n",
            "2024-05-24 11:22:05 (5.23 MB/s) - ‘BTC_USD_2013-10-01_2021-05-18-CoinDesk.csv’ saved [178509/178509]\n",
            "\n"
          ]
        }
      ],
      "source": [
        "!wget https://raw.githubusercontent.com/mrdbourke/tensorflow-deep-learning/main/extras/BTC_USD_2013-10-01_2021-05-18-CoinDesk.csv"
      ]
    },
    {
      "cell_type": "code",
      "source": [
        "import pandas as pd\n",
        "df = pd.read_csv('/content/BTC_USD_2013-10-01_2021-05-18-CoinDesk.csv', index_col=['Date'], parse_dates=['Date'])\n",
        "df.head()"
      ],
      "metadata": {
        "colab": {
          "base_uri": "https://localhost:8080/",
          "height": 237
        },
        "id": "dZfMLVUyR-uw",
        "outputId": "752fdc05-abc2-48e8-a260-41b934cdd9c2"
      },
      "execution_count": 3,
      "outputs": [
        {
          "output_type": "execute_result",
          "data": {
            "text/plain": [
              "           Currency  Closing Price (USD)  24h Open (USD)  24h High (USD)  \\\n",
              "Date                                                                       \n",
              "2013-10-01      BTC            123.65499       124.30466       124.75166   \n",
              "2013-10-02      BTC            125.45500       123.65499       125.75850   \n",
              "2013-10-03      BTC            108.58483       125.45500       125.66566   \n",
              "2013-10-04      BTC            118.67466       108.58483       118.67500   \n",
              "2013-10-05      BTC            121.33866       118.67466       121.93633   \n",
              "\n",
              "            24h Low (USD)  \n",
              "Date                       \n",
              "2013-10-01      122.56349  \n",
              "2013-10-02      123.63383  \n",
              "2013-10-03       83.32833  \n",
              "2013-10-04      107.05816  \n",
              "2013-10-05      118.00566  "
            ],
            "text/html": [
              "\n",
              "  <div id=\"df-7c6fbe45-c29a-4a9e-93ba-5309383d8309\" class=\"colab-df-container\">\n",
              "    <div>\n",
              "<style scoped>\n",
              "    .dataframe tbody tr th:only-of-type {\n",
              "        vertical-align: middle;\n",
              "    }\n",
              "\n",
              "    .dataframe tbody tr th {\n",
              "        vertical-align: top;\n",
              "    }\n",
              "\n",
              "    .dataframe thead th {\n",
              "        text-align: right;\n",
              "    }\n",
              "</style>\n",
              "<table border=\"1\" class=\"dataframe\">\n",
              "  <thead>\n",
              "    <tr style=\"text-align: right;\">\n",
              "      <th></th>\n",
              "      <th>Currency</th>\n",
              "      <th>Closing Price (USD)</th>\n",
              "      <th>24h Open (USD)</th>\n",
              "      <th>24h High (USD)</th>\n",
              "      <th>24h Low (USD)</th>\n",
              "    </tr>\n",
              "    <tr>\n",
              "      <th>Date</th>\n",
              "      <th></th>\n",
              "      <th></th>\n",
              "      <th></th>\n",
              "      <th></th>\n",
              "      <th></th>\n",
              "    </tr>\n",
              "  </thead>\n",
              "  <tbody>\n",
              "    <tr>\n",
              "      <th>2013-10-01</th>\n",
              "      <td>BTC</td>\n",
              "      <td>123.65499</td>\n",
              "      <td>124.30466</td>\n",
              "      <td>124.75166</td>\n",
              "      <td>122.56349</td>\n",
              "    </tr>\n",
              "    <tr>\n",
              "      <th>2013-10-02</th>\n",
              "      <td>BTC</td>\n",
              "      <td>125.45500</td>\n",
              "      <td>123.65499</td>\n",
              "      <td>125.75850</td>\n",
              "      <td>123.63383</td>\n",
              "    </tr>\n",
              "    <tr>\n",
              "      <th>2013-10-03</th>\n",
              "      <td>BTC</td>\n",
              "      <td>108.58483</td>\n",
              "      <td>125.45500</td>\n",
              "      <td>125.66566</td>\n",
              "      <td>83.32833</td>\n",
              "    </tr>\n",
              "    <tr>\n",
              "      <th>2013-10-04</th>\n",
              "      <td>BTC</td>\n",
              "      <td>118.67466</td>\n",
              "      <td>108.58483</td>\n",
              "      <td>118.67500</td>\n",
              "      <td>107.05816</td>\n",
              "    </tr>\n",
              "    <tr>\n",
              "      <th>2013-10-05</th>\n",
              "      <td>BTC</td>\n",
              "      <td>121.33866</td>\n",
              "      <td>118.67466</td>\n",
              "      <td>121.93633</td>\n",
              "      <td>118.00566</td>\n",
              "    </tr>\n",
              "  </tbody>\n",
              "</table>\n",
              "</div>\n",
              "    <div class=\"colab-df-buttons\">\n",
              "\n",
              "  <div class=\"colab-df-container\">\n",
              "    <button class=\"colab-df-convert\" onclick=\"convertToInteractive('df-7c6fbe45-c29a-4a9e-93ba-5309383d8309')\"\n",
              "            title=\"Convert this dataframe to an interactive table.\"\n",
              "            style=\"display:none;\">\n",
              "\n",
              "  <svg xmlns=\"http://www.w3.org/2000/svg\" height=\"24px\" viewBox=\"0 -960 960 960\">\n",
              "    <path d=\"M120-120v-720h720v720H120Zm60-500h600v-160H180v160Zm220 220h160v-160H400v160Zm0 220h160v-160H400v160ZM180-400h160v-160H180v160Zm440 0h160v-160H620v160ZM180-180h160v-160H180v160Zm440 0h160v-160H620v160Z\"/>\n",
              "  </svg>\n",
              "    </button>\n",
              "\n",
              "  <style>\n",
              "    .colab-df-container {\n",
              "      display:flex;\n",
              "      gap: 12px;\n",
              "    }\n",
              "\n",
              "    .colab-df-convert {\n",
              "      background-color: #E8F0FE;\n",
              "      border: none;\n",
              "      border-radius: 50%;\n",
              "      cursor: pointer;\n",
              "      display: none;\n",
              "      fill: #1967D2;\n",
              "      height: 32px;\n",
              "      padding: 0 0 0 0;\n",
              "      width: 32px;\n",
              "    }\n",
              "\n",
              "    .colab-df-convert:hover {\n",
              "      background-color: #E2EBFA;\n",
              "      box-shadow: 0px 1px 2px rgba(60, 64, 67, 0.3), 0px 1px 3px 1px rgba(60, 64, 67, 0.15);\n",
              "      fill: #174EA6;\n",
              "    }\n",
              "\n",
              "    .colab-df-buttons div {\n",
              "      margin-bottom: 4px;\n",
              "    }\n",
              "\n",
              "    [theme=dark] .colab-df-convert {\n",
              "      background-color: #3B4455;\n",
              "      fill: #D2E3FC;\n",
              "    }\n",
              "\n",
              "    [theme=dark] .colab-df-convert:hover {\n",
              "      background-color: #434B5C;\n",
              "      box-shadow: 0px 1px 3px 1px rgba(0, 0, 0, 0.15);\n",
              "      filter: drop-shadow(0px 1px 2px rgba(0, 0, 0, 0.3));\n",
              "      fill: #FFFFFF;\n",
              "    }\n",
              "  </style>\n",
              "\n",
              "    <script>\n",
              "      const buttonEl =\n",
              "        document.querySelector('#df-7c6fbe45-c29a-4a9e-93ba-5309383d8309 button.colab-df-convert');\n",
              "      buttonEl.style.display =\n",
              "        google.colab.kernel.accessAllowed ? 'block' : 'none';\n",
              "\n",
              "      async function convertToInteractive(key) {\n",
              "        const element = document.querySelector('#df-7c6fbe45-c29a-4a9e-93ba-5309383d8309');\n",
              "        const dataTable =\n",
              "          await google.colab.kernel.invokeFunction('convertToInteractive',\n",
              "                                                    [key], {});\n",
              "        if (!dataTable) return;\n",
              "\n",
              "        const docLinkHtml = 'Like what you see? Visit the ' +\n",
              "          '<a target=\"_blank\" href=https://colab.research.google.com/notebooks/data_table.ipynb>data table notebook</a>'\n",
              "          + ' to learn more about interactive tables.';\n",
              "        element.innerHTML = '';\n",
              "        dataTable['output_type'] = 'display_data';\n",
              "        await google.colab.output.renderOutput(dataTable, element);\n",
              "        const docLink = document.createElement('div');\n",
              "        docLink.innerHTML = docLinkHtml;\n",
              "        element.appendChild(docLink);\n",
              "      }\n",
              "    </script>\n",
              "  </div>\n",
              "\n",
              "\n",
              "<div id=\"df-89c204ef-3985-4dde-99f8-264d605ed503\">\n",
              "  <button class=\"colab-df-quickchart\" onclick=\"quickchart('df-89c204ef-3985-4dde-99f8-264d605ed503')\"\n",
              "            title=\"Suggest charts\"\n",
              "            style=\"display:none;\">\n",
              "\n",
              "<svg xmlns=\"http://www.w3.org/2000/svg\" height=\"24px\"viewBox=\"0 0 24 24\"\n",
              "     width=\"24px\">\n",
              "    <g>\n",
              "        <path d=\"M19 3H5c-1.1 0-2 .9-2 2v14c0 1.1.9 2 2 2h14c1.1 0 2-.9 2-2V5c0-1.1-.9-2-2-2zM9 17H7v-7h2v7zm4 0h-2V7h2v10zm4 0h-2v-4h2v4z\"/>\n",
              "    </g>\n",
              "</svg>\n",
              "  </button>\n",
              "\n",
              "<style>\n",
              "  .colab-df-quickchart {\n",
              "      --bg-color: #E8F0FE;\n",
              "      --fill-color: #1967D2;\n",
              "      --hover-bg-color: #E2EBFA;\n",
              "      --hover-fill-color: #174EA6;\n",
              "      --disabled-fill-color: #AAA;\n",
              "      --disabled-bg-color: #DDD;\n",
              "  }\n",
              "\n",
              "  [theme=dark] .colab-df-quickchart {\n",
              "      --bg-color: #3B4455;\n",
              "      --fill-color: #D2E3FC;\n",
              "      --hover-bg-color: #434B5C;\n",
              "      --hover-fill-color: #FFFFFF;\n",
              "      --disabled-bg-color: #3B4455;\n",
              "      --disabled-fill-color: #666;\n",
              "  }\n",
              "\n",
              "  .colab-df-quickchart {\n",
              "    background-color: var(--bg-color);\n",
              "    border: none;\n",
              "    border-radius: 50%;\n",
              "    cursor: pointer;\n",
              "    display: none;\n",
              "    fill: var(--fill-color);\n",
              "    height: 32px;\n",
              "    padding: 0;\n",
              "    width: 32px;\n",
              "  }\n",
              "\n",
              "  .colab-df-quickchart:hover {\n",
              "    background-color: var(--hover-bg-color);\n",
              "    box-shadow: 0 1px 2px rgba(60, 64, 67, 0.3), 0 1px 3px 1px rgba(60, 64, 67, 0.15);\n",
              "    fill: var(--button-hover-fill-color);\n",
              "  }\n",
              "\n",
              "  .colab-df-quickchart-complete:disabled,\n",
              "  .colab-df-quickchart-complete:disabled:hover {\n",
              "    background-color: var(--disabled-bg-color);\n",
              "    fill: var(--disabled-fill-color);\n",
              "    box-shadow: none;\n",
              "  }\n",
              "\n",
              "  .colab-df-spinner {\n",
              "    border: 2px solid var(--fill-color);\n",
              "    border-color: transparent;\n",
              "    border-bottom-color: var(--fill-color);\n",
              "    animation:\n",
              "      spin 1s steps(1) infinite;\n",
              "  }\n",
              "\n",
              "  @keyframes spin {\n",
              "    0% {\n",
              "      border-color: transparent;\n",
              "      border-bottom-color: var(--fill-color);\n",
              "      border-left-color: var(--fill-color);\n",
              "    }\n",
              "    20% {\n",
              "      border-color: transparent;\n",
              "      border-left-color: var(--fill-color);\n",
              "      border-top-color: var(--fill-color);\n",
              "    }\n",
              "    30% {\n",
              "      border-color: transparent;\n",
              "      border-left-color: var(--fill-color);\n",
              "      border-top-color: var(--fill-color);\n",
              "      border-right-color: var(--fill-color);\n",
              "    }\n",
              "    40% {\n",
              "      border-color: transparent;\n",
              "      border-right-color: var(--fill-color);\n",
              "      border-top-color: var(--fill-color);\n",
              "    }\n",
              "    60% {\n",
              "      border-color: transparent;\n",
              "      border-right-color: var(--fill-color);\n",
              "    }\n",
              "    80% {\n",
              "      border-color: transparent;\n",
              "      border-right-color: var(--fill-color);\n",
              "      border-bottom-color: var(--fill-color);\n",
              "    }\n",
              "    90% {\n",
              "      border-color: transparent;\n",
              "      border-bottom-color: var(--fill-color);\n",
              "    }\n",
              "  }\n",
              "</style>\n",
              "\n",
              "  <script>\n",
              "    async function quickchart(key) {\n",
              "      const quickchartButtonEl =\n",
              "        document.querySelector('#' + key + ' button');\n",
              "      quickchartButtonEl.disabled = true;  // To prevent multiple clicks.\n",
              "      quickchartButtonEl.classList.add('colab-df-spinner');\n",
              "      try {\n",
              "        const charts = await google.colab.kernel.invokeFunction(\n",
              "            'suggestCharts', [key], {});\n",
              "      } catch (error) {\n",
              "        console.error('Error during call to suggestCharts:', error);\n",
              "      }\n",
              "      quickchartButtonEl.classList.remove('colab-df-spinner');\n",
              "      quickchartButtonEl.classList.add('colab-df-quickchart-complete');\n",
              "    }\n",
              "    (() => {\n",
              "      let quickchartButtonEl =\n",
              "        document.querySelector('#df-89c204ef-3985-4dde-99f8-264d605ed503 button');\n",
              "      quickchartButtonEl.style.display =\n",
              "        google.colab.kernel.accessAllowed ? 'block' : 'none';\n",
              "    })();\n",
              "  </script>\n",
              "</div>\n",
              "\n",
              "    </div>\n",
              "  </div>\n"
            ],
            "application/vnd.google.colaboratory.intrinsic+json": {
              "type": "dataframe",
              "variable_name": "df",
              "summary": "{\n  \"name\": \"df\",\n  \"rows\": 2787,\n  \"fields\": [\n    {\n      \"column\": \"Date\",\n      \"properties\": {\n        \"dtype\": \"date\",\n        \"min\": \"2013-10-01 00:00:00\",\n        \"max\": \"2021-05-18 00:00:00\",\n        \"num_unique_values\": 2787,\n        \"samples\": [\n          \"2019-06-11 00:00:00\",\n          \"2021-05-03 00:00:00\",\n          \"2017-10-05 00:00:00\"\n        ],\n        \"semantic_type\": \"\",\n        \"description\": \"\"\n      }\n    },\n    {\n      \"column\": \"Currency\",\n      \"properties\": {\n        \"dtype\": \"category\",\n        \"num_unique_values\": 1,\n        \"samples\": [\n          \"BTC\"\n        ],\n        \"semantic_type\": \"\",\n        \"description\": \"\"\n      }\n    },\n    {\n      \"column\": \"Closing Price (USD)\",\n      \"properties\": {\n        \"dtype\": \"number\",\n        \"std\": 10887.84744436952,\n        \"min\": 108.58483,\n        \"max\": 63346.7890351052,\n        \"num_unique_values\": 2787,\n        \"samples\": [\n          7954.0062377205\n        ],\n        \"semantic_type\": \"\",\n        \"description\": \"\"\n      }\n    },\n    {\n      \"column\": \"24h Open (USD)\",\n      \"properties\": {\n        \"dtype\": \"number\",\n        \"std\": 10863.80077212387,\n        \"min\": 108.58483,\n        \"max\": 63562.6735446382,\n        \"num_unique_values\": 2787,\n        \"samples\": [\n          7600.9225047785\n        ],\n        \"semantic_type\": \"\",\n        \"description\": \"\"\n      }\n    },\n    {\n      \"column\": \"24h High (USD)\",\n      \"properties\": {\n        \"dtype\": \"number\",\n        \"std\": 11206.779756254151,\n        \"min\": 118.675,\n        \"max\": 64801.787869525,\n        \"num_unique_values\": 2787,\n        \"samples\": [\n          8064.9001353225\n        ],\n        \"semantic_type\": \"\",\n        \"description\": \"\"\n      }\n    },\n    {\n      \"column\": \"24h Low (USD)\",\n      \"properties\": {\n        \"dtype\": \"number\",\n        \"std\": 10475.8112518284,\n        \"min\": 83.32833,\n        \"max\": 62094.6329143272,\n        \"num_unique_values\": 2785,\n        \"samples\": [\n          7714.610306452\n        ],\n        \"semantic_type\": \"\",\n        \"description\": \"\"\n      }\n    }\n  ]\n}"
            }
          },
          "metadata": {},
          "execution_count": 3
        }
      ]
    },
    {
      "cell_type": "code",
      "source": [
        "df.columns = ['currency', 'close', 'opne', 'high', 'low']"
      ],
      "metadata": {
        "id": "2YSilbfKANl8"
      },
      "execution_count": 4,
      "outputs": []
    },
    {
      "cell_type": "code",
      "source": [
        "df.info()"
      ],
      "metadata": {
        "colab": {
          "base_uri": "https://localhost:8080/"
        },
        "id": "sLE3-H17Ypa2",
        "outputId": "f8af8800-592c-4006-d673-aad2198e2ff8"
      },
      "execution_count": 5,
      "outputs": [
        {
          "output_type": "stream",
          "name": "stdout",
          "text": [
            "<class 'pandas.core.frame.DataFrame'>\n",
            "DatetimeIndex: 2787 entries, 2013-10-01 to 2021-05-18\n",
            "Data columns (total 5 columns):\n",
            " #   Column    Non-Null Count  Dtype  \n",
            "---  ------    --------------  -----  \n",
            " 0   currency  2787 non-null   object \n",
            " 1   close     2787 non-null   float64\n",
            " 2   opne      2787 non-null   float64\n",
            " 3   high      2787 non-null   float64\n",
            " 4   low       2787 non-null   float64\n",
            "dtypes: float64(4), object(1)\n",
            "memory usage: 130.6+ KB\n"
          ]
        }
      ]
    },
    {
      "cell_type": "code",
      "source": [
        "df.columns"
      ],
      "metadata": {
        "colab": {
          "base_uri": "https://localhost:8080/"
        },
        "id": "XOHjHWmJSNF4",
        "outputId": "706dabf7-494d-49f8-947f-b55118299693"
      },
      "execution_count": 6,
      "outputs": [
        {
          "output_type": "execute_result",
          "data": {
            "text/plain": [
              "Index(['currency', 'close', 'opne', 'high', 'low'], dtype='object')"
            ]
          },
          "metadata": {},
          "execution_count": 6
        }
      ]
    },
    {
      "cell_type": "code",
      "source": [
        "df.isnull().sum()"
      ],
      "metadata": {
        "colab": {
          "base_uri": "https://localhost:8080/"
        },
        "id": "bhHIFS-FSVqf",
        "outputId": "bbe081eb-296c-431b-8ef0-d13e2460ad49"
      },
      "execution_count": 7,
      "outputs": [
        {
          "output_type": "execute_result",
          "data": {
            "text/plain": [
              "currency    0\n",
              "close       0\n",
              "opne        0\n",
              "high        0\n",
              "low         0\n",
              "dtype: int64"
            ]
          },
          "metadata": {},
          "execution_count": 7
        }
      ]
    },
    {
      "cell_type": "code",
      "source": [
        "\n",
        "# Only want closing price for each day\n",
        "bf = pd.DataFrame(df[\"close\"]).rename(columns={\"close\": \"price\"})\n",
        "bf.head()"
      ],
      "metadata": {
        "colab": {
          "base_uri": "https://localhost:8080/",
          "height": 237
        },
        "id": "4uAVDnPE2Qg_",
        "outputId": "85e6be8c-7cee-4d67-9955-c7141144b1dc"
      },
      "execution_count": 8,
      "outputs": [
        {
          "output_type": "execute_result",
          "data": {
            "text/plain": [
              "                price\n",
              "Date                 \n",
              "2013-10-01  123.65499\n",
              "2013-10-02  125.45500\n",
              "2013-10-03  108.58483\n",
              "2013-10-04  118.67466\n",
              "2013-10-05  121.33866"
            ],
            "text/html": [
              "\n",
              "  <div id=\"df-40ed28fa-5e61-44d3-ae8f-0d78d042dfff\" class=\"colab-df-container\">\n",
              "    <div>\n",
              "<style scoped>\n",
              "    .dataframe tbody tr th:only-of-type {\n",
              "        vertical-align: middle;\n",
              "    }\n",
              "\n",
              "    .dataframe tbody tr th {\n",
              "        vertical-align: top;\n",
              "    }\n",
              "\n",
              "    .dataframe thead th {\n",
              "        text-align: right;\n",
              "    }\n",
              "</style>\n",
              "<table border=\"1\" class=\"dataframe\">\n",
              "  <thead>\n",
              "    <tr style=\"text-align: right;\">\n",
              "      <th></th>\n",
              "      <th>price</th>\n",
              "    </tr>\n",
              "    <tr>\n",
              "      <th>Date</th>\n",
              "      <th></th>\n",
              "    </tr>\n",
              "  </thead>\n",
              "  <tbody>\n",
              "    <tr>\n",
              "      <th>2013-10-01</th>\n",
              "      <td>123.65499</td>\n",
              "    </tr>\n",
              "    <tr>\n",
              "      <th>2013-10-02</th>\n",
              "      <td>125.45500</td>\n",
              "    </tr>\n",
              "    <tr>\n",
              "      <th>2013-10-03</th>\n",
              "      <td>108.58483</td>\n",
              "    </tr>\n",
              "    <tr>\n",
              "      <th>2013-10-04</th>\n",
              "      <td>118.67466</td>\n",
              "    </tr>\n",
              "    <tr>\n",
              "      <th>2013-10-05</th>\n",
              "      <td>121.33866</td>\n",
              "    </tr>\n",
              "  </tbody>\n",
              "</table>\n",
              "</div>\n",
              "    <div class=\"colab-df-buttons\">\n",
              "\n",
              "  <div class=\"colab-df-container\">\n",
              "    <button class=\"colab-df-convert\" onclick=\"convertToInteractive('df-40ed28fa-5e61-44d3-ae8f-0d78d042dfff')\"\n",
              "            title=\"Convert this dataframe to an interactive table.\"\n",
              "            style=\"display:none;\">\n",
              "\n",
              "  <svg xmlns=\"http://www.w3.org/2000/svg\" height=\"24px\" viewBox=\"0 -960 960 960\">\n",
              "    <path d=\"M120-120v-720h720v720H120Zm60-500h600v-160H180v160Zm220 220h160v-160H400v160Zm0 220h160v-160H400v160ZM180-400h160v-160H180v160Zm440 0h160v-160H620v160ZM180-180h160v-160H180v160Zm440 0h160v-160H620v160Z\"/>\n",
              "  </svg>\n",
              "    </button>\n",
              "\n",
              "  <style>\n",
              "    .colab-df-container {\n",
              "      display:flex;\n",
              "      gap: 12px;\n",
              "    }\n",
              "\n",
              "    .colab-df-convert {\n",
              "      background-color: #E8F0FE;\n",
              "      border: none;\n",
              "      border-radius: 50%;\n",
              "      cursor: pointer;\n",
              "      display: none;\n",
              "      fill: #1967D2;\n",
              "      height: 32px;\n",
              "      padding: 0 0 0 0;\n",
              "      width: 32px;\n",
              "    }\n",
              "\n",
              "    .colab-df-convert:hover {\n",
              "      background-color: #E2EBFA;\n",
              "      box-shadow: 0px 1px 2px rgba(60, 64, 67, 0.3), 0px 1px 3px 1px rgba(60, 64, 67, 0.15);\n",
              "      fill: #174EA6;\n",
              "    }\n",
              "\n",
              "    .colab-df-buttons div {\n",
              "      margin-bottom: 4px;\n",
              "    }\n",
              "\n",
              "    [theme=dark] .colab-df-convert {\n",
              "      background-color: #3B4455;\n",
              "      fill: #D2E3FC;\n",
              "    }\n",
              "\n",
              "    [theme=dark] .colab-df-convert:hover {\n",
              "      background-color: #434B5C;\n",
              "      box-shadow: 0px 1px 3px 1px rgba(0, 0, 0, 0.15);\n",
              "      filter: drop-shadow(0px 1px 2px rgba(0, 0, 0, 0.3));\n",
              "      fill: #FFFFFF;\n",
              "    }\n",
              "  </style>\n",
              "\n",
              "    <script>\n",
              "      const buttonEl =\n",
              "        document.querySelector('#df-40ed28fa-5e61-44d3-ae8f-0d78d042dfff button.colab-df-convert');\n",
              "      buttonEl.style.display =\n",
              "        google.colab.kernel.accessAllowed ? 'block' : 'none';\n",
              "\n",
              "      async function convertToInteractive(key) {\n",
              "        const element = document.querySelector('#df-40ed28fa-5e61-44d3-ae8f-0d78d042dfff');\n",
              "        const dataTable =\n",
              "          await google.colab.kernel.invokeFunction('convertToInteractive',\n",
              "                                                    [key], {});\n",
              "        if (!dataTable) return;\n",
              "\n",
              "        const docLinkHtml = 'Like what you see? Visit the ' +\n",
              "          '<a target=\"_blank\" href=https://colab.research.google.com/notebooks/data_table.ipynb>data table notebook</a>'\n",
              "          + ' to learn more about interactive tables.';\n",
              "        element.innerHTML = '';\n",
              "        dataTable['output_type'] = 'display_data';\n",
              "        await google.colab.output.renderOutput(dataTable, element);\n",
              "        const docLink = document.createElement('div');\n",
              "        docLink.innerHTML = docLinkHtml;\n",
              "        element.appendChild(docLink);\n",
              "      }\n",
              "    </script>\n",
              "  </div>\n",
              "\n",
              "\n",
              "<div id=\"df-a514a231-2a7e-478d-8ee7-eddb397f7a6d\">\n",
              "  <button class=\"colab-df-quickchart\" onclick=\"quickchart('df-a514a231-2a7e-478d-8ee7-eddb397f7a6d')\"\n",
              "            title=\"Suggest charts\"\n",
              "            style=\"display:none;\">\n",
              "\n",
              "<svg xmlns=\"http://www.w3.org/2000/svg\" height=\"24px\"viewBox=\"0 0 24 24\"\n",
              "     width=\"24px\">\n",
              "    <g>\n",
              "        <path d=\"M19 3H5c-1.1 0-2 .9-2 2v14c0 1.1.9 2 2 2h14c1.1 0 2-.9 2-2V5c0-1.1-.9-2-2-2zM9 17H7v-7h2v7zm4 0h-2V7h2v10zm4 0h-2v-4h2v4z\"/>\n",
              "    </g>\n",
              "</svg>\n",
              "  </button>\n",
              "\n",
              "<style>\n",
              "  .colab-df-quickchart {\n",
              "      --bg-color: #E8F0FE;\n",
              "      --fill-color: #1967D2;\n",
              "      --hover-bg-color: #E2EBFA;\n",
              "      --hover-fill-color: #174EA6;\n",
              "      --disabled-fill-color: #AAA;\n",
              "      --disabled-bg-color: #DDD;\n",
              "  }\n",
              "\n",
              "  [theme=dark] .colab-df-quickchart {\n",
              "      --bg-color: #3B4455;\n",
              "      --fill-color: #D2E3FC;\n",
              "      --hover-bg-color: #434B5C;\n",
              "      --hover-fill-color: #FFFFFF;\n",
              "      --disabled-bg-color: #3B4455;\n",
              "      --disabled-fill-color: #666;\n",
              "  }\n",
              "\n",
              "  .colab-df-quickchart {\n",
              "    background-color: var(--bg-color);\n",
              "    border: none;\n",
              "    border-radius: 50%;\n",
              "    cursor: pointer;\n",
              "    display: none;\n",
              "    fill: var(--fill-color);\n",
              "    height: 32px;\n",
              "    padding: 0;\n",
              "    width: 32px;\n",
              "  }\n",
              "\n",
              "  .colab-df-quickchart:hover {\n",
              "    background-color: var(--hover-bg-color);\n",
              "    box-shadow: 0 1px 2px rgba(60, 64, 67, 0.3), 0 1px 3px 1px rgba(60, 64, 67, 0.15);\n",
              "    fill: var(--button-hover-fill-color);\n",
              "  }\n",
              "\n",
              "  .colab-df-quickchart-complete:disabled,\n",
              "  .colab-df-quickchart-complete:disabled:hover {\n",
              "    background-color: var(--disabled-bg-color);\n",
              "    fill: var(--disabled-fill-color);\n",
              "    box-shadow: none;\n",
              "  }\n",
              "\n",
              "  .colab-df-spinner {\n",
              "    border: 2px solid var(--fill-color);\n",
              "    border-color: transparent;\n",
              "    border-bottom-color: var(--fill-color);\n",
              "    animation:\n",
              "      spin 1s steps(1) infinite;\n",
              "  }\n",
              "\n",
              "  @keyframes spin {\n",
              "    0% {\n",
              "      border-color: transparent;\n",
              "      border-bottom-color: var(--fill-color);\n",
              "      border-left-color: var(--fill-color);\n",
              "    }\n",
              "    20% {\n",
              "      border-color: transparent;\n",
              "      border-left-color: var(--fill-color);\n",
              "      border-top-color: var(--fill-color);\n",
              "    }\n",
              "    30% {\n",
              "      border-color: transparent;\n",
              "      border-left-color: var(--fill-color);\n",
              "      border-top-color: var(--fill-color);\n",
              "      border-right-color: var(--fill-color);\n",
              "    }\n",
              "    40% {\n",
              "      border-color: transparent;\n",
              "      border-right-color: var(--fill-color);\n",
              "      border-top-color: var(--fill-color);\n",
              "    }\n",
              "    60% {\n",
              "      border-color: transparent;\n",
              "      border-right-color: var(--fill-color);\n",
              "    }\n",
              "    80% {\n",
              "      border-color: transparent;\n",
              "      border-right-color: var(--fill-color);\n",
              "      border-bottom-color: var(--fill-color);\n",
              "    }\n",
              "    90% {\n",
              "      border-color: transparent;\n",
              "      border-bottom-color: var(--fill-color);\n",
              "    }\n",
              "  }\n",
              "</style>\n",
              "\n",
              "  <script>\n",
              "    async function quickchart(key) {\n",
              "      const quickchartButtonEl =\n",
              "        document.querySelector('#' + key + ' button');\n",
              "      quickchartButtonEl.disabled = true;  // To prevent multiple clicks.\n",
              "      quickchartButtonEl.classList.add('colab-df-spinner');\n",
              "      try {\n",
              "        const charts = await google.colab.kernel.invokeFunction(\n",
              "            'suggestCharts', [key], {});\n",
              "      } catch (error) {\n",
              "        console.error('Error during call to suggestCharts:', error);\n",
              "      }\n",
              "      quickchartButtonEl.classList.remove('colab-df-spinner');\n",
              "      quickchartButtonEl.classList.add('colab-df-quickchart-complete');\n",
              "    }\n",
              "    (() => {\n",
              "      let quickchartButtonEl =\n",
              "        document.querySelector('#df-a514a231-2a7e-478d-8ee7-eddb397f7a6d button');\n",
              "      quickchartButtonEl.style.display =\n",
              "        google.colab.kernel.accessAllowed ? 'block' : 'none';\n",
              "    })();\n",
              "  </script>\n",
              "</div>\n",
              "\n",
              "    </div>\n",
              "  </div>\n"
            ],
            "application/vnd.google.colaboratory.intrinsic+json": {
              "type": "dataframe",
              "variable_name": "bf",
              "summary": "{\n  \"name\": \"bf\",\n  \"rows\": 2787,\n  \"fields\": [\n    {\n      \"column\": \"Date\",\n      \"properties\": {\n        \"dtype\": \"date\",\n        \"min\": \"2013-10-01 00:00:00\",\n        \"max\": \"2021-05-18 00:00:00\",\n        \"num_unique_values\": 2787,\n        \"samples\": [\n          \"2019-06-11 00:00:00\",\n          \"2021-05-03 00:00:00\",\n          \"2017-10-05 00:00:00\"\n        ],\n        \"semantic_type\": \"\",\n        \"description\": \"\"\n      }\n    },\n    {\n      \"column\": \"price\",\n      \"properties\": {\n        \"dtype\": \"number\",\n        \"std\": 10887.84744436952,\n        \"min\": 108.58483,\n        \"max\": 63346.7890351052,\n        \"num_unique_values\": 2787,\n        \"samples\": [\n          7954.0062377205,\n          56427.0431250152,\n          4186.78374\n        ],\n        \"semantic_type\": \"\",\n        \"description\": \"\"\n      }\n    }\n  ]\n}"
            }
          },
          "metadata": {},
          "execution_count": 8
        }
      ]
    },
    {
      "cell_type": "code",
      "source": [
        "import matplotlib.pyplot as plt\n",
        "plt.figure(figsize=(20, 8))\n",
        "plt.plot(df.index[-150:], df['close'][-150:])"
      ],
      "metadata": {
        "colab": {
          "base_uri": "https://localhost:8080/",
          "height": 470
        },
        "id": "pvfy7k4ASXJV",
        "outputId": "8bf01a1c-9886-4ea6-cdd4-97082ada5984"
      },
      "execution_count": 9,
      "outputs": [
        {
          "output_type": "execute_result",
          "data": {
            "text/plain": [
              "[<matplotlib.lines.Line2D at 0x7a2c4826bd00>]"
            ]
          },
          "metadata": {},
          "execution_count": 9
        },
        {
          "output_type": "display_data",
          "data": {
            "text/plain": [
              "<Figure size 2000x800 with 1 Axes>"
            ],
            "image/png": "[encoded data removed]"
          },
          "metadata": {}
        }
      ]
    },
    {
      "cell_type": "markdown",
      "source": [
        "##Split the dataset"
      ],
      "metadata": {
        "id": "7XFwFJt2_HLs"
      }
    },
    {
      "cell_type": "code",
      "source": [
        "# Create a function to plot time series data\n",
        "def plot_time_series(timesteps, values, format='.', start=0, end=None, label=None):\n",
        "  \"\"\"\n",
        "  Plots a timesteps (a series of points in time) against values (a series of values across timesteps).\n",
        "\n",
        "  Parameters\n",
        "  ---------\n",
        "  timesteps : array of timesteps\n",
        "  values : array of values across time\n",
        "  format : style of plot, default \".\"\n",
        "  start : where to start the plot (setting a value will index from start of timesteps & values)\n",
        "  end : where to end the plot (setting a value will index from end of timesteps & values)\n",
        "  label : label to show on plot of values\n",
        "  \"\"\"\n",
        "  # Plot the series\n",
        "  plt.plot(timesteps[start:end], values[start:end], format, label=label)\n",
        "  plt.xlabel(\"Time\")\n",
        "  plt.ylabel(\"BTC Price\")\n",
        "  if label:\n",
        "    plt.legend(fontsize=14) # make label bigger\n",
        "  plt.grid(True)"
      ],
      "metadata": {
        "id": "D4Tk7l3fnTAP"
      },
      "execution_count": 10,
      "outputs": []
    },
    {
      "cell_type": "code",
      "source": [
        "from sklearn.model_selection import train_test_split\n",
        "\n",
        "X = df.index\n",
        "y = df.close\n",
        "\n",
        "X_train, X_test, y_train, y_test = train_test_split(X, y, test_size=0.2, random_state=42, shuffle=False)\n",
        "len(X_train), len(X_test)"
      ],
      "metadata": {
        "colab": {
          "base_uri": "https://localhost:8080/"
        },
        "id": "0g8IH8xQSpck",
        "outputId": "578d07ef-816c-4d67-c33a-0c0390e38815"
      },
      "execution_count": 11,
      "outputs": [
        {
          "output_type": "execute_result",
          "data": {
            "text/plain": [
              "(2229, 558)"
            ]
          },
          "metadata": {},
          "execution_count": 11
        }
      ]
    },
    {
      "cell_type": "code",
      "source": [
        "plt.figure(figsize=(15, 5))\n",
        "plot_time_series(X_train, y_train)\n",
        "plot_time_series(X_test, y_test)"
      ],
      "metadata": {
        "colab": {
          "base_uri": "https://localhost:8080/",
          "height": 399
        },
        "id": "O6vXWOglBkyx",
        "outputId": "cdea6538-2c29-445c-a755-ba819654c1ce"
      },
      "execution_count": 12,
      "outputs": [
        {
          "output_type": "display_data",
          "data": {
            "text/plain": [
              "<Figure size 1500x500 with 1 Axes>"
            ],
            "image/png": "[encoded data removed]"
          },
          "metadata": {}
        }
      ]
    },
    {
      "cell_type": "markdown",
      "source": [
        "##Model Experiments\n",
        "\n",
        "Termes to be fimilier with:\n",
        "* **Horizen**: number of timesteps into the future we're going to predict.\n",
        "* **Window size**: number of timesteps we are going to use to predict.\n",
        "\n",
        "Models:\n",
        "* 1.Naive Bayes (baseline)\n",
        "* 2.Dense Model (Horizen=1, window=7)\n",
        "* 3.Same as Model2 (Horizen=1, window=30)\n",
        "* 4.Same as Model2 (Horizen=7, window=30)\n",
        "* 5.Conv1D\n",
        "* 6.LSTM\n",
        "* 7.Same as Model 2 but with multivariet data\n",
        "* 8.N-BEATS algorithm\n",
        "* 9.Ensemble (multiple models stacked togather)\n",
        "* 10.Future prediction model\n",
        "* 11.Same as Model 1"
      ],
      "metadata": {
        "id": "mMiwhNUIal_C"
      }
    },
    {
      "cell_type": "markdown",
      "source": [
        "### Model_1 Naive Bayes Model\n",
        "\n",
        "Formula:\n",
        "$$\\hat{y}_{t} = y_{t-1}$$\n",
        "\n",
        "> The prediction at timestep t (y-hat) is equal to the value at timestep t-1 (previous timestep) - This is the Horizen of 1."
      ],
      "metadata": {
        "id": "IHLa2HRybrum"
      }
    },
    {
      "cell_type": "code",
      "source": [
        "# Create a naïve forecast\n",
        "naive_forecast = y_test[:-1] # Naïve forecast equals every value excluding the last value\n",
        "naive_forecast[:10], naive_forecast[-10:] # View frist 10 and last 10"
      ],
      "metadata": {
        "colab": {
          "base_uri": "https://localhost:8080/"
        },
        "id": "XNYjJgDxhWPH",
        "outputId": "17575994-9f54-4b0b-872b-804c2d67394f"
      },
      "execution_count": 13,
      "outputs": [
        {
          "output_type": "execute_result",
          "data": {
            "text/plain": [
              "(Date\n",
              " 2019-11-08    9226.485821\n",
              " 2019-11-09    8794.358645\n",
              " 2019-11-10    8798.042055\n",
              " 2019-11-11    9081.186878\n",
              " 2019-11-12    8711.534339\n",
              " 2019-11-13    8760.892718\n",
              " 2019-11-14    8749.520591\n",
              " 2019-11-15    8656.970922\n",
              " 2019-11-16    8500.643558\n",
              " 2019-11-17    8469.260899\n",
              " Name: close, dtype: float64,\n",
              " Date\n",
              " 2021-05-08    57107.120672\n",
              " 2021-05-09    58788.209679\n",
              " 2021-05-10    58102.191426\n",
              " 2021-05-11    55715.546651\n",
              " 2021-05-12    56573.555472\n",
              " 2021-05-13    52147.821187\n",
              " 2021-05-14    49764.132082\n",
              " 2021-05-15    50032.693137\n",
              " 2021-05-16    47885.625255\n",
              " 2021-05-17    45604.615754\n",
              " Name: close, dtype: float64)"
            ]
          },
          "metadata": {},
          "execution_count": 13
        }
      ]
    },
    {
      "cell_type": "code",
      "source": [
        "# Plot naive forecast\n",
        "plt.figure(figsize=(15, 5))\n",
        "# plot_time_series(timesteps=X_train, values=y_train, label=\"Train data\")\n",
        "plot_time_series(timesteps=X_test, start=300, values=y_test, label=\"Test data\")\n",
        "plot_time_series(timesteps=X_test[1:], start=300, values=naive_forecast, format=\"-\", label=\"Naive forecast\")"
      ],
      "metadata": {
        "colab": {
          "base_uri": "https://localhost:8080/",
          "height": 399
        },
        "id": "klpjgBqqhxI4",
        "outputId": "4ff6d376-410d-4b4a-98cf-437c749efe56"
      },
      "execution_count": 14,
      "outputs": [
        {
          "output_type": "display_data",
          "data": {
            "text/plain": [
              "<Figure size 1500x500 with 1 Axes>"
            ],
            "image/png": "[encoded data removed]"
          },
          "metadata": {}
        }
      ]
    },
    {
      "cell_type": "markdown",
      "source": [
        "### Some common Evaluating metrics\n",
        "* MAE - Mean Absolute error\n",
        "* MSE - Mean Squared error\n",
        "* Root MSE - root(MSE)\n",
        "* Mean Absolute Percentage Error\n",
        "* Mean Absolute Scaled Error (MASE)\n",
        "\n",
        ">Resourse: https://otexts.com/fpp3/accuracy.html#percentage-errors\n"
      ],
      "metadata": {
        "id": "qJ3KsfxKn1F6"
      }
    },
    {
      "cell_type": "code",
      "source": [
        "import tensorflow as tf"
      ],
      "metadata": {
        "id": "_aVkCDQ8pbwL"
      },
      "execution_count": 15,
      "outputs": []
    },
    {
      "cell_type": "code",
      "source": [
        "# MASE implemented courtesy of sktime - https://github.com/alan-turing-institute/sktime/blob/ee7a06843a44f4aaec7582d847e36073a9ab0566/sktime/performance_metrics/forecasting/_functions.py#L16\n",
        "def mean_absolute_scaled_error(y_true, y_pred):\n",
        "  \"\"\"\n",
        "  Implement MASE (assuming no seasonality of data).\n",
        "  \"\"\"\n",
        "  mae = tf.reduce_mean(tf.abs(y_true - y_pred))\n",
        "\n",
        "  # Find MAE of naive forecast (no seasonality)\n",
        "  mae_naive_no_season = tf.reduce_mean(tf.abs(y_true[1:] - y_true[:-1])) # our seasonality is 1 day (hence the shifting of 1 day)\n",
        "\n",
        "  return mae / mae_naive_no_season"
      ],
      "metadata": {
        "id": "8rtTlFfTsVur"
      },
      "execution_count": 16,
      "outputs": []
    },
    {
      "cell_type": "code",
      "source": [
        "mean_absolute_scaled_error(y_test[1:].values, naive_forecast.values).numpy()"
      ],
      "metadata": {
        "colab": {
          "base_uri": "https://localhost:8080/"
        },
        "id": "CXzu_5YVt-gp",
        "outputId": "f369650f-9b04-463a-893e-3349578aad31"
      },
      "execution_count": 17,
      "outputs": [
        {
          "output_type": "execute_result",
          "data": {
            "text/plain": [
              "0.9995699939182624"
            ]
          },
          "metadata": {},
          "execution_count": 17
        }
      ]
    },
    {
      "cell_type": "code",
      "source": [
        "## Creating the evaluation matrix function\n",
        "def calculate_evaluation_metrics(y_true, y_pred):\n",
        "  y_true = tf.cast(y_true, dtype=tf.float32)\n",
        "  y_pred = tf.cast(y_pred, dtype=tf.float32)\n",
        "\n",
        "  mae = tf.keras.metrics.mean_absolute_error(y_true, y_pred)\n",
        "  mse = tf.keras.metrics.mean_squared_error(y_true, y_pred)\n",
        "  rmse = tf.sqrt(mse)\n",
        "  mape = tf.keras.metrics.mean_absolute_percentage_error(y_true, y_pred)\n",
        "  mase = mean_absolute_scaled_error(y_true, y_pred)\n",
        "\n",
        "  return {\"mae\": mae.numpy(),\n",
        "          \"mse\": mse.numpy(),\n",
        "          \"rmse\": rmse.numpy(),\n",
        "          \"mape\": mape.numpy(),\n",
        "          \"mase\": mase.numpy()}"
      ],
      "metadata": {
        "id": "hQaUFkSszH7s"
      },
      "execution_count": 18,
      "outputs": []
    },
    {
      "cell_type": "code",
      "source": [
        "naive_bayes_eval = calculate_evaluation_metrics(y_test[1:].values, naive_forecast.values)\n",
        "naive_bayes_eval"
      ],
      "metadata": {
        "colab": {
          "base_uri": "https://localhost:8080/"
        },
        "id": "ISkq8W7K0-VH",
        "outputId": "b7681e23-3a25-4af5-d772-c371bbc1636d"
      },
      "execution_count": 19,
      "outputs": [
        {
          "output_type": "execute_result",
          "data": {
            "text/plain": [
              "{'mae': 567.9802,\n",
              " 'mse': 1147547.0,\n",
              " 'rmse': 1071.2362,\n",
              " 'mape': 2.5165248,\n",
              " 'mase': 0.99957}"
            ]
          },
          "metadata": {},
          "execution_count": 19
        }
      ]
    },
    {
      "cell_type": "markdown",
      "source": [
        "## Format Dataset: Windowing our dataset"
      ],
      "metadata": {
        "id": "ORQtxy091O3k"
      }
    },
    {
      "cell_type": "code",
      "source": [
        "btc_price = df.close.to_numpy()"
      ],
      "metadata": {
        "id": "_EqXeWfZhs2K"
      },
      "execution_count": 20,
      "outputs": []
    },
    {
      "cell_type": "code",
      "source": [
        "btc_price"
      ],
      "metadata": {
        "colab": {
          "base_uri": "https://localhost:8080/"
        },
        "id": "U448qqkUjwCt",
        "outputId": "693e1229-1b90-497d-ebc0-22d077b53436"
      },
      "execution_count": 21,
      "outputs": [
        {
          "output_type": "execute_result",
          "data": {
            "text/plain": [
              "array([  123.65499   ,   125.455     ,   108.58483   , ...,\n",
              "       47885.62525472, 45604.61575361, 43144.47129086])"
            ]
          },
          "metadata": {},
          "execution_count": 21
        }
      ]
    },
    {
      "cell_type": "code",
      "source": [
        "print(f\"We want to use {btc_price[:7]}, to predict this: {btc_price[7]}\")"
      ],
      "metadata": {
        "colab": {
          "base_uri": "https://localhost:8080/"
        },
        "id": "aNpIncrmj1vJ",
        "outputId": "34679ba3-b09d-431b-bd29-3f27eeb36e93"
      },
      "execution_count": 22,
      "outputs": [
        {
          "output_type": "stream",
          "name": "stdout",
          "text": [
            "We want to use [123.65499 125.455   108.58483 118.67466 121.33866 120.65533 121.795  ], to predict this: 123.033\n"
          ]
        }
      ]
    },
    {
      "cell_type": "code",
      "source": [
        "HORIZON = 1\n",
        "WINDOW = 7"
      ],
      "metadata": {
        "id": "LARLyMqJkEc7"
      },
      "execution_count": 23,
      "outputs": []
    },
    {
      "cell_type": "code",
      "source": [
        "def get_labelled_window(x, horizon=HORIZON):\n",
        "  return x[:, :-horizon], x[: , -horizon:]"
      ],
      "metadata": {
        "id": "18fePNr6kVrN"
      },
      "execution_count": 24,
      "outputs": []
    },
    {
      "cell_type": "code",
      "source": [
        "data, label = get_labelled_window(tf.expand_dims(tf.range(8), axis=0))"
      ],
      "metadata": {
        "id": "bxq86FOdlNTe"
      },
      "execution_count": 25,
      "outputs": []
    },
    {
      "cell_type": "code",
      "source": [
        "tf.squeeze(data[0]).numpy(), tf.squeeze(label[0]).numpy()"
      ],
      "metadata": {
        "colab": {
          "base_uri": "https://localhost:8080/"
        },
        "id": "UTa4N-m1mmmx",
        "outputId": "18666e84-d2e9-49d6-c82a-b24df4ccc358"
      },
      "execution_count": 26,
      "outputs": [
        {
          "output_type": "execute_result",
          "data": {
            "text/plain": [
              "(array([0, 1, 2, 3, 4, 5, 6], dtype=int32), 7)"
            ]
          },
          "metadata": {},
          "execution_count": 26
        }
      ]
    },
    {
      "cell_type": "code",
      "source": [
        "data = tf.squeeze(data).numpy()\n",
        "label = tf.squeeze(label).numpy()"
      ],
      "metadata": {
        "id": "5TuQrWIJnMuc"
      },
      "execution_count": 27,
      "outputs": []
    },
    {
      "cell_type": "code",
      "source": [
        "data, label"
      ],
      "metadata": {
        "id": "1Nmz2HTBnYew",
        "outputId": "3026be8e-37d9-4871-c637-4d3fe7a656f0",
        "colab": {
          "base_uri": "https://localhost:8080/"
        }
      },
      "execution_count": 28,
      "outputs": [
        {
          "output_type": "execute_result",
          "data": {
            "text/plain": [
              "(array([0, 1, 2, 3, 4, 5, 6], dtype=int32), 7)"
            ]
          },
          "metadata": {},
          "execution_count": 28
        }
      ]
    },
    {
      "cell_type": "code",
      "source": [
        "prices = btc_price"
      ],
      "metadata": {
        "id": "A5nOsPmVJmDT"
      },
      "execution_count": 29,
      "outputs": []
    },
    {
      "cell_type": "code",
      "source": [
        "import numpy as np\n",
        "# Create function to view NumPy arrays as windows\n",
        "def make_windows(x, window_size=7, horizon=1):\n",
        "  \"\"\"\n",
        "  Turns a 1D array into a 2D array of sequential windows of window_size.\n",
        "  \"\"\"\n",
        "  # 1. Create a window of specific window_size (add the horizon on the end for later labelling)\n",
        "  window_step = np.expand_dims(np.arange(window_size+horizon), axis=0)\n",
        "  # print(f\"Window step:\\n {window_step}\")\n",
        "\n",
        "  # 2. Create a 2D array of multiple window steps (minus 1 to account for 0 indexing)\n",
        "  window_indexes = window_step + np.expand_dims(np.arange(len(x)-(window_size+horizon-1)), axis=0).T # create 2D array of windows of size window_size\n",
        "  # print(f\"Window indexes:\\n {window_indexes[:3], window_indexes[-3:], window_indexes.shape}\")\n",
        "\n",
        "  # 3. Index on the target array (time series) with 2D array of multiple window steps\n",
        "  windowed_array = x[window_indexes]\n",
        "\n",
        "  # 4. Get the labelled windows\n",
        "  windows, labels = get_labelled_window(windowed_array, horizon=horizon)\n",
        "\n",
        "  return windows, labels"
      ],
      "metadata": {
        "id": "L8EqMnbglrEx"
      },
      "execution_count": 30,
      "outputs": []
    },
    {
      "cell_type": "code",
      "source": [
        "full_windows, full_labels = make_windows(btc_price, window_size=WINDOW, horizon=HORIZON)\n",
        "len(full_windows), len(full_labels)"
      ],
      "metadata": {
        "colab": {
          "base_uri": "https://localhost:8080/"
        },
        "id": "FLvI7Sn7_VkT",
        "outputId": "d1e69bdb-aaf1-4e9c-cf57-c8a4677f3a6e"
      },
      "execution_count": 31,
      "outputs": [
        {
          "output_type": "execute_result",
          "data": {
            "text/plain": [
              "(2780, 2780)"
            ]
          },
          "metadata": {},
          "execution_count": 31
        }
      ]
    },
    {
      "cell_type": "code",
      "source": [
        "## View first 3\n",
        "for i in range(3):\n",
        "  print(full_windows[i], full_labels[i])"
      ],
      "metadata": {
        "colab": {
          "base_uri": "https://localhost:8080/"
        },
        "id": "G9bWisUEIUjV",
        "outputId": "bdc8f814-f89c-407f-f592-a0f117ab3460"
      },
      "execution_count": 32,
      "outputs": [
        {
          "output_type": "stream",
          "name": "stdout",
          "text": [
            "[123.65499 125.455   108.58483 118.67466 121.33866 120.65533 121.795  ] [123.033]\n",
            "[125.455   108.58483 118.67466 121.33866 120.65533 121.795   123.033  ] [124.049]\n",
            "[108.58483 118.67466 121.33866 120.65533 121.795   123.033   124.049  ] [125.96116]\n"
          ]
        }
      ]
    },
    {
      "cell_type": "markdown",
      "source": [
        "### Turning the windows and labels into train_data and test_data\n"
      ],
      "metadata": {
        "id": "hjGgN44uMNtu"
      }
    },
    {
      "cell_type": "code",
      "source": [
        "from sklearn.model_selection import train_test_split\n",
        "X_train, X_test, y_train, y_test = train_test_split(full_windows, full_labels, test_size=0.2, shuffle=False)\n",
        "len(X_train), len(X_test)"
      ],
      "metadata": {
        "colab": {
          "base_uri": "https://localhost:8080/"
        },
        "id": "7FAQx-A2Lk2e",
        "outputId": "840fe8a2-02c1-4aa3-e336-1f4ad3948928"
      },
      "execution_count": 33,
      "outputs": [
        {
          "output_type": "execute_result",
          "data": {
            "text/plain": [
              "(2224, 556)"
            ]
          },
          "metadata": {},
          "execution_count": 33
        }
      ]
    },
    {
      "cell_type": "markdown",
      "source": [
        "### Building model checkpoint"
      ],
      "metadata": {
        "id": "TDEHWJz6Mtas"
      }
    },
    {
      "cell_type": "code",
      "source": [
        "import os\n",
        "def model_checkpoint(model_name, path='model_experiment'):\n",
        "  return tf.keras.callbacks.ModelCheckpoint(os.path.join(path, model_name),\n",
        "                                            save_best_only=True,\n",
        "                                            save_freq='epoch')"
      ],
      "metadata": {
        "id": "pyeJPVzOPLYv"
      },
      "execution_count": 34,
      "outputs": []
    },
    {
      "cell_type": "markdown",
      "source": [
        "## Model_1: Dense model with window=7, horizon=1"
      ],
      "metadata": {
        "id": "7J8Ga8khTgQG"
      }
    },
    {
      "cell_type": "code",
      "source": [
        "tf.random.set_seed(42)\n",
        "\n",
        "model = tf.keras.models.Sequential([\n",
        "    tf.keras.layers.Dense(units = 128, activation='relu'),\n",
        "    tf.keras.layers.Dense(units=HORIZON, activation='linear')\n",
        "])\n",
        "\n",
        "model.compile(loss='mae',\n",
        "              optimizer='Adam',\n",
        "              metrics=['mae', 'mse'])\n",
        "\n",
        "history_1 = model.fit(X_train,\n",
        "                      y_train,\n",
        "                      epochs=100,\n",
        "                      batch_size=128,\n",
        "                      verbose=0,\n",
        "                      validation_data=(X_test, y_test),\n",
        "                      callbacks=[model_checkpoint('model_1')])"
      ],
      "metadata": {
        "id": "Edf98WsmQG3J"
      },
      "execution_count": 35,
      "outputs": []
    },
    {
      "cell_type": "code",
      "source": [
        "model_1 = tf.keras.models.load_model('model_experiment/model_1/')\n",
        "model_1.evaluate(X_test, y_test)"
      ],
      "metadata": {
        "colab": {
          "base_uri": "https://localhost:8080/"
        },
        "id": "NFLLPu3kVCvD",
        "outputId": "b74471bd-1f5f-43f5-a453-9939588ac43b"
      },
      "execution_count": 36,
      "outputs": [
        {
          "output_type": "stream",
          "name": "stdout",
          "text": [
            "18/18 [==============================] - 0s 2ms/step - loss: 564.8824 - mae: 564.8824 - mse: 1150478.6250\n"
          ]
        },
        {
          "output_type": "execute_result",
          "data": {
            "text/plain": [
              "[564.8824462890625, 564.8824462890625, 1150478.625]"
            ]
          },
          "metadata": {},
          "execution_count": 36
        }
      ]
    },
    {
      "cell_type": "code",
      "source": [
        "def make_preds(model, input_data):\n",
        "  forecast = model.predict(input_data)\n",
        "  return tf.squeeze(forecast)"
      ],
      "metadata": {
        "id": "JabgsnzRXTo6"
      },
      "execution_count": 37,
      "outputs": []
    },
    {
      "cell_type": "code",
      "source": [
        "## Making some predictions\n",
        "model_1_preds = make_preds(model_1, X_test)"
      ],
      "metadata": {
        "colab": {
          "base_uri": "https://localhost:8080/"
        },
        "id": "bLm8ky_4yun-",
        "outputId": "c9fde91d-1c5e-46ec-9399-00e31b86079f"
      },
      "execution_count": 38,
      "outputs": [
        {
          "output_type": "stream",
          "name": "stdout",
          "text": [
            "18/18 [==============================] - 0s 2ms/step\n"
          ]
        }
      ]
    },
    {
      "cell_type": "code",
      "source": [
        "for i in range(10):\n",
        "  print(f\"Actual: {y_test[i]} Predicted: {model_1_preds[i]}\")"
      ],
      "metadata": {
        "colab": {
          "base_uri": "https://localhost:8080/"
        },
        "id": "shgI6GPLzsVG",
        "outputId": "22b82e44-25ac-44f7-8795-74cf8247113c"
      },
      "execution_count": 39,
      "outputs": [
        {
          "output_type": "stream",
          "name": "stdout",
          "text": [
            "Actual: [8798.04205463] Predicted: 8824.576171875\n",
            "Actual: [9081.18687849] Predicted: 8785.15234375\n",
            "Actual: [8711.53433917] Predicted: 8994.0244140625\n",
            "Actual: [8760.89271814] Predicted: 8778.537109375\n",
            "Actual: [8749.52059102] Predicted: 8773.234375\n",
            "Actual: [8656.97092235] Predicted: 8657.21484375\n",
            "Actual: [8500.64355816] Predicted: 8676.1123046875\n",
            "Actual: [8469.2608989] Predicted: 8532.3349609375\n",
            "Actual: [8537.33965197] Predicted: 8423.34375\n",
            "Actual: [8205.80636599] Predicted: 8512.3837890625\n"
          ]
        }
      ]
    },
    {
      "cell_type": "code",
      "source": [
        "y_test.shape, model_1_preds.shape"
      ],
      "metadata": {
        "colab": {
          "base_uri": "https://localhost:8080/"
        },
        "id": "ZiKg43By1ASw",
        "outputId": "4d3ec3cb-18ca-40c9-e4b9-e13d390ae439"
      },
      "execution_count": 40,
      "outputs": [
        {
          "output_type": "execute_result",
          "data": {
            "text/plain": [
              "((556, 1), TensorShape([556]))"
            ]
          },
          "metadata": {},
          "execution_count": 40
        }
      ]
    },
    {
      "cell_type": "code",
      "source": [
        "calculate_evaluation_metrics(tf.squeeze(y_test), model_1_preds)"
      ],
      "metadata": {
        "colab": {
          "base_uri": "https://localhost:8080/"
        },
        "id": "E77HMnf_0Gue",
        "outputId": "6dcd9ca1-cf7c-4931-f827-7990fd59e697"
      },
      "execution_count": 41,
      "outputs": [
        {
          "output_type": "execute_result",
          "data": {
            "text/plain": [
              "{'mae': 564.88257,\n",
              " 'mse': 1150479.2,\n",
              " 'rmse': 1072.604,\n",
              " 'mape': 2.5338058,\n",
              " 'mase': 0.99234223}"
            ]
          },
          "metadata": {},
          "execution_count": 41
        }
      ]
    },
    {
      "cell_type": "code",
      "source": [
        "naive_bayes_eval"
      ],
      "metadata": {
        "colab": {
          "base_uri": "https://localhost:8080/"
        },
        "id": "76SNXgoN1SXR",
        "outputId": "381502df-2fcf-41ee-d08e-08ce538cbb13"
      },
      "execution_count": 42,
      "outputs": [
        {
          "output_type": "execute_result",
          "data": {
            "text/plain": [
              "{'mae': 567.9802,\n",
              " 'mse': 1147547.0,\n",
              " 'rmse': 1071.2362,\n",
              " 'mape': 2.5165248,\n",
              " 'mase': 0.99957}"
            ]
          },
          "metadata": {},
          "execution_count": 42
        }
      ]
    },
    {
      "cell_type": "code",
      "source": [
        "len(naive_forecast.index), len(y_test)"
      ],
      "metadata": {
        "colab": {
          "base_uri": "https://localhost:8080/"
        },
        "id": "OiexSVW76kNe",
        "outputId": "d321030f-8f33-4488-a030-4a5c699803aa"
      },
      "execution_count": 43,
      "outputs": [
        {
          "output_type": "execute_result",
          "data": {
            "text/plain": [
              "(557, 556)"
            ]
          },
          "metadata": {},
          "execution_count": 43
        }
      ]
    },
    {
      "cell_type": "code",
      "source": [
        "naive_forecast[-1], y_test[-2]"
      ],
      "metadata": {
        "colab": {
          "base_uri": "https://localhost:8080/"
        },
        "id": "gzSWotAN6v-0",
        "outputId": "cf302993-6500-4e1c-fd01-bead8fdb553b"
      },
      "execution_count": 44,
      "outputs": [
        {
          "output_type": "execute_result",
          "data": {
            "text/plain": [
              "(45604.6157536131, array([45604.61575361]))"
            ]
          },
          "metadata": {},
          "execution_count": 44
        }
      ]
    },
    {
      "cell_type": "code",
      "source": [
        "y_test.shape,"
      ],
      "metadata": {
        "colab": {
          "base_uri": "https://localhost:8080/"
        },
        "id": "ouovalW57PG3",
        "outputId": "5274b718-2a2c-49a3-ba45-bee1ae75de7b"
      },
      "execution_count": 45,
      "outputs": [
        {
          "output_type": "execute_result",
          "data": {
            "text/plain": [
              "((556, 1),)"
            ]
          },
          "metadata": {},
          "execution_count": 45
        }
      ]
    },
    {
      "cell_type": "code",
      "source": [
        "len(y_test), len(model_1_preds)"
      ],
      "metadata": {
        "colab": {
          "base_uri": "https://localhost:8080/"
        },
        "id": "exBqkk-s8Xvc",
        "outputId": "a065a21e-2e11-4903-8b65-92ac646a7b5e"
      },
      "execution_count": 46,
      "outputs": [
        {
          "output_type": "execute_result",
          "data": {
            "text/plain": [
              "(556, 556)"
            ]
          },
          "metadata": {},
          "execution_count": 46
        }
      ]
    },
    {
      "cell_type": "code",
      "source": [
        "## Plotting the model performance\n",
        "offset = 300\n",
        "plt.figure(figsize=(10, 7))\n",
        "\n",
        "plot_time_series(timesteps=naive_forecast.index[:-1],\n",
        "                 values = tf.squeeze(y_test),\n",
        "                 start=offset,\n",
        "                 label='test_data')\n",
        "\n",
        "plot_time_series(timesteps=naive_forecast.index[:-1],\n",
        "                 values=model_1_preds,\n",
        "                 label='preds',\n",
        "                 start=offset,\n",
        "                 format='-')"
      ],
      "metadata": {
        "colab": {
          "base_uri": "https://localhost:8080/",
          "height": 619
        },
        "id": "ZhaXaDuY2PJl",
        "outputId": "5220a454-faa1-427a-8253-06723671a55d"
      },
      "execution_count": 47,
      "outputs": [
        {
          "output_type": "display_data",
          "data": {
            "text/plain": [
              "<Figure size 1000x700 with 1 Axes>"
            ],
            "image/png": "[encoded data removed]"
          },
          "metadata": {}
        }
      ]
    },
    {
      "cell_type": "markdown",
      "source": [
        "## Model_2: Dense (WINDOW=30 HORIZON=1)"
      ],
      "metadata": {
        "id": "sFNisZjY3hkx"
      }
    },
    {
      "cell_type": "code",
      "source": [
        "HORIZON = 1\n",
        "WINDOW_SIZE = 30"
      ],
      "metadata": {
        "id": "MXTKebr9Upfg"
      },
      "execution_count": 48,
      "outputs": []
    },
    {
      "cell_type": "code",
      "source": [
        "full_windows, full_labels = make_windows(prices, WINDOW_SIZE, HORIZON)\n",
        "full_windows[0], full_labels[0]"
      ],
      "metadata": {
        "colab": {
          "base_uri": "https://localhost:8080/"
        },
        "id": "jNurnFbIVNoF",
        "outputId": "d915abd9-e88f-4c89-aed1-09e0a1d87676"
      },
      "execution_count": 49,
      "outputs": [
        {
          "output_type": "execute_result",
          "data": {
            "text/plain": [
              "(array([123.65499, 125.455  , 108.58483, 118.67466, 121.33866, 120.65533,\n",
              "        121.795  , 123.033  , 124.049  , 125.96116, 125.27966, 125.9275 ,\n",
              "        126.38333, 135.24199, 133.20333, 142.76333, 137.92333, 142.95166,\n",
              "        152.55183, 160.33883, 164.31499, 177.63333, 188.29716, 200.70166,\n",
              "        180.355  , 175.03166, 177.6965 , 187.15983, 192.75666, 197.4    ]),\n",
              " array([196.02499]))"
            ]
          },
          "metadata": {},
          "execution_count": 49
        }
      ]
    },
    {
      "cell_type": "code",
      "source": [
        "## Dividing it into training and testing\n",
        "X_train, X_test, y_train, y_test = train_test_split(full_windows, full_labels, test_size=0.2, shuffle=False)\n",
        "len(X_train), len(X_test)"
      ],
      "metadata": {
        "colab": {
          "base_uri": "https://localhost:8080/"
        },
        "id": "E1vnN7FsVtNR",
        "outputId": "4a91d0de-6689-4b78-c6eb-f1ca7c900c7c"
      },
      "execution_count": 80,
      "outputs": [
        {
          "output_type": "execute_result",
          "data": {
            "text/plain": [
              "(2200, 551)"
            ]
          },
          "metadata": {},
          "execution_count": 80
        }
      ]
    },
    {
      "cell_type": "code",
      "source": [
        "tf.random.set_seed(42)\n",
        "\n",
        "model_2 = tf.keras.models.Sequential([\n",
        "    tf.keras.layers.Dense(128, activation='relu'),\n",
        "    tf.keras.layers.Dense(HORIZON, activation='linear')\n",
        "])\n",
        "\n",
        "model_2.compile(loss='mae',\n",
        "                optimizer='Adam',\n",
        "                metrics=['mae', 'mse'])\n",
        "\n",
        "history_2 = model_2.fit(X_train, y_train,\n",
        "                        epochs=100,\n",
        "                        batch_size=128,\n",
        "                        verbose=0,\n",
        "                        validation_data=(X_test, y_test),\n",
        "                        callbacks=[model_checkpoint(\"Model_2\")])"
      ],
      "metadata": {
        "id": "s5vdRCeiWH6r"
      },
      "execution_count": 55,
      "outputs": []
    },
    {
      "cell_type": "code",
      "source": [
        "model_2.evaluate(X_test, y_test)"
      ],
      "metadata": {
        "colab": {
          "base_uri": "https://localhost:8080/"
        },
        "id": "GlMvORp1XlAT",
        "outputId": "beec4515-3334-41e8-a862-452f975f25a1"
      },
      "execution_count": 56,
      "outputs": [
        {
          "output_type": "stream",
          "name": "stdout",
          "text": [
            "18/18 [==============================] - 0s 2ms/step - loss: 610.9742 - mae: 610.9742 - mse: 1271505.6250\n"
          ]
        },
        {
          "output_type": "execute_result",
          "data": {
            "text/plain": [
              "[610.9741821289062, 610.9741821289062, 1271505.625]"
            ]
          },
          "metadata": {},
          "execution_count": 56
        }
      ]
    },
    {
      "cell_type": "code",
      "source": [
        "model_2 = tf.keras.models.load_model('/content/model_experiment/Model_2')"
      ],
      "metadata": {
        "id": "maqNKAXTayf2"
      },
      "execution_count": 71,
      "outputs": []
    },
    {
      "cell_type": "code",
      "source": [
        "model_2.evaluate(X_test, y_test)"
      ],
      "metadata": {
        "colab": {
          "base_uri": "https://localhost:8080/"
        },
        "id": "srvX4bHUa97m",
        "outputId": "2338a0c2-baef-4a9c-fe4e-aa139c7d3796"
      },
      "execution_count": 72,
      "outputs": [
        {
          "output_type": "stream",
          "name": "stdout",
          "text": [
            "18/18 [==============================] - 0s 6ms/step - loss: 610.9742 - mae: 610.9742 - mse: 1271505.6250\n"
          ]
        },
        {
          "output_type": "execute_result",
          "data": {
            "text/plain": [
              "[610.9741821289062, 610.9741821289062, 1271505.625]"
            ]
          },
          "metadata": {},
          "execution_count": 72
        }
      ]
    },
    {
      "cell_type": "code",
      "source": [
        "## Making some predictions\n",
        "model_2_preds = make_preds(model_2, X_test)"
      ],
      "metadata": {
        "colab": {
          "base_uri": "https://localhost:8080/"
        },
        "id": "m7GM9OXIYSlg",
        "outputId": "ae9e678d-e314-43d7-99d9-880a78fa8266"
      },
      "execution_count": 73,
      "outputs": [
        {
          "output_type": "stream",
          "name": "stdout",
          "text": [
            "18/18 [==============================] - 0s 1ms/step\n"
          ]
        }
      ]
    },
    {
      "cell_type": "code",
      "source": [
        "for i in range(10):\n",
        "  print(tf.squeeze(y_test[i]).numpy(), model_2_preds[i].numpy())"
      ],
      "metadata": {
        "colab": {
          "base_uri": "https://localhost:8080/"
        },
        "id": "FGtN0wKYYlNt",
        "outputId": "a86b4cc4-bd85-409e-8864-fe47ba20b814"
      },
      "execution_count": 74,
      "outputs": [
        {
          "output_type": "stream",
          "name": "stdout",
          "text": [
            "8749.520591019 8868.876\n",
            "8656.970922354 8845.535\n",
            "8500.6435581622 8769.254\n",
            "8469.2608988992 8615.43\n",
            "8537.3396519676 8383.223\n",
            "8205.8063659942 8445.665\n",
            "8118.4885358003 8148.1997\n",
            "8074.8431736099 8206.815\n",
            "7612.7405735024 8256.01\n",
            "7262.1105349483 7771.139\n"
          ]
        }
      ]
    },
    {
      "cell_type": "code",
      "source": [
        "calculate_evaluation_metrics(tf.squeeze(y_test), model_2_preds)"
      ],
      "metadata": {
        "colab": {
          "base_uri": "https://localhost:8080/"
        },
        "id": "9Z3ppJseZCTK",
        "outputId": "1668618e-52ae-4364-e594-4e37b4a87e8f"
      },
      "execution_count": 75,
      "outputs": [
        {
          "output_type": "execute_result",
          "data": {
            "text/plain": [
              "{'mae': 610.9742,\n",
              " 'mse': 1271506.0,\n",
              " 'rmse': 1127.6107,\n",
              " 'mape': 2.7961872,\n",
              " 'mase': 1.0679888}"
            ]
          },
          "metadata": {},
          "execution_count": 75
        }
      ]
    },
    {
      "cell_type": "code",
      "source": [
        "len(model_2_preds), len(y_test), len(naive_forecast.index)"
      ],
      "metadata": {
        "colab": {
          "base_uri": "https://localhost:8080/"
        },
        "id": "ZnM7KfvUZRB1",
        "outputId": "bb8bb8d2-1beb-4541-ea8b-8ac22bb19506"
      },
      "execution_count": 76,
      "outputs": [
        {
          "output_type": "execute_result",
          "data": {
            "text/plain": [
              "(552, 552, 557)"
            ]
          },
          "metadata": {},
          "execution_count": 76
        }
      ]
    },
    {
      "cell_type": "code",
      "source": [
        "## Plotting the model performance\n",
        "offset = 300\n",
        "plt.figure(figsize=(10, 7))\n",
        "\n",
        "plot_time_series(timesteps=naive_forecast.index[:-5],\n",
        "                 values = tf.squeeze(y_test),\n",
        "                 start=offset,\n",
        "                 label='test_data')\n",
        "\n",
        "plot_time_series(timesteps=naive_forecast.index[:-5],\n",
        "                 values=model_2_preds,\n",
        "                 label='preds',\n",
        "                 start=offset,\n",
        "                 format='-')"
      ],
      "metadata": {
        "colab": {
          "base_uri": "https://localhost:8080/",
          "height": 619
        },
        "id": "ME2urNISZHyw",
        "outputId": "16c76abb-2f85-41ae-d3aa-6748802327ab"
      },
      "execution_count": 77,
      "outputs": [
        {
          "output_type": "display_data",
          "data": {
            "text/plain": [
              "<Figure size 1000x700 with 1 Axes>"
            ],
            "image/png": "[encoded data removed]"
          },
          "metadata": {}
        }
      ]
    },
    {
      "cell_type": "markdown",
      "source": [
        "## Model_3: Dense (WINDOW=30, HORIZON=7)"
      ],
      "metadata": {
        "id": "FCs7OCa0bE3W"
      }
    },
    {
      "cell_type": "code",
      "source": [
        "HORIZON = 7\n",
        "WINDOW_SIZE = 30"
      ],
      "metadata": {
        "id": "bg3WCVMjcdzt"
      },
      "execution_count": 78,
      "outputs": []
    },
    {
      "cell_type": "code",
      "source": [
        "full_windows, full_labels = make_windows(prices, WINDOW_SIZE, HORIZON)\n",
        "full_windows[0], full_labels[0]"
      ],
      "metadata": {
        "colab": {
          "base_uri": "https://localhost:8080/"
        },
        "id": "vAGTbirrcjEr",
        "outputId": "54b445d3-2c7c-4da8-998d-5863b9bf40e6"
      },
      "execution_count": 79,
      "outputs": [
        {
          "output_type": "execute_result",
          "data": {
            "text/plain": [
              "(array([123.65499, 125.455  , 108.58483, 118.67466, 121.33866, 120.65533,\n",
              "        121.795  , 123.033  , 124.049  , 125.96116, 125.27966, 125.9275 ,\n",
              "        126.38333, 135.24199, 133.20333, 142.76333, 137.92333, 142.95166,\n",
              "        152.55183, 160.33883, 164.31499, 177.63333, 188.29716, 200.70166,\n",
              "        180.355  , 175.03166, 177.6965 , 187.15983, 192.75666, 197.4    ]),\n",
              " array([196.02499, 198.04883, 198.93233, 200.543  , 210.3075 , 225.02   ,\n",
              "        248.25333]))"
            ]
          },
          "metadata": {},
          "execution_count": 79
        }
      ]
    },
    {
      "cell_type": "code",
      "source": [
        "## Dividing it into training and testing\n",
        "X_train, X_test, y_train, y_test = train_test_split(full_windows, full_labels, test_size=0.2, shuffle=False)\n",
        "len(X_train), len(X_test)"
      ],
      "metadata": {
        "colab": {
          "base_uri": "https://localhost:8080/"
        },
        "outputId": "427223d9-7fe5-4d05-d3b8-80609cf746ee",
        "id": "ZSnjP3GVc46a"
      },
      "execution_count": 81,
      "outputs": [
        {
          "output_type": "execute_result",
          "data": {
            "text/plain": [
              "(2200, 551)"
            ]
          },
          "metadata": {},
          "execution_count": 81
        }
      ]
    },
    {
      "cell_type": "code",
      "source": [
        "tf.random.set_seed(42)\n",
        "\n",
        "model_3 = tf.keras.models.Sequential([\n",
        "    tf.keras.layers.Dense(128, activation='relu'),\n",
        "    tf.keras.layers.Dense(HORIZON, activation='linear')\n",
        "])\n",
        "\n",
        "model_3.compile(loss='mae',\n",
        "                optimizer='Adam',\n",
        "                metrics=['mae', 'mse'])\n",
        "\n",
        "history_3 = model_3.fit(X_train, y_train,\n",
        "                        epochs=100,\n",
        "                        batch_size=128,\n",
        "                        verbose=0,\n",
        "                        validation_data=(X_test, y_test),\n",
        "                        callbacks=[model_checkpoint(\"Model_3\")])"
      ],
      "metadata": {
        "id": "55PU9e3Gc46h"
      },
      "execution_count": 82,
      "outputs": []
    },
    {
      "cell_type": "code",
      "source": [
        "model_3.evaluate(X_test, y_test)"
      ],
      "metadata": {
        "colab": {
          "base_uri": "https://localhost:8080/"
        },
        "outputId": "a85bee2d-ea2d-4084-f2fa-602e41580424",
        "id": "eh9ZTHd-c46h"
      },
      "execution_count": 83,
      "outputs": [
        {
          "output_type": "stream",
          "name": "stdout",
          "text": [
            "18/18 [==============================] - 0s 2ms/step - loss: 1419.9323 - mae: 1419.9323 - mse: 6066692.0000\n"
          ]
        },
        {
          "output_type": "execute_result",
          "data": {
            "text/plain": [
              "[1419.9322509765625, 1419.9322509765625, 6066692.0]"
            ]
          },
          "metadata": {},
          "execution_count": 83
        }
      ]
    },
    {
      "cell_type": "code",
      "source": [
        "model_3 = tf.keras.models.load_model('/content/model_experiment/Model_3')"
      ],
      "metadata": {
        "id": "z_IZWhmqc46h"
      },
      "execution_count": 84,
      "outputs": []
    },
    {
      "cell_type": "code",
      "source": [
        "model_3.evaluate(X_test, y_test)"
      ],
      "metadata": {
        "colab": {
          "base_uri": "https://localhost:8080/"
        },
        "outputId": "239cbb90-6940-4dd0-8f1f-09d9ed46e5e2",
        "id": "tcG2XNcbc46h"
      },
      "execution_count": 85,
      "outputs": [
        {
          "output_type": "stream",
          "name": "stdout",
          "text": [
            "18/18 [==============================] - 0s 2ms/step - loss: 1241.5369 - mae: 1241.5369 - mse: 5400974.0000\n"
          ]
        },
        {
          "output_type": "execute_result",
          "data": {
            "text/plain": [
              "[1241.536865234375, 1241.536865234375, 5400974.0]"
            ]
          },
          "metadata": {},
          "execution_count": 85
        }
      ]
    },
    {
      "cell_type": "code",
      "source": [
        "## Making some predictions\n",
        "model_3_preds = make_preds(model_3, X_test)"
      ],
      "metadata": {
        "colab": {
          "base_uri": "https://localhost:8080/"
        },
        "outputId": "f4960527-54c1-4321-c0cf-0908afbd1946",
        "id": "FzHPYdGAc46i"
      },
      "execution_count": 86,
      "outputs": [
        {
          "output_type": "stream",
          "name": "stdout",
          "text": [
            "18/18 [==============================] - 0s 1ms/step\n"
          ]
        }
      ]
    },
    {
      "cell_type": "code",
      "source": [
        "for i in range(10):\n",
        "  print(tf.squeeze(y_test[i]).numpy(), model_3_preds[i].numpy())"
      ],
      "metadata": {
        "colab": {
          "base_uri": "https://localhost:8080/"
        },
        "outputId": "4746ce87-9def-46c2-855b-bfb9b5caf324",
        "id": "atG3KKF0c46i"
      },
      "execution_count": 87,
      "outputs": [
        {
          "output_type": "stream",
          "name": "stdout",
          "text": [
            "[8794.35864452 8798.04205463 9081.18687849 8711.53433917 8760.89271814\n",
            " 8749.52059102 8656.97092235] [9381.936 9381.925 9413.117 9334.311 9440.32  9142.061 9322.386]\n",
            "[8798.04205463 9081.18687849 8711.53433917 8760.89271814 8749.52059102\n",
            " 8656.97092235 8500.64355816] [9058.349 9082.755 9142.678 9152.524 9128.449 8867.344 9068.758]\n",
            "[9081.18687849 8711.53433917 8760.89271814 8749.52059102 8656.97092235\n",
            " 8500.64355816 8469.2608989 ] [8806.922 8830.485 9009.707 8987.582 9077.422 9040.558 9030.244]\n",
            "[8711.53433917 8760.89271814 8749.52059102 8656.97092235 8500.64355816\n",
            " 8469.2608989  8537.33965197] [8953.803 8940.024 9068.592 9070.288 9082.047 9241.823 9070.528]\n",
            "[8760.89271814 8749.52059102 8656.97092235 8500.64355816 8469.2608989\n",
            " 8537.33965197 8205.80636599] [8830.21  8704.444 8901.122 8986.799 9011.994 9096.468 9029.612]\n",
            "[8749.52059102 8656.97092235 8500.64355816 8469.2608989  8537.33965197\n",
            " 8205.80636599 8118.4885358 ] [8926.854 8785.911 8881.125 8770.506 9215.659 8893.72  9008.439]\n",
            "[8656.97092235 8500.64355816 8469.2608989  8537.33965197 8205.80636599\n",
            " 8118.4885358  8074.84317361] [8876.943 8836.25  8840.563 8854.441 9012.2   8770.069 8859.961]\n",
            "[8500.64355816 8469.2608989  8537.33965197 8205.80636599 8118.4885358\n",
            " 8074.84317361 7612.7405735 ] [8725.146 8719.258 8788.932 8816.354 8789.856 8573.141 8571.6  ]\n",
            "[8469.2608989  8537.33965197 8205.80636599 8118.4885358  8074.84317361\n",
            " 7612.7405735  7262.11053495] [8530.501 8388.493 8500.947 8469.109 8494.552 8281.967 8175.999]\n",
            "[8537.33965197 8205.80636599 8118.4885358  8074.84317361 7612.7405735\n",
            " 7262.11053495 7303.40575852] [8478.92  8340.303 8613.261 8333.262 8521.59  8254.722 8213.785]\n"
          ]
        }
      ]
    },
    {
      "cell_type": "code",
      "source": [
        "y_test.shape, model_3_preds.shape"
      ],
      "metadata": {
        "colab": {
          "base_uri": "https://localhost:8080/"
        },
        "id": "i6bBb10JhoSU",
        "outputId": "c7e06cff-d1cb-455c-f63f-8c9acae226a2"
      },
      "execution_count": 93,
      "outputs": [
        {
          "output_type": "execute_result",
          "data": {
            "text/plain": [
              "((551, 7), TensorShape([551, 7]))"
            ]
          },
          "metadata": {},
          "execution_count": 93
        }
      ]
    },
    {
      "cell_type": "code",
      "source": [
        "calculate_evaluation_metrics(tf.squeeze(y_test), model_3_preds)"
      ],
      "metadata": {
        "colab": {
          "base_uri": "https://localhost:8080/"
        },
        "outputId": "4cea4a78-bbf5-46ef-f528-e16bc5e6c1cf",
        "id": "Hj4ObqNAc46i"
      },
      "execution_count": 88,
      "outputs": [
        {
          "output_type": "execute_result",
          "data": {
            "text/plain": [
              "{'mae': array([  551.93567 ,   320.2952  ,   343.06293 ,   434.42047 ,\n",
              "          395.76675 ,   463.45474 ,   498.1536  ,   495.02322 ,\n",
              "          408.38162 ,   536.8495  ,   771.4606  ,   780.28864 ,\n",
              "          898.7152  ,   910.9257  ,   642.81964 ,   206.26332 ,\n",
              "          255.08768 ,   254.29346 ,   238.10254 ,   292.6499  ,\n",
              "          179.2456  ,   190.48096 ,   295.86557 ,   279.53348 ,\n",
              "          137.62549 ,   128.1167  ,   106.416016,   130.03976 ,\n",
              "          161.50063 ,   173.74442 ,   220.20885 ,   307.38303 ,\n",
              "          306.78662 ,   306.54395 ,   267.27448 ,   279.26562 ,\n",
              "          294.11774 ,   222.01472 ,   206.1183  ,   284.16498 ,\n",
              "          485.6873  ,   143.661   ,   117.91762 ,    62.106792,\n",
              "           56.98242 ,   137.11621 ,    50.211147,    99.58705 ,\n",
              "           62.299526,   142.79736 ,   113.94329 ,   101.38142 ,\n",
              "          137.17564 ,   191.0131  ,   239.98695 ,   422.2122  ,\n",
              "          530.64276 ,   554.9239  ,   578.89215 ,   522.9027  ,\n",
              "          360.595   ,   191.51346 ,   298.6232  ,   327.83063 ,\n",
              "          386.9128  ,   463.64334 ,   451.09125 ,   574.53827 ,\n",
              "          130.4961  ,   206.65736 ,   237.36092 ,   401.62418 ,\n",
              "          569.0706  ,   443.09332 ,   279.773   ,   355.48453 ,\n",
              "          327.9598  ,   370.85394 ,   576.08105 ,   743.8813  ,\n",
              "          833.33246 ,   707.72516 ,   356.05453 ,   188.06152 ,\n",
              "          237.74973 ,   198.52873 ,   198.89705 ,   274.52316 ,\n",
              "          417.7168  ,   646.96204 ,   548.65906 ,   418.92105 ,\n",
              "          428.26172 ,   215.1783  ,   234.47084 ,   299.12485 ,\n",
              "          289.55106 ,   548.7002  ,   628.46875 ,   811.0446  ,\n",
              "          507.56012 ,   344.11832 ,   148.57004 ,   253.71861 ,\n",
              "          272.9781  ,   398.34863 ,   511.23047 ,   649.1105  ,\n",
              "          945.2485  ,   906.2956  ,   816.6854  ,   339.1939  ,\n",
              "          211.64201 ,   180.68973 ,   242.9647  ,   291.40073 ,\n",
              "          328.96408 ,   453.37857 ,   585.19293 ,  1094.8829  ,\n",
              "         1639.1298  ,  2237.9607  ,  2028.1879  ,  2110.2197  ,\n",
              "         2288.269   ,  2556.4749  ,  1232.4589  ,   693.05475 ,\n",
              "          490.84515 ,   483.10065 ,   530.6402  ,   600.2911  ,\n",
              "          524.94775 ,   263.87473 ,   250.79332 ,   247.63281 ,\n",
              "          410.64215 ,   279.7518  ,   328.02426 ,   266.3312  ,\n",
              "          305.01862 ,   351.5638  ,   444.55435 ,   769.27136 ,\n",
              "          830.98376 ,   674.3625  ,   456.63275 ,   175.77295 ,\n",
              "          208.33559 ,   221.21861 ,   248.57213 ,   313.4414  ,\n",
              "          465.0639  ,   449.33524 ,   593.38043 ,   242.85205 ,\n",
              "          150.3245  ,   220.66957 ,   189.21756 ,   304.39948 ,\n",
              "          304.42334 ,   267.976   ,   176.11154 ,   228.37039 ,\n",
              "          216.5067  ,   385.98004 ,   543.4134  ,   759.13293 ,\n",
              "          611.5256  ,   628.03406 ,   827.4448  ,   857.07434 ,\n",
              "          951.5418  ,  1095.1448  ,   450.56586 ,   277.08246 ,\n",
              "          304.5593  ,   356.29422 ,   395.64328 ,   446.15012 ,\n",
              "          485.7461  ,   504.2571  ,   614.93976 ,   967.8997  ,\n",
              "          905.84235 ,   285.0982  ,   427.93735 ,   678.7387  ,\n",
              "          419.5484  ,   113.15932 ,   249.8715  ,   286.24985 ,\n",
              "          386.2397  ,   528.4361  ,   595.66785 ,   538.5639  ,\n",
              "          309.78683 ,   166.68457 ,   258.70718 ,   286.53305 ,\n",
              "          657.8757  ,   747.13446 ,   751.51996 ,   476.43457 ,\n",
              "          271.4746  ,   216.99916 ,   163.90067 ,   575.264   ,\n",
              "          157.1709  ,   119.169365,   222.31697 ,   119.63825 ,\n",
              "          222.06068 ,   228.19016 ,   346.97852 ,   314.71066 ,\n",
              "          516.89716 ,   176.39314 ,   128.45898 ,   156.74498 ,\n",
              "          194.81068 ,   169.91629 ,   146.88533 ,   167.54758 ,\n",
              "          133.61398 ,   176.63853 ,   175.68192 ,   217.2447  ,\n",
              "          339.40332 ,   486.31137 ,   360.17047 ,   178.25    ,\n",
              "          222.07869 ,   108.008095,    80.45006 ,   149.16629 ,\n",
              "           83.59584 ,   114.757675,    98.94364 ,    80.186386,\n",
              "          145.11398 ,   117.012695,   107.644394,   107.01911 ,\n",
              "          219.48828 ,   160.47838 ,   146.67606 ,    95.27916 ,\n",
              "           84.66615 ,    93.68541 ,   105.803154,   125.478516,\n",
              "          131.15164 ,   186.68541 ,   273.82562 ,   332.69223 ,\n",
              "          657.8503  ,   718.37445 ,   796.606   ,   896.2052  ,\n",
              "         1107.382   ,  1323.205   ,  1263.4187  ,   461.0434  ,\n",
              "          172.28377 ,   230.43723 ,   278.51898 ,   257.53336 ,\n",
              "          443.13113 ,   153.07603 ,   170.85213 ,   227.32729 ,\n",
              "          123.08119 ,   311.3496  ,   231.44084 ,   344.52148 ,\n",
              "          223.16545 ,   347.25934 ,   167.36678 ,   226.79994 ,\n",
              "          161.41658 ,   224.48535 ,   198.01213 ,   277.09    ,\n",
              "          352.91168 ,   460.81445 ,   306.17188 ,   304.8348  ,\n",
              "          268.1875  ,   160.99149 ,   290.16992 ,   205.56543 ,\n",
              "          128.03055 ,   201.09863 ,   342.43723 ,   433.59082 ,\n",
              "          570.463   ,   874.11285 ,  1060.7021  ,  1523.3536  ,\n",
              "         1411.6461  ,   775.6056  ,   593.8008  ,   163.62918 ,\n",
              "          151.30705 ,   209.31013 ,   247.64844 ,   276.88644 ,\n",
              "          357.44266 ,   262.5625  ,   409.36356 ,   389.86703 ,\n",
              "          183.33092 ,   225.57785 ,   405.45465 ,   447.80484 ,\n",
              "          371.31125 ,   461.16196 ,   328.1476  ,   138.36105 ,\n",
              "          178.84904 ,   320.14215 ,   144.51381 ,   130.14328 ,\n",
              "          233.77525 ,   231.32227 ,   275.4887  ,   332.62305 ,\n",
              "          188.31068 ,   172.87541 ,   181.88393 ,   242.98103 ,\n",
              "          311.15082 ,   467.91867 ,   624.4706  ,   676.45215 ,\n",
              "          628.0933  ,   426.4975  ,   148.35658 ,   126.8005  ,\n",
              "          335.8648  ,   271.36063 ,   390.40445 ,   599.1956  ,\n",
              "          789.7256  ,  1026.2096  ,  1275.0702  ,  1137.3668  ,\n",
              "         1221.2545  ,   341.03012 ,   259.68192 ,   196.88295 ,\n",
              "          254.51353 ,   249.73703 ,   246.22    ,   237.82533 ,\n",
              "          206.1151  ,   453.07632 ,   615.7892  ,   734.22375 ,\n",
              "          869.26044 ,  1114.6047  ,  1114.7992  ,  1144.3085  ,\n",
              "          377.17953 ,   400.09625 ,   377.02246 ,   340.87973 ,\n",
              "          496.21094 ,   839.4594  ,   886.91864 ,   816.1826  ,\n",
              "          945.1225  ,  1368.74    ,  1633.4948  ,  1600.0101  ,\n",
              "         1006.3072  ,   535.4657  ,   535.21985 ,   739.5329  ,\n",
              "         1074.1608  ,  1039.0201  ,  1077.1495  ,  1182.0404  ,\n",
              "          987.8546  ,   853.00586 ,  1386.577   ,  1362.2634  ,\n",
              "         1262.0193  ,   253.8217  ,   313.0865  ,   551.28375 ,\n",
              "          898.4515  ,   564.6136  ,   798.02625 ,   616.2282  ,\n",
              "          592.49164 ,   385.25864 ,   803.736   ,  1658.546   ,\n",
              "         2598.5117  ,  2765.7012  ,  3030.2578  ,  3377.803   ,\n",
              "         3455.5896  ,  2298.543   ,   634.52313 ,   463.09848 ,\n",
              "         1185.498   ,  1204.676   ,  1395.6267  ,  1695.3175  ,\n",
              "         2531.4958  ,  2956.0977  ,  2942.5923  ,  2502.3157  ,\n",
              "         2468.9338  ,  2754.5483  ,  3218.9211  ,  2987.2786  ,\n",
              "         3722.6814  ,  4670.3647  ,  4251.856   ,  4026.989   ,\n",
              "         4355.0835  ,  3201.4214  ,  2584.5872  ,  2470.112   ,\n",
              "         4106.6187  ,  5589.62    ,  5610.9673  ,  2048.5547  ,\n",
              "          741.0653  ,  1144.2806  ,  2855.9106  ,  2920.486   ,\n",
              "         2501.9402  ,  3464.4387  ,  3629.5679  ,  3904.3015  ,\n",
              "         4088.4958  ,  1016.1744  ,   903.74554 ,  1170.1038  ,\n",
              "         1455.702   ,  1702.2299  ,  2466.0452  ,  3768.226   ,\n",
              "         3298.737   ,  2281.1362  ,  2157.566   ,  3164.6619  ,\n",
              "         4037.7192  ,  5445.454   ,  5198.2114  ,  5574.1763  ,\n",
              "         6350.024   ,  5714.3994  ,  7287.186   ,  4528.1836  ,\n",
              "         1595.3214  ,  1463.7561  ,  1690.0514  ,  2413.0781  ,\n",
              "         2421.2131  ,  3224.7031  ,  3319.799   ,  3155.4983  ,\n",
              "         2888.798   ,  3206.881   ,  5603.0107  ,  7215.3647  ,\n",
              "        10665.663   , 10095.542   ,  5323.9575  ,  3598.202   ,\n",
              "         1584.39    ,  1555.8069  ,  2773.971   ,  3742.741   ,\n",
              "         2627.5781  ,  3579.2349  ,  2526.326   ,  3796.7795  ,\n",
              "         4341.2393  ,  5805.475   ,  6400.1772  ,  5844.6655  ,\n",
              "         4255.0103  ,  2521.2925  ,  1703.5703  ,  1257.972   ,\n",
              "         1688.4642  ,  3406.5652  ,  2070.822   ,  2465.6106  ,\n",
              "         3163.677   ,  4602.104   ,  4582.43    ,  5076.364   ,\n",
              "         5270.1167  ,  1768.303   ,  2321.5513  ,  2519.029   ,\n",
              "         4233.976   ,  3484.7239  ,  2918.3477  ,  2252.3806  ,\n",
              "         2412.605   ,   747.11273 ,   644.4347  ,  1608.5251  ,\n",
              "         1104.4202  ,   919.3226  ,   846.8544  ,   907.5251  ,\n",
              "         1666.8722  ,  2865.7622  ,  3558.944   ,  3961.434   ,\n",
              "         2567.6667  ,  2382.841   ,  2788.341   ,  3962.3455  ,\n",
              "         5964.0093  ,  7800.3325  ,  8242.039   ,  8496.784   ,\n",
              "         5816.617   ,  4334.4976  ,  4309.1616  ,  2619.1116  ,\n",
              "         2053.4297  ,  2915.236   ,  4110.7427  ,  6062.8823  ,\n",
              "         3956.3599  ,  1269.9392  ,  1829.3689  ,  2315.716   ,\n",
              "          963.394   ,  1746.7428  ,  1090.985   ,  1424.2076  ,\n",
              "         2158.1848  ,  1717.3917  ,  2542.543   ,  3493.3606  ,\n",
              "         5414.602   ,  7606.015   ,  8575.608   ], dtype=float32),\n",
              " 'mse': array([3.20383031e+05, 1.31088547e+05, 1.41563016e+05, 2.26084641e+05,\n",
              "        2.26947547e+05, 2.86991594e+05, 2.98668062e+05, 3.09630188e+05,\n",
              "        2.42165672e+05, 4.24736562e+05, 7.84032125e+05, 7.64887438e+05,\n",
              "        8.83591125e+05, 8.50110938e+05, 4.29301312e+05, 5.86572930e+04,\n",
              "        8.36142734e+04, 8.55427734e+04, 8.84901484e+04, 9.80944453e+04,\n",
              "        4.55461133e+04, 4.85938555e+04, 1.00579578e+05, 9.60038750e+04,\n",
              "        3.01039980e+04, 2.15845977e+04, 1.17652676e+04, 2.78774688e+04,\n",
              "        3.14103164e+04, 3.28163242e+04, 6.31036250e+04, 1.03351070e+05,\n",
              "        1.15363141e+05, 1.72735828e+05, 1.36202547e+05, 1.40780719e+05,\n",
              "        1.38215422e+05, 8.12177891e+04, 6.91027344e+04, 9.80490469e+04,\n",
              "        2.49545047e+05, 2.66065527e+04, 1.93939824e+04, 5.49611670e+03,\n",
              "        4.71023145e+03, 2.01999395e+04, 3.47903247e+03, 1.15127656e+04,\n",
              "        4.96847412e+03, 2.75625723e+04, 1.81645801e+04, 2.56878574e+04,\n",
              "        3.34836992e+04, 4.99567578e+04, 1.14680172e+05, 2.84318969e+05,\n",
              "        3.44315719e+05, 3.92086031e+05, 3.89257188e+05, 2.95564406e+05,\n",
              "        1.41744141e+05, 9.25902891e+04, 1.65483031e+05, 2.02368609e+05,\n",
              "        2.32580781e+05, 2.86749688e+05, 2.16934297e+05, 3.54372156e+05,\n",
              "        2.56258711e+04, 4.83868984e+04, 9.11234141e+04, 1.83520578e+05,\n",
              "        3.52281438e+05, 2.22256906e+05, 1.09884836e+05, 1.63543266e+05,\n",
              "        1.25137250e+05, 2.16810000e+05, 4.84907688e+05, 6.48889312e+05,\n",
              "        7.43415875e+05, 5.12666219e+05, 1.50184594e+05, 3.98755703e+04,\n",
              "        7.45323906e+04, 6.68108984e+04, 5.59775742e+04, 1.03337961e+05,\n",
              "        2.17028000e+05, 4.73721000e+05, 3.95439938e+05, 2.08967578e+05,\n",
              "        2.22770359e+05, 6.97574297e+04, 6.89577031e+04, 1.09053289e+05,\n",
              "        1.48491688e+05, 3.97525156e+05, 5.01684969e+05, 7.23202562e+05,\n",
              "        2.94225969e+05, 1.38703578e+05, 3.78493477e+04, 7.40848516e+04,\n",
              "        1.42329016e+05, 2.82946031e+05, 4.13585438e+05, 5.83186125e+05,\n",
              "        1.06632475e+06, 9.12998125e+05, 7.06851375e+05, 1.23883062e+05,\n",
              "        6.81384453e+04, 5.67731172e+04, 7.92498203e+04, 1.10737039e+05,\n",
              "        1.89982531e+05, 3.19682688e+05, 4.24090844e+05, 2.19927350e+06,\n",
              "        4.06847475e+06, 6.61881550e+06, 5.68618350e+06, 6.03628700e+06,\n",
              "        6.06710850e+06, 6.63167950e+06, 1.68729075e+06, 5.43350500e+05,\n",
              "        2.78508219e+05, 2.95040031e+05, 4.35913719e+05, 4.65228594e+05,\n",
              "        3.11809062e+05, 1.01616227e+05, 8.94367344e+04, 7.63573281e+04,\n",
              "        2.40385609e+05, 8.57661172e+04, 1.76203203e+05, 1.13712789e+05,\n",
              "        1.30346352e+05, 1.62086375e+05, 2.27898609e+05, 6.64170188e+05,\n",
              "        7.96867125e+05, 5.10786688e+05, 2.22896281e+05, 4.18059258e+04,\n",
              "        5.54536211e+04, 6.18992734e+04, 6.97385078e+04, 1.51646609e+05,\n",
              "        3.08970438e+05, 2.23011172e+05, 3.82740750e+05, 7.89946094e+04,\n",
              "        2.57816895e+04, 6.99595547e+04, 4.58038633e+04, 1.37360078e+05,\n",
              "        1.32275156e+05, 1.16558711e+05, 3.66752070e+04, 6.65674453e+04,\n",
              "        5.81133828e+04, 2.02198547e+05, 3.41254219e+05, 7.64453125e+05,\n",
              "        7.09177938e+05, 6.32127000e+05, 1.02195694e+06, 9.85257000e+05,\n",
              "        1.05868988e+06, 1.20977938e+06, 2.42083859e+05, 2.13997672e+05,\n",
              "        1.27001109e+05, 1.66402266e+05, 2.06057219e+05, 2.44890859e+05,\n",
              "        2.61455609e+05, 3.64826250e+05, 6.61892625e+05, 1.10142225e+06,\n",
              "        9.27852812e+05, 1.47542891e+05, 2.34654094e+05, 5.03608156e+05,\n",
              "        2.22957984e+05, 2.33964590e+04, 8.98573047e+04, 1.01160250e+05,\n",
              "        2.01603875e+05, 3.35443938e+05, 4.06149438e+05, 3.39994656e+05,\n",
              "        1.46030406e+05, 4.28387617e+04, 8.94497266e+04, 1.06680977e+05,\n",
              "        5.80556500e+05, 7.36789812e+05, 6.48443438e+05, 3.23506781e+05,\n",
              "        1.29891578e+05, 9.69267578e+04, 4.48979648e+04, 3.35610312e+05,\n",
              "        3.44292930e+04, 2.28289336e+04, 6.53458477e+04, 2.79746895e+04,\n",
              "        7.17029453e+04, 6.27809922e+04, 1.50179547e+05, 1.22130453e+05,\n",
              "        2.74979656e+05, 3.64273789e+04, 3.63944648e+04, 3.13795664e+04,\n",
              "        4.34423047e+04, 3.87641992e+04, 3.17657910e+04, 3.38316445e+04,\n",
              "        2.98791582e+04, 4.61665938e+04, 5.28342266e+04, 6.01283242e+04,\n",
              "        1.44250562e+05, 2.61948906e+05, 1.37972031e+05, 3.57807383e+04,\n",
              "        5.64147695e+04, 2.11592402e+04, 1.42809561e+04, 3.66360742e+04,\n",
              "        1.23511338e+04, 1.45582734e+04, 1.45692324e+04, 1.22483916e+04,\n",
              "        3.50639102e+04, 1.97516270e+04, 2.61600664e+04, 1.34084160e+04,\n",
              "        5.33644727e+04, 3.57027227e+04, 2.85110664e+04, 1.42916016e+04,\n",
              "        8.46083691e+03, 1.37631963e+04, 1.42832314e+04, 1.96413320e+04,\n",
              "        2.82901504e+04, 4.74038320e+04, 9.94681094e+04, 1.55555469e+05,\n",
              "        7.92728438e+05, 9.18369688e+05, 1.12308200e+06, 1.18944000e+06,\n",
              "        1.57673238e+06, 2.05193312e+06, 1.64520488e+06, 2.95044062e+05,\n",
              "        6.07372383e+04, 6.55322461e+04, 8.54708750e+04, 9.62711797e+04,\n",
              "        2.72391156e+05, 4.05325547e+04, 3.84335000e+04, 6.68804375e+04,\n",
              "        2.19546602e+04, 1.32039969e+05, 9.40812422e+04, 1.67104375e+05,\n",
              "        7.64009609e+04, 1.52680859e+05, 4.79585898e+04, 6.94424219e+04,\n",
              "        6.01209648e+04, 7.19670391e+04, 6.53588945e+04, 9.57107656e+04,\n",
              "        1.43998828e+05, 2.43410891e+05, 1.23241297e+05, 1.16187250e+05,\n",
              "        1.14038641e+05, 3.79010664e+04, 9.63311719e+04, 6.27963086e+04,\n",
              "        2.87069688e+04, 8.37054141e+04, 1.50614625e+05, 2.85401219e+05,\n",
              "        4.99812844e+05, 1.13072988e+06, 1.48193112e+06, 2.55776800e+06,\n",
              "        2.07423800e+06, 6.25841188e+05, 3.87600188e+05, 4.02159922e+04,\n",
              "        3.10691348e+04, 7.82216328e+04, 8.88556953e+04, 1.21968891e+05,\n",
              "        1.93682828e+05, 1.01633617e+05, 1.92214016e+05, 1.58524828e+05,\n",
              "        5.29578125e+04, 7.88895156e+04, 2.64486594e+05, 2.58458875e+05,\n",
              "        2.01499797e+05, 2.40176672e+05, 1.49635672e+05, 2.35428418e+04,\n",
              "        5.74424570e+04, 1.12211805e+05, 3.32555352e+04, 2.82055039e+04,\n",
              "        7.12252969e+04, 7.64462578e+04, 1.03119367e+05, 1.37104547e+05,\n",
              "        3.81461016e+04, 4.08910859e+04, 4.00239961e+04, 1.21364867e+05,\n",
              "        1.71116875e+05, 3.35769000e+05, 4.89009062e+05, 5.10691938e+05,\n",
              "        4.42535188e+05, 1.90636969e+05, 4.17194492e+04, 2.11265586e+04,\n",
              "        1.27585484e+05, 9.20928906e+04, 3.46758531e+05, 7.19076875e+05,\n",
              "        1.06255388e+06, 1.49758338e+06, 1.93456025e+06, 1.47916688e+06,\n",
              "        1.54682675e+06, 1.77742281e+05, 8.55868359e+04, 5.09988398e+04,\n",
              "        7.96563906e+04, 8.64270703e+04, 7.50116797e+04, 6.68325547e+04,\n",
              "        7.39928203e+04, 5.38714062e+05, 9.53245500e+05, 9.31520125e+05,\n",
              "        1.12181512e+06, 1.68052775e+06, 1.45575212e+06, 1.40025838e+06,\n",
              "        2.28481031e+05, 2.28687266e+05, 2.35209281e+05, 1.69109656e+05,\n",
              "        3.66290969e+05, 1.13354400e+06, 1.31849962e+06, 1.17019438e+06,\n",
              "        1.15361600e+06, 2.32432675e+06, 3.08583675e+06, 2.69446875e+06,\n",
              "        1.20131062e+06, 3.78232062e+05, 3.74559438e+05, 1.19641888e+06,\n",
              "        1.86613375e+06, 1.60117012e+06, 1.88096125e+06, 2.13812425e+06,\n",
              "        1.66706662e+06, 1.03049562e+06, 2.29935850e+06, 2.10030675e+06,\n",
              "        1.68040738e+06, 8.98637500e+04, 1.24870109e+05, 3.80165000e+05,\n",
              "        9.34027125e+05, 4.81551062e+05, 9.05249938e+05, 5.81399438e+05,\n",
              "        5.09576688e+05, 2.25066031e+05, 1.41765875e+06, 4.87427200e+06,\n",
              "        1.00911150e+07, 1.18022240e+07, 1.20756670e+07, 1.31216000e+07,\n",
              "        1.25346480e+07, 5.36748100e+06, 5.17724062e+05, 3.29255062e+05,\n",
              "        1.63974200e+06, 1.84956125e+06, 2.60296175e+06, 4.13908175e+06,\n",
              "        8.39268500e+06, 1.11498050e+07, 1.00192300e+07, 9.89840900e+06,\n",
              "        1.03246830e+07, 1.07364820e+07, 1.39154950e+07, 1.42400340e+07,\n",
              "        2.24538240e+07, 3.17345460e+07, 2.79875720e+07, 2.07001080e+07,\n",
              "        2.45797100e+07, 1.51518430e+07, 7.73049100e+06, 9.32980100e+06,\n",
              "        2.22489340e+07, 3.39826560e+07, 3.25575220e+07, 5.06566300e+06,\n",
              "        9.59815000e+05, 1.72615775e+06, 1.11303430e+07, 1.23813410e+07,\n",
              "        1.17764420e+07, 1.66858380e+07, 1.70047940e+07, 1.69534740e+07,\n",
              "        1.76956680e+07, 1.79399600e+06, 1.54131288e+06, 2.16670525e+06,\n",
              "        2.76671975e+06, 3.54150225e+06, 7.97295100e+06, 1.84123340e+07,\n",
              "        1.36516570e+07, 7.32171100e+06, 6.85905950e+06, 1.22666460e+07,\n",
              "        2.23992660e+07, 4.11121480e+07, 3.99270120e+07, 4.45421200e+07,\n",
              "        5.17955800e+07, 3.60555560e+07, 5.57360520e+07, 2.17157580e+07,\n",
              "        3.23629350e+06, 3.95771025e+06, 3.87782325e+06, 7.62510650e+06,\n",
              "        8.90330400e+06, 1.34822970e+07, 1.72674680e+07, 1.17320960e+07,\n",
              "        9.90972500e+06, 1.44268560e+07, 4.11392400e+07, 6.67971840e+07,\n",
              "        1.25397568e+08, 1.04897280e+08, 3.10555680e+07, 1.54016660e+07,\n",
              "        4.16661750e+06, 2.86456625e+06, 9.49255900e+06, 1.59662390e+07,\n",
              "        9.96303800e+06, 1.75307920e+07, 1.25120470e+07, 2.24820840e+07,\n",
              "        2.77607560e+07, 4.26278360e+07, 4.77079120e+07, 3.70175280e+07,\n",
              "        2.10407980e+07, 8.94937600e+06, 3.69684625e+06, 2.42228050e+06,\n",
              "        3.80620925e+06, 1.21139790e+07, 8.07706300e+06, 1.27643470e+07,\n",
              "        1.55197580e+07, 2.92195240e+07, 2.83986200e+07, 3.11842980e+07,\n",
              "        3.28401720e+07, 4.78756500e+06, 6.66794950e+06, 8.39599900e+06,\n",
              "        2.00628480e+07, 1.44186290e+07, 9.85876100e+06, 5.77911550e+06,\n",
              "        6.34698550e+06, 9.58775062e+05, 8.42039062e+05, 3.24625575e+06,\n",
              "        1.61680438e+06, 1.18202062e+06, 1.25273075e+06, 1.78316100e+06,\n",
              "        5.29191050e+06, 1.26683450e+07, 1.69178620e+07, 1.82135860e+07,\n",
              "        7.91802450e+06, 7.52660950e+06, 1.12453710e+07, 2.61946140e+07,\n",
              "        4.70252600e+07, 7.33041520e+07, 7.73494960e+07, 7.83003520e+07,\n",
              "        4.22480400e+07, 2.41004740e+07, 2.52320680e+07, 1.06052340e+07,\n",
              "        5.29599500e+06, 1.06436960e+07, 1.98073880e+07, 3.87548800e+07,\n",
              "        1.93079860e+07, 2.66617325e+06, 4.01567375e+06, 5.61825650e+06,\n",
              "        2.19707775e+06, 5.37620550e+06, 2.53011375e+06, 3.97539600e+06,\n",
              "        5.26201850e+06, 5.17150450e+06, 1.02434720e+07, 1.71650720e+07,\n",
              "        4.23888920e+07, 7.38438160e+07, 9.30898400e+07], dtype=float32),\n",
              " 'rmse': array([  566.02386 ,   362.06152 ,   376.2486  ,   475.48358 ,\n",
              "          476.3901  ,   535.71594 ,   546.5053  ,   556.4442  ,\n",
              "          492.1033  ,   651.71814 ,   885.4559  ,   874.5784  ,\n",
              "          939.9953  ,   922.0146  ,   655.2109  ,   242.19267 ,\n",
              "          289.16132 ,   292.47696 ,   297.47293 ,   313.20032 ,\n",
              "          213.41536 ,   220.44014 ,   317.14282 ,   309.8449  ,\n",
              "          173.50504 ,   146.91698 ,   108.46782 ,   166.96547 ,\n",
              "          177.22955 ,   181.15277 ,   251.20435 ,   321.4826  ,\n",
              "          339.6515  ,   415.615   ,   369.0563  ,   375.20758 ,\n",
              "          371.77335 ,   284.98734 ,   262.874   ,   313.12784 ,\n",
              "          499.54483 ,   163.11516 ,   139.26228 ,    74.135796,\n",
              "           68.63113 ,   142.1265  ,    58.983322,   107.297554,\n",
              "           70.487404,   166.01979 ,   134.77603 ,   160.27432 ,\n",
              "          182.98552 ,   223.51009 ,   338.64462 ,   533.2157  ,\n",
              "          586.78424 ,   626.1677  ,   623.9048  ,   543.6583  ,\n",
              "          376.48923 ,   304.28653 ,   406.79605 ,   449.85397 ,\n",
              "          482.2663  ,   535.4901  ,   465.76205 ,   595.2916  ,\n",
              "          160.08083 ,   219.97021 ,   301.86655 ,   428.393   ,\n",
              "          593.533   ,   471.4413  ,   331.48883 ,   404.40482 ,\n",
              "          353.74744 ,   465.6286  ,   696.35315 ,   805.5367  ,\n",
              "          862.2157  ,   716.00714 ,   387.53656 ,   199.68869 ,\n",
              "          273.0062  ,   258.47803 ,   236.59581 ,   321.46222 ,\n",
              "          465.86264 ,   688.2739  ,   628.84015 ,   457.12973 ,\n",
              "          471.98557 ,   264.11633 ,   262.598   ,   330.23218 ,\n",
              "          385.3462  ,   630.496   ,   708.29724 ,   850.41315 ,\n",
              "          542.426   ,   372.4293  ,   194.54909 ,   272.18533 ,\n",
              "          377.26517 ,   531.9267  ,   643.1061  ,   763.66626 ,\n",
              "         1032.63    ,   955.50934 ,   840.7445  ,   351.97025 ,\n",
              "          261.03342 ,   238.2711  ,   281.51346 ,   332.77176 ,\n",
              "          435.86984 ,   565.4049  ,   651.2226  ,  1482.9948  ,\n",
              "         2017.046   ,  2572.7058  ,  2384.572   ,  2456.8857  ,\n",
              "         2463.1501  ,  2575.2048  ,  1298.9575  ,   737.1231  ,\n",
              "          527.7388  ,   543.1759  ,   660.2376  ,   682.07666 ,\n",
              "          558.3987  ,   318.773   ,   299.05975 ,   276.3283  ,\n",
              "          490.29135 ,   292.85852 ,   419.76566 ,   337.21326 ,\n",
              "          361.03513 ,   402.59952 ,   477.38727 ,   814.9664  ,\n",
              "          892.67413 ,   714.6934  ,   472.11893 ,   204.46498 ,\n",
              "          235.48593 ,   248.79564 ,   264.0805  ,   389.4183  ,\n",
              "          555.8511  ,   472.2406  ,   618.66046 ,   281.05978 ,\n",
              "          160.56677 ,   264.4987  ,   214.01837 ,   370.62122 ,\n",
              "          363.6965  ,   341.40695 ,   191.50772 ,   258.00668 ,\n",
              "          241.06717 ,   449.66492 ,   584.1697  ,   874.3301  ,\n",
              "          842.127   ,   795.06415 ,  1010.9189  ,   992.60114 ,\n",
              "         1028.9265  ,  1099.8997  ,   492.02017 ,   462.59882 ,\n",
              "          356.37216 ,   407.92435 ,   453.93527 ,   494.86447 ,\n",
              "          511.3273  ,   604.0085  ,   813.5678  ,  1049.4867  ,\n",
              "          963.25116 ,   384.11313 ,   484.41107 ,   709.65356 ,\n",
              "          472.18427 ,   152.95901 ,   299.7621  ,   318.057   ,\n",
              "          449.0032  ,   579.17523 ,   637.2985  ,   583.09064 ,\n",
              "          382.13925 ,   206.97527 ,   299.08148 ,   326.62054 ,\n",
              "          761.94257 ,   858.3646  ,   805.2598  ,   568.77655 ,\n",
              "          360.40475 ,   311.33063 ,   211.8914  ,   579.31885 ,\n",
              "          185.55132 ,   151.09247 ,   255.62834 ,   167.25636 ,\n",
              "          267.77405 ,   250.56136 ,   387.53006 ,   349.47168 ,\n",
              "          524.385   ,   190.85957 ,   190.77333 ,   177.14279 ,\n",
              "          208.42818 ,   196.88626 ,   178.2296  ,   183.9338  ,\n",
              "          172.8559  ,   214.86414 ,   229.85696 ,   245.21077 ,\n",
              "          379.8033  ,   511.80945 ,   371.44586 ,   189.15797 ,\n",
              "          237.51793 ,   145.46216 ,   119.50295 ,   191.40552 ,\n",
              "          111.13566 ,   120.65767 ,   120.70308 ,   110.672455,\n",
              "          187.2536  ,   140.54048 ,   161.74074 ,   115.794716,\n",
              "          231.00752 ,   188.95164 ,   168.8522  ,   119.547485,\n",
              "           91.98281 ,   117.31665 ,   119.512474,   140.14754 ,\n",
              "          168.19676 ,   217.72421 ,   315.38565 ,   394.4052  ,\n",
              "          890.35297 ,   958.31604 ,  1059.7556  ,  1090.6145  ,\n",
              "         1255.68    ,  1432.457   ,  1282.6554  ,   543.17957 ,\n",
              "          246.44926 ,   255.99266 ,   292.35403 ,   310.27597 ,\n",
              "          521.9111  ,   201.32698 ,   196.04463 ,   258.61252 ,\n",
              "          148.17105 ,   363.37305 ,   306.72665 ,   408.78403 ,\n",
              "          276.40723 ,   390.744   ,   218.99449 ,   263.5193  ,\n",
              "          245.19577 ,   268.26672 ,   255.65385 ,   309.37155 ,\n",
              "          379.47177 ,   493.36688 ,   351.0574  ,   340.86252 ,\n",
              "          337.69608 ,   194.68196 ,   310.37262 ,   250.59192 ,\n",
              "          169.4313  ,   289.31888 ,   388.091   ,   534.22955 ,\n",
              "          706.9744  ,  1063.3578  ,  1217.346   ,  1599.3024  ,\n",
              "         1440.2216  ,   791.10126 ,   622.57544 ,   200.53926 ,\n",
              "          176.26439 ,   279.6813  ,   298.08673 ,   349.24045 ,\n",
              "          440.09412 ,   318.8003  ,   438.42218 ,   398.15176 ,\n",
              "          230.12564 ,   280.87277 ,   514.2826  ,   508.38852 ,\n",
              "          448.8873  ,   490.07822 ,   386.8277  ,   153.43677 ,\n",
              "          239.67155 ,   334.98032 ,   182.36101 ,   167.94495 ,\n",
              "          266.88068 ,   276.48917 ,   321.12204 ,   370.2763  ,\n",
              "          195.31027 ,   202.21544 ,   200.05998 ,   348.3746  ,\n",
              "          413.66275 ,   579.45575 ,   699.2918  ,   714.62714 ,\n",
              "          665.23315 ,   436.61993 ,   204.25339 ,   145.34978 ,\n",
              "          357.1911  ,   303.4681  ,   588.86206 ,   847.984   ,\n",
              "         1030.8025  ,  1223.7579  ,  1390.8846  ,  1216.2101  ,\n",
              "         1243.7148  ,   421.59494 ,   292.55228 ,   225.82922 ,\n",
              "          282.23465 ,   293.9848  ,   273.8826  ,   258.51993 ,\n",
              "          272.0162  ,   733.97144 ,   976.3429  ,   965.1529  ,\n",
              "         1059.1577  ,  1296.3517  ,  1206.5455  ,  1183.3252  ,\n",
              "          477.9969  ,   478.2126  ,   484.9838  ,   411.22943 ,\n",
              "          605.2198  ,  1064.6802  ,  1148.2594  ,  1081.7552  ,\n",
              "         1074.0652  ,  1524.5743  ,  1756.655   ,  1641.4838  ,\n",
              "         1096.0432  ,   615.00574 ,   612.01263 ,  1093.8093  ,\n",
              "         1366.0651  ,  1265.3735  ,  1371.4814  ,  1462.2327  ,\n",
              "         1291.1493  ,  1015.1333  ,  1516.3635  ,  1449.2435  ,\n",
              "         1296.3053  ,   299.77283 ,   353.36966 ,   616.5752  ,\n",
              "          966.4508  ,   693.9388  ,   951.4462  ,   762.49554 ,\n",
              "          713.8464  ,   474.41125 ,  1190.6548  ,  2207.7754  ,\n",
              "         3176.6516  ,  3435.4365  ,  3475.006   ,  3622.375   ,\n",
              "         3540.4304  ,  2316.7825  ,   719.53046 ,   573.8075  ,\n",
              "         1280.5242  ,  1359.9857  ,  1613.3696  ,  2034.4734  ,\n",
              "         2897.0132  ,  3339.1323  ,  3165.3167  ,  3146.1738  ,\n",
              "         3213.2046  ,  3276.6572  ,  3730.348   ,  3773.597   ,\n",
              "         4738.5464  ,  5633.3423  ,  5290.328   ,  4549.7373  ,\n",
              "         4957.793   ,  3892.5369  ,  2780.376   ,  3054.4724  ,\n",
              "         4716.8774  ,  5829.4644  ,  5705.92    ,  2250.703   ,\n",
              "          979.7015  ,  1313.8333  ,  3336.2168  ,  3518.713   ,\n",
              "         3431.6821  ,  4084.8303  ,  4123.687   ,  4117.4595  ,\n",
              "         4206.622   ,  1339.4014  ,  1241.4962  ,  1471.9733  ,\n",
              "         1663.346   ,  1881.888   ,  2823.6414  ,  4290.9595  ,\n",
              "         3694.815   ,  2705.866   ,  2618.9807  ,  3502.3772  ,\n",
              "         4732.786   ,  6411.8755  ,  6318.7827  ,  6673.9883  ,\n",
              "         7196.9146  ,  6004.628   ,  7465.658   ,  4660.017   ,\n",
              "         1798.9701  ,  1989.3994  ,  1969.219   ,  2761.3596  ,\n",
              "         2983.8406  ,  3671.8247  ,  4155.414   ,  3425.2148  ,\n",
              "         3147.9717  ,  3798.27    ,  6413.988   ,  8172.9546  ,\n",
              "        11198.105   , 10241.9375  ,  5572.7524  ,  3924.4956  ,\n",
              "         2041.2294  ,  1692.5029  ,  3080.9998  ,  3995.7776  ,\n",
              "         3156.428   ,  4186.979   ,  3537.2373  ,  4741.528   ,\n",
              "         5268.8477  ,  6528.9995  ,  6907.0913  ,  6084.203   ,\n",
              "         4587.025   ,  2991.5508  ,  1922.7185  ,  1556.3677  ,\n",
              "         1950.9508  ,  3480.5142  ,  2842.0173  ,  3572.7227  ,\n",
              "         3939.5125  ,  5405.509   ,  5329.0356  ,  5584.2905  ,\n",
              "         5730.6343  ,  2188.0505  ,  2582.2373  ,  2897.585   ,\n",
              "         4479.157   ,  3797.187   ,  3139.8665  ,  2403.979   ,\n",
              "         2519.3225  ,   979.1706  ,   917.6269  ,  1801.7368  ,\n",
              "         1271.5363  ,  1087.2078  ,  1119.2545  ,  1335.3505  ,\n",
              "         2300.4153  ,  3559.262   ,  4113.133   ,  4267.738   ,\n",
              "         2813.8984  ,  2743.4668  ,  3353.4119  ,  5118.0674  ,\n",
              "         6857.4966  ,  8561.784   ,  8794.856   ,  8848.749   ,\n",
              "         6499.849   ,  4909.223   ,  5023.1533  ,  3256.5679  ,\n",
              "         2301.303   ,  3262.4678  ,  4450.5493  ,  6225.342   ,\n",
              "         4394.0854  ,  1632.842   ,  2003.9146  ,  2370.2861  ,\n",
              "         1482.2543  ,  2318.6646  ,  1590.6332  ,  1993.8395  ,\n",
              "         2293.909   ,  2274.0942  ,  3200.5425  ,  4143.075   ,\n",
              "         6510.6753  ,  8593.242   ,  9648.308   ], dtype=float32),\n",
              " 'mape': array([ 6.292849  ,  3.6913486 ,  3.9683561 ,  5.0648074 ,  4.6917863 ,\n",
              "         5.548521  ,  6.023345  ,  6.14518   ,  5.2792897 ,  7.098574  ,\n",
              "        10.418574  , 10.675309  , 12.359796  , 12.5283    ,  8.874707  ,\n",
              "         2.8370886 ,  3.447887  ,  3.39003   ,  3.1580436 ,  3.8985543 ,\n",
              "         2.4125562 ,  2.5800931 ,  4.027449  ,  3.8072195 ,  1.8790513 ,\n",
              "         1.7432275 ,  1.4393215 ,  1.7421623 ,  2.1955829 ,  2.381533  ,\n",
              "         3.0604134 ,  4.280138  ,  4.3334165 ,  4.4820795 ,  3.907768  ,\n",
              "         4.0772166 ,  4.281464  ,  3.2171714 ,  2.9815044 ,  3.9960616 ,\n",
              "         6.7042985 ,  1.9928648 ,  1.6315514 ,  0.8592428 ,  0.7895647 ,\n",
              "         1.8951397 ,  0.6935794 ,  1.3768698 ,  0.8579981 ,  1.9902557 ,\n",
              "         1.5843852 ,  1.4344028 ,  1.9251707 ,  2.6374102 ,  3.1456146 ,\n",
              "         5.430689  ,  6.8115673 ,  7.007334  ,  7.260312  ,  6.517478  ,\n",
              "         4.4633226 ,  2.2746081 ,  3.512589  ,  3.774015  ,  4.416882  ,\n",
              "         5.261311  ,  5.1507764 ,  6.5243616 ,  1.477546  ,  2.3733866 ,\n",
              "         2.771934  ,  4.685729  ,  6.689669  ,  5.219025  ,  3.3084133 ,\n",
              "         4.174452  ,  3.7891102 ,  4.0480886 ,  6.2090974 ,  8.008407  ,\n",
              "         8.925966  ,  7.5624757 ,  3.7943099 ,  1.9996792 ,  2.5488746 ,\n",
              "         2.1233497 ,  2.0989606 ,  2.8344302 ,  4.240185  ,  6.5005846 ,\n",
              "         5.4218206 ,  4.1243973 ,  4.1829457 ,  2.0983403 ,  2.3366928 ,\n",
              "         2.9911978 ,  2.934842  ,  5.5751076 ,  6.4328156 ,  8.322255  ,\n",
              "         5.230144  ,  3.5381231 ,  1.5002136 ,  2.634051  ,  2.9662924 ,\n",
              "         4.3933706 ,  5.707744  ,  7.332676  , 10.779086  , 10.357398  ,\n",
              "         9.361684  ,  3.8889174 ,  2.4250474 ,  2.0249734 ,  2.7147608 ,\n",
              "         3.29751   ,  3.946235  ,  5.542303  ,  7.145846  , 15.906032  ,\n",
              "        25.308681  , 36.607548  , 35.400124  , 39.044086  , 42.39177   ,\n",
              "        47.587536  , 23.03421   , 12.844478  ,  8.7428255 ,  8.279864  ,\n",
              "         8.506168  ,  9.543527  ,  8.150322  ,  4.044602  ,  3.8850908 ,\n",
              "         3.8007848 ,  6.174535  ,  4.2700024 ,  5.232575  ,  4.263849  ,\n",
              "         4.8225317 ,  5.4391    ,  6.714566  , 11.426568  , 12.115777  ,\n",
              "         9.686812  ,  6.4773893 ,  2.4761648 ,  2.943868  ,  3.1633782 ,\n",
              "         3.5067732 ,  4.4859605 ,  6.708446  ,  6.5099754 ,  8.608325  ,\n",
              "         3.530858  ,  2.1411214 ,  3.1008818 ,  2.6784806 ,  4.261136  ,\n",
              "         4.2469954 ,  3.6808717 ,  2.445358  ,  3.1934254 ,  3.0284238 ,\n",
              "         5.0881534 ,  7.1242146 ,  9.50116   ,  7.267266  ,  7.33426   ,\n",
              "         9.470229  ,  9.711764  , 10.741176  , 12.331104  ,  4.99017   ,\n",
              "         2.8942254 ,  3.215262  ,  3.7449784 ,  4.196735  ,  4.7996545 ,\n",
              "         5.191079  ,  5.5638866 ,  6.960725  , 10.760189  , 10.063392  ,\n",
              "         3.1803582 ,  4.498091  ,  7.0555873 ,  4.342849  ,  1.203918  ,\n",
              "         2.666566  ,  3.0508513 ,  4.1907134 ,  5.785631  ,  6.58424   ,\n",
              "         5.974905  ,  3.4455075 ,  1.8473853 ,  2.7897992 ,  3.0633986 ,\n",
              "         6.792369  ,  7.6766624 ,  7.727856  ,  4.838714  ,  2.742612  ,\n",
              "         2.1991537 ,  1.6576989 ,  5.939622  ,  1.6174031 ,  1.2201453 ,\n",
              "         2.3112025 ,  1.2638124 ,  2.3309617 ,  2.3997734 ,  3.6811583 ,\n",
              "         3.3439617 ,  5.4892254 ,  1.871197  ,  1.3732816 ,  1.6741391 ,\n",
              "         2.0794191 ,  1.8009299 ,  1.5685316 ,  1.7842921 ,  1.4074392 ,\n",
              "         1.8755065 ,  1.8544463 ,  2.3256226 ,  3.7044828 ,  5.3173757 ,\n",
              "         3.9361947 ,  1.9533764 ,  2.43745   ,  1.1764636 ,  0.883862  ,\n",
              "         1.6215518 ,  0.91554755,  1.2455052 ,  1.0716121 ,  0.8597712 ,\n",
              "         1.5607601 ,  1.2544565 ,  1.1496711 ,  1.152043  ,  2.375424  ,\n",
              "         1.7430812 ,  1.5944926 ,  1.037251  ,  0.9218693 ,  1.021437  ,\n",
              "         1.1488112 ,  1.3591045 ,  1.3876327 ,  1.9704293 ,  2.8639133 ,\n",
              "         3.4330635 ,  6.380962  ,  6.78028   ,  7.290055  ,  8.144053  ,\n",
              "         9.959478  , 11.713936  , 11.187285  ,  4.0417724 ,  1.4986397 ,\n",
              "         2.034031  ,  2.4420547 ,  2.271854  ,  3.908208  ,  1.3409501 ,\n",
              "         1.4717094 ,  1.9439784 ,  1.0624319 ,  2.6940312 ,  2.0063329 ,\n",
              "         2.972843  ,  1.9266697 ,  2.960736  ,  1.3880358 ,  1.8828515 ,\n",
              "         1.3268816 ,  1.8747121 ,  1.6472142 ,  2.3234174 ,  3.0091739 ,\n",
              "         3.967886  ,  2.647885  ,  2.655918  ,  2.3490083 ,  1.406422  ,\n",
              "         2.5299273 ,  1.7964976 ,  1.0942451 ,  1.7131535 ,  2.9903347 ,\n",
              "         3.9094229 ,  5.328784  ,  8.358405  , 10.205917  , 14.746807  ,\n",
              "        13.749942  ,  7.5794644 ,  5.8161    ,  1.5888476 ,  1.462689  ,\n",
              "         2.0119152 ,  2.3398762 ,  2.5737422 ,  3.2961924 ,  2.4127972 ,\n",
              "         3.7567518 ,  3.5707273 ,  1.679686  ,  2.108595  ,  3.8551505 ,\n",
              "         4.2439404 ,  3.5345993 ,  4.365988  ,  3.125049  ,  1.3011973 ,\n",
              "         1.695634  ,  2.975253  ,  1.3443383 ,  1.2203152 ,  2.1964061 ,\n",
              "         2.177977  ,  2.5929873 ,  3.13322   ,  1.7728025 ,  1.6264032 ,\n",
              "         1.6869707 ,  2.1890345 ,  2.781298  ,  4.1307034 ,  5.498881  ,\n",
              "         5.944663  ,  5.4851527 ,  3.7233562 ,  1.2865548 ,  1.1070454 ,\n",
              "         2.9376452 ,  2.3696938 ,  3.1688209 ,  4.728338  ,  6.15861   ,\n",
              "         7.9471445 ,  9.855412  ,  8.724038  ,  9.262725  ,  2.5570614 ,\n",
              "         1.9640958 ,  1.4867604 ,  1.9050041 ,  1.8396493 ,  1.7995123 ,\n",
              "         1.7536787 ,  1.4855851 ,  3.0734508 ,  4.049193  ,  4.8805985 ,\n",
              "         5.7225575 ,  7.2840214 ,  7.268475  ,  7.402704  ,  2.3986423 ,\n",
              "         2.5973163 ,  2.3446605 ,  2.16176   ,  3.0445445 ,  4.9970174 ,\n",
              "         5.1540227 ,  4.6518035 ,  5.352846  ,  7.604534  ,  8.958433  ,\n",
              "         8.734453  ,  5.411626  ,  2.8610497 ,  2.935733  ,  4.244229  ,\n",
              "         6.1256895 ,  5.9205074 ,  6.1437817 ,  6.7269945 ,  5.648118  ,\n",
              "         4.527415  ,  7.2788095 ,  7.117308  ,  6.5785885 ,  1.3221885 ,\n",
              "         1.6415188 ,  2.9244683 ,  4.804543  ,  3.0599718 ,  4.319837  ,\n",
              "         3.3405104 ,  3.208593  ,  2.0490894 ,  3.9883678 ,  7.880496  ,\n",
              "        12.0219345 , 12.256297  , 13.265972  , 14.697801  , 14.906244  ,\n",
              "         9.8490095 ,  2.6956987 ,  1.9420832 ,  4.905076  ,  4.879545  ,\n",
              "         5.450883  ,  6.461929  ,  9.378634  , 10.679243  , 10.4702015 ,\n",
              "         8.396606  ,  7.9226656 ,  8.800401  ,  9.979844  ,  8.789551  ,\n",
              "        10.34726   , 12.505801  , 10.93782   , 10.431063  , 11.165914  ,\n",
              "         8.122821  ,  6.7574224 ,  6.856248  , 11.447028  , 15.535755  ,\n",
              "        15.630452  ,  5.7008486 ,  1.9838016 ,  3.1354814 ,  8.389227  ,\n",
              "         8.74748   ,  7.75966   , 10.699998  , 11.283796  , 12.142667  ,\n",
              "        12.887936  ,  3.1973767 ,  2.8140216 ,  3.5147705 ,  4.3933477 ,\n",
              "         5.082384  ,  7.2159886 , 10.66471   ,  9.191386  ,  6.2255483 ,\n",
              "         5.7275653 ,  8.328581  , 10.039364  , 12.912571  , 11.878042  ,\n",
              "        12.330385  , 13.787314  , 12.379744  , 15.454814  ,  9.51484   ,\n",
              "         3.3194892 ,  2.9354913 ,  3.4110918 ,  4.7116604 ,  4.573292  ,\n",
              "         5.9638824 ,  6.0268016 ,  5.8449464 ,  5.4992514 ,  6.3587255 ,\n",
              "        11.483865  , 15.122655  , 22.614258  , 21.414583  , 11.350115  ,\n",
              "         7.6704106 ,  3.3867486 ,  3.2277067 ,  5.676995  ,  7.5485744 ,\n",
              "         5.2132983 ,  6.938492  ,  4.678585  ,  6.903888  ,  7.742743  ,\n",
              "        10.154629  , 11.02682   , 10.055995  ,  7.2668552 ,  4.271058  ,\n",
              "         2.8959217 ,  2.127044  ,  2.936356  ,  5.91364   ,  3.6899452 ,\n",
              "         4.4490533 ,  5.780776  ,  8.526109  ,  8.535941  ,  9.429048  ,\n",
              "         9.806127  ,  3.2902372 ,  4.220311  ,  4.4198775 ,  7.340764  ,\n",
              "         5.9755726 ,  5.002309  ,  3.84892   ,  4.111584  ,  1.2769476 ,\n",
              "         1.1105592 ,  2.7916818 ,  1.9177321 ,  1.5924405 ,  1.469889  ,\n",
              "         1.5815469 ,  2.7506778 ,  4.658044  ,  5.7370996 ,  6.378815  ,\n",
              "         4.124994  ,  3.8876917 ,  4.695829  ,  6.9077744 , 10.527543  ,\n",
              "        14.095604  , 15.25726   , 16.011843  , 11.355883  ,  8.504713  ,\n",
              "         8.481343  ,  5.18639   ,  3.9825704 ,  5.383786  ,  7.453652  ,\n",
              "        10.875125  ,  6.985754  ,  2.2253597 ,  3.2627616 ,  4.080895  ,\n",
              "         1.7439555 ,  3.1419568 ,  1.953477  ,  2.568156  ,  3.7594907 ,\n",
              "         3.1079037 ,  4.763211  ,  6.6737547 , 10.749885  , 15.525982  ,\n",
              "        18.241808  ], dtype=float32),\n",
              " 'mase': 2.2092454}"
            ]
          },
          "metadata": {},
          "execution_count": 88
        }
      ]
    },
    {
      "cell_type": "markdown",
      "source": [
        "### Make our evaluation function work for large horizon"
      ],
      "metadata": {
        "id": "SENLtyxNc46i"
      }
    },
    {
      "cell_type": "code",
      "source": [
        "## Creating the evaluation matrix function\n",
        "def calculate_evaluation_metrics(y_true, y_pred):\n",
        "  y_true = tf.cast(y_true, dtype=tf.float32)\n",
        "  y_pred = tf.cast(y_pred, dtype=tf.float32)\n",
        "\n",
        "  mae = tf.keras.metrics.mean_absolute_error(y_true, y_pred)\n",
        "  mse = tf.keras.metrics.mean_squared_error(y_true, y_pred)\n",
        "  rmse = tf.sqrt(mse)\n",
        "  mape = tf.keras.metrics.mean_absolute_percentage_error(y_true, y_pred)\n",
        "  mase = mean_absolute_scaled_error(y_true, y_pred)\n",
        "\n",
        "  if mae.ndim > 0:\n",
        "    mae = tf.reduce_mean(mae)\n",
        "    mse = tf.reduce_mean(mse)\n",
        "    rmse = tf.reduce_mean(rmse)\n",
        "    mape = tf.reduce_mean(mape)\n",
        "    mase = tf.reduce_mean(mase)\n",
        "\n",
        "  return {\"mae\": mae.numpy(),\n",
        "          \"mse\": mse.numpy(),\n",
        "          \"rmse\": rmse.numpy(),\n",
        "          \"mape\": mape.numpy(),\n",
        "          \"mase\": mase.numpy()}"
      ],
      "metadata": {
        "id": "mbZeslD-i1sX"
      },
      "execution_count": 98,
      "outputs": []
    },
    {
      "cell_type": "code",
      "source": [
        "model_3_preds = make_preds(model_3, X_test)"
      ],
      "metadata": {
        "colab": {
          "base_uri": "https://localhost:8080/"
        },
        "id": "MCEBzux-kbHa",
        "outputId": "15154e24-87d7-4ecc-968e-d3058513541a"
      },
      "execution_count": 99,
      "outputs": [
        {
          "output_type": "stream",
          "name": "stdout",
          "text": [
            "18/18 [==============================] - 0s 2ms/step\n"
          ]
        }
      ]
    },
    {
      "cell_type": "code",
      "source": [
        "for i in range(10):\n",
        "  print(y_test[i], model_3_preds[i])"
      ],
      "metadata": {
        "colab": {
          "base_uri": "https://localhost:8080/"
        },
        "id": "uXgVy3s1kf7e",
        "outputId": "da969890-bfb6-4a68-e8c4-dd1c3cbdf8b2"
      },
      "execution_count": 100,
      "outputs": [
        {
          "output_type": "stream",
          "name": "stdout",
          "text": [
            "[8794.35864452 8798.04205463 9081.18687849 8711.53433917 8760.89271814\n",
            " 8749.52059102 8656.97092235] tf.Tensor([9381.936 9381.925 9413.117 9334.311 9440.32  9142.061 9322.386], shape=(7,), dtype=float32)\n",
            "[8798.04205463 9081.18687849 8711.53433917 8760.89271814 8749.52059102\n",
            " 8656.97092235 8500.64355816] tf.Tensor([9058.349 9082.755 9142.678 9152.524 9128.449 8867.344 9068.758], shape=(7,), dtype=float32)\n",
            "[9081.18687849 8711.53433917 8760.89271814 8749.52059102 8656.97092235\n",
            " 8500.64355816 8469.2608989 ] tf.Tensor([8806.922 8830.485 9009.707 8987.582 9077.422 9040.558 9030.244], shape=(7,), dtype=float32)\n",
            "[8711.53433917 8760.89271814 8749.52059102 8656.97092235 8500.64355816\n",
            " 8469.2608989  8537.33965197] tf.Tensor([8953.803 8940.024 9068.592 9070.288 9082.047 9241.823 9070.528], shape=(7,), dtype=float32)\n",
            "[8760.89271814 8749.52059102 8656.97092235 8500.64355816 8469.2608989\n",
            " 8537.33965197 8205.80636599] tf.Tensor([8830.21  8704.444 8901.122 8986.799 9011.994 9096.468 9029.612], shape=(7,), dtype=float32)\n",
            "[8749.52059102 8656.97092235 8500.64355816 8469.2608989  8537.33965197\n",
            " 8205.80636599 8118.4885358 ] tf.Tensor([8926.854 8785.911 8881.125 8770.506 9215.659 8893.72  9008.439], shape=(7,), dtype=float32)\n",
            "[8656.97092235 8500.64355816 8469.2608989  8537.33965197 8205.80636599\n",
            " 8118.4885358  8074.84317361] tf.Tensor([8876.943 8836.25  8840.563 8854.441 9012.2   8770.069 8859.961], shape=(7,), dtype=float32)\n",
            "[8500.64355816 8469.2608989  8537.33965197 8205.80636599 8118.4885358\n",
            " 8074.84317361 7612.7405735 ] tf.Tensor([8725.146 8719.258 8788.932 8816.354 8789.856 8573.141 8571.6  ], shape=(7,), dtype=float32)\n",
            "[8469.2608989  8537.33965197 8205.80636599 8118.4885358  8074.84317361\n",
            " 7612.7405735  7262.11053495] tf.Tensor([8530.501 8388.493 8500.947 8469.109 8494.552 8281.967 8175.999], shape=(7,), dtype=float32)\n",
            "[8537.33965197 8205.80636599 8118.4885358  8074.84317361 7612.7405735\n",
            " 7262.11053495 7303.40575852] tf.Tensor([8478.92  8340.303 8613.261 8333.262 8521.59  8254.722 8213.785], shape=(7,), dtype=float32)\n"
          ]
        }
      ]
    },
    {
      "cell_type": "code",
      "source": [
        "calculate_evaluation_metrics(tf.squeeze(y_test), model_3_preds)"
      ],
      "metadata": {
        "colab": {
          "base_uri": "https://localhost:8080/"
        },
        "id": "7vOmg6pgkn56",
        "outputId": "5c03b298-3a1f-44ee-feb4-5794a63da615"
      },
      "execution_count": 101,
      "outputs": [
        {
          "output_type": "execute_result",
          "data": {
            "text/plain": [
              "{'mae': 1241.5371,\n",
              " 'mse': 5400974.0,\n",
              " 'rmse': 1421.6168,\n",
              " 'mape': 5.542421,\n",
              " 'mase': 2.2092454}"
            ]
          },
          "metadata": {},
          "execution_count": 101
        }
      ]
    },
    {
      "cell_type": "code",
      "source": [
        "## Plotting the model performance\n",
        "offset = 300\n",
        "plt.figure(figsize=(10, 7))\n",
        "\n",
        "plot_time_series(timesteps=naive_forecast.index[:-6],\n",
        "                 values = tf.reduce_mean(y_test, axis=1),\n",
        "                 start=offset,\n",
        "                 label='test_data')\n",
        "\n",
        "plot_time_series(timesteps=naive_forecast.index[:-6],\n",
        "                 values=tf.reduce_mean(model_3_preds, axis=1),\n",
        "                 label='preds',\n",
        "                 start=offset,\n",
        "                 format='-')"
      ],
      "metadata": {
        "colab": {
          "base_uri": "https://localhost:8080/",
          "height": 619
        },
        "outputId": "6f212e94-b541-461c-e752-e455adc8548f",
        "id": "5l0vd7D_c46i"
      },
      "execution_count": 111,
      "outputs": [
        {
          "output_type": "display_data",
          "data": {
            "text/plain": [
              "<Figure size 1000x700 with 1 Axes>"
            ],
            "image/png": "[encoded data removed]"
          },
          "metadata": {}
        }
      ]
    },
    {
      "cell_type": "code",
      "source": [],
      "metadata": {
        "id": "xPbN57-9k0Y5"
      },
      "execution_count": null,
      "outputs": []
    }
  ]
}