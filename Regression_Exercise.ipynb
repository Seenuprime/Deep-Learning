{
  "nbformat": 4,
  "nbformat_minor": 0,
  "metadata": {
    "colab": {
      "provenance": [],
      "authorship_tag": "ABX9TyMJqB3wXZqZ8PUdyn3X9kJc",
      "include_colab_link": true
    },
    "kernelspec": {
      "name": "python3",
      "display_name": "Python 3"
    },
    "language_info": {
      "name": "python"
    }
  },
  "cells": [
    {
      "cell_type": "markdown",
      "metadata": {
        "id": "view-in-github",
        "colab_type": "text"
      },
      "source": [
        "<a href=\"https://colab.research.google.com/github/Seenuprime/Deep-Learning/blob/main/Regression_Exercise.ipynb\" target=\"_parent\"><img src=\"https://colab.research.google.com/assets/colab-badge.svg\" alt=\"Open In Colab\"/></a>"
      ]
    },
    {
      "cell_type": "code",
      "execution_count": 2,
      "metadata": {
        "id": "-E3lbybfH-8k"
      },
      "outputs": [],
      "source": [
        "import pandas as pd\n",
        "import tensorflow as tf\n",
        "import matplotlib.pyplot as plt\n",
        "import numpy as np"
      ]
    },
    {
      "cell_type": "code",
      "source": [
        "df = pd.read_csv('Boston (1).csv')\n",
        "df.head()"
      ],
      "metadata": {
        "colab": {
          "base_uri": "https://localhost:8080/",
          "height": 206
        },
        "id": "uewvXyUFJu-r",
        "outputId": "be50581a-490b-4576-b3e0-e24011865f9a"
      },
      "execution_count": 4,
      "outputs": [
        {
          "output_type": "execute_result",
          "data": {
            "text/plain": [
              "      CRIM    ZN  INDUS  CHAS     NX     RM   AGE     DIS  RAD    TAX  \\\n",
              "0  0.00632  18.0   2.31     0  0.538  6.575  65.2  4.0900    1  296.0   \n",
              "1  0.02731   0.0   7.07     0  0.469  6.421  78.9  4.9671    2  242.0   \n",
              "2  0.02729   0.0   7.07     0  0.469  7.185  61.1  4.9671    2  242.0   \n",
              "3  0.03237   0.0   2.18     0  0.458  6.998  45.8  6.0622    3  222.0   \n",
              "4  0.06905   0.0   2.18     0  0.458  7.147  54.2  6.0622    3  222.0   \n",
              "\n",
              "   PTRATIO       B  LSTAT  MEDV  \n",
              "0     15.3  396.90   4.98  24.0  \n",
              "1     17.8  396.90   9.14  21.6  \n",
              "2     17.8  392.83   4.03  34.7  \n",
              "3     18.7  394.63   2.94  33.4  \n",
              "4     18.7  396.90   5.33  36.2  "
            ],
            "text/html": [
              "\n",
              "  <div id=\"df-c471c06f-d5e6-4f8a-907e-1409632f42fe\" class=\"colab-df-container\">\n",
              "    <div>\n",
              "<style scoped>\n",
              "    .dataframe tbody tr th:only-of-type {\n",
              "        vertical-align: middle;\n",
              "    }\n",
              "\n",
              "    .dataframe tbody tr th {\n",
              "        vertical-align: top;\n",
              "    }\n",
              "\n",
              "    .dataframe thead th {\n",
              "        text-align: right;\n",
              "    }\n",
              "</style>\n",
              "<table border=\"1\" class=\"dataframe\">\n",
              "  <thead>\n",
              "    <tr style=\"text-align: right;\">\n",
              "      <th></th>\n",
              "      <th>CRIM</th>\n",
              "      <th>ZN</th>\n",
              "      <th>INDUS</th>\n",
              "      <th>CHAS</th>\n",
              "      <th>NX</th>\n",
              "      <th>RM</th>\n",
              "      <th>AGE</th>\n",
              "      <th>DIS</th>\n",
              "      <th>RAD</th>\n",
              "      <th>TAX</th>\n",
              "      <th>PTRATIO</th>\n",
              "      <th>B</th>\n",
              "      <th>LSTAT</th>\n",
              "      <th>MEDV</th>\n",
              "    </tr>\n",
              "  </thead>\n",
              "  <tbody>\n",
              "    <tr>\n",
              "      <th>0</th>\n",
              "      <td>0.00632</td>\n",
              "      <td>18.0</td>\n",
              "      <td>2.31</td>\n",
              "      <td>0</td>\n",
              "      <td>0.538</td>\n",
              "      <td>6.575</td>\n",
              "      <td>65.2</td>\n",
              "      <td>4.0900</td>\n",
              "      <td>1</td>\n",
              "      <td>296.0</td>\n",
              "      <td>15.3</td>\n",
              "      <td>396.90</td>\n",
              "      <td>4.98</td>\n",
              "      <td>24.0</td>\n",
              "    </tr>\n",
              "    <tr>\n",
              "      <th>1</th>\n",
              "      <td>0.02731</td>\n",
              "      <td>0.0</td>\n",
              "      <td>7.07</td>\n",
              "      <td>0</td>\n",
              "      <td>0.469</td>\n",
              "      <td>6.421</td>\n",
              "      <td>78.9</td>\n",
              "      <td>4.9671</td>\n",
              "      <td>2</td>\n",
              "      <td>242.0</td>\n",
              "      <td>17.8</td>\n",
              "      <td>396.90</td>\n",
              "      <td>9.14</td>\n",
              "      <td>21.6</td>\n",
              "    </tr>\n",
              "    <tr>\n",
              "      <th>2</th>\n",
              "      <td>0.02729</td>\n",
              "      <td>0.0</td>\n",
              "      <td>7.07</td>\n",
              "      <td>0</td>\n",
              "      <td>0.469</td>\n",
              "      <td>7.185</td>\n",
              "      <td>61.1</td>\n",
              "      <td>4.9671</td>\n",
              "      <td>2</td>\n",
              "      <td>242.0</td>\n",
              "      <td>17.8</td>\n",
              "      <td>392.83</td>\n",
              "      <td>4.03</td>\n",
              "      <td>34.7</td>\n",
              "    </tr>\n",
              "    <tr>\n",
              "      <th>3</th>\n",
              "      <td>0.03237</td>\n",
              "      <td>0.0</td>\n",
              "      <td>2.18</td>\n",
              "      <td>0</td>\n",
              "      <td>0.458</td>\n",
              "      <td>6.998</td>\n",
              "      <td>45.8</td>\n",
              "      <td>6.0622</td>\n",
              "      <td>3</td>\n",
              "      <td>222.0</td>\n",
              "      <td>18.7</td>\n",
              "      <td>394.63</td>\n",
              "      <td>2.94</td>\n",
              "      <td>33.4</td>\n",
              "    </tr>\n",
              "    <tr>\n",
              "      <th>4</th>\n",
              "      <td>0.06905</td>\n",
              "      <td>0.0</td>\n",
              "      <td>2.18</td>\n",
              "      <td>0</td>\n",
              "      <td>0.458</td>\n",
              "      <td>7.147</td>\n",
              "      <td>54.2</td>\n",
              "      <td>6.0622</td>\n",
              "      <td>3</td>\n",
              "      <td>222.0</td>\n",
              "      <td>18.7</td>\n",
              "      <td>396.90</td>\n",
              "      <td>5.33</td>\n",
              "      <td>36.2</td>\n",
              "    </tr>\n",
              "  </tbody>\n",
              "</table>\n",
              "</div>\n",
              "    <div class=\"colab-df-buttons\">\n",
              "\n",
              "  <div class=\"colab-df-container\">\n",
              "    <button class=\"colab-df-convert\" onclick=\"convertToInteractive('df-c471c06f-d5e6-4f8a-907e-1409632f42fe')\"\n",
              "            title=\"Convert this dataframe to an interactive table.\"\n",
              "            style=\"display:none;\">\n",
              "\n",
              "  <svg xmlns=\"http://www.w3.org/2000/svg\" height=\"24px\" viewBox=\"0 -960 960 960\">\n",
              "    <path d=\"M120-120v-720h720v720H120Zm60-500h600v-160H180v160Zm220 220h160v-160H400v160Zm0 220h160v-160H400v160ZM180-400h160v-160H180v160Zm440 0h160v-160H620v160ZM180-180h160v-160H180v160Zm440 0h160v-160H620v160Z\"/>\n",
              "  </svg>\n",
              "    </button>\n",
              "\n",
              "  <style>\n",
              "    .colab-df-container {\n",
              "      display:flex;\n",
              "      gap: 12px;\n",
              "    }\n",
              "\n",
              "    .colab-df-convert {\n",
              "      background-color: #E8F0FE;\n",
              "      border: none;\n",
              "      border-radius: 50%;\n",
              "      cursor: pointer;\n",
              "      display: none;\n",
              "      fill: #1967D2;\n",
              "      height: 32px;\n",
              "      padding: 0 0 0 0;\n",
              "      width: 32px;\n",
              "    }\n",
              "\n",
              "    .colab-df-convert:hover {\n",
              "      background-color: #E2EBFA;\n",
              "      box-shadow: 0px 1px 2px rgba(60, 64, 67, 0.3), 0px 1px 3px 1px rgba(60, 64, 67, 0.15);\n",
              "      fill: #174EA6;\n",
              "    }\n",
              "\n",
              "    .colab-df-buttons div {\n",
              "      margin-bottom: 4px;\n",
              "    }\n",
              "\n",
              "    [theme=dark] .colab-df-convert {\n",
              "      background-color: #3B4455;\n",
              "      fill: #D2E3FC;\n",
              "    }\n",
              "\n",
              "    [theme=dark] .colab-df-convert:hover {\n",
              "      background-color: #434B5C;\n",
              "      box-shadow: 0px 1px 3px 1px rgba(0, 0, 0, 0.15);\n",
              "      filter: drop-shadow(0px 1px 2px rgba(0, 0, 0, 0.3));\n",
              "      fill: #FFFFFF;\n",
              "    }\n",
              "  </style>\n",
              "\n",
              "    <script>\n",
              "      const buttonEl =\n",
              "        document.querySelector('#df-c471c06f-d5e6-4f8a-907e-1409632f42fe button.colab-df-convert');\n",
              "      buttonEl.style.display =\n",
              "        google.colab.kernel.accessAllowed ? 'block' : 'none';\n",
              "\n",
              "      async function convertToInteractive(key) {\n",
              "        const element = document.querySelector('#df-c471c06f-d5e6-4f8a-907e-1409632f42fe');\n",
              "        const dataTable =\n",
              "          await google.colab.kernel.invokeFunction('convertToInteractive',\n",
              "                                                    [key], {});\n",
              "        if (!dataTable) return;\n",
              "\n",
              "        const docLinkHtml = 'Like what you see? Visit the ' +\n",
              "          '<a target=\"_blank\" href=https://colab.research.google.com/notebooks/data_table.ipynb>data table notebook</a>'\n",
              "          + ' to learn more about interactive tables.';\n",
              "        element.innerHTML = '';\n",
              "        dataTable['output_type'] = 'display_data';\n",
              "        await google.colab.output.renderOutput(dataTable, element);\n",
              "        const docLink = document.createElement('div');\n",
              "        docLink.innerHTML = docLinkHtml;\n",
              "        element.appendChild(docLink);\n",
              "      }\n",
              "    </script>\n",
              "  </div>\n",
              "\n",
              "\n",
              "<div id=\"df-a4e526fa-5a60-4d2d-8c34-481c43a7461f\">\n",
              "  <button class=\"colab-df-quickchart\" onclick=\"quickchart('df-a4e526fa-5a60-4d2d-8c34-481c43a7461f')\"\n",
              "            title=\"Suggest charts\"\n",
              "            style=\"display:none;\">\n",
              "\n",
              "<svg xmlns=\"http://www.w3.org/2000/svg\" height=\"24px\"viewBox=\"0 0 24 24\"\n",
              "     width=\"24px\">\n",
              "    <g>\n",
              "        <path d=\"M19 3H5c-1.1 0-2 .9-2 2v14c0 1.1.9 2 2 2h14c1.1 0 2-.9 2-2V5c0-1.1-.9-2-2-2zM9 17H7v-7h2v7zm4 0h-2V7h2v10zm4 0h-2v-4h2v4z\"/>\n",
              "    </g>\n",
              "</svg>\n",
              "  </button>\n",
              "\n",
              "<style>\n",
              "  .colab-df-quickchart {\n",
              "      --bg-color: #E8F0FE;\n",
              "      --fill-color: #1967D2;\n",
              "      --hover-bg-color: #E2EBFA;\n",
              "      --hover-fill-color: #174EA6;\n",
              "      --disabled-fill-color: #AAA;\n",
              "      --disabled-bg-color: #DDD;\n",
              "  }\n",
              "\n",
              "  [theme=dark] .colab-df-quickchart {\n",
              "      --bg-color: #3B4455;\n",
              "      --fill-color: #D2E3FC;\n",
              "      --hover-bg-color: #434B5C;\n",
              "      --hover-fill-color: #FFFFFF;\n",
              "      --disabled-bg-color: #3B4455;\n",
              "      --disabled-fill-color: #666;\n",
              "  }\n",
              "\n",
              "  .colab-df-quickchart {\n",
              "    background-color: var(--bg-color);\n",
              "    border: none;\n",
              "    border-radius: 50%;\n",
              "    cursor: pointer;\n",
              "    display: none;\n",
              "    fill: var(--fill-color);\n",
              "    height: 32px;\n",
              "    padding: 0;\n",
              "    width: 32px;\n",
              "  }\n",
              "\n",
              "  .colab-df-quickchart:hover {\n",
              "    background-color: var(--hover-bg-color);\n",
              "    box-shadow: 0 1px 2px rgba(60, 64, 67, 0.3), 0 1px 3px 1px rgba(60, 64, 67, 0.15);\n",
              "    fill: var(--button-hover-fill-color);\n",
              "  }\n",
              "\n",
              "  .colab-df-quickchart-complete:disabled,\n",
              "  .colab-df-quickchart-complete:disabled:hover {\n",
              "    background-color: var(--disabled-bg-color);\n",
              "    fill: var(--disabled-fill-color);\n",
              "    box-shadow: none;\n",
              "  }\n",
              "\n",
              "  .colab-df-spinner {\n",
              "    border: 2px solid var(--fill-color);\n",
              "    border-color: transparent;\n",
              "    border-bottom-color: var(--fill-color);\n",
              "    animation:\n",
              "      spin 1s steps(1) infinite;\n",
              "  }\n",
              "\n",
              "  @keyframes spin {\n",
              "    0% {\n",
              "      border-color: transparent;\n",
              "      border-bottom-color: var(--fill-color);\n",
              "      border-left-color: var(--fill-color);\n",
              "    }\n",
              "    20% {\n",
              "      border-color: transparent;\n",
              "      border-left-color: var(--fill-color);\n",
              "      border-top-color: var(--fill-color);\n",
              "    }\n",
              "    30% {\n",
              "      border-color: transparent;\n",
              "      border-left-color: var(--fill-color);\n",
              "      border-top-color: var(--fill-color);\n",
              "      border-right-color: var(--fill-color);\n",
              "    }\n",
              "    40% {\n",
              "      border-color: transparent;\n",
              "      border-right-color: var(--fill-color);\n",
              "      border-top-color: var(--fill-color);\n",
              "    }\n",
              "    60% {\n",
              "      border-color: transparent;\n",
              "      border-right-color: var(--fill-color);\n",
              "    }\n",
              "    80% {\n",
              "      border-color: transparent;\n",
              "      border-right-color: var(--fill-color);\n",
              "      border-bottom-color: var(--fill-color);\n",
              "    }\n",
              "    90% {\n",
              "      border-color: transparent;\n",
              "      border-bottom-color: var(--fill-color);\n",
              "    }\n",
              "  }\n",
              "</style>\n",
              "\n",
              "  <script>\n",
              "    async function quickchart(key) {\n",
              "      const quickchartButtonEl =\n",
              "        document.querySelector('#' + key + ' button');\n",
              "      quickchartButtonEl.disabled = true;  // To prevent multiple clicks.\n",
              "      quickchartButtonEl.classList.add('colab-df-spinner');\n",
              "      try {\n",
              "        const charts = await google.colab.kernel.invokeFunction(\n",
              "            'suggestCharts', [key], {});\n",
              "      } catch (error) {\n",
              "        console.error('Error during call to suggestCharts:', error);\n",
              "      }\n",
              "      quickchartButtonEl.classList.remove('colab-df-spinner');\n",
              "      quickchartButtonEl.classList.add('colab-df-quickchart-complete');\n",
              "    }\n",
              "    (() => {\n",
              "      let quickchartButtonEl =\n",
              "        document.querySelector('#df-a4e526fa-5a60-4d2d-8c34-481c43a7461f button');\n",
              "      quickchartButtonEl.style.display =\n",
              "        google.colab.kernel.accessAllowed ? 'block' : 'none';\n",
              "    })();\n",
              "  </script>\n",
              "</div>\n",
              "\n",
              "    </div>\n",
              "  </div>\n"
            ],
            "application/vnd.google.colaboratory.intrinsic+json": {
              "type": "dataframe",
              "variable_name": "df",
              "summary": "{\n  \"name\": \"df\",\n  \"rows\": 506,\n  \"fields\": [\n    {\n      \"column\": \"CRIM\",\n      \"properties\": {\n        \"dtype\": \"number\",\n        \"std\": 8.60154510533249,\n        \"min\": 0.00632,\n        \"max\": 88.9762,\n        \"num_unique_values\": 504,\n        \"samples\": [\n          0.09178,\n          0.05644,\n          0.10574\n        ],\n        \"semantic_type\": \"\",\n        \"description\": \"\"\n      }\n    },\n    {\n      \"column\": \"ZN\",\n      \"properties\": {\n        \"dtype\": \"number\",\n        \"std\": 23.32245299451514,\n        \"min\": 0.0,\n        \"max\": 100.0,\n        \"num_unique_values\": 26,\n        \"samples\": [\n          25.0,\n          30.0,\n          18.0\n        ],\n        \"semantic_type\": \"\",\n        \"description\": \"\"\n      }\n    },\n    {\n      \"column\": \"INDUS\",\n      \"properties\": {\n        \"dtype\": \"number\",\n        \"std\": 6.860352940897585,\n        \"min\": 0.46,\n        \"max\": 27.74,\n        \"num_unique_values\": 76,\n        \"samples\": [\n          8.14,\n          1.47,\n          1.22\n        ],\n        \"semantic_type\": \"\",\n        \"description\": \"\"\n      }\n    },\n    {\n      \"column\": \"CHAS\",\n      \"properties\": {\n        \"dtype\": \"number\",\n        \"std\": 0,\n        \"min\": 0,\n        \"max\": 1,\n        \"num_unique_values\": 2,\n        \"samples\": [\n          1,\n          0\n        ],\n        \"semantic_type\": \"\",\n        \"description\": \"\"\n      }\n    },\n    {\n      \"column\": \"NX\",\n      \"properties\": {\n        \"dtype\": \"number\",\n        \"std\": 0.11587767566755595,\n        \"min\": 0.385,\n        \"max\": 0.871,\n        \"num_unique_values\": 81,\n        \"samples\": [\n          0.401,\n          0.538\n        ],\n        \"semantic_type\": \"\",\n        \"description\": \"\"\n      }\n    },\n    {\n      \"column\": \"RM\",\n      \"properties\": {\n        \"dtype\": \"number\",\n        \"std\": 0.7026171434153233,\n        \"min\": 3.561,\n        \"max\": 8.78,\n        \"num_unique_values\": 446,\n        \"samples\": [\n          6.849,\n          4.88\n        ],\n        \"semantic_type\": \"\",\n        \"description\": \"\"\n      }\n    },\n    {\n      \"column\": \"AGE\",\n      \"properties\": {\n        \"dtype\": \"number\",\n        \"std\": 28.148861406903617,\n        \"min\": 2.9,\n        \"max\": 100.0,\n        \"num_unique_values\": 356,\n        \"samples\": [\n          51.8,\n          33.8\n        ],\n        \"semantic_type\": \"\",\n        \"description\": \"\"\n      }\n    },\n    {\n      \"column\": \"DIS\",\n      \"properties\": {\n        \"dtype\": \"number\",\n        \"std\": 2.105710126627611,\n        \"min\": 1.1296,\n        \"max\": 12.1265,\n        \"num_unique_values\": 412,\n        \"samples\": [\n          2.2955,\n          4.2515\n        ],\n        \"semantic_type\": \"\",\n        \"description\": \"\"\n      }\n    },\n    {\n      \"column\": \"RAD\",\n      \"properties\": {\n        \"dtype\": \"number\",\n        \"std\": 8,\n        \"min\": 1,\n        \"max\": 24,\n        \"num_unique_values\": 9,\n        \"samples\": [\n          7,\n          2\n        ],\n        \"semantic_type\": \"\",\n        \"description\": \"\"\n      }\n    },\n    {\n      \"column\": \"TAX\",\n      \"properties\": {\n        \"dtype\": \"number\",\n        \"std\": 168.53711605495903,\n        \"min\": 187.0,\n        \"max\": 711.0,\n        \"num_unique_values\": 66,\n        \"samples\": [\n          370.0,\n          666.0\n        ],\n        \"semantic_type\": \"\",\n        \"description\": \"\"\n      }\n    },\n    {\n      \"column\": \"PTRATIO\",\n      \"properties\": {\n        \"dtype\": \"number\",\n        \"std\": 2.1649455237144406,\n        \"min\": 12.6,\n        \"max\": 22.0,\n        \"num_unique_values\": 46,\n        \"samples\": [\n          19.6,\n          15.6\n        ],\n        \"semantic_type\": \"\",\n        \"description\": \"\"\n      }\n    },\n    {\n      \"column\": \"B\",\n      \"properties\": {\n        \"dtype\": \"number\",\n        \"std\": 91.29486438415783,\n        \"min\": 0.32,\n        \"max\": 396.9,\n        \"num_unique_values\": 357,\n        \"samples\": [\n          396.24,\n          395.11\n        ],\n        \"semantic_type\": \"\",\n        \"description\": \"\"\n      }\n    },\n    {\n      \"column\": \"LSTAT\",\n      \"properties\": {\n        \"dtype\": \"number\",\n        \"std\": 7.141061511348571,\n        \"min\": 1.73,\n        \"max\": 37.97,\n        \"num_unique_values\": 455,\n        \"samples\": [\n          6.15,\n          4.32\n        ],\n        \"semantic_type\": \"\",\n        \"description\": \"\"\n      }\n    },\n    {\n      \"column\": \"MEDV\",\n      \"properties\": {\n        \"dtype\": \"number\",\n        \"std\": 9.197104087379818,\n        \"min\": 5.0,\n        \"max\": 50.0,\n        \"num_unique_values\": 229,\n        \"samples\": [\n          14.1,\n          22.5\n        ],\n        \"semantic_type\": \"\",\n        \"description\": \"\"\n      }\n    }\n  ]\n}"
            }
          },
          "metadata": {},
          "execution_count": 4
        }
      ]
    },
    {
      "cell_type": "code",
      "source": [
        "# df.sort_values(by=['MEDV'], ascending=True, inplace=True)\n",
        "# df.head()"
      ],
      "metadata": {
        "id": "t0JZVZn4Od62"
      },
      "execution_count": 5,
      "outputs": []
    },
    {
      "cell_type": "markdown",
      "source": [
        "### Dividing the Dataset into Training set and Test set"
      ],
      "metadata": {
        "id": "eUfI3VltJ-N8"
      }
    },
    {
      "cell_type": "code",
      "source": [
        "X = df.iloc[:, :-1].values\n",
        "y = df.iloc[:, -1].values"
      ],
      "metadata": {
        "id": "BL2cpBidJ2DW"
      },
      "execution_count": 6,
      "outputs": []
    },
    {
      "cell_type": "code",
      "source": [
        "from sklearn.model_selection import train_test_split\n",
        "X_train, X_test, y_train, y_test = train_test_split(X, y, test_size=0.2, random_state=0)"
      ],
      "metadata": {
        "id": "QNuvDT2zKLpW"
      },
      "execution_count": 7,
      "outputs": []
    },
    {
      "cell_type": "markdown",
      "source": [
        "## Scaling the Dataset"
      ],
      "metadata": {
        "id": "Uw95Uag2Kfwp"
      }
    },
    {
      "cell_type": "code",
      "source": [
        "# from sklearn.compose import make_column_transformer\n",
        "# from sklearn.preprocessing import OneHotEncoder, MinMaxScaler\n",
        "# ct = make_column_transformer(\n",
        "#     (MinMaxScaler(), slice(0, 13))\n",
        "# )"
      ],
      "metadata": {
        "id": "SC0h8u5TKcJw"
      },
      "execution_count": 8,
      "outputs": []
    },
    {
      "cell_type": "code",
      "source": [
        "# X_train = ct.fit_transform(X_train)\n",
        "# X_test = ct.transform(X_test)"
      ],
      "metadata": {
        "id": "UoCnJZJVL37S"
      },
      "execution_count": 9,
      "outputs": []
    },
    {
      "cell_type": "markdown",
      "source": [
        "## Building a Model"
      ],
      "metadata": {
        "id": "hPNndC9IMRDl"
      }
    },
    {
      "cell_type": "code",
      "source": [
        "tf.random.set_seed(42)\n",
        "\n",
        "model = tf.keras.models.Sequential([\n",
        "    tf.keras.layers.Dense(10, activation='relu'),\n",
        "    tf.keras.layers.Dense(10, activation='relu'),\n",
        "    tf.keras.layers.Dense(1)\n",
        "])\n",
        "\n",
        "model.compile(\n",
        "    loss = tf.keras.losses.mae,\n",
        "    optimizer = tf.keras.optimizers.Adam(),\n",
        "    metrics = ['mae']\n",
        ")\n",
        "\n",
        "history = model.fit(X_train, y_train, epochs=100)"
      ],
      "metadata": {
        "colab": {
          "base_uri": "https://localhost:8080/"
        },
        "id": "mnHbcpuwMPQP",
        "outputId": "e7397fe6-dcab-43b3-da12-0a308c6fa9ce"
      },
      "execution_count": 10,
      "outputs": [
        {
          "output_type": "stream",
          "name": "stdout",
          "text": [
            "Epoch 1/100\n",
            "13/13 [==============================] - 1s 3ms/step - loss: 42.7328 - mae: 42.7328\n",
            "Epoch 2/100\n",
            "13/13 [==============================] - 0s 2ms/step - loss: 24.6887 - mae: 24.6887\n",
            "Epoch 3/100\n",
            "13/13 [==============================] - 0s 3ms/step - loss: 16.1707 - mae: 16.1707\n",
            "Epoch 4/100\n",
            "13/13 [==============================] - 0s 2ms/step - loss: 13.1893 - mae: 13.1893\n",
            "Epoch 5/100\n",
            "13/13 [==============================] - 0s 2ms/step - loss: 10.4339 - mae: 10.4339\n",
            "Epoch 6/100\n",
            "13/13 [==============================] - 0s 3ms/step - loss: 8.5527 - mae: 8.5527\n",
            "Epoch 7/100\n",
            "13/13 [==============================] - 0s 3ms/step - loss: 7.2646 - mae: 7.2646\n",
            "Epoch 8/100\n",
            "13/13 [==============================] - 0s 3ms/step - loss: 6.5990 - mae: 6.5990\n",
            "Epoch 9/100\n",
            "13/13 [==============================] - 0s 4ms/step - loss: 6.1025 - mae: 6.1025\n",
            "Epoch 10/100\n",
            "13/13 [==============================] - 0s 2ms/step - loss: 5.8576 - mae: 5.8576\n",
            "Epoch 11/100\n",
            "13/13 [==============================] - 0s 3ms/step - loss: 5.6974 - mae: 5.6974\n",
            "Epoch 12/100\n",
            "13/13 [==============================] - 0s 2ms/step - loss: 5.5991 - mae: 5.5991\n",
            "Epoch 13/100\n",
            "13/13 [==============================] - 0s 2ms/step - loss: 5.4874 - mae: 5.4874\n",
            "Epoch 14/100\n",
            "13/13 [==============================] - 0s 3ms/step - loss: 5.3953 - mae: 5.3953\n",
            "Epoch 15/100\n",
            "13/13 [==============================] - 0s 2ms/step - loss: 5.3438 - mae: 5.3438\n",
            "Epoch 16/100\n",
            "13/13 [==============================] - 0s 2ms/step - loss: 5.2985 - mae: 5.2985\n",
            "Epoch 17/100\n",
            "13/13 [==============================] - 0s 2ms/step - loss: 5.2805 - mae: 5.2805\n",
            "Epoch 18/100\n",
            "13/13 [==============================] - 0s 2ms/step - loss: 5.2927 - mae: 5.2927\n",
            "Epoch 19/100\n",
            "13/13 [==============================] - 0s 2ms/step - loss: 5.1908 - mae: 5.1908\n",
            "Epoch 20/100\n",
            "13/13 [==============================] - 0s 2ms/step - loss: 5.1931 - mae: 5.1931\n",
            "Epoch 21/100\n",
            "13/13 [==============================] - 0s 2ms/step - loss: 5.1464 - mae: 5.1464\n",
            "Epoch 22/100\n",
            "13/13 [==============================] - 0s 2ms/step - loss: 5.2026 - mae: 5.2026\n",
            "Epoch 23/100\n",
            "13/13 [==============================] - 0s 2ms/step - loss: 5.0864 - mae: 5.0864\n",
            "Epoch 24/100\n",
            "13/13 [==============================] - 0s 3ms/step - loss: 5.0699 - mae: 5.0699\n",
            "Epoch 25/100\n",
            "13/13 [==============================] - 0s 2ms/step - loss: 5.1243 - mae: 5.1243\n",
            "Epoch 26/100\n",
            "13/13 [==============================] - 0s 2ms/step - loss: 5.1499 - mae: 5.1499\n",
            "Epoch 27/100\n",
            "13/13 [==============================] - 0s 2ms/step - loss: 5.0742 - mae: 5.0742\n",
            "Epoch 28/100\n",
            "13/13 [==============================] - 0s 2ms/step - loss: 5.1004 - mae: 5.1004\n",
            "Epoch 29/100\n",
            "13/13 [==============================] - 0s 2ms/step - loss: 5.0984 - mae: 5.0984\n",
            "Epoch 30/100\n",
            "13/13 [==============================] - 0s 2ms/step - loss: 5.0475 - mae: 5.0475\n",
            "Epoch 31/100\n",
            "13/13 [==============================] - 0s 2ms/step - loss: 5.0070 - mae: 5.0070\n",
            "Epoch 32/100\n",
            "13/13 [==============================] - 0s 3ms/step - loss: 5.0175 - mae: 5.0175\n",
            "Epoch 33/100\n",
            "13/13 [==============================] - 0s 2ms/step - loss: 5.0409 - mae: 5.0409\n",
            "Epoch 34/100\n",
            "13/13 [==============================] - 0s 2ms/step - loss: 4.9663 - mae: 4.9663\n",
            "Epoch 35/100\n",
            "13/13 [==============================] - 0s 3ms/step - loss: 5.0251 - mae: 5.0251\n",
            "Epoch 36/100\n",
            "13/13 [==============================] - 0s 2ms/step - loss: 4.9904 - mae: 4.9904\n",
            "Epoch 37/100\n",
            "13/13 [==============================] - 0s 2ms/step - loss: 4.9494 - mae: 4.9494\n",
            "Epoch 38/100\n",
            "13/13 [==============================] - 0s 2ms/step - loss: 4.9636 - mae: 4.9636\n",
            "Epoch 39/100\n",
            "13/13 [==============================] - 0s 2ms/step - loss: 4.9241 - mae: 4.9241\n",
            "Epoch 40/100\n",
            "13/13 [==============================] - 0s 2ms/step - loss: 4.8904 - mae: 4.8904\n",
            "Epoch 41/100\n",
            "13/13 [==============================] - 0s 2ms/step - loss: 4.9198 - mae: 4.9198\n",
            "Epoch 42/100\n",
            "13/13 [==============================] - 0s 2ms/step - loss: 4.9075 - mae: 4.9075\n",
            "Epoch 43/100\n",
            "13/13 [==============================] - 0s 3ms/step - loss: 4.8445 - mae: 4.8445\n",
            "Epoch 44/100\n",
            "13/13 [==============================] - 0s 3ms/step - loss: 4.8527 - mae: 4.8527\n",
            "Epoch 45/100\n",
            "13/13 [==============================] - 0s 2ms/step - loss: 4.8374 - mae: 4.8374\n",
            "Epoch 46/100\n",
            "13/13 [==============================] - 0s 2ms/step - loss: 4.8136 - mae: 4.8136\n",
            "Epoch 47/100\n",
            "13/13 [==============================] - 0s 2ms/step - loss: 4.7936 - mae: 4.7936\n",
            "Epoch 48/100\n",
            "13/13 [==============================] - 0s 2ms/step - loss: 4.7966 - mae: 4.7966\n",
            "Epoch 49/100\n",
            "13/13 [==============================] - 0s 2ms/step - loss: 4.8000 - mae: 4.8000\n",
            "Epoch 50/100\n",
            "13/13 [==============================] - 0s 2ms/step - loss: 4.7565 - mae: 4.7565\n",
            "Epoch 51/100\n",
            "13/13 [==============================] - 0s 3ms/step - loss: 4.7815 - mae: 4.7815\n",
            "Epoch 52/100\n",
            "13/13 [==============================] - 0s 2ms/step - loss: 4.7330 - mae: 4.7330\n",
            "Epoch 53/100\n",
            "13/13 [==============================] - 0s 2ms/step - loss: 4.7103 - mae: 4.7103\n",
            "Epoch 54/100\n",
            "13/13 [==============================] - 0s 2ms/step - loss: 4.7399 - mae: 4.7399\n",
            "Epoch 55/100\n",
            "13/13 [==============================] - 0s 2ms/step - loss: 4.7699 - mae: 4.7699\n",
            "Epoch 56/100\n",
            "13/13 [==============================] - 0s 2ms/step - loss: 4.6894 - mae: 4.6894\n",
            "Epoch 57/100\n",
            "13/13 [==============================] - 0s 2ms/step - loss: 4.6828 - mae: 4.6828\n",
            "Epoch 58/100\n",
            "13/13 [==============================] - 0s 3ms/step - loss: 4.6432 - mae: 4.6432\n",
            "Epoch 59/100\n",
            "13/13 [==============================] - 0s 2ms/step - loss: 4.7050 - mae: 4.7050\n",
            "Epoch 60/100\n",
            "13/13 [==============================] - 0s 2ms/step - loss: 4.6846 - mae: 4.6846\n",
            "Epoch 61/100\n",
            "13/13 [==============================] - 0s 4ms/step - loss: 4.6484 - mae: 4.6484\n",
            "Epoch 62/100\n",
            "13/13 [==============================] - 0s 2ms/step - loss: 4.6052 - mae: 4.6052\n",
            "Epoch 63/100\n",
            "13/13 [==============================] - 0s 2ms/step - loss: 4.6592 - mae: 4.6592\n",
            "Epoch 64/100\n",
            "13/13 [==============================] - 0s 2ms/step - loss: 4.8299 - mae: 4.8299\n",
            "Epoch 65/100\n",
            "13/13 [==============================] - 0s 2ms/step - loss: 4.6542 - mae: 4.6542\n",
            "Epoch 66/100\n",
            "13/13 [==============================] - 0s 2ms/step - loss: 4.5648 - mae: 4.5648\n",
            "Epoch 67/100\n",
            "13/13 [==============================] - 0s 2ms/step - loss: 4.5575 - mae: 4.5575\n",
            "Epoch 68/100\n",
            "13/13 [==============================] - 0s 2ms/step - loss: 4.5202 - mae: 4.5202\n",
            "Epoch 69/100\n",
            "13/13 [==============================] - 0s 2ms/step - loss: 4.5407 - mae: 4.5407\n",
            "Epoch 70/100\n",
            "13/13 [==============================] - 0s 2ms/step - loss: 4.4986 - mae: 4.4986\n",
            "Epoch 71/100\n",
            "13/13 [==============================] - 0s 2ms/step - loss: 4.4983 - mae: 4.4983\n",
            "Epoch 72/100\n",
            "13/13 [==============================] - 0s 2ms/step - loss: 4.4699 - mae: 4.4699\n",
            "Epoch 73/100\n",
            "13/13 [==============================] - 0s 2ms/step - loss: 4.4697 - mae: 4.4697\n",
            "Epoch 74/100\n",
            "13/13 [==============================] - 0s 2ms/step - loss: 4.4366 - mae: 4.4366\n",
            "Epoch 75/100\n",
            "13/13 [==============================] - 0s 2ms/step - loss: 4.4377 - mae: 4.4377\n",
            "Epoch 76/100\n",
            "13/13 [==============================] - 0s 2ms/step - loss: 4.4343 - mae: 4.4343\n",
            "Epoch 77/100\n",
            "13/13 [==============================] - 0s 2ms/step - loss: 4.4144 - mae: 4.4144\n",
            "Epoch 78/100\n",
            "13/13 [==============================] - 0s 3ms/step - loss: 4.4008 - mae: 4.4008\n",
            "Epoch 79/100\n",
            "13/13 [==============================] - 0s 2ms/step - loss: 4.3502 - mae: 4.3502\n",
            "Epoch 80/100\n",
            "13/13 [==============================] - 0s 2ms/step - loss: 4.3556 - mae: 4.3556\n",
            "Epoch 81/100\n",
            "13/13 [==============================] - 0s 2ms/step - loss: 4.3770 - mae: 4.3770\n",
            "Epoch 82/100\n",
            "13/13 [==============================] - 0s 2ms/step - loss: 4.4334 - mae: 4.4334\n",
            "Epoch 83/100\n",
            "13/13 [==============================] - 0s 2ms/step - loss: 4.3147 - mae: 4.3147\n",
            "Epoch 84/100\n",
            "13/13 [==============================] - 0s 2ms/step - loss: 4.3426 - mae: 4.3426\n",
            "Epoch 85/100\n",
            "13/13 [==============================] - 0s 3ms/step - loss: 4.2747 - mae: 4.2747\n",
            "Epoch 86/100\n",
            "13/13 [==============================] - 0s 2ms/step - loss: 4.2959 - mae: 4.2959\n",
            "Epoch 87/100\n",
            "13/13 [==============================] - 0s 4ms/step - loss: 4.2956 - mae: 4.2956\n",
            "Epoch 88/100\n",
            "13/13 [==============================] - 0s 2ms/step - loss: 4.3838 - mae: 4.3838\n",
            "Epoch 89/100\n",
            "13/13 [==============================] - 0s 2ms/step - loss: 4.3355 - mae: 4.3355\n",
            "Epoch 90/100\n",
            "13/13 [==============================] - 0s 2ms/step - loss: 4.2148 - mae: 4.2148\n",
            "Epoch 91/100\n",
            "13/13 [==============================] - 0s 2ms/step - loss: 4.2342 - mae: 4.2342\n",
            "Epoch 92/100\n",
            "13/13 [==============================] - 0s 2ms/step - loss: 4.2161 - mae: 4.2161\n",
            "Epoch 93/100\n",
            "13/13 [==============================] - 0s 3ms/step - loss: 4.2894 - mae: 4.2894\n",
            "Epoch 94/100\n",
            "13/13 [==============================] - 0s 3ms/step - loss: 4.2183 - mae: 4.2183\n",
            "Epoch 95/100\n",
            "13/13 [==============================] - 0s 3ms/step - loss: 4.2094 - mae: 4.2094\n",
            "Epoch 96/100\n",
            "13/13 [==============================] - 0s 3ms/step - loss: 4.2832 - mae: 4.2832\n",
            "Epoch 97/100\n",
            "13/13 [==============================] - 0s 3ms/step - loss: 4.1828 - mae: 4.1828\n",
            "Epoch 98/100\n",
            "13/13 [==============================] - 0s 2ms/step - loss: 4.2520 - mae: 4.2520\n",
            "Epoch 99/100\n",
            "13/13 [==============================] - 0s 2ms/step - loss: 4.1864 - mae: 4.1864\n",
            "Epoch 100/100\n",
            "13/13 [==============================] - 0s 2ms/step - loss: 4.1585 - mae: 4.1585\n"
          ]
        }
      ]
    },
    {
      "cell_type": "markdown",
      "source": [
        "## Evaluating the Model"
      ],
      "metadata": {
        "id": "MPuiczk7NIs2"
      }
    },
    {
      "cell_type": "code",
      "source": [
        "model.evaluate(X_test, y_test)"
      ],
      "metadata": {
        "colab": {
          "base_uri": "https://localhost:8080/"
        },
        "id": "BSFMSqwONCAR",
        "outputId": "d0fd0a5d-f0ee-47a1-86b4-624096ecca6f"
      },
      "execution_count": 11,
      "outputs": [
        {
          "output_type": "stream",
          "name": "stdout",
          "text": [
            "4/4 [==============================] - 0s 3ms/step - loss: 4.8139 - mae: 4.8139\n"
          ]
        },
        {
          "output_type": "execute_result",
          "data": {
            "text/plain": [
              "[4.813906669616699, 4.813906669616699]"
            ]
          },
          "metadata": {},
          "execution_count": 11
        }
      ]
    },
    {
      "cell_type": "code",
      "source": [
        "predicted = model.predict(X_test)"
      ],
      "metadata": {
        "colab": {
          "base_uri": "https://localhost:8080/"
        },
        "id": "oLC_vHH2NQuV",
        "outputId": "d431a862-ffb8-482c-c5c2-f927bedf02aa"
      },
      "execution_count": 12,
      "outputs": [
        {
          "output_type": "stream",
          "name": "stdout",
          "text": [
            "4/4 [==============================] - 0s 4ms/step\n"
          ]
        }
      ]
    },
    {
      "cell_type": "code",
      "source": [
        "np.column_stack((y_test[:10], tf.squeeze(predicted[:10])))"
      ],
      "metadata": {
        "colab": {
          "base_uri": "https://localhost:8080/"
        },
        "id": "jINoyjDWNjK-",
        "outputId": "c6b99ac5-5725-4e79-cb2a-0f68c2adf8bb"
      },
      "execution_count": 13,
      "outputs": [
        {
          "output_type": "execute_result",
          "data": {
            "text/plain": [
              "array([[22.6       , 21.1379528 ],\n",
              "       [50.        , 17.75137711],\n",
              "       [23.        , 22.09967995],\n",
              "       [ 8.3       , 13.5393362 ],\n",
              "       [21.2       , 20.46647453],\n",
              "       [19.9       , 23.05352592],\n",
              "       [20.6       , 17.79787064],\n",
              "       [18.7       , 25.36429214],\n",
              "       [16.1       , 18.68633842],\n",
              "       [18.6       ,  9.922719  ]])"
            ]
          },
          "metadata": {},
          "execution_count": 13
        }
      ]
    },
    {
      "cell_type": "code",
      "source": [
        "## Ploting the Learning curve\n",
        "\n",
        "pd.DataFrame(history.history).plot()\n",
        "plt.ylabel('loss')\n",
        "plt.xlabel('epochs')"
      ],
      "metadata": {
        "colab": {
          "base_uri": "https://localhost:8080/",
          "height": 466
        },
        "id": "9TrcsZm5N6yy",
        "outputId": "2e633c3d-9b94-445d-948b-7ebfffd08436"
      },
      "execution_count": 14,
      "outputs": [
        {
          "output_type": "execute_result",
          "data": {
            "text/plain": [
              "Text(0.5, 0, 'epochs')"
            ]
          },
          "metadata": {},
          "execution_count": 14
        },
        {
          "output_type": "display_data",
          "data": {
            "text/plain": [
              "<Figure size 640x480 with 1 Axes>"
            ],
            "image/png": "[encoded data removed]"
          },
          "metadata": {}
        }
      ]
    }
  ]
}