{
  "nbformat": 4,
  "nbformat_minor": 0,
  "metadata": {
    "colab": {
      "provenance": [],
      "authorship_tag": "ABX9TyOPPN+J24+/OVYF58wW/Y0H",
      "include_colab_link": true
    },
    "kernelspec": {
      "name": "python3",
      "display_name": "Python 3"
    },
    "language_info": {
      "name": "python"
    }
  },
  "cells": [
    {
      "cell_type": "markdown",
      "metadata": {
        "id": "view-in-github",
        "colab_type": "text"
      },
      "source": [
        "<a href=\"https://colab.research.google.com/github/Seenuprime/Deep-Learning/blob/main/10_Time_series_TensorFlow.ipynb\" target=\"_parent\"><img src=\"https://colab.research.google.com/assets/colab-badge.svg\" alt=\"Open In Colab\"/></a>"
      ]
    },
    {
      "cell_type": "markdown",
      "source": [
        "# Time Series forecasting fundamentals with tensorflow + Milestone Project: 3"
      ],
      "metadata": {
        "id": "GSW3IDbpRcek"
      }
    },
    {
      "cell_type": "code",
      "execution_count": 1,
      "metadata": {
        "colab": {
          "base_uri": "https://localhost:8080/"
        },
        "id": "Zccy42YjRalN",
        "outputId": "031ccfe2-11b0-4834-eaac-354c0b0bc88f"
      },
      "outputs": [
        {
          "output_type": "stream",
          "name": "stdout",
          "text": [
            "--2024-05-23 16:49:25--  https://raw.githubusercontent.com/mrdbourke/tensorflow-deep-learning/main/extras/BTC_USD_2013-10-01_2021-05-18-CoinDesk.csv\n",
            "Resolving raw.githubusercontent.com (raw.githubusercontent.com)... 185.199.108.133, 185.199.109.133, 185.199.110.133, ...\n",
            "Connecting to raw.githubusercontent.com (raw.githubusercontent.com)|185.199.108.133|:443... connected.\n",
            "HTTP request sent, awaiting response... 200 OK\n",
            "Length: 178509 (174K) [text/plain]\n",
            "Saving to: ‘BTC_USD_2013-10-01_2021-05-18-CoinDesk.csv.1’\n",
            "\n",
            "\r          BTC_USD_2   0%[                    ]       0  --.-KB/s               \rBTC_USD_2013-10-01_ 100%[===================>] 174.33K  --.-KB/s    in 0.03s   \n",
            "\n",
            "2024-05-23 16:49:25 (5.25 MB/s) - ‘BTC_USD_2013-10-01_2021-05-18-CoinDesk.csv.1’ saved [178509/178509]\n",
            "\n"
          ]
        }
      ],
      "source": [
        "!wget https://raw.githubusercontent.com/mrdbourke/tensorflow-deep-learning/main/extras/BTC_USD_2013-10-01_2021-05-18-CoinDesk.csv"
      ]
    },
    {
      "cell_type": "code",
      "source": [
        "import pandas as pd\n",
        "df = pd.read_csv('/content/BTC_USD_2013-10-01_2021-05-18-CoinDesk.csv', index_col=['Date'], parse_dates=['Date'])\n",
        "df.head()"
      ],
      "metadata": {
        "colab": {
          "base_uri": "https://localhost:8080/",
          "height": 237
        },
        "id": "dZfMLVUyR-uw",
        "outputId": "458e2251-08ec-4978-8178-c368cd13534a"
      },
      "execution_count": 2,
      "outputs": [
        {
          "output_type": "execute_result",
          "data": {
            "text/plain": [
              "           Currency  Closing Price (USD)  24h Open (USD)  24h High (USD)  \\\n",
              "Date                                                                       \n",
              "2013-10-01      BTC            123.65499       124.30466       124.75166   \n",
              "2013-10-02      BTC            125.45500       123.65499       125.75850   \n",
              "2013-10-03      BTC            108.58483       125.45500       125.66566   \n",
              "2013-10-04      BTC            118.67466       108.58483       118.67500   \n",
              "2013-10-05      BTC            121.33866       118.67466       121.93633   \n",
              "\n",
              "            24h Low (USD)  \n",
              "Date                       \n",
              "2013-10-01      122.56349  \n",
              "2013-10-02      123.63383  \n",
              "2013-10-03       83.32833  \n",
              "2013-10-04      107.05816  \n",
              "2013-10-05      118.00566  "
            ],
            "text/html": [
              "\n",
              "  <div id=\"df-02c5efdb-a0d5-4887-959b-a11f10fea70f\" class=\"colab-df-container\">\n",
              "    <div>\n",
              "<style scoped>\n",
              "    .dataframe tbody tr th:only-of-type {\n",
              "        vertical-align: middle;\n",
              "    }\n",
              "\n",
              "    .dataframe tbody tr th {\n",
              "        vertical-align: top;\n",
              "    }\n",
              "\n",
              "    .dataframe thead th {\n",
              "        text-align: right;\n",
              "    }\n",
              "</style>\n",
              "<table border=\"1\" class=\"dataframe\">\n",
              "  <thead>\n",
              "    <tr style=\"text-align: right;\">\n",
              "      <th></th>\n",
              "      <th>Currency</th>\n",
              "      <th>Closing Price (USD)</th>\n",
              "      <th>24h Open (USD)</th>\n",
              "      <th>24h High (USD)</th>\n",
              "      <th>24h Low (USD)</th>\n",
              "    </tr>\n",
              "    <tr>\n",
              "      <th>Date</th>\n",
              "      <th></th>\n",
              "      <th></th>\n",
              "      <th></th>\n",
              "      <th></th>\n",
              "      <th></th>\n",
              "    </tr>\n",
              "  </thead>\n",
              "  <tbody>\n",
              "    <tr>\n",
              "      <th>2013-10-01</th>\n",
              "      <td>BTC</td>\n",
              "      <td>123.65499</td>\n",
              "      <td>124.30466</td>\n",
              "      <td>124.75166</td>\n",
              "      <td>122.56349</td>\n",
              "    </tr>\n",
              "    <tr>\n",
              "      <th>2013-10-02</th>\n",
              "      <td>BTC</td>\n",
              "      <td>125.45500</td>\n",
              "      <td>123.65499</td>\n",
              "      <td>125.75850</td>\n",
              "      <td>123.63383</td>\n",
              "    </tr>\n",
              "    <tr>\n",
              "      <th>2013-10-03</th>\n",
              "      <td>BTC</td>\n",
              "      <td>108.58483</td>\n",
              "      <td>125.45500</td>\n",
              "      <td>125.66566</td>\n",
              "      <td>83.32833</td>\n",
              "    </tr>\n",
              "    <tr>\n",
              "      <th>2013-10-04</th>\n",
              "      <td>BTC</td>\n",
              "      <td>118.67466</td>\n",
              "      <td>108.58483</td>\n",
              "      <td>118.67500</td>\n",
              "      <td>107.05816</td>\n",
              "    </tr>\n",
              "    <tr>\n",
              "      <th>2013-10-05</th>\n",
              "      <td>BTC</td>\n",
              "      <td>121.33866</td>\n",
              "      <td>118.67466</td>\n",
              "      <td>121.93633</td>\n",
              "      <td>118.00566</td>\n",
              "    </tr>\n",
              "  </tbody>\n",
              "</table>\n",
              "</div>\n",
              "    <div class=\"colab-df-buttons\">\n",
              "\n",
              "  <div class=\"colab-df-container\">\n",
              "    <button class=\"colab-df-convert\" onclick=\"convertToInteractive('df-02c5efdb-a0d5-4887-959b-a11f10fea70f')\"\n",
              "            title=\"Convert this dataframe to an interactive table.\"\n",
              "            style=\"display:none;\">\n",
              "\n",
              "  <svg xmlns=\"http://www.w3.org/2000/svg\" height=\"24px\" viewBox=\"0 -960 960 960\">\n",
              "    <path d=\"M120-120v-720h720v720H120Zm60-500h600v-160H180v160Zm220 220h160v-160H400v160Zm0 220h160v-160H400v160ZM180-400h160v-160H180v160Zm440 0h160v-160H620v160ZM180-180h160v-160H180v160Zm440 0h160v-160H620v160Z\"/>\n",
              "  </svg>\n",
              "    </button>\n",
              "\n",
              "  <style>\n",
              "    .colab-df-container {\n",
              "      display:flex;\n",
              "      gap: 12px;\n",
              "    }\n",
              "\n",
              "    .colab-df-convert {\n",
              "      background-color: #E8F0FE;\n",
              "      border: none;\n",
              "      border-radius: 50%;\n",
              "      cursor: pointer;\n",
              "      display: none;\n",
              "      fill: #1967D2;\n",
              "      height: 32px;\n",
              "      padding: 0 0 0 0;\n",
              "      width: 32px;\n",
              "    }\n",
              "\n",
              "    .colab-df-convert:hover {\n",
              "      background-color: #E2EBFA;\n",
              "      box-shadow: 0px 1px 2px rgba(60, 64, 67, 0.3), 0px 1px 3px 1px rgba(60, 64, 67, 0.15);\n",
              "      fill: #174EA6;\n",
              "    }\n",
              "\n",
              "    .colab-df-buttons div {\n",
              "      margin-bottom: 4px;\n",
              "    }\n",
              "\n",
              "    [theme=dark] .colab-df-convert {\n",
              "      background-color: #3B4455;\n",
              "      fill: #D2E3FC;\n",
              "    }\n",
              "\n",
              "    [theme=dark] .colab-df-convert:hover {\n",
              "      background-color: #434B5C;\n",
              "      box-shadow: 0px 1px 3px 1px rgba(0, 0, 0, 0.15);\n",
              "      filter: drop-shadow(0px 1px 2px rgba(0, 0, 0, 0.3));\n",
              "      fill: #FFFFFF;\n",
              "    }\n",
              "  </style>\n",
              "\n",
              "    <script>\n",
              "      const buttonEl =\n",
              "        document.querySelector('#df-02c5efdb-a0d5-4887-959b-a11f10fea70f button.colab-df-convert');\n",
              "      buttonEl.style.display =\n",
              "        google.colab.kernel.accessAllowed ? 'block' : 'none';\n",
              "\n",
              "      async function convertToInteractive(key) {\n",
              "        const element = document.querySelector('#df-02c5efdb-a0d5-4887-959b-a11f10fea70f');\n",
              "        const dataTable =\n",
              "          await google.colab.kernel.invokeFunction('convertToInteractive',\n",
              "                                                    [key], {});\n",
              "        if (!dataTable) return;\n",
              "\n",
              "        const docLinkHtml = 'Like what you see? Visit the ' +\n",
              "          '<a target=\"_blank\" href=https://colab.research.google.com/notebooks/data_table.ipynb>data table notebook</a>'\n",
              "          + ' to learn more about interactive tables.';\n",
              "        element.innerHTML = '';\n",
              "        dataTable['output_type'] = 'display_data';\n",
              "        await google.colab.output.renderOutput(dataTable, element);\n",
              "        const docLink = document.createElement('div');\n",
              "        docLink.innerHTML = docLinkHtml;\n",
              "        element.appendChild(docLink);\n",
              "      }\n",
              "    </script>\n",
              "  </div>\n",
              "\n",
              "\n",
              "<div id=\"df-076e8240-bc6e-4b18-a0d3-9c30924c296e\">\n",
              "  <button class=\"colab-df-quickchart\" onclick=\"quickchart('df-076e8240-bc6e-4b18-a0d3-9c30924c296e')\"\n",
              "            title=\"Suggest charts\"\n",
              "            style=\"display:none;\">\n",
              "\n",
              "<svg xmlns=\"http://www.w3.org/2000/svg\" height=\"24px\"viewBox=\"0 0 24 24\"\n",
              "     width=\"24px\">\n",
              "    <g>\n",
              "        <path d=\"M19 3H5c-1.1 0-2 .9-2 2v14c0 1.1.9 2 2 2h14c1.1 0 2-.9 2-2V5c0-1.1-.9-2-2-2zM9 17H7v-7h2v7zm4 0h-2V7h2v10zm4 0h-2v-4h2v4z\"/>\n",
              "    </g>\n",
              "</svg>\n",
              "  </button>\n",
              "\n",
              "<style>\n",
              "  .colab-df-quickchart {\n",
              "      --bg-color: #E8F0FE;\n",
              "      --fill-color: #1967D2;\n",
              "      --hover-bg-color: #E2EBFA;\n",
              "      --hover-fill-color: #174EA6;\n",
              "      --disabled-fill-color: #AAA;\n",
              "      --disabled-bg-color: #DDD;\n",
              "  }\n",
              "\n",
              "  [theme=dark] .colab-df-quickchart {\n",
              "      --bg-color: #3B4455;\n",
              "      --fill-color: #D2E3FC;\n",
              "      --hover-bg-color: #434B5C;\n",
              "      --hover-fill-color: #FFFFFF;\n",
              "      --disabled-bg-color: #3B4455;\n",
              "      --disabled-fill-color: #666;\n",
              "  }\n",
              "\n",
              "  .colab-df-quickchart {\n",
              "    background-color: var(--bg-color);\n",
              "    border: none;\n",
              "    border-radius: 50%;\n",
              "    cursor: pointer;\n",
              "    display: none;\n",
              "    fill: var(--fill-color);\n",
              "    height: 32px;\n",
              "    padding: 0;\n",
              "    width: 32px;\n",
              "  }\n",
              "\n",
              "  .colab-df-quickchart:hover {\n",
              "    background-color: var(--hover-bg-color);\n",
              "    box-shadow: 0 1px 2px rgba(60, 64, 67, 0.3), 0 1px 3px 1px rgba(60, 64, 67, 0.15);\n",
              "    fill: var(--button-hover-fill-color);\n",
              "  }\n",
              "\n",
              "  .colab-df-quickchart-complete:disabled,\n",
              "  .colab-df-quickchart-complete:disabled:hover {\n",
              "    background-color: var(--disabled-bg-color);\n",
              "    fill: var(--disabled-fill-color);\n",
              "    box-shadow: none;\n",
              "  }\n",
              "\n",
              "  .colab-df-spinner {\n",
              "    border: 2px solid var(--fill-color);\n",
              "    border-color: transparent;\n",
              "    border-bottom-color: var(--fill-color);\n",
              "    animation:\n",
              "      spin 1s steps(1) infinite;\n",
              "  }\n",
              "\n",
              "  @keyframes spin {\n",
              "    0% {\n",
              "      border-color: transparent;\n",
              "      border-bottom-color: var(--fill-color);\n",
              "      border-left-color: var(--fill-color);\n",
              "    }\n",
              "    20% {\n",
              "      border-color: transparent;\n",
              "      border-left-color: var(--fill-color);\n",
              "      border-top-color: var(--fill-color);\n",
              "    }\n",
              "    30% {\n",
              "      border-color: transparent;\n",
              "      border-left-color: var(--fill-color);\n",
              "      border-top-color: var(--fill-color);\n",
              "      border-right-color: var(--fill-color);\n",
              "    }\n",
              "    40% {\n",
              "      border-color: transparent;\n",
              "      border-right-color: var(--fill-color);\n",
              "      border-top-color: var(--fill-color);\n",
              "    }\n",
              "    60% {\n",
              "      border-color: transparent;\n",
              "      border-right-color: var(--fill-color);\n",
              "    }\n",
              "    80% {\n",
              "      border-color: transparent;\n",
              "      border-right-color: var(--fill-color);\n",
              "      border-bottom-color: var(--fill-color);\n",
              "    }\n",
              "    90% {\n",
              "      border-color: transparent;\n",
              "      border-bottom-color: var(--fill-color);\n",
              "    }\n",
              "  }\n",
              "</style>\n",
              "\n",
              "  <script>\n",
              "    async function quickchart(key) {\n",
              "      const quickchartButtonEl =\n",
              "        document.querySelector('#' + key + ' button');\n",
              "      quickchartButtonEl.disabled = true;  // To prevent multiple clicks.\n",
              "      quickchartButtonEl.classList.add('colab-df-spinner');\n",
              "      try {\n",
              "        const charts = await google.colab.kernel.invokeFunction(\n",
              "            'suggestCharts', [key], {});\n",
              "      } catch (error) {\n",
              "        console.error('Error during call to suggestCharts:', error);\n",
              "      }\n",
              "      quickchartButtonEl.classList.remove('colab-df-spinner');\n",
              "      quickchartButtonEl.classList.add('colab-df-quickchart-complete');\n",
              "    }\n",
              "    (() => {\n",
              "      let quickchartButtonEl =\n",
              "        document.querySelector('#df-076e8240-bc6e-4b18-a0d3-9c30924c296e button');\n",
              "      quickchartButtonEl.style.display =\n",
              "        google.colab.kernel.accessAllowed ? 'block' : 'none';\n",
              "    })();\n",
              "  </script>\n",
              "</div>\n",
              "\n",
              "    </div>\n",
              "  </div>\n"
            ],
            "application/vnd.google.colaboratory.intrinsic+json": {
              "type": "dataframe",
              "variable_name": "df",
              "summary": "{\n  \"name\": \"df\",\n  \"rows\": 2787,\n  \"fields\": [\n    {\n      \"column\": \"Date\",\n      \"properties\": {\n        \"dtype\": \"date\",\n        \"min\": \"2013-10-01 00:00:00\",\n        \"max\": \"2021-05-18 00:00:00\",\n        \"num_unique_values\": 2787,\n        \"samples\": [\n          \"2019-06-11 00:00:00\",\n          \"2021-05-03 00:00:00\",\n          \"2017-10-05 00:00:00\"\n        ],\n        \"semantic_type\": \"\",\n        \"description\": \"\"\n      }\n    },\n    {\n      \"column\": \"Currency\",\n      \"properties\": {\n        \"dtype\": \"category\",\n        \"num_unique_values\": 1,\n        \"samples\": [\n          \"BTC\"\n        ],\n        \"semantic_type\": \"\",\n        \"description\": \"\"\n      }\n    },\n    {\n      \"column\": \"Closing Price (USD)\",\n      \"properties\": {\n        \"dtype\": \"number\",\n        \"std\": 10887.84744436952,\n        \"min\": 108.58483,\n        \"max\": 63346.7890351052,\n        \"num_unique_values\": 2787,\n        \"samples\": [\n          7954.0062377205\n        ],\n        \"semantic_type\": \"\",\n        \"description\": \"\"\n      }\n    },\n    {\n      \"column\": \"24h Open (USD)\",\n      \"properties\": {\n        \"dtype\": \"number\",\n        \"std\": 10863.80077212387,\n        \"min\": 108.58483,\n        \"max\": 63562.6735446382,\n        \"num_unique_values\": 2787,\n        \"samples\": [\n          7600.9225047785\n        ],\n        \"semantic_type\": \"\",\n        \"description\": \"\"\n      }\n    },\n    {\n      \"column\": \"24h High (USD)\",\n      \"properties\": {\n        \"dtype\": \"number\",\n        \"std\": 11206.779756254151,\n        \"min\": 118.675,\n        \"max\": 64801.787869525,\n        \"num_unique_values\": 2787,\n        \"samples\": [\n          8064.9001353225\n        ],\n        \"semantic_type\": \"\",\n        \"description\": \"\"\n      }\n    },\n    {\n      \"column\": \"24h Low (USD)\",\n      \"properties\": {\n        \"dtype\": \"number\",\n        \"std\": 10475.8112518284,\n        \"min\": 83.32833,\n        \"max\": 62094.6329143272,\n        \"num_unique_values\": 2785,\n        \"samples\": [\n          7714.610306452\n        ],\n        \"semantic_type\": \"\",\n        \"description\": \"\"\n      }\n    }\n  ]\n}"
            }
          },
          "metadata": {},
          "execution_count": 2
        }
      ]
    },
    {
      "cell_type": "code",
      "source": [
        "df.columns = ['currency', 'close', 'opne', 'high', 'low']"
      ],
      "metadata": {
        "id": "2YSilbfKANl8"
      },
      "execution_count": 3,
      "outputs": []
    },
    {
      "cell_type": "code",
      "source": [
        "df.info()"
      ],
      "metadata": {
        "colab": {
          "base_uri": "https://localhost:8080/"
        },
        "id": "sLE3-H17Ypa2",
        "outputId": "6acdf347-719b-45b3-fcc4-7136fcbb80c4"
      },
      "execution_count": 4,
      "outputs": [
        {
          "output_type": "stream",
          "name": "stdout",
          "text": [
            "<class 'pandas.core.frame.DataFrame'>\n",
            "DatetimeIndex: 2787 entries, 2013-10-01 to 2021-05-18\n",
            "Data columns (total 5 columns):\n",
            " #   Column    Non-Null Count  Dtype  \n",
            "---  ------    --------------  -----  \n",
            " 0   currency  2787 non-null   object \n",
            " 1   close     2787 non-null   float64\n",
            " 2   opne      2787 non-null   float64\n",
            " 3   high      2787 non-null   float64\n",
            " 4   low       2787 non-null   float64\n",
            "dtypes: float64(4), object(1)\n",
            "memory usage: 130.6+ KB\n"
          ]
        }
      ]
    },
    {
      "cell_type": "code",
      "source": [
        "df.columns"
      ],
      "metadata": {
        "colab": {
          "base_uri": "https://localhost:8080/"
        },
        "id": "XOHjHWmJSNF4",
        "outputId": "c89f2f3f-6ef1-46bd-fd59-4a0461582373"
      },
      "execution_count": 5,
      "outputs": [
        {
          "output_type": "execute_result",
          "data": {
            "text/plain": [
              "Index(['currency', 'close', 'opne', 'high', 'low'], dtype='object')"
            ]
          },
          "metadata": {},
          "execution_count": 5
        }
      ]
    },
    {
      "cell_type": "code",
      "source": [
        "df.isnull().sum()"
      ],
      "metadata": {
        "colab": {
          "base_uri": "https://localhost:8080/"
        },
        "id": "bhHIFS-FSVqf",
        "outputId": "0137b976-feef-4061-bffe-af5070d84507"
      },
      "execution_count": 6,
      "outputs": [
        {
          "output_type": "execute_result",
          "data": {
            "text/plain": [
              "currency    0\n",
              "close       0\n",
              "opne        0\n",
              "high        0\n",
              "low         0\n",
              "dtype: int64"
            ]
          },
          "metadata": {},
          "execution_count": 6
        }
      ]
    },
    {
      "cell_type": "code",
      "source": [
        "\n",
        "# Only want closing price for each day\n",
        "bf = pd.DataFrame(df[\"close\"]).rename(columns={\"close\": \"price\"})\n",
        "bf.head()"
      ],
      "metadata": {
        "colab": {
          "base_uri": "https://localhost:8080/",
          "height": 237
        },
        "id": "4uAVDnPE2Qg_",
        "outputId": "4f346074-1e36-4cb3-9eac-91bd7396e019"
      },
      "execution_count": 7,
      "outputs": [
        {
          "output_type": "execute_result",
          "data": {
            "text/plain": [
              "                price\n",
              "Date                 \n",
              "2013-10-01  123.65499\n",
              "2013-10-02  125.45500\n",
              "2013-10-03  108.58483\n",
              "2013-10-04  118.67466\n",
              "2013-10-05  121.33866"
            ],
            "text/html": [
              "\n",
              "  <div id=\"df-7ea8905b-2a7a-4455-b4ae-dffe92c81095\" class=\"colab-df-container\">\n",
              "    <div>\n",
              "<style scoped>\n",
              "    .dataframe tbody tr th:only-of-type {\n",
              "        vertical-align: middle;\n",
              "    }\n",
              "\n",
              "    .dataframe tbody tr th {\n",
              "        vertical-align: top;\n",
              "    }\n",
              "\n",
              "    .dataframe thead th {\n",
              "        text-align: right;\n",
              "    }\n",
              "</style>\n",
              "<table border=\"1\" class=\"dataframe\">\n",
              "  <thead>\n",
              "    <tr style=\"text-align: right;\">\n",
              "      <th></th>\n",
              "      <th>price</th>\n",
              "    </tr>\n",
              "    <tr>\n",
              "      <th>Date</th>\n",
              "      <th></th>\n",
              "    </tr>\n",
              "  </thead>\n",
              "  <tbody>\n",
              "    <tr>\n",
              "      <th>2013-10-01</th>\n",
              "      <td>123.65499</td>\n",
              "    </tr>\n",
              "    <tr>\n",
              "      <th>2013-10-02</th>\n",
              "      <td>125.45500</td>\n",
              "    </tr>\n",
              "    <tr>\n",
              "      <th>2013-10-03</th>\n",
              "      <td>108.58483</td>\n",
              "    </tr>\n",
              "    <tr>\n",
              "      <th>2013-10-04</th>\n",
              "      <td>118.67466</td>\n",
              "    </tr>\n",
              "    <tr>\n",
              "      <th>2013-10-05</th>\n",
              "      <td>121.33866</td>\n",
              "    </tr>\n",
              "  </tbody>\n",
              "</table>\n",
              "</div>\n",
              "    <div class=\"colab-df-buttons\">\n",
              "\n",
              "  <div class=\"colab-df-container\">\n",
              "    <button class=\"colab-df-convert\" onclick=\"convertToInteractive('df-7ea8905b-2a7a-4455-b4ae-dffe92c81095')\"\n",
              "            title=\"Convert this dataframe to an interactive table.\"\n",
              "            style=\"display:none;\">\n",
              "\n",
              "  <svg xmlns=\"http://www.w3.org/2000/svg\" height=\"24px\" viewBox=\"0 -960 960 960\">\n",
              "    <path d=\"M120-120v-720h720v720H120Zm60-500h600v-160H180v160Zm220 220h160v-160H400v160Zm0 220h160v-160H400v160ZM180-400h160v-160H180v160Zm440 0h160v-160H620v160ZM180-180h160v-160H180v160Zm440 0h160v-160H620v160Z\"/>\n",
              "  </svg>\n",
              "    </button>\n",
              "\n",
              "  <style>\n",
              "    .colab-df-container {\n",
              "      display:flex;\n",
              "      gap: 12px;\n",
              "    }\n",
              "\n",
              "    .colab-df-convert {\n",
              "      background-color: #E8F0FE;\n",
              "      border: none;\n",
              "      border-radius: 50%;\n",
              "      cursor: pointer;\n",
              "      display: none;\n",
              "      fill: #1967D2;\n",
              "      height: 32px;\n",
              "      padding: 0 0 0 0;\n",
              "      width: 32px;\n",
              "    }\n",
              "\n",
              "    .colab-df-convert:hover {\n",
              "      background-color: #E2EBFA;\n",
              "      box-shadow: 0px 1px 2px rgba(60, 64, 67, 0.3), 0px 1px 3px 1px rgba(60, 64, 67, 0.15);\n",
              "      fill: #174EA6;\n",
              "    }\n",
              "\n",
              "    .colab-df-buttons div {\n",
              "      margin-bottom: 4px;\n",
              "    }\n",
              "\n",
              "    [theme=dark] .colab-df-convert {\n",
              "      background-color: #3B4455;\n",
              "      fill: #D2E3FC;\n",
              "    }\n",
              "\n",
              "    [theme=dark] .colab-df-convert:hover {\n",
              "      background-color: #434B5C;\n",
              "      box-shadow: 0px 1px 3px 1px rgba(0, 0, 0, 0.15);\n",
              "      filter: drop-shadow(0px 1px 2px rgba(0, 0, 0, 0.3));\n",
              "      fill: #FFFFFF;\n",
              "    }\n",
              "  </style>\n",
              "\n",
              "    <script>\n",
              "      const buttonEl =\n",
              "        document.querySelector('#df-7ea8905b-2a7a-4455-b4ae-dffe92c81095 button.colab-df-convert');\n",
              "      buttonEl.style.display =\n",
              "        google.colab.kernel.accessAllowed ? 'block' : 'none';\n",
              "\n",
              "      async function convertToInteractive(key) {\n",
              "        const element = document.querySelector('#df-7ea8905b-2a7a-4455-b4ae-dffe92c81095');\n",
              "        const dataTable =\n",
              "          await google.colab.kernel.invokeFunction('convertToInteractive',\n",
              "                                                    [key], {});\n",
              "        if (!dataTable) return;\n",
              "\n",
              "        const docLinkHtml = 'Like what you see? Visit the ' +\n",
              "          '<a target=\"_blank\" href=https://colab.research.google.com/notebooks/data_table.ipynb>data table notebook</a>'\n",
              "          + ' to learn more about interactive tables.';\n",
              "        element.innerHTML = '';\n",
              "        dataTable['output_type'] = 'display_data';\n",
              "        await google.colab.output.renderOutput(dataTable, element);\n",
              "        const docLink = document.createElement('div');\n",
              "        docLink.innerHTML = docLinkHtml;\n",
              "        element.appendChild(docLink);\n",
              "      }\n",
              "    </script>\n",
              "  </div>\n",
              "\n",
              "\n",
              "<div id=\"df-af45aa2b-00bd-49c1-b09d-f90c49b13710\">\n",
              "  <button class=\"colab-df-quickchart\" onclick=\"quickchart('df-af45aa2b-00bd-49c1-b09d-f90c49b13710')\"\n",
              "            title=\"Suggest charts\"\n",
              "            style=\"display:none;\">\n",
              "\n",
              "<svg xmlns=\"http://www.w3.org/2000/svg\" height=\"24px\"viewBox=\"0 0 24 24\"\n",
              "     width=\"24px\">\n",
              "    <g>\n",
              "        <path d=\"M19 3H5c-1.1 0-2 .9-2 2v14c0 1.1.9 2 2 2h14c1.1 0 2-.9 2-2V5c0-1.1-.9-2-2-2zM9 17H7v-7h2v7zm4 0h-2V7h2v10zm4 0h-2v-4h2v4z\"/>\n",
              "    </g>\n",
              "</svg>\n",
              "  </button>\n",
              "\n",
              "<style>\n",
              "  .colab-df-quickchart {\n",
              "      --bg-color: #E8F0FE;\n",
              "      --fill-color: #1967D2;\n",
              "      --hover-bg-color: #E2EBFA;\n",
              "      --hover-fill-color: #174EA6;\n",
              "      --disabled-fill-color: #AAA;\n",
              "      --disabled-bg-color: #DDD;\n",
              "  }\n",
              "\n",
              "  [theme=dark] .colab-df-quickchart {\n",
              "      --bg-color: #3B4455;\n",
              "      --fill-color: #D2E3FC;\n",
              "      --hover-bg-color: #434B5C;\n",
              "      --hover-fill-color: #FFFFFF;\n",
              "      --disabled-bg-color: #3B4455;\n",
              "      --disabled-fill-color: #666;\n",
              "  }\n",
              "\n",
              "  .colab-df-quickchart {\n",
              "    background-color: var(--bg-color);\n",
              "    border: none;\n",
              "    border-radius: 50%;\n",
              "    cursor: pointer;\n",
              "    display: none;\n",
              "    fill: var(--fill-color);\n",
              "    height: 32px;\n",
              "    padding: 0;\n",
              "    width: 32px;\n",
              "  }\n",
              "\n",
              "  .colab-df-quickchart:hover {\n",
              "    background-color: var(--hover-bg-color);\n",
              "    box-shadow: 0 1px 2px rgba(60, 64, 67, 0.3), 0 1px 3px 1px rgba(60, 64, 67, 0.15);\n",
              "    fill: var(--button-hover-fill-color);\n",
              "  }\n",
              "\n",
              "  .colab-df-quickchart-complete:disabled,\n",
              "  .colab-df-quickchart-complete:disabled:hover {\n",
              "    background-color: var(--disabled-bg-color);\n",
              "    fill: var(--disabled-fill-color);\n",
              "    box-shadow: none;\n",
              "  }\n",
              "\n",
              "  .colab-df-spinner {\n",
              "    border: 2px solid var(--fill-color);\n",
              "    border-color: transparent;\n",
              "    border-bottom-color: var(--fill-color);\n",
              "    animation:\n",
              "      spin 1s steps(1) infinite;\n",
              "  }\n",
              "\n",
              "  @keyframes spin {\n",
              "    0% {\n",
              "      border-color: transparent;\n",
              "      border-bottom-color: var(--fill-color);\n",
              "      border-left-color: var(--fill-color);\n",
              "    }\n",
              "    20% {\n",
              "      border-color: transparent;\n",
              "      border-left-color: var(--fill-color);\n",
              "      border-top-color: var(--fill-color);\n",
              "    }\n",
              "    30% {\n",
              "      border-color: transparent;\n",
              "      border-left-color: var(--fill-color);\n",
              "      border-top-color: var(--fill-color);\n",
              "      border-right-color: var(--fill-color);\n",
              "    }\n",
              "    40% {\n",
              "      border-color: transparent;\n",
              "      border-right-color: var(--fill-color);\n",
              "      border-top-color: var(--fill-color);\n",
              "    }\n",
              "    60% {\n",
              "      border-color: transparent;\n",
              "      border-right-color: var(--fill-color);\n",
              "    }\n",
              "    80% {\n",
              "      border-color: transparent;\n",
              "      border-right-color: var(--fill-color);\n",
              "      border-bottom-color: var(--fill-color);\n",
              "    }\n",
              "    90% {\n",
              "      border-color: transparent;\n",
              "      border-bottom-color: var(--fill-color);\n",
              "    }\n",
              "  }\n",
              "</style>\n",
              "\n",
              "  <script>\n",
              "    async function quickchart(key) {\n",
              "      const quickchartButtonEl =\n",
              "        document.querySelector('#' + key + ' button');\n",
              "      quickchartButtonEl.disabled = true;  // To prevent multiple clicks.\n",
              "      quickchartButtonEl.classList.add('colab-df-spinner');\n",
              "      try {\n",
              "        const charts = await google.colab.kernel.invokeFunction(\n",
              "            'suggestCharts', [key], {});\n",
              "      } catch (error) {\n",
              "        console.error('Error during call to suggestCharts:', error);\n",
              "      }\n",
              "      quickchartButtonEl.classList.remove('colab-df-spinner');\n",
              "      quickchartButtonEl.classList.add('colab-df-quickchart-complete');\n",
              "    }\n",
              "    (() => {\n",
              "      let quickchartButtonEl =\n",
              "        document.querySelector('#df-af45aa2b-00bd-49c1-b09d-f90c49b13710 button');\n",
              "      quickchartButtonEl.style.display =\n",
              "        google.colab.kernel.accessAllowed ? 'block' : 'none';\n",
              "    })();\n",
              "  </script>\n",
              "</div>\n",
              "\n",
              "    </div>\n",
              "  </div>\n"
            ],
            "application/vnd.google.colaboratory.intrinsic+json": {
              "type": "dataframe",
              "variable_name": "bf",
              "summary": "{\n  \"name\": \"bf\",\n  \"rows\": 2787,\n  \"fields\": [\n    {\n      \"column\": \"Date\",\n      \"properties\": {\n        \"dtype\": \"date\",\n        \"min\": \"2013-10-01 00:00:00\",\n        \"max\": \"2021-05-18 00:00:00\",\n        \"num_unique_values\": 2787,\n        \"samples\": [\n          \"2019-06-11 00:00:00\",\n          \"2021-05-03 00:00:00\",\n          \"2017-10-05 00:00:00\"\n        ],\n        \"semantic_type\": \"\",\n        \"description\": \"\"\n      }\n    },\n    {\n      \"column\": \"price\",\n      \"properties\": {\n        \"dtype\": \"number\",\n        \"std\": 10887.84744436952,\n        \"min\": 108.58483,\n        \"max\": 63346.7890351052,\n        \"num_unique_values\": 2787,\n        \"samples\": [\n          7954.0062377205,\n          56427.0431250152,\n          4186.78374\n        ],\n        \"semantic_type\": \"\",\n        \"description\": \"\"\n      }\n    }\n  ]\n}"
            }
          },
          "metadata": {},
          "execution_count": 7
        }
      ]
    },
    {
      "cell_type": "code",
      "source": [
        "import matplotlib.pyplot as plt\n",
        "plt.figure(figsize=(20, 8))\n",
        "plt.plot(df.index[-150:], df['close'][-150:])"
      ],
      "metadata": {
        "colab": {
          "base_uri": "https://localhost:8080/",
          "height": 470
        },
        "id": "pvfy7k4ASXJV",
        "outputId": "dfc92660-6c9a-43ef-905d-5800effd8b94"
      },
      "execution_count": 8,
      "outputs": [
        {
          "output_type": "execute_result",
          "data": {
            "text/plain": [
              "[<matplotlib.lines.Line2D at 0x7871053b8a00>]"
            ]
          },
          "metadata": {},
          "execution_count": 8
        },
        {
          "output_type": "display_data",
          "data": {
            "text/plain": [
              "<Figure size 2000x800 with 1 Axes>"
            ],
            "image/png": "[encoded data removed]"
          },
          "metadata": {}
        }
      ]
    },
    {
      "cell_type": "markdown",
      "source": [
        "##Split the dataset"
      ],
      "metadata": {
        "id": "7XFwFJt2_HLs"
      }
    },
    {
      "cell_type": "code",
      "source": [
        "# Create a function to plot time series data\n",
        "def plot_time_series(timesteps, values, format='.', start=0, end=None, label=None):\n",
        "  \"\"\"\n",
        "  Plots a timesteps (a series of points in time) against values (a series of values across timesteps).\n",
        "\n",
        "  Parameters\n",
        "  ---------\n",
        "  timesteps : array of timesteps\n",
        "  values : array of values across time\n",
        "  format : style of plot, default \".\"\n",
        "  start : where to start the plot (setting a value will index from start of timesteps & values)\n",
        "  end : where to end the plot (setting a value will index from end of timesteps & values)\n",
        "  label : label to show on plot of values\n",
        "  \"\"\"\n",
        "  # Plot the series\n",
        "  plt.plot(timesteps[start:end], values[start:end], format, label=label)\n",
        "  plt.xlabel(\"Time\")\n",
        "  plt.ylabel(\"BTC Price\")\n",
        "  if label:\n",
        "    plt.legend(fontsize=14) # make label bigger\n",
        "  plt.grid(True)"
      ],
      "metadata": {
        "id": "D4Tk7l3fnTAP"
      },
      "execution_count": 9,
      "outputs": []
    },
    {
      "cell_type": "code",
      "source": [
        "from sklearn.model_selection import train_test_split\n",
        "\n",
        "X = df.index\n",
        "y = df.close\n",
        "\n",
        "X_train, X_test, y_train, y_test = train_test_split(X, y, test_size=0.2, random_state=42, shuffle=False)\n",
        "len(X_train), len(X_test)"
      ],
      "metadata": {
        "colab": {
          "base_uri": "https://localhost:8080/"
        },
        "id": "0g8IH8xQSpck",
        "outputId": "bb25218a-4457-44f6-899e-f1affdbfac79"
      },
      "execution_count": 10,
      "outputs": [
        {
          "output_type": "execute_result",
          "data": {
            "text/plain": [
              "(2229, 558)"
            ]
          },
          "metadata": {},
          "execution_count": 10
        }
      ]
    },
    {
      "cell_type": "code",
      "source": [
        "plt.figure(figsize=(15, 5))\n",
        "plot_time_series(X_train, y_train)\n",
        "plot_time_series(X_test, y_test)"
      ],
      "metadata": {
        "colab": {
          "base_uri": "https://localhost:8080/",
          "height": 399
        },
        "id": "O6vXWOglBkyx",
        "outputId": "ef1803e8-0522-4be2-8100-baee429029d1"
      },
      "execution_count": 11,
      "outputs": [
        {
          "output_type": "display_data",
          "data": {
            "text/plain": [
              "<Figure size 1500x500 with 1 Axes>"
            ],
            "image/png": "[encoded data removed]"
          },
          "metadata": {}
        }
      ]
    },
    {
      "cell_type": "markdown",
      "source": [
        "##Model Experiments\n",
        "\n",
        "Termes to be fimilier with:\n",
        "* **Horizen**: number of timesteps into the future we're going to predict.\n",
        "* **Window size**: number of timesteps we are going to use to predict.\n",
        "\n",
        "Models:\n",
        "* 1.Naive Bayes (baseline)\n",
        "* 2.Dense Model (Horizen=1, window=7)\n",
        "* 3.Same as Model2 (Horizen=1, window=30)\n",
        "* 4.Same as Model2 (Horizen=7, window=30)\n",
        "* 5.Conv1D\n",
        "* 6.LSTM\n",
        "* 7.Same as Model 2 but with multivariet data\n",
        "* 8.N-BEATS algorithm\n",
        "* 9.Ensemble (multiple models stacked togather)\n",
        "* 10.Future prediction model\n",
        "* 11.Same as Model 1"
      ],
      "metadata": {
        "id": "mMiwhNUIal_C"
      }
    },
    {
      "cell_type": "markdown",
      "source": [
        "### Model_1 Naive Bayes Model\n",
        "\n",
        "Formula:\n",
        "$$\\hat{y}_{t} = y_{t-1}$$\n",
        "\n",
        "> The prediction at timestep t (y-hat) is equal to the value at timestep t-1 (previous timestep) - This is the Horizen of 1."
      ],
      "metadata": {
        "id": "IHLa2HRybrum"
      }
    },
    {
      "cell_type": "code",
      "source": [
        "# Create a naïve forecast\n",
        "naive_forecast = y_test[:-1] # Naïve forecast equals every value excluding the last value\n",
        "naive_forecast[:10], naive_forecast[-10:] # View frist 10 and last 10"
      ],
      "metadata": {
        "colab": {
          "base_uri": "https://localhost:8080/"
        },
        "id": "XNYjJgDxhWPH",
        "outputId": "e18aa791-1c8f-4c86-deeb-988280232dd2"
      },
      "execution_count": 12,
      "outputs": [
        {
          "output_type": "execute_result",
          "data": {
            "text/plain": [
              "(Date\n",
              " 2019-11-08    9226.485821\n",
              " 2019-11-09    8794.358645\n",
              " 2019-11-10    8798.042055\n",
              " 2019-11-11    9081.186878\n",
              " 2019-11-12    8711.534339\n",
              " 2019-11-13    8760.892718\n",
              " 2019-11-14    8749.520591\n",
              " 2019-11-15    8656.970922\n",
              " 2019-11-16    8500.643558\n",
              " 2019-11-17    8469.260899\n",
              " Name: close, dtype: float64,\n",
              " Date\n",
              " 2021-05-08    57107.120672\n",
              " 2021-05-09    58788.209679\n",
              " 2021-05-10    58102.191426\n",
              " 2021-05-11    55715.546651\n",
              " 2021-05-12    56573.555472\n",
              " 2021-05-13    52147.821187\n",
              " 2021-05-14    49764.132082\n",
              " 2021-05-15    50032.693137\n",
              " 2021-05-16    47885.625255\n",
              " 2021-05-17    45604.615754\n",
              " Name: close, dtype: float64)"
            ]
          },
          "metadata": {},
          "execution_count": 12
        }
      ]
    },
    {
      "cell_type": "code",
      "source": [
        "# Plot naive forecast\n",
        "plt.figure(figsize=(15, 5))\n",
        "# plot_time_series(timesteps=X_train, values=y_train, label=\"Train data\")\n",
        "plot_time_series(timesteps=X_test, start=300, values=y_test, label=\"Test data\")\n",
        "plot_time_series(timesteps=X_test[1:], start=300, values=naive_forecast, format=\"-\", label=\"Naive forecast\")"
      ],
      "metadata": {
        "colab": {
          "base_uri": "https://localhost:8080/",
          "height": 399
        },
        "id": "klpjgBqqhxI4",
        "outputId": "b175e02a-a535-4d19-f5fa-c82a23e0a84e"
      },
      "execution_count": 13,
      "outputs": [
        {
          "output_type": "display_data",
          "data": {
            "text/plain": [
              "<Figure size 1500x500 with 1 Axes>"
            ],
            "image/png": "[encoded data removed]"
          },
          "metadata": {}
        }
      ]
    },
    {
      "cell_type": "markdown",
      "source": [
        "### Some common Evaluating metrics\n",
        "* MAE - Mean Absolute error\n",
        "* MSE - Mean Squared error\n",
        "* Root MSE - root(MSE)\n",
        "* Mean Absolute Percentage Error\n",
        "* Mean Absolute Scaled Error (MASE)\n",
        "\n",
        ">Resourse: https://otexts.com/fpp3/accuracy.html#percentage-errors\n"
      ],
      "metadata": {
        "id": "qJ3KsfxKn1F6"
      }
    },
    {
      "cell_type": "code",
      "source": [
        "import tensorflow as tf"
      ],
      "metadata": {
        "id": "_aVkCDQ8pbwL"
      },
      "execution_count": 14,
      "outputs": []
    },
    {
      "cell_type": "code",
      "source": [
        "# MASE implemented courtesy of sktime - https://github.com/alan-turing-institute/sktime/blob/ee7a06843a44f4aaec7582d847e36073a9ab0566/sktime/performance_metrics/forecasting/_functions.py#L16\n",
        "def mean_absolute_scaled_error(y_true, y_pred):\n",
        "  \"\"\"\n",
        "  Implement MASE (assuming no seasonality of data).\n",
        "  \"\"\"\n",
        "  mae = tf.reduce_mean(tf.abs(y_true - y_pred))\n",
        "\n",
        "  # Find MAE of naive forecast (no seasonality)\n",
        "  mae_naive_no_season = tf.reduce_mean(tf.abs(y_true[1:] - y_true[:-1])) # our seasonality is 1 day (hence the shifting of 1 day)\n",
        "\n",
        "  return mae / mae_naive_no_season"
      ],
      "metadata": {
        "id": "8rtTlFfTsVur"
      },
      "execution_count": 15,
      "outputs": []
    },
    {
      "cell_type": "code",
      "source": [
        "mean_absolute_scaled_error(y_test[1:].values, naive_forecast.values).numpy()"
      ],
      "metadata": {
        "colab": {
          "base_uri": "https://localhost:8080/"
        },
        "id": "CXzu_5YVt-gp",
        "outputId": "796eb34d-836f-4e56-e70e-cd0cbcc985c0"
      },
      "execution_count": 16,
      "outputs": [
        {
          "output_type": "execute_result",
          "data": {
            "text/plain": [
              "0.9995699939182624"
            ]
          },
          "metadata": {},
          "execution_count": 16
        }
      ]
    },
    {
      "cell_type": "code",
      "source": [
        "## Creating the evaluation matrix function\n",
        "def calculate_evaluation_metrics(y_true, y_pred):\n",
        "  y_true = tf.cast(y_true, dtype=tf.float32)\n",
        "  y_pred = tf.cast(y_pred, dtype=tf.float32)\n",
        "\n",
        "  mae = tf.keras.metrics.mean_absolute_error(y_true, y_pred)\n",
        "  mse = tf.keras.metrics.mean_squared_error(y_true, y_pred)\n",
        "  rmse = tf.sqrt(mse)\n",
        "  mape = tf.keras.metrics.mean_absolute_percentage_error(y_true, y_pred)\n",
        "  mase = mean_absolute_scaled_error(y_true, y_pred)\n",
        "\n",
        "  return {\"mae\": mae.numpy(),\n",
        "          \"mse\": mse.numpy(),\n",
        "          \"rmse\": rmse.numpy(),\n",
        "          \"mape\": mape.numpy(),\n",
        "          \"mase\": mase.numpy()}"
      ],
      "metadata": {
        "id": "hQaUFkSszH7s"
      },
      "execution_count": 17,
      "outputs": []
    },
    {
      "cell_type": "code",
      "source": [
        "calculate_evaluation_metrics(y_test[1:].values, naive_forecast.values)"
      ],
      "metadata": {
        "colab": {
          "base_uri": "https://localhost:8080/"
        },
        "id": "ISkq8W7K0-VH",
        "outputId": "e690551a-c1d6-4817-bdde-b300d931c3e9"
      },
      "execution_count": 18,
      "outputs": [
        {
          "output_type": "execute_result",
          "data": {
            "text/plain": [
              "{'mae': 567.9802,\n",
              " 'mse': 1147547.0,\n",
              " 'rmse': 1071.2362,\n",
              " 'mape': 2.5165248,\n",
              " 'mase': 0.99957}"
            ]
          },
          "metadata": {},
          "execution_count": 18
        }
      ]
    },
    {
      "cell_type": "markdown",
      "source": [
        "## Format Dataset: Windowing our dataset"
      ],
      "metadata": {
        "id": "ORQtxy091O3k"
      }
    },
    {
      "cell_type": "code",
      "source": [
        "btc_price = df.close.to_numpy()"
      ],
      "metadata": {
        "id": "_EqXeWfZhs2K"
      },
      "execution_count": 19,
      "outputs": []
    },
    {
      "cell_type": "code",
      "source": [
        "btc_price"
      ],
      "metadata": {
        "colab": {
          "base_uri": "https://localhost:8080/"
        },
        "id": "U448qqkUjwCt",
        "outputId": "07ff8995-2f39-4d5c-f478-311a765c1c0d"
      },
      "execution_count": 20,
      "outputs": [
        {
          "output_type": "execute_result",
          "data": {
            "text/plain": [
              "array([  123.65499   ,   125.455     ,   108.58483   , ...,\n",
              "       47885.62525472, 45604.61575361, 43144.47129086])"
            ]
          },
          "metadata": {},
          "execution_count": 20
        }
      ]
    },
    {
      "cell_type": "code",
      "source": [
        "print(f\"We want to use {btc_price[:7]}, to predict this: {btc_price[7]}\")"
      ],
      "metadata": {
        "colab": {
          "base_uri": "https://localhost:8080/"
        },
        "id": "aNpIncrmj1vJ",
        "outputId": "4c3b00fa-3671-4ff8-bfea-5df810195d12"
      },
      "execution_count": 21,
      "outputs": [
        {
          "output_type": "stream",
          "name": "stdout",
          "text": [
            "We want to use [123.65499 125.455   108.58483 118.67466 121.33866 120.65533 121.795  ], to predict this: 123.033\n"
          ]
        }
      ]
    },
    {
      "cell_type": "code",
      "source": [
        "HORIZON = 1\n",
        "WINDOW = 7"
      ],
      "metadata": {
        "id": "LARLyMqJkEc7"
      },
      "execution_count": 22,
      "outputs": []
    },
    {
      "cell_type": "code",
      "source": [
        "def get_labelled_window(x, horizon=HORIZON):\n",
        "  return x[:, :-horizon], x[: , -horizon:]"
      ],
      "metadata": {
        "id": "18fePNr6kVrN"
      },
      "execution_count": 23,
      "outputs": []
    },
    {
      "cell_type": "code",
      "source": [
        "data, label = get_labelled_window(tf.expand_dims(tf.range(8), axis=0))"
      ],
      "metadata": {
        "id": "bxq86FOdlNTe"
      },
      "execution_count": 24,
      "outputs": []
    },
    {
      "cell_type": "code",
      "source": [
        "tf.squeeze(data[0]).numpy(), tf.squeeze(label[0]).numpy()"
      ],
      "metadata": {
        "colab": {
          "base_uri": "https://localhost:8080/"
        },
        "id": "UTa4N-m1mmmx",
        "outputId": "ecfa51a4-5d56-466b-f52e-619ac6553a2d"
      },
      "execution_count": 25,
      "outputs": [
        {
          "output_type": "execute_result",
          "data": {
            "text/plain": [
              "(array([0, 1, 2, 3, 4, 5, 6], dtype=int32), 7)"
            ]
          },
          "metadata": {},
          "execution_count": 25
        }
      ]
    },
    {
      "cell_type": "code",
      "source": [
        "data = tf.squeeze(data).numpy()\n",
        "label = tf.squeeze(label).numpy()"
      ],
      "metadata": {
        "id": "5TuQrWIJnMuc"
      },
      "execution_count": 26,
      "outputs": []
    },
    {
      "cell_type": "code",
      "source": [
        "data, label"
      ],
      "metadata": {
        "id": "1Nmz2HTBnYew",
        "outputId": "f825783a-0b5e-4f78-8d6b-fdc60cda2626",
        "colab": {
          "base_uri": "https://localhost:8080/"
        }
      },
      "execution_count": 27,
      "outputs": [
        {
          "output_type": "execute_result",
          "data": {
            "text/plain": [
              "(array([0, 1, 2, 3, 4, 5, 6], dtype=int32), 7)"
            ]
          },
          "metadata": {},
          "execution_count": 27
        }
      ]
    },
    {
      "cell_type": "code",
      "source": [
        "prices = btc_price"
      ],
      "metadata": {
        "id": "A5nOsPmVJmDT"
      },
      "execution_count": 28,
      "outputs": []
    },
    {
      "cell_type": "code",
      "source": [
        "import numpy as np\n",
        "# Create function to view NumPy arrays as windows\n",
        "def make_windows(x, window_size=7, horizon=1):\n",
        "  \"\"\"\n",
        "  Turns a 1D array into a 2D array of sequential windows of window_size.\n",
        "  \"\"\"\n",
        "  # 1. Create a window of specific window_size (add the horizon on the end for later labelling)\n",
        "  window_step = np.expand_dims(np.arange(window_size+horizon), axis=0)\n",
        "  # print(f\"Window step:\\n {window_step}\")\n",
        "\n",
        "  # 2. Create a 2D array of multiple window steps (minus 1 to account for 0 indexing)\n",
        "  window_indexes = window_step + np.expand_dims(np.arange(len(x)-(window_size+horizon-1)), axis=0).T # create 2D array of windows of size window_size\n",
        "  # print(f\"Window indexes:\\n {window_indexes[:3], window_indexes[-3:], window_indexes.shape}\")\n",
        "\n",
        "  # 3. Index on the target array (time series) with 2D array of multiple window steps\n",
        "  windowed_array = x[window_indexes]\n",
        "\n",
        "  # 4. Get the labelled windows\n",
        "  windows, labels = get_labelled_window(windowed_array, horizon=horizon)\n",
        "\n",
        "  return windows, labels"
      ],
      "metadata": {
        "id": "L8EqMnbglrEx"
      },
      "execution_count": 29,
      "outputs": []
    },
    {
      "cell_type": "code",
      "source": [
        "full_windows, full_labels = make_windows(btc_price, window_size=WINDOW, horizon=HORIZON)\n",
        "len(full_windows), len(full_labels)"
      ],
      "metadata": {
        "colab": {
          "base_uri": "https://localhost:8080/"
        },
        "id": "FLvI7Sn7_VkT",
        "outputId": "05858f3c-6e8a-4378-d5ae-bb6c47e54cb4"
      },
      "execution_count": 30,
      "outputs": [
        {
          "output_type": "execute_result",
          "data": {
            "text/plain": [
              "(2780, 2780)"
            ]
          },
          "metadata": {},
          "execution_count": 30
        }
      ]
    },
    {
      "cell_type": "code",
      "source": [
        "## View first 3\n",
        "for i in range(3):\n",
        "  print(full_windows[i], full_labels[i])"
      ],
      "metadata": {
        "colab": {
          "base_uri": "https://localhost:8080/"
        },
        "id": "G9bWisUEIUjV",
        "outputId": "c3adfa99-f2fb-48a3-fa49-d36c50fd4659"
      },
      "execution_count": 31,
      "outputs": [
        {
          "output_type": "stream",
          "name": "stdout",
          "text": [
            "[123.65499 125.455   108.58483 118.67466 121.33866 120.65533 121.795  ] [123.033]\n",
            "[125.455   108.58483 118.67466 121.33866 120.65533 121.795   123.033  ] [124.049]\n",
            "[108.58483 118.67466 121.33866 120.65533 121.795   123.033   124.049  ] [125.96116]\n"
          ]
        }
      ]
    },
    {
      "cell_type": "markdown",
      "source": [
        "### Turning the windows and labels into train_data and test_data\n"
      ],
      "metadata": {
        "id": "hjGgN44uMNtu"
      }
    },
    {
      "cell_type": "code",
      "source": [
        "from sklearn.model_selection import train_test_split\n",
        "X_train, X_test, y_train, y_test = train_test_split(full_windows, full_labels, test_size=0.2, shuffle=False)\n",
        "len(X_train), len(X_test)"
      ],
      "metadata": {
        "colab": {
          "base_uri": "https://localhost:8080/"
        },
        "id": "7FAQx-A2Lk2e",
        "outputId": "b0aaf5bc-ddd5-475d-bb22-f7b1734735f7"
      },
      "execution_count": 32,
      "outputs": [
        {
          "output_type": "execute_result",
          "data": {
            "text/plain": [
              "(2224, 556)"
            ]
          },
          "metadata": {},
          "execution_count": 32
        }
      ]
    },
    {
      "cell_type": "markdown",
      "source": [
        "### Building model checkpoint"
      ],
      "metadata": {
        "id": "TDEHWJz6Mtas"
      }
    },
    {
      "cell_type": "code",
      "source": [
        "import os\n",
        "def model_checkpoint(model_name, path='model_experiment'):\n",
        "  return tf.keras.callbacks.ModelCheckpoint(os.path.join(path, model_name),\n",
        "                                            save_best_only=True,\n",
        "                                            save_freq='epoch')"
      ],
      "metadata": {
        "id": "pyeJPVzOPLYv"
      },
      "execution_count": 33,
      "outputs": []
    },
    {
      "cell_type": "markdown",
      "source": [
        "## Model_1: Dense model with window=7, horizon=1"
      ],
      "metadata": {
        "id": "7J8Ga8khTgQG"
      }
    },
    {
      "cell_type": "code",
      "source": [
        "tf.random.set_seed(42)\n",
        "\n",
        "model = tf.keras.models.Sequential([\n",
        "    tf.keras.layers.Dense(units = 128, activation='relu'),\n",
        "    tf.keras.layers.Dense(units=HORIZON, activation='linear')\n",
        "])\n",
        "\n",
        "model.compile(loss='mae',\n",
        "              optimizer='Adam',\n",
        "              metrics=['mae', 'mse'])\n",
        "\n",
        "history_1 = model.fit(X_train,\n",
        "                      y_train,\n",
        "                      epochs=100,\n",
        "                      batch_size=128,\n",
        "                      validation_data=(X_test, y_test),\n",
        "                      callbacks=[model_checkpoint('model_1')])"
      ],
      "metadata": {
        "colab": {
          "base_uri": "https://localhost:8080/"
        },
        "id": "Edf98WsmQG3J",
        "outputId": "aca5b044-cb5e-4b68-b85f-5753d91c552f"
      },
      "execution_count": 39,
      "outputs": [
        {
          "output_type": "stream",
          "name": "stdout",
          "text": [
            "Epoch 1/100\n",
            "18/18 [==============================] - 2s 60ms/step - loss: 2565.2300 - mae: 2565.2300 - mse: 18144550.0000 - val_loss: 4396.7793 - val_mae: 4396.7793 - val_mse: 36622360.0000\n",
            "Epoch 2/100\n",
            "18/18 [==============================] - 1s 46ms/step - loss: 394.3557 - mae: 394.3557 - mse: 565240.3750 - val_loss: 1190.3075 - val_mae: 1190.3075 - val_mse: 4275737.0000\n",
            "Epoch 3/100\n",
            "18/18 [==============================] - 1s 45ms/step - loss: 233.8505 - mae: 233.8505 - mse: 257902.3906 - val_loss: 1100.4971 - val_mae: 1100.4971 - val_mse: 4047751.2500\n",
            "Epoch 4/100\n",
            "18/18 [==============================] - 1s 72ms/step - loss: 196.8823 - mae: 196.8823 - mse: 201296.2656 - val_loss: 1069.0731 - val_mae: 1069.0731 - val_mse: 3817021.2500\n",
            "Epoch 5/100\n",
            "18/18 [==============================] - 1s 34ms/step - loss: 189.6852 - mae: 189.6852 - mse: 189628.7812 - val_loss: 1050.2916 - val_mae: 1050.2916 - val_mse: 3573818.7500\n",
            "Epoch 6/100\n",
            "18/18 [==============================] - 1s 31ms/step - loss: 183.6082 - mae: 183.6082 - mse: 179187.6406 - val_loss: 1001.2255 - val_mae: 1001.2255 - val_mse: 3371076.2500\n",
            "Epoch 7/100\n",
            "18/18 [==============================] - 0s 6ms/step - loss: 176.3730 - mae: 176.3730 - mse: 166322.9688 - val_loss: 1016.2379 - val_mae: 1016.2379 - val_mse: 3201716.5000\n",
            "Epoch 8/100\n",
            "18/18 [==============================] - 1s 34ms/step - loss: 170.5103 - mae: 170.5103 - mse: 157122.3125 - val_loss: 941.6205 - val_mae: 941.6205 - val_mse: 2930037.7500\n",
            "Epoch 9/100\n",
            "18/18 [==============================] - 1s 39ms/step - loss: 167.6938 - mae: 167.6938 - mse: 151569.5000 - val_loss: 934.3941 - val_mae: 934.3941 - val_mse: 2768540.5000\n",
            "Epoch 10/100\n",
            "18/18 [==============================] - 1s 33ms/step - loss: 162.5195 - mae: 162.5195 - mse: 146037.0469 - val_loss: 906.5132 - val_mae: 906.5132 - val_mse: 2624705.2500\n",
            "Epoch 11/100\n",
            "18/18 [==============================] - 1s 31ms/step - loss: 156.0453 - mae: 156.0453 - mse: 133984.9062 - val_loss: 870.4254 - val_mae: 870.4254 - val_mse: 2482821.5000\n",
            "Epoch 12/100\n",
            "18/18 [==============================] - 0s 4ms/step - loss: 151.9816 - mae: 151.9816 - mse: 128899.9688 - val_loss: 902.7998 - val_mae: 902.7998 - val_mse: 2492753.0000\n",
            "Epoch 13/100\n",
            "18/18 [==============================] - 0s 4ms/step - loss: 151.3500 - mae: 151.3500 - mse: 128768.6484 - val_loss: 910.2910 - val_mae: 910.2910 - val_mse: 2468978.2500\n",
            "Epoch 14/100\n",
            "18/18 [==============================] - 1s 30ms/step - loss: 148.2667 - mae: 148.2667 - mse: 120806.4453 - val_loss: 862.7651 - val_mae: 862.7651 - val_mse: 2278198.2500\n",
            "Epoch 15/100\n",
            "18/18 [==============================] - 1s 30ms/step - loss: 144.0698 - mae: 144.0698 - mse: 116180.3516 - val_loss: 812.2023 - val_mae: 812.2023 - val_mse: 2069613.6250\n",
            "Epoch 16/100\n",
            "18/18 [==============================] - 1s 32ms/step - loss: 138.2768 - mae: 138.2768 - mse: 108886.2656 - val_loss: 793.0706 - val_mae: 793.0706 - val_mse: 1979166.6250\n",
            "Epoch 17/100\n",
            "18/18 [==============================] - 0s 5ms/step - loss: 137.1111 - mae: 137.1111 - mse: 106597.1641 - val_loss: 837.9244 - val_mae: 837.9244 - val_mse: 2068732.3750\n",
            "Epoch 18/100\n",
            "18/18 [==============================] - 0s 5ms/step - loss: 138.4854 - mae: 138.4854 - mse: 108199.9531 - val_loss: 793.9854 - val_mae: 793.9854 - val_mse: 1919143.8750\n",
            "Epoch 19/100\n",
            "18/18 [==============================] - 1s 30ms/step - loss: 132.5969 - mae: 132.5969 - mse: 101000.9219 - val_loss: 792.8408 - val_mae: 792.8408 - val_mse: 1894127.3750\n",
            "Epoch 20/100\n",
            "18/18 [==============================] - 1s 31ms/step - loss: 132.3839 - mae: 132.3839 - mse: 101022.5547 - val_loss: 724.5255 - val_mae: 724.5255 - val_mse: 1714065.8750\n",
            "Epoch 21/100\n",
            "18/18 [==============================] - 0s 5ms/step - loss: 135.8116 - mae: 135.8116 - mse: 103699.3906 - val_loss: 739.5359 - val_mae: 739.5359 - val_mse: 1717125.1250\n",
            "Epoch 22/100\n",
            "18/18 [==============================] - 0s 4ms/step - loss: 129.7746 - mae: 129.7746 - mse: 96026.7734 - val_loss: 742.0849 - val_mae: 742.0849 - val_mse: 1705546.0000\n",
            "Epoch 23/100\n",
            "18/18 [==============================] - 1s 31ms/step - loss: 130.8139 - mae: 130.8139 - mse: 96098.1562 - val_loss: 720.0536 - val_mae: 720.0536 - val_mse: 1639766.7500\n",
            "Epoch 24/100\n",
            "18/18 [==============================] - 1s 30ms/step - loss: 126.2509 - mae: 126.2509 - mse: 92146.0547 - val_loss: 685.1731 - val_mae: 685.1731 - val_mse: 1576178.2500\n",
            "Epoch 25/100\n",
            "18/18 [==============================] - 1s 31ms/step - loss: 125.3489 - mae: 125.3489 - mse: 89911.7734 - val_loss: 675.7745 - val_mae: 675.7745 - val_mse: 1559651.6250\n",
            "Epoch 26/100\n",
            "18/18 [==============================] - 1s 31ms/step - loss: 128.3211 - mae: 128.3211 - mse: 91364.5391 - val_loss: 675.6967 - val_mae: 675.6967 - val_mse: 1564551.0000\n",
            "Epoch 27/100\n",
            "18/18 [==============================] - 0s 4ms/step - loss: 125.6155 - mae: 125.6155 - mse: 90001.1875 - val_loss: 690.8558 - val_mae: 690.8558 - val_mse: 1523725.6250\n",
            "Epoch 28/100\n",
            "18/18 [==============================] - 1s 31ms/step - loss: 121.9634 - mae: 121.9634 - mse: 85644.6484 - val_loss: 661.1481 - val_mae: 661.1481 - val_mse: 1469098.8750\n",
            "Epoch 29/100\n",
            "18/18 [==============================] - 1s 29ms/step - loss: 120.5965 - mae: 120.5965 - mse: 85211.7500 - val_loss: 654.0201 - val_mae: 654.0201 - val_mse: 1445140.5000\n",
            "Epoch 30/100\n",
            "18/18 [==============================] - 1s 43ms/step - loss: 123.2275 - mae: 123.2275 - mse: 86098.1562 - val_loss: 649.8134 - val_mae: 649.8134 - val_mse: 1430791.2500\n",
            "Epoch 31/100\n",
            "18/18 [==============================] - 0s 8ms/step - loss: 119.4648 - mae: 119.4648 - mse: 83027.5547 - val_loss: 695.9648 - val_mae: 695.9648 - val_mse: 1508536.2500\n",
            "Epoch 32/100\n",
            "18/18 [==============================] - 0s 9ms/step - loss: 120.4757 - mae: 120.4757 - mse: 85428.7500 - val_loss: 653.1117 - val_mae: 653.1117 - val_mse: 1412967.2500\n",
            "Epoch 33/100\n",
            "18/18 [==============================] - 0s 11ms/step - loss: 118.5086 - mae: 118.5086 - mse: 81872.0703 - val_loss: 665.3062 - val_mae: 665.3062 - val_mse: 1429819.3750\n",
            "Epoch 34/100\n",
            "18/18 [==============================] - 1s 51ms/step - loss: 120.1127 - mae: 120.1127 - mse: 84996.9297 - val_loss: 632.2251 - val_mae: 632.2251 - val_mse: 1370045.5000\n",
            "Epoch 35/100\n",
            "18/18 [==============================] - 0s 7ms/step - loss: 116.7708 - mae: 116.7708 - mse: 81477.3203 - val_loss: 634.1144 - val_mae: 634.1144 - val_mse: 1361402.7500\n",
            "Epoch 36/100\n",
            "18/18 [==============================] - 1s 45ms/step - loss: 118.5473 - mae: 118.5473 - mse: 80675.5000 - val_loss: 629.5373 - val_mae: 629.5373 - val_mse: 1348850.1250\n",
            "Epoch 37/100\n",
            "18/18 [==============================] - 1s 37ms/step - loss: 116.5332 - mae: 116.5332 - mse: 81565.1562 - val_loss: 623.4769 - val_mae: 623.4769 - val_mse: 1336635.6250\n",
            "Epoch 38/100\n",
            "18/18 [==============================] - 0s 5ms/step - loss: 115.2335 - mae: 115.2335 - mse: 79419.1797 - val_loss: 636.0500 - val_mae: 636.0500 - val_mse: 1347404.3750\n",
            "Epoch 39/100\n",
            "18/18 [==============================] - 0s 4ms/step - loss: 118.4610 - mae: 118.4610 - mse: 81505.4766 - val_loss: 657.2784 - val_mae: 657.2784 - val_mse: 1452918.0000\n",
            "Epoch 40/100\n",
            "18/18 [==============================] - 1s 33ms/step - loss: 113.9342 - mae: 113.9342 - mse: 78927.2031 - val_loss: 612.3293 - val_mae: 612.3293 - val_mse: 1302849.5000\n",
            "Epoch 41/100\n",
            "18/18 [==============================] - 0s 5ms/step - loss: 115.7878 - mae: 115.7878 - mse: 78625.3906 - val_loss: 616.0569 - val_mae: 616.0569 - val_mse: 1322768.7500\n",
            "Epoch 42/100\n",
            "18/18 [==============================] - 0s 5ms/step - loss: 120.3779 - mae: 120.3779 - mse: 82876.7578 - val_loss: 639.9549 - val_mae: 639.9549 - val_mse: 1343256.0000\n",
            "Epoch 43/100\n",
            "18/18 [==============================] - 0s 5ms/step - loss: 119.4682 - mae: 119.4682 - mse: 78131.3438 - val_loss: 660.4429 - val_mae: 660.4429 - val_mse: 1449513.7500\n",
            "Epoch 44/100\n",
            "18/18 [==============================] - 0s 5ms/step - loss: 118.7326 - mae: 118.7326 - mse: 80064.1953 - val_loss: 627.1228 - val_mae: 627.1228 - val_mse: 1350400.7500\n",
            "Epoch 45/100\n",
            "18/18 [==============================] - 1s 76ms/step - loss: 113.5256 - mae: 113.5256 - mse: 77966.3047 - val_loss: 605.0217 - val_mae: 605.0217 - val_mse: 1282697.5000\n",
            "Epoch 46/100\n",
            "18/18 [==============================] - 1s 33ms/step - loss: 112.6513 - mae: 112.6513 - mse: 76133.2266 - val_loss: 602.1197 - val_mae: 602.1197 - val_mse: 1265148.1250\n",
            "Epoch 47/100\n",
            "18/18 [==============================] - 0s 4ms/step - loss: 113.2495 - mae: 113.2495 - mse: 76645.8984 - val_loss: 634.6682 - val_mae: 634.6682 - val_mse: 1323225.1250\n",
            "Epoch 48/100\n",
            "18/18 [==============================] - 0s 5ms/step - loss: 112.3968 - mae: 112.3968 - mse: 77186.2578 - val_loss: 602.8479 - val_mae: 602.8479 - val_mse: 1259437.3750\n",
            "Epoch 49/100\n",
            "18/18 [==============================] - 0s 5ms/step - loss: 112.8278 - mae: 112.8278 - mse: 76387.6797 - val_loss: 645.0975 - val_mae: 645.0975 - val_mse: 1342912.5000\n",
            "Epoch 50/100\n",
            "18/18 [==============================] - 0s 5ms/step - loss: 116.6187 - mae: 116.6187 - mse: 77947.2969 - val_loss: 634.6706 - val_mae: 634.6706 - val_mse: 1364497.3750\n",
            "Epoch 51/100\n",
            "18/18 [==============================] - 1s 33ms/step - loss: 112.7927 - mae: 112.7927 - mse: 75261.7969 - val_loss: 601.3798 - val_mae: 601.3798 - val_mse: 1251751.8750\n",
            "Epoch 52/100\n",
            "18/18 [==============================] - 0s 4ms/step - loss: 113.6190 - mae: 113.6190 - mse: 76489.9922 - val_loss: 601.7498 - val_mae: 601.7498 - val_mse: 1272761.3750\n",
            "Epoch 53/100\n",
            "18/18 [==============================] - 0s 5ms/step - loss: 111.6371 - mae: 111.6371 - mse: 75243.5156 - val_loss: 667.3782 - val_mae: 667.3782 - val_mse: 1389791.5000\n",
            "Epoch 54/100\n",
            "18/18 [==============================] - 1s 31ms/step - loss: 112.7286 - mae: 112.7286 - mse: 75139.1094 - val_loss: 594.6733 - val_mae: 594.6733 - val_mse: 1238416.6250\n",
            "Epoch 55/100\n",
            "18/18 [==============================] - 0s 4ms/step - loss: 111.2987 - mae: 111.2987 - mse: 75950.6641 - val_loss: 612.6288 - val_mae: 612.6288 - val_mse: 1266496.0000\n",
            "Epoch 56/100\n",
            "18/18 [==============================] - 0s 5ms/step - loss: 111.3627 - mae: 111.3627 - mse: 74012.6094 - val_loss: 762.8439 - val_mae: 762.8440 - val_mse: 1740250.8750\n",
            "Epoch 57/100\n",
            "18/18 [==============================] - 0s 5ms/step - loss: 121.8731 - mae: 121.8731 - mse: 82966.5312 - val_loss: 621.2759 - val_mae: 621.2759 - val_mse: 1320232.7500\n",
            "Epoch 58/100\n",
            "18/18 [==============================] - 0s 4ms/step - loss: 122.9995 - mae: 122.9995 - mse: 79877.0469 - val_loss: 610.3144 - val_mae: 610.3144 - val_mse: 1258606.2500\n",
            "Epoch 59/100\n",
            "18/18 [==============================] - 1s 30ms/step - loss: 114.0591 - mae: 114.0591 - mse: 76448.8047 - val_loss: 592.1937 - val_mae: 592.1937 - val_mse: 1241455.1250\n",
            "Epoch 60/100\n",
            "18/18 [==============================] - 0s 13ms/step - loss: 110.3409 - mae: 110.3409 - mse: 75061.5156 - val_loss: 637.5652 - val_mae: 637.5652 - val_mse: 1316013.1250\n",
            "Epoch 61/100\n",
            "18/18 [==============================] - 1s 54ms/step - loss: 111.9186 - mae: 111.9186 - mse: 76069.1719 - val_loss: 585.8913 - val_mae: 585.8913 - val_mse: 1216730.5000\n",
            "Epoch 62/100\n",
            "18/18 [==============================] - 0s 4ms/step - loss: 107.7468 - mae: 107.7468 - mse: 71536.8203 - val_loss: 609.8843 - val_mae: 609.8843 - val_mse: 1253471.7500\n",
            "Epoch 63/100\n",
            "18/18 [==============================] - 0s 5ms/step - loss: 110.1819 - mae: 110.1819 - mse: 72704.6562 - val_loss: 593.2519 - val_mae: 593.2519 - val_mse: 1222969.1250\n",
            "Epoch 64/100\n",
            "18/18 [==============================] - 0s 4ms/step - loss: 109.5225 - mae: 109.5225 - mse: 72958.8125 - val_loss: 603.3417 - val_mae: 603.3417 - val_mse: 1239410.1250\n",
            "Epoch 65/100\n",
            "18/18 [==============================] - 1s 31ms/step - loss: 110.7533 - mae: 110.7533 - mse: 74693.0781 - val_loss: 583.4350 - val_mae: 583.4350 - val_mse: 1210136.5000\n",
            "Epoch 66/100\n",
            "18/18 [==============================] - 1s 31ms/step - loss: 108.7184 - mae: 108.7184 - mse: 73022.5234 - val_loss: 582.7601 - val_mae: 582.7601 - val_mse: 1207123.6250\n",
            "Epoch 67/100\n",
            "18/18 [==============================] - 0s 5ms/step - loss: 107.7769 - mae: 107.7769 - mse: 71519.3047 - val_loss: 622.9487 - val_mae: 622.9487 - val_mse: 1314878.6250\n",
            "Epoch 68/100\n",
            "18/18 [==============================] - 0s 4ms/step - loss: 113.9967 - mae: 113.9967 - mse: 72238.0625 - val_loss: 611.8370 - val_mae: 611.8370 - val_mse: 1285998.5000\n",
            "Epoch 69/100\n",
            "18/18 [==============================] - 0s 5ms/step - loss: 112.7829 - mae: 112.7829 - mse: 74158.7031 - val_loss: 662.8320 - val_mae: 662.8320 - val_mse: 1366502.6250\n",
            "Epoch 70/100\n",
            "18/18 [==============================] - 0s 5ms/step - loss: 119.5094 - mae: 119.5094 - mse: 77314.5469 - val_loss: 607.8337 - val_mae: 607.8337 - val_mse: 1275866.5000\n",
            "Epoch 71/100\n",
            "18/18 [==============================] - 1s 37ms/step - loss: 110.5932 - mae: 110.5932 - mse: 72240.9297 - val_loss: 581.4814 - val_mae: 581.4814 - val_mse: 1198498.2500\n",
            "Epoch 72/100\n",
            "18/18 [==============================] - 1s 32ms/step - loss: 111.1597 - mae: 111.1597 - mse: 74302.4141 - val_loss: 580.2697 - val_mae: 580.2697 - val_mse: 1195457.0000\n",
            "Epoch 73/100\n",
            "18/18 [==============================] - 0s 7ms/step - loss: 115.0749 - mae: 115.0749 - mse: 75716.6797 - val_loss: 606.3048 - val_mae: 606.3048 - val_mse: 1270924.2500\n",
            "Epoch 74/100\n",
            "18/18 [==============================] - 0s 8ms/step - loss: 109.1740 - mae: 109.1740 - mse: 72967.3594 - val_loss: 583.1035 - val_mae: 583.1035 - val_mse: 1197770.1250\n",
            "Epoch 75/100\n",
            "18/18 [==============================] - 0s 9ms/step - loss: 110.4899 - mae: 110.4899 - mse: 72096.8750 - val_loss: 610.5812 - val_mae: 610.5812 - val_mse: 1246446.5000\n",
            "Epoch 76/100\n",
            "18/18 [==============================] - 0s 6ms/step - loss: 110.9739 - mae: 110.9739 - mse: 74729.8828 - val_loss: 596.6481 - val_mae: 596.6481 - val_mse: 1243293.6250\n",
            "Epoch 77/100\n",
            "18/18 [==============================] - 1s 42ms/step - loss: 107.2340 - mae: 107.2340 - mse: 70144.3516 - val_loss: 579.2846 - val_mae: 579.2846 - val_mse: 1189272.6250\n",
            "Epoch 78/100\n",
            "18/18 [==============================] - 0s 7ms/step - loss: 108.3490 - mae: 108.3490 - mse: 70823.2969 - val_loss: 582.6966 - val_mae: 582.6966 - val_mse: 1207097.1250\n",
            "Epoch 79/100\n",
            "18/18 [==============================] - 1s 47ms/step - loss: 108.7656 - mae: 108.7656 - mse: 72805.0312 - val_loss: 575.6236 - val_mae: 575.6236 - val_mse: 1185914.7500\n",
            "Epoch 80/100\n",
            "18/18 [==============================] - 0s 7ms/step - loss: 108.3761 - mae: 108.3761 - mse: 73115.7734 - val_loss: 581.2219 - val_mae: 581.2219 - val_mse: 1190044.5000\n",
            "Epoch 81/100\n",
            "18/18 [==============================] - 0s 7ms/step - loss: 108.3497 - mae: 108.3497 - mse: 71761.2188 - val_loss: 581.1317 - val_mae: 581.1317 - val_mse: 1188762.7500\n",
            "Epoch 82/100\n",
            "18/18 [==============================] - 0s 7ms/step - loss: 117.0457 - mae: 117.0457 - mse: 78869.0547 - val_loss: 579.0859 - val_mae: 579.0859 - val_mse: 1187064.8750\n",
            "Epoch 83/100\n",
            "18/18 [==============================] - 0s 6ms/step - loss: 114.4586 - mae: 114.4586 - mse: 76103.1641 - val_loss: 695.3136 - val_mae: 695.3136 - val_mse: 1495408.1250\n",
            "Epoch 84/100\n",
            "18/18 [==============================] - 1s 39ms/step - loss: 115.2738 - mae: 115.2738 - mse: 75987.7422 - val_loss: 574.8831 - val_mae: 574.8831 - val_mse: 1186419.0000\n",
            "Epoch 85/100\n",
            "18/18 [==============================] - 0s 5ms/step - loss: 108.8824 - mae: 108.8824 - mse: 72861.5469 - val_loss: 575.2922 - val_mae: 575.2922 - val_mse: 1181928.2500\n",
            "Epoch 86/100\n",
            "18/18 [==============================] - 0s 6ms/step - loss: 107.2886 - mae: 107.2886 - mse: 70928.1016 - val_loss: 577.8032 - val_mae: 577.8032 - val_mse: 1193072.8750\n",
            "Epoch 87/100\n",
            "18/18 [==============================] - 0s 5ms/step - loss: 106.3847 - mae: 106.3847 - mse: 71367.6172 - val_loss: 587.5961 - val_mae: 587.5961 - val_mse: 1217382.2500\n",
            "Epoch 88/100\n",
            "18/18 [==============================] - 0s 4ms/step - loss: 108.5710 - mae: 108.5710 - mse: 72453.7969 - val_loss: 582.9692 - val_mae: 582.9692 - val_mse: 1206322.2500\n",
            "Epoch 89/100\n",
            "18/18 [==============================] - 0s 5ms/step - loss: 108.8202 - mae: 108.8202 - mse: 71796.7734 - val_loss: 579.0751 - val_mae: 579.0751 - val_mse: 1182991.0000\n",
            "Epoch 90/100\n",
            "18/18 [==============================] - 0s 4ms/step - loss: 109.5228 - mae: 109.5228 - mse: 69140.7422 - val_loss: 605.4061 - val_mae: 605.4061 - val_mse: 1231711.7500\n",
            "Epoch 91/100\n",
            "18/18 [==============================] - 0s 5ms/step - loss: 113.8421 - mae: 113.8421 - mse: 74944.0000 - val_loss: 643.9990 - val_mae: 643.9990 - val_mse: 1352969.5000\n",
            "Epoch 92/100\n",
            "18/18 [==============================] - 0s 5ms/step - loss: 109.6369 - mae: 109.6369 - mse: 72962.4844 - val_loss: 594.8770 - val_mae: 594.8770 - val_mse: 1234669.3750\n",
            "Epoch 93/100\n",
            "18/18 [==============================] - 0s 5ms/step - loss: 119.8905 - mae: 119.8905 - mse: 78646.5781 - val_loss: 657.9558 - val_mae: 657.9558 - val_mse: 1388434.1250\n",
            "Epoch 94/100\n",
            "18/18 [==============================] - 0s 4ms/step - loss: 116.9929 - mae: 116.9929 - mse: 78276.0703 - val_loss: 623.6796 - val_mae: 623.6796 - val_mse: 1270088.0000\n",
            "Epoch 95/100\n",
            "18/18 [==============================] - 0s 5ms/step - loss: 109.5977 - mae: 109.5977 - mse: 71207.8359 - val_loss: 583.5925 - val_mae: 583.5925 - val_mse: 1189048.2500\n",
            "Epoch 96/100\n",
            "18/18 [==============================] - 0s 5ms/step - loss: 115.4404 - mae: 115.4404 - mse: 75570.4453 - val_loss: 631.7509 - val_mae: 631.7509 - val_mse: 1320733.0000\n",
            "Epoch 97/100\n",
            "18/18 [==============================] - 0s 5ms/step - loss: 108.9135 - mae: 108.9135 - mse: 73394.5469 - val_loss: 598.4581 - val_mae: 598.4581 - val_mse: 1216601.5000\n",
            "Epoch 98/100\n",
            "18/18 [==============================] - 1s 31ms/step - loss: 108.4185 - mae: 108.4185 - mse: 72580.4062 - val_loss: 571.5601 - val_mae: 571.5601 - val_mse: 1172055.8750\n",
            "Epoch 99/100\n",
            "18/18 [==============================] - 0s 5ms/step - loss: 108.6749 - mae: 108.6749 - mse: 72238.2656 - val_loss: 574.2377 - val_mae: 574.2377 - val_mse: 1172281.5000\n",
            "Epoch 100/100\n",
            "18/18 [==============================] - 0s 4ms/step - loss: 119.1424 - mae: 119.1424 - mse: 74583.9375 - val_loss: 676.1857 - val_mae: 676.1857 - val_mse: 1392669.6250\n"
          ]
        }
      ]
    },
    {
      "cell_type": "code",
      "source": [
        "model_1 = tf.keras.models.load_model('model_experiment/model_1/')\n",
        "model_1.evaluate(X_test, y_test)"
      ],
      "metadata": {
        "colab": {
          "base_uri": "https://localhost:8080/"
        },
        "id": "NFLLPu3kVCvD",
        "outputId": "ce7a49e6-b8bd-4a14-9151-191b92de1b9d"
      },
      "execution_count": 40,
      "outputs": [
        {
          "output_type": "stream",
          "name": "stdout",
          "text": [
            "18/18 [==============================] - 0s 3ms/step - loss: 571.5601 - mae: 571.5601 - mse: 1172056.0000\n"
          ]
        },
        {
          "output_type": "execute_result",
          "data": {
            "text/plain": [
              "[571.5601196289062, 571.5601196289062, 1172056.0]"
            ]
          },
          "metadata": {},
          "execution_count": 40
        }
      ]
    },
    {
      "cell_type": "code",
      "source": [],
      "metadata": {
        "id": "JabgsnzRXTo6"
      },
      "execution_count": null,
      "outputs": []
    }
  ]
}