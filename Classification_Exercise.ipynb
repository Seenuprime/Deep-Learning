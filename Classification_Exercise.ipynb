{
  "nbformat": 4,
  "nbformat_minor": 0,
  "metadata": {
    "colab": {
      "provenance": [],
      "authorship_tag": "ABX9TyMawtgkWq3SvnQ/X1kUfeXu",
      "include_colab_link": true
    },
    "kernelspec": {
      "name": "python3",
      "display_name": "Python 3"
    },
    "language_info": {
      "name": "python"
    }
  },
  "cells": [
    {
      "cell_type": "markdown",
      "metadata": {
        "id": "view-in-github",
        "colab_type": "text"
      },
      "source": [
        "<a href=\"https://colab.research.google.com/github/Seenuprime/Deep-Learning/blob/main/Classification_Exercise.ipynb\" target=\"_parent\"><img src=\"https://colab.research.google.com/assets/colab-badge.svg\" alt=\"Open In Colab\"/></a>"
      ]
    },
    {
      "cell_type": "code",
      "execution_count": null,
      "metadata": {
        "id": "R6oCRROy6g_p"
      },
      "outputs": [],
      "source": [
        "import pandas as pd\n",
        "import numpy as np\n",
        "import matplotlib.pyplot as plt\n",
        "import tensorflow as tf"
      ]
    },
    {
      "cell_type": "code",
      "source": [
        "from sklearn.datasets import make_moons\n",
        "\n",
        "features, labels = make_moons(5000)\n",
        "len(features), len(labels)"
      ],
      "metadata": {
        "colab": {
          "base_uri": "https://localhost:8080/"
        },
        "id": "gy15qR0A6v-T",
        "outputId": "5dd3f312-db4e-4d64-9de2-bb08898e4a79"
      },
      "execution_count": null,
      "outputs": [
        {
          "output_type": "execute_result",
          "data": {
            "text/plain": [
              "(5000, 5000)"
            ]
          },
          "metadata": {},
          "execution_count": 42
        }
      ]
    },
    {
      "cell_type": "code",
      "source": [
        "from sklearn.model_selection import train_test_split\n",
        "X_train, X_test, y_train, y_test = train_test_split(features, labels, test_size=0.2, random_state=0)"
      ],
      "metadata": {
        "id": "1dSg7Yx87Rzb"
      },
      "execution_count": null,
      "outputs": []
    },
    {
      "cell_type": "code",
      "source": [
        "X_train[:10], y_train[:10]"
      ],
      "metadata": {
        "colab": {
          "base_uri": "https://localhost:8080/"
        },
        "id": "jZm7DZYi7kjO",
        "outputId": "c1ad3572-f010-4e92-ecbc-001b032cbcbe"
      },
      "execution_count": null,
      "outputs": [
        {
          "output_type": "execute_result",
          "data": {
            "text/plain": [
              "(array([[ 1.85611878, -0.0167791 ],\n",
              "        [ 0.34064156,  0.94019324],\n",
              "        [ 0.86571095,  0.50054426],\n",
              "        [ 0.69146129, -0.45121179],\n",
              "        [ 0.45807414,  0.88891399],\n",
              "        [ 1.85546844, -0.01785495],\n",
              "        [ 0.92777739, -0.49738854],\n",
              "        [ 1.73305187, -0.18017274],\n",
              "        [ 0.85806168,  0.51354665],\n",
              "        [-0.96665405,  0.25608583]]),\n",
              " array([1, 0, 0, 1, 0, 1, 1, 1, 0, 0]))"
            ]
          },
          "metadata": {},
          "execution_count": 44
        }
      ]
    },
    {
      "cell_type": "code",
      "source": [
        "X_train[0][1]"
      ],
      "metadata": {
        "colab": {
          "base_uri": "https://localhost:8080/"
        },
        "id": "FBNbBRqz8Hkw",
        "outputId": "2c0e8e30-70bf-4b1b-b7e4-4436b45bb7ec"
      },
      "execution_count": null,
      "outputs": [
        {
          "output_type": "execute_result",
          "data": {
            "text/plain": [
              "-0.016779096436281393"
            ]
          },
          "metadata": {},
          "execution_count": 45
        }
      ]
    },
    {
      "cell_type": "code",
      "source": [
        "tf.random.set_seed(42)\n",
        "\n",
        "model = tf.keras.models.Sequential([\n",
        "    tf.keras.layers.Dense(5, activation='relu'),\n",
        "    tf.keras.layers.Dense(5, activation='relu'),\n",
        "    tf.keras.layers.Dense(1)\n",
        "])\n",
        "\n",
        "model.compile(\n",
        "    loss = tf.keras.losses.BinaryCrossentropy(),\n",
        "    optimizer = tf.keras.optimizers.Adam(),\n",
        "    metrics = ['accuracy']\n",
        ")\n",
        "\n",
        "lr_scheduler = tf.keras.callbacks.LearningRateScheduler(lambda epoch: 1e-4 * 10 ** (epoch/20))\n",
        "\n",
        "history = model.fit(X_train, y_train, epochs=30, callbacks=[lr_scheduler])"
      ],
      "metadata": {
        "colab": {
          "base_uri": "https://localhost:8080/"
        },
        "id": "YTg4Rprj7xyH",
        "outputId": "9ee2a529-ee84-465e-ca70-ebf21c38d350"
      },
      "execution_count": null,
      "outputs": [
        {
          "output_type": "stream",
          "name": "stdout",
          "text": [
            "Epoch 1/30\n",
            "125/125 [==============================] - 1s 2ms/step - loss: 2.4495 - accuracy: 0.5020 - lr: 1.0000e-04\n",
            "Epoch 2/30\n",
            "125/125 [==============================] - 0s 2ms/step - loss: 2.0424 - accuracy: 0.5020 - lr: 1.1220e-04\n",
            "Epoch 3/30\n",
            "125/125 [==============================] - 0s 2ms/step - loss: 1.8497 - accuracy: 0.5020 - lr: 1.2589e-04\n",
            "Epoch 4/30\n",
            "125/125 [==============================] - 0s 2ms/step - loss: 1.6953 - accuracy: 0.5020 - lr: 1.4125e-04\n",
            "Epoch 5/30\n",
            "125/125 [==============================] - 0s 2ms/step - loss: 1.5408 - accuracy: 0.5020 - lr: 1.5849e-04\n",
            "Epoch 6/30\n",
            "125/125 [==============================] - 0s 2ms/step - loss: 1.3126 - accuracy: 0.5020 - lr: 1.7783e-04\n",
            "Epoch 7/30\n",
            "125/125 [==============================] - 0s 3ms/step - loss: 1.1407 - accuracy: 0.5020 - lr: 1.9953e-04\n",
            "Epoch 8/30\n",
            "125/125 [==============================] - 0s 2ms/step - loss: 1.0147 - accuracy: 0.5020 - lr: 2.2387e-04\n",
            "Epoch 9/30\n",
            "125/125 [==============================] - 0s 3ms/step - loss: 0.9064 - accuracy: 0.5020 - lr: 2.5119e-04\n",
            "Epoch 10/30\n",
            "125/125 [==============================] - 0s 3ms/step - loss: 0.8075 - accuracy: 0.5020 - lr: 2.8184e-04\n",
            "Epoch 11/30\n",
            "125/125 [==============================] - 0s 2ms/step - loss: 0.7127 - accuracy: 0.5020 - lr: 3.1623e-04\n",
            "Epoch 12/30\n",
            "125/125 [==============================] - 0s 2ms/step - loss: 0.6196 - accuracy: 0.5428 - lr: 3.5481e-04\n",
            "Epoch 13/30\n",
            "125/125 [==============================] - 0s 2ms/step - loss: 0.5271 - accuracy: 0.6720 - lr: 3.9811e-04\n",
            "Epoch 14/30\n",
            "125/125 [==============================] - 0s 2ms/step - loss: 0.4315 - accuracy: 0.7423 - lr: 4.4668e-04\n",
            "Epoch 15/30\n",
            "125/125 [==============================] - 0s 2ms/step - loss: 0.3278 - accuracy: 0.8587 - lr: 5.0119e-04\n",
            "Epoch 16/30\n",
            "125/125 [==============================] - 0s 2ms/step - loss: 0.2254 - accuracy: 0.9125 - lr: 5.6234e-04\n",
            "Epoch 17/30\n",
            "125/125 [==============================] - 0s 2ms/step - loss: 0.1522 - accuracy: 0.9268 - lr: 6.3096e-04\n",
            "Epoch 18/30\n",
            "125/125 [==============================] - 0s 2ms/step - loss: 0.1237 - accuracy: 0.9430 - lr: 7.0795e-04\n",
            "Epoch 19/30\n",
            "125/125 [==============================] - 0s 2ms/step - loss: 0.1114 - accuracy: 0.9555 - lr: 7.9433e-04\n",
            "Epoch 20/30\n",
            "125/125 [==============================] - 0s 2ms/step - loss: 0.1017 - accuracy: 0.9622 - lr: 8.9125e-04\n",
            "Epoch 21/30\n",
            "125/125 [==============================] - 0s 2ms/step - loss: 0.0928 - accuracy: 0.9663 - lr: 0.0010\n",
            "Epoch 22/30\n",
            "125/125 [==============================] - 0s 2ms/step - loss: 0.0838 - accuracy: 0.9690 - lr: 0.0011\n",
            "Epoch 23/30\n",
            "125/125 [==============================] - 0s 2ms/step - loss: 0.0750 - accuracy: 0.9718 - lr: 0.0013\n",
            "Epoch 24/30\n",
            "125/125 [==============================] - 0s 2ms/step - loss: 0.0661 - accuracy: 0.9758 - lr: 0.0014\n",
            "Epoch 25/30\n",
            "125/125 [==============================] - 0s 2ms/step - loss: 0.0573 - accuracy: 0.9803 - lr: 0.0016\n",
            "Epoch 26/30\n",
            "125/125 [==============================] - 0s 2ms/step - loss: 0.0483 - accuracy: 0.9845 - lr: 0.0018\n",
            "Epoch 27/30\n",
            "125/125 [==============================] - 0s 2ms/step - loss: 0.0387 - accuracy: 0.9910 - lr: 0.0020\n",
            "Epoch 28/30\n",
            "125/125 [==============================] - 0s 2ms/step - loss: 0.0293 - accuracy: 0.9973 - lr: 0.0022\n",
            "Epoch 29/30\n",
            "125/125 [==============================] - 0s 2ms/step - loss: 0.0203 - accuracy: 1.0000 - lr: 0.0025\n",
            "Epoch 30/30\n",
            "125/125 [==============================] - 0s 2ms/step - loss: 0.0125 - accuracy: 1.0000 - lr: 0.0028\n"
          ]
        }
      ]
    },
    {
      "cell_type": "code",
      "source": [
        "pd.DataFrame(history.history).plot()"
      ],
      "metadata": {
        "colab": {
          "base_uri": "https://localhost:8080/",
          "height": 447
        },
        "id": "HG5qMSrb9UEi",
        "outputId": "f2a8b85a-a749-4273-f727-2e33c9845afd"
      },
      "execution_count": null,
      "outputs": [
        {
          "output_type": "execute_result",
          "data": {
            "text/plain": [
              "<Axes: >"
            ]
          },
          "metadata": {},
          "execution_count": 47
        },
        {
          "output_type": "display_data",
          "data": {
            "text/plain": [
              "<Figure size 640x480 with 1 Axes>"
            ],
            "image/png": "[encoded data removed]"
          },
          "metadata": {}
        }
      ]
    },
    {
      "cell_type": "markdown",
      "source": [
        "**Trying to get the optimal learning rate**"
      ],
      "metadata": {
        "id": "dMcXyC1bH448"
      }
    },
    {
      "cell_type": "code",
      "source": [
        "lrs = 1e-4 * 10 ** (tf.range(30)/20) ## 100 is the no of epochs given\n",
        "plt.semilogx(lrs, history.history['loss'])\n",
        "plt.xlabel('Learning rate')\n",
        "plt.ylabel('Loss')\n",
        "plt.title('learning rate vs loss')"
      ],
      "metadata": {
        "colab": {
          "base_uri": "https://localhost:8080/",
          "height": 493
        },
        "id": "4KWPBr9S-IRB",
        "outputId": "afd26d62-f974-42f7-a078-768da62365da"
      },
      "execution_count": null,
      "outputs": [
        {
          "output_type": "execute_result",
          "data": {
            "text/plain": [
              "Text(0.5, 1.0, 'learning rate vs loss')"
            ]
          },
          "metadata": {},
          "execution_count": 48
        },
        {
          "output_type": "display_data",
          "data": {
            "text/plain": [
              "<Figure size 640x480 with 1 Axes>"
            ],
            "image/png": "[encoded data removed]"
          },
          "metadata": {}
        }
      ]
    },
    {
      "cell_type": "code",
      "source": [
        "10**-3"
      ],
      "metadata": {
        "colab": {
          "base_uri": "https://localhost:8080/"
        },
        "id": "53ezoFLS_Sln",
        "outputId": "84e4ea8d-d773-4853-8be9-eabc96410054"
      },
      "execution_count": null,
      "outputs": [
        {
          "output_type": "execute_result",
          "data": {
            "text/plain": [
              "0.001"
            ]
          },
          "metadata": {},
          "execution_count": 50
        }
      ]
    },
    {
      "cell_type": "markdown",
      "source": [
        "**We got the `ideal` learning rate i.e 0.001**\n",
        "\n",
        "we could have choosen 10^-2.5 or some thing, but i choose 10^-3"
      ],
      "metadata": {
        "id": "EDMVPy8Z_oPf"
      }
    },
    {
      "cell_type": "code",
      "source": [
        "tf.random.set_seed(42)\n",
        "\n",
        "model_1 = tf.keras.models.Sequential([\n",
        "    tf.keras.layers.Dense(5, activation='relu'),\n",
        "    tf.keras.layers.Dense(5, activation='relu'),\n",
        "    tf.keras.layers.Dense(1)\n",
        "])\n",
        "\n",
        "model_1.compile(\n",
        "    loss = 'binary_crossentropy',\n",
        "    optimizer = tf.keras.optimizers.Adam(0.001),\n",
        "    metrics = ['accuracy']\n",
        ")\n",
        "\n",
        "model1_history = model_1.fit(X_train, y_train, epochs=30)"
      ],
      "metadata": {
        "colab": {
          "base_uri": "https://localhost:8080/"
        },
        "id": "5bWS5aqp_njP",
        "outputId": "506f415c-9bb8-44b0-fd85-80d4cbb256d9"
      },
      "execution_count": null,
      "outputs": [
        {
          "output_type": "stream",
          "name": "stdout",
          "text": [
            "Epoch 1/30\n",
            "125/125 [==============================] - 1s 2ms/step - loss: 2.2222 - accuracy: 0.5020\n",
            "Epoch 2/30\n",
            "125/125 [==============================] - 0s 2ms/step - loss: 1.3774 - accuracy: 0.5020\n",
            "Epoch 3/30\n",
            "125/125 [==============================] - 0s 2ms/step - loss: 0.8205 - accuracy: 0.5027\n",
            "Epoch 4/30\n",
            "125/125 [==============================] - 0s 2ms/step - loss: 0.4403 - accuracy: 0.7212\n",
            "Epoch 5/30\n",
            "125/125 [==============================] - 0s 2ms/step - loss: 0.2731 - accuracy: 0.8835\n",
            "Epoch 6/30\n",
            "125/125 [==============================] - 0s 2ms/step - loss: 0.2151 - accuracy: 0.8967\n",
            "Epoch 7/30\n",
            "125/125 [==============================] - 0s 2ms/step - loss: 0.1924 - accuracy: 0.8995\n",
            "Epoch 8/30\n",
            "125/125 [==============================] - 0s 2ms/step - loss: 0.1844 - accuracy: 0.8947\n",
            "Epoch 9/30\n",
            "125/125 [==============================] - 0s 2ms/step - loss: 0.1813 - accuracy: 0.8970\n",
            "Epoch 10/30\n",
            "125/125 [==============================] - 0s 2ms/step - loss: 0.1803 - accuracy: 0.8975\n",
            "Epoch 11/30\n",
            "125/125 [==============================] - 0s 2ms/step - loss: 0.1793 - accuracy: 0.8988\n",
            "Epoch 12/30\n",
            "125/125 [==============================] - 0s 3ms/step - loss: 0.1782 - accuracy: 0.8980\n",
            "Epoch 13/30\n",
            "125/125 [==============================] - 0s 2ms/step - loss: 0.1770 - accuracy: 0.8963\n",
            "Epoch 14/30\n",
            "125/125 [==============================] - 0s 3ms/step - loss: 0.1764 - accuracy: 0.8997\n",
            "Epoch 15/30\n",
            "125/125 [==============================] - 0s 3ms/step - loss: 0.1750 - accuracy: 0.8988\n",
            "Epoch 16/30\n",
            "125/125 [==============================] - 0s 2ms/step - loss: 0.1743 - accuracy: 0.9038\n",
            "Epoch 17/30\n",
            "125/125 [==============================] - 0s 2ms/step - loss: 0.1727 - accuracy: 0.9020\n",
            "Epoch 18/30\n",
            "125/125 [==============================] - 0s 2ms/step - loss: 0.1713 - accuracy: 0.9028\n",
            "Epoch 19/30\n",
            "125/125 [==============================] - 0s 2ms/step - loss: 0.1696 - accuracy: 0.9065\n",
            "Epoch 20/30\n",
            "125/125 [==============================] - 0s 2ms/step - loss: 0.1676 - accuracy: 0.9065\n",
            "Epoch 21/30\n",
            "125/125 [==============================] - 0s 2ms/step - loss: 0.1656 - accuracy: 0.9082\n",
            "Epoch 22/30\n",
            "125/125 [==============================] - 0s 2ms/step - loss: 0.1621 - accuracy: 0.9150\n",
            "Epoch 23/30\n",
            "125/125 [==============================] - 0s 2ms/step - loss: 0.1586 - accuracy: 0.9147\n",
            "Epoch 24/30\n",
            "125/125 [==============================] - 0s 2ms/step - loss: 0.1535 - accuracy: 0.9210\n",
            "Epoch 25/30\n",
            "125/125 [==============================] - 0s 2ms/step - loss: 0.1476 - accuracy: 0.9250\n",
            "Epoch 26/30\n",
            "125/125 [==============================] - 0s 2ms/step - loss: 0.1399 - accuracy: 0.9293\n",
            "Epoch 27/30\n",
            "125/125 [==============================] - 0s 2ms/step - loss: 0.1309 - accuracy: 0.9367\n",
            "Epoch 28/30\n",
            "125/125 [==============================] - 0s 2ms/step - loss: 0.1207 - accuracy: 0.9433\n",
            "Epoch 29/30\n",
            "125/125 [==============================] - 0s 2ms/step - loss: 0.1100 - accuracy: 0.9492\n",
            "Epoch 30/30\n",
            "125/125 [==============================] - 0s 2ms/step - loss: 0.0983 - accuracy: 0.9585\n"
          ]
        }
      ]
    },
    {
      "cell_type": "code",
      "source": [
        "model_1.evaluate(X_test, y_test)"
      ],
      "metadata": {
        "colab": {
          "base_uri": "https://localhost:8080/"
        },
        "id": "FH2izMImAglI",
        "outputId": "6234bb1e-827d-4935-b8b7-300a59087c27"
      },
      "execution_count": null,
      "outputs": [
        {
          "output_type": "stream",
          "name": "stdout",
          "text": [
            "32/32 [==============================] - 0s 3ms/step - loss: 0.1057 - accuracy: 0.9580\n"
          ]
        },
        {
          "output_type": "execute_result",
          "data": {
            "text/plain": [
              "[0.10574118793010712, 0.9580000042915344]"
            ]
          },
          "metadata": {},
          "execution_count": 52
        }
      ]
    },
    {
      "cell_type": "code",
      "source": [
        "pred = model_1.predict(X_test)"
      ],
      "metadata": {
        "colab": {
          "base_uri": "https://localhost:8080/"
        },
        "id": "IsGnR1bZCzxf",
        "outputId": "0f6525cf-e997-4140-df5a-8a6470f550fd"
      },
      "execution_count": null,
      "outputs": [
        {
          "output_type": "stream",
          "name": "stdout",
          "text": [
            "32/32 [==============================] - 0s 2ms/step\n"
          ]
        }
      ]
    },
    {
      "cell_type": "code",
      "source": [
        "y_test.shape, pred.shape"
      ],
      "metadata": {
        "colab": {
          "base_uri": "https://localhost:8080/"
        },
        "id": "topwRKC9C9d6",
        "outputId": "343f046e-195c-4331-987f-5761fc61bb0f"
      },
      "execution_count": null,
      "outputs": [
        {
          "output_type": "execute_result",
          "data": {
            "text/plain": [
              "((1000,), (1000, 1))"
            ]
          },
          "metadata": {},
          "execution_count": 55
        }
      ]
    },
    {
      "cell_type": "code",
      "source": [
        "from sklearn.metrics import confusion_matrix\n",
        "confusion_matrix(y_test, (tf.squeeze(pred)>0.5))"
      ],
      "metadata": {
        "colab": {
          "base_uri": "https://localhost:8080/"
        },
        "id": "NywhI2AWCnm0",
        "outputId": "6106916f-0efc-4d23-a92e-3a1db4517cd5"
      },
      "execution_count": null,
      "outputs": [
        {
          "output_type": "execute_result",
          "data": {
            "text/plain": [
              "array([[461,  31],\n",
              "       [ 11, 497]])"
            ]
          },
          "metadata": {},
          "execution_count": 62
        }
      ]
    },
    {
      "cell_type": "markdown",
      "source": [
        "**Plotting the confusion matrix**"
      ],
      "metadata": {
        "id": "H8LY2uW9IWYe"
      }
    },
    {
      "cell_type": "code",
      "source": [
        "import seaborn as sns\n",
        "\n",
        "cm = confusion_matrix(y_test, (tf.squeeze(pred)>0.5))\n",
        "\n",
        "cm_normalized = cm / cm.sum(axis=1)[:, np.newaxis]\n",
        "\n",
        "classes = ['0', '1']\n",
        "\n",
        "sns.heatmap(cm_normalized, annot=True, fmt='.2%', cmap='Blues', xticklabels=classes, yticklabels=classes)\n",
        "plt.xlabel('Predicted labels')\n",
        "plt.ylabel('True labels')\n",
        "plt.title('normalized confusion matrix')\n",
        "plt.show()"
      ],
      "metadata": {
        "colab": {
          "base_uri": "https://localhost:8080/",
          "height": 472
        },
        "id": "GVatibn6ErL5",
        "outputId": "b03bf82f-9bb9-423e-a7a5-a6e508d3ac8b"
      },
      "execution_count": null,
      "outputs": [
        {
          "output_type": "display_data",
          "data": {
            "text/plain": [
              "<Figure size 640x480 with 2 Axes>"
            ],
            "image/png": "[encoded data removed]"
          },
          "metadata": {}
        }
      ]
    }
  ]
}