{
  "nbformat": 4,
  "nbformat_minor": 0,
  "metadata": {
    "colab": {
      "provenance": [],
      "gpuType": "T4",
      "authorship_tag": "ABX9TyM8rkFp8UALRTuQWkTeJKsf",
      "include_colab_link": true
    },
    "kernelspec": {
      "name": "python3",
      "display_name": "Python 3"
    },
    "language_info": {
      "name": "python"
    },
    "accelerator": "GPU"
  },
  "cells": [
    {
      "cell_type": "markdown",
      "metadata": {
        "id": "view-in-github",
        "colab_type": "text"
      },
      "source": [
        "<a href=\"https://colab.research.google.com/github/Seenuprime/Deep-Learning/blob/main/10_Time_series_TensorFlow.ipynb\" target=\"_parent\"><img src=\"https://colab.research.google.com/assets/colab-badge.svg\" alt=\"Open In Colab\"/></a>"
      ]
    },
    {
      "cell_type": "markdown",
      "source": [
        "# Time Series forecasting fundamentals with tensorflow + Milestone Project: 3"
      ],
      "metadata": {
        "id": "GSW3IDbpRcek"
      }
    },
    {
      "cell_type": "code",
      "execution_count": 1,
      "metadata": {
        "colab": {
          "base_uri": "https://localhost:8080/"
        },
        "id": "Zccy42YjRalN",
        "outputId": "0b7f7a04-45ba-4b44-bdc9-c54671453614"
      },
      "outputs": [
        {
          "output_type": "stream",
          "name": "stdout",
          "text": [
            "--2024-05-29 11:19:26--  https://raw.githubusercontent.com/mrdbourke/tensorflow-deep-learning/main/extras/BTC_USD_2013-10-01_2021-05-18-CoinDesk.csv\n",
            "Resolving raw.githubusercontent.com (raw.githubusercontent.com)... 185.199.108.133, 185.199.109.133, 185.199.110.133, ...\n",
            "Connecting to raw.githubusercontent.com (raw.githubusercontent.com)|185.199.108.133|:443... connected.\n",
            "HTTP request sent, awaiting response... 200 OK\n",
            "Length: 178509 (174K) [text/plain]\n",
            "Saving to: ‘BTC_USD_2013-10-01_2021-05-18-CoinDesk.csv’\n",
            "\n",
            "BTC_USD_2013-10-01_ 100%[===================>] 174.33K  --.-KB/s    in 0.02s   \n",
            "\n",
            "2024-05-29 11:19:26 (7.37 MB/s) - ‘BTC_USD_2013-10-01_2021-05-18-CoinDesk.csv’ saved [178509/178509]\n",
            "\n"
          ]
        }
      ],
      "source": [
        "!wget https://raw.githubusercontent.com/mrdbourke/tensorflow-deep-learning/main/extras/BTC_USD_2013-10-01_2021-05-18-CoinDesk.csv"
      ]
    },
    {
      "cell_type": "code",
      "source": [
        "import pandas as pd\n",
        "df = pd.read_csv('/content/BTC_USD_2013-10-01_2021-05-18-CoinDesk.csv', index_col=['Date'], parse_dates=['Date'])\n",
        "df.head()"
      ],
      "metadata": {
        "colab": {
          "base_uri": "https://localhost:8080/",
          "height": 237
        },
        "id": "dZfMLVUyR-uw",
        "outputId": "91bf156e-e7e5-46a4-b332-58173b48b4ab"
      },
      "execution_count": 2,
      "outputs": [
        {
          "output_type": "execute_result",
          "data": {
            "text/plain": [
              "           Currency  Closing Price (USD)  24h Open (USD)  24h High (USD)  \\\n",
              "Date                                                                       \n",
              "2013-10-01      BTC            123.65499       124.30466       124.75166   \n",
              "2013-10-02      BTC            125.45500       123.65499       125.75850   \n",
              "2013-10-03      BTC            108.58483       125.45500       125.66566   \n",
              "2013-10-04      BTC            118.67466       108.58483       118.67500   \n",
              "2013-10-05      BTC            121.33866       118.67466       121.93633   \n",
              "\n",
              "            24h Low (USD)  \n",
              "Date                       \n",
              "2013-10-01      122.56349  \n",
              "2013-10-02      123.63383  \n",
              "2013-10-03       83.32833  \n",
              "2013-10-04      107.05816  \n",
              "2013-10-05      118.00566  "
            ],
            "text/html": [
              "\n",
              "  <div id=\"df-3471c28d-1f09-4b72-a475-329757fa9c62\" class=\"colab-df-container\">\n",
              "    <div>\n",
              "<style scoped>\n",
              "    .dataframe tbody tr th:only-of-type {\n",
              "        vertical-align: middle;\n",
              "    }\n",
              "\n",
              "    .dataframe tbody tr th {\n",
              "        vertical-align: top;\n",
              "    }\n",
              "\n",
              "    .dataframe thead th {\n",
              "        text-align: right;\n",
              "    }\n",
              "</style>\n",
              "<table border=\"1\" class=\"dataframe\">\n",
              "  <thead>\n",
              "    <tr style=\"text-align: right;\">\n",
              "      <th></th>\n",
              "      <th>Currency</th>\n",
              "      <th>Closing Price (USD)</th>\n",
              "      <th>24h Open (USD)</th>\n",
              "      <th>24h High (USD)</th>\n",
              "      <th>24h Low (USD)</th>\n",
              "    </tr>\n",
              "    <tr>\n",
              "      <th>Date</th>\n",
              "      <th></th>\n",
              "      <th></th>\n",
              "      <th></th>\n",
              "      <th></th>\n",
              "      <th></th>\n",
              "    </tr>\n",
              "  </thead>\n",
              "  <tbody>\n",
              "    <tr>\n",
              "      <th>2013-10-01</th>\n",
              "      <td>BTC</td>\n",
              "      <td>123.65499</td>\n",
              "      <td>124.30466</td>\n",
              "      <td>124.75166</td>\n",
              "      <td>122.56349</td>\n",
              "    </tr>\n",
              "    <tr>\n",
              "      <th>2013-10-02</th>\n",
              "      <td>BTC</td>\n",
              "      <td>125.45500</td>\n",
              "      <td>123.65499</td>\n",
              "      <td>125.75850</td>\n",
              "      <td>123.63383</td>\n",
              "    </tr>\n",
              "    <tr>\n",
              "      <th>2013-10-03</th>\n",
              "      <td>BTC</td>\n",
              "      <td>108.58483</td>\n",
              "      <td>125.45500</td>\n",
              "      <td>125.66566</td>\n",
              "      <td>83.32833</td>\n",
              "    </tr>\n",
              "    <tr>\n",
              "      <th>2013-10-04</th>\n",
              "      <td>BTC</td>\n",
              "      <td>118.67466</td>\n",
              "      <td>108.58483</td>\n",
              "      <td>118.67500</td>\n",
              "      <td>107.05816</td>\n",
              "    </tr>\n",
              "    <tr>\n",
              "      <th>2013-10-05</th>\n",
              "      <td>BTC</td>\n",
              "      <td>121.33866</td>\n",
              "      <td>118.67466</td>\n",
              "      <td>121.93633</td>\n",
              "      <td>118.00566</td>\n",
              "    </tr>\n",
              "  </tbody>\n",
              "</table>\n",
              "</div>\n",
              "    <div class=\"colab-df-buttons\">\n",
              "\n",
              "  <div class=\"colab-df-container\">\n",
              "    <button class=\"colab-df-convert\" onclick=\"convertToInteractive('df-3471c28d-1f09-4b72-a475-329757fa9c62')\"\n",
              "            title=\"Convert this dataframe to an interactive table.\"\n",
              "            style=\"display:none;\">\n",
              "\n",
              "  <svg xmlns=\"http://www.w3.org/2000/svg\" height=\"24px\" viewBox=\"0 -960 960 960\">\n",
              "    <path d=\"M120-120v-720h720v720H120Zm60-500h600v-160H180v160Zm220 220h160v-160H400v160Zm0 220h160v-160H400v160ZM180-400h160v-160H180v160Zm440 0h160v-160H620v160ZM180-180h160v-160H180v160Zm440 0h160v-160H620v160Z\"/>\n",
              "  </svg>\n",
              "    </button>\n",
              "\n",
              "  <style>\n",
              "    .colab-df-container {\n",
              "      display:flex;\n",
              "      gap: 12px;\n",
              "    }\n",
              "\n",
              "    .colab-df-convert {\n",
              "      background-color: #E8F0FE;\n",
              "      border: none;\n",
              "      border-radius: 50%;\n",
              "      cursor: pointer;\n",
              "      display: none;\n",
              "      fill: #1967D2;\n",
              "      height: 32px;\n",
              "      padding: 0 0 0 0;\n",
              "      width: 32px;\n",
              "    }\n",
              "\n",
              "    .colab-df-convert:hover {\n",
              "      background-color: #E2EBFA;\n",
              "      box-shadow: 0px 1px 2px rgba(60, 64, 67, 0.3), 0px 1px 3px 1px rgba(60, 64, 67, 0.15);\n",
              "      fill: #174EA6;\n",
              "    }\n",
              "\n",
              "    .colab-df-buttons div {\n",
              "      margin-bottom: 4px;\n",
              "    }\n",
              "\n",
              "    [theme=dark] .colab-df-convert {\n",
              "      background-color: #3B4455;\n",
              "      fill: #D2E3FC;\n",
              "    }\n",
              "\n",
              "    [theme=dark] .colab-df-convert:hover {\n",
              "      background-color: #434B5C;\n",
              "      box-shadow: 0px 1px 3px 1px rgba(0, 0, 0, 0.15);\n",
              "      filter: drop-shadow(0px 1px 2px rgba(0, 0, 0, 0.3));\n",
              "      fill: #FFFFFF;\n",
              "    }\n",
              "  </style>\n",
              "\n",
              "    <script>\n",
              "      const buttonEl =\n",
              "        document.querySelector('#df-3471c28d-1f09-4b72-a475-329757fa9c62 button.colab-df-convert');\n",
              "      buttonEl.style.display =\n",
              "        google.colab.kernel.accessAllowed ? 'block' : 'none';\n",
              "\n",
              "      async function convertToInteractive(key) {\n",
              "        const element = document.querySelector('#df-3471c28d-1f09-4b72-a475-329757fa9c62');\n",
              "        const dataTable =\n",
              "          await google.colab.kernel.invokeFunction('convertToInteractive',\n",
              "                                                    [key], {});\n",
              "        if (!dataTable) return;\n",
              "\n",
              "        const docLinkHtml = 'Like what you see? Visit the ' +\n",
              "          '<a target=\"_blank\" href=https://colab.research.google.com/notebooks/data_table.ipynb>data table notebook</a>'\n",
              "          + ' to learn more about interactive tables.';\n",
              "        element.innerHTML = '';\n",
              "        dataTable['output_type'] = 'display_data';\n",
              "        await google.colab.output.renderOutput(dataTable, element);\n",
              "        const docLink = document.createElement('div');\n",
              "        docLink.innerHTML = docLinkHtml;\n",
              "        element.appendChild(docLink);\n",
              "      }\n",
              "    </script>\n",
              "  </div>\n",
              "\n",
              "\n",
              "<div id=\"df-68c66f24-bf2e-4f78-b1df-47d449903694\">\n",
              "  <button class=\"colab-df-quickchart\" onclick=\"quickchart('df-68c66f24-bf2e-4f78-b1df-47d449903694')\"\n",
              "            title=\"Suggest charts\"\n",
              "            style=\"display:none;\">\n",
              "\n",
              "<svg xmlns=\"http://www.w3.org/2000/svg\" height=\"24px\"viewBox=\"0 0 24 24\"\n",
              "     width=\"24px\">\n",
              "    <g>\n",
              "        <path d=\"M19 3H5c-1.1 0-2 .9-2 2v14c0 1.1.9 2 2 2h14c1.1 0 2-.9 2-2V5c0-1.1-.9-2-2-2zM9 17H7v-7h2v7zm4 0h-2V7h2v10zm4 0h-2v-4h2v4z\"/>\n",
              "    </g>\n",
              "</svg>\n",
              "  </button>\n",
              "\n",
              "<style>\n",
              "  .colab-df-quickchart {\n",
              "      --bg-color: #E8F0FE;\n",
              "      --fill-color: #1967D2;\n",
              "      --hover-bg-color: #E2EBFA;\n",
              "      --hover-fill-color: #174EA6;\n",
              "      --disabled-fill-color: #AAA;\n",
              "      --disabled-bg-color: #DDD;\n",
              "  }\n",
              "\n",
              "  [theme=dark] .colab-df-quickchart {\n",
              "      --bg-color: #3B4455;\n",
              "      --fill-color: #D2E3FC;\n",
              "      --hover-bg-color: #434B5C;\n",
              "      --hover-fill-color: #FFFFFF;\n",
              "      --disabled-bg-color: #3B4455;\n",
              "      --disabled-fill-color: #666;\n",
              "  }\n",
              "\n",
              "  .colab-df-quickchart {\n",
              "    background-color: var(--bg-color);\n",
              "    border: none;\n",
              "    border-radius: 50%;\n",
              "    cursor: pointer;\n",
              "    display: none;\n",
              "    fill: var(--fill-color);\n",
              "    height: 32px;\n",
              "    padding: 0;\n",
              "    width: 32px;\n",
              "  }\n",
              "\n",
              "  .colab-df-quickchart:hover {\n",
              "    background-color: var(--hover-bg-color);\n",
              "    box-shadow: 0 1px 2px rgba(60, 64, 67, 0.3), 0 1px 3px 1px rgba(60, 64, 67, 0.15);\n",
              "    fill: var(--button-hover-fill-color);\n",
              "  }\n",
              "\n",
              "  .colab-df-quickchart-complete:disabled,\n",
              "  .colab-df-quickchart-complete:disabled:hover {\n",
              "    background-color: var(--disabled-bg-color);\n",
              "    fill: var(--disabled-fill-color);\n",
              "    box-shadow: none;\n",
              "  }\n",
              "\n",
              "  .colab-df-spinner {\n",
              "    border: 2px solid var(--fill-color);\n",
              "    border-color: transparent;\n",
              "    border-bottom-color: var(--fill-color);\n",
              "    animation:\n",
              "      spin 1s steps(1) infinite;\n",
              "  }\n",
              "\n",
              "  @keyframes spin {\n",
              "    0% {\n",
              "      border-color: transparent;\n",
              "      border-bottom-color: var(--fill-color);\n",
              "      border-left-color: var(--fill-color);\n",
              "    }\n",
              "    20% {\n",
              "      border-color: transparent;\n",
              "      border-left-color: var(--fill-color);\n",
              "      border-top-color: var(--fill-color);\n",
              "    }\n",
              "    30% {\n",
              "      border-color: transparent;\n",
              "      border-left-color: var(--fill-color);\n",
              "      border-top-color: var(--fill-color);\n",
              "      border-right-color: var(--fill-color);\n",
              "    }\n",
              "    40% {\n",
              "      border-color: transparent;\n",
              "      border-right-color: var(--fill-color);\n",
              "      border-top-color: var(--fill-color);\n",
              "    }\n",
              "    60% {\n",
              "      border-color: transparent;\n",
              "      border-right-color: var(--fill-color);\n",
              "    }\n",
              "    80% {\n",
              "      border-color: transparent;\n",
              "      border-right-color: var(--fill-color);\n",
              "      border-bottom-color: var(--fill-color);\n",
              "    }\n",
              "    90% {\n",
              "      border-color: transparent;\n",
              "      border-bottom-color: var(--fill-color);\n",
              "    }\n",
              "  }\n",
              "</style>\n",
              "\n",
              "  <script>\n",
              "    async function quickchart(key) {\n",
              "      const quickchartButtonEl =\n",
              "        document.querySelector('#' + key + ' button');\n",
              "      quickchartButtonEl.disabled = true;  // To prevent multiple clicks.\n",
              "      quickchartButtonEl.classList.add('colab-df-spinner');\n",
              "      try {\n",
              "        const charts = await google.colab.kernel.invokeFunction(\n",
              "            'suggestCharts', [key], {});\n",
              "      } catch (error) {\n",
              "        console.error('Error during call to suggestCharts:', error);\n",
              "      }\n",
              "      quickchartButtonEl.classList.remove('colab-df-spinner');\n",
              "      quickchartButtonEl.classList.add('colab-df-quickchart-complete');\n",
              "    }\n",
              "    (() => {\n",
              "      let quickchartButtonEl =\n",
              "        document.querySelector('#df-68c66f24-bf2e-4f78-b1df-47d449903694 button');\n",
              "      quickchartButtonEl.style.display =\n",
              "        google.colab.kernel.accessAllowed ? 'block' : 'none';\n",
              "    })();\n",
              "  </script>\n",
              "</div>\n",
              "\n",
              "    </div>\n",
              "  </div>\n"
            ],
            "application/vnd.google.colaboratory.intrinsic+json": {
              "type": "dataframe",
              "variable_name": "df",
              "summary": "{\n  \"name\": \"df\",\n  \"rows\": 2787,\n  \"fields\": [\n    {\n      \"column\": \"Date\",\n      \"properties\": {\n        \"dtype\": \"date\",\n        \"min\": \"2013-10-01 00:00:00\",\n        \"max\": \"2021-05-18 00:00:00\",\n        \"num_unique_values\": 2787,\n        \"samples\": [\n          \"2019-06-11 00:00:00\",\n          \"2021-05-03 00:00:00\",\n          \"2017-10-05 00:00:00\"\n        ],\n        \"semantic_type\": \"\",\n        \"description\": \"\"\n      }\n    },\n    {\n      \"column\": \"Currency\",\n      \"properties\": {\n        \"dtype\": \"category\",\n        \"num_unique_values\": 1,\n        \"samples\": [\n          \"BTC\"\n        ],\n        \"semantic_type\": \"\",\n        \"description\": \"\"\n      }\n    },\n    {\n      \"column\": \"Closing Price (USD)\",\n      \"properties\": {\n        \"dtype\": \"number\",\n        \"std\": 10887.84744436952,\n        \"min\": 108.58483,\n        \"max\": 63346.7890351052,\n        \"num_unique_values\": 2787,\n        \"samples\": [\n          7954.0062377205\n        ],\n        \"semantic_type\": \"\",\n        \"description\": \"\"\n      }\n    },\n    {\n      \"column\": \"24h Open (USD)\",\n      \"properties\": {\n        \"dtype\": \"number\",\n        \"std\": 10863.80077212387,\n        \"min\": 108.58483,\n        \"max\": 63562.6735446382,\n        \"num_unique_values\": 2787,\n        \"samples\": [\n          7600.9225047785\n        ],\n        \"semantic_type\": \"\",\n        \"description\": \"\"\n      }\n    },\n    {\n      \"column\": \"24h High (USD)\",\n      \"properties\": {\n        \"dtype\": \"number\",\n        \"std\": 11206.779756254151,\n        \"min\": 118.675,\n        \"max\": 64801.787869525,\n        \"num_unique_values\": 2787,\n        \"samples\": [\n          8064.9001353225\n        ],\n        \"semantic_type\": \"\",\n        \"description\": \"\"\n      }\n    },\n    {\n      \"column\": \"24h Low (USD)\",\n      \"properties\": {\n        \"dtype\": \"number\",\n        \"std\": 10475.8112518284,\n        \"min\": 83.32833,\n        \"max\": 62094.6329143272,\n        \"num_unique_values\": 2785,\n        \"samples\": [\n          7714.610306452\n        ],\n        \"semantic_type\": \"\",\n        \"description\": \"\"\n      }\n    }\n  ]\n}"
            }
          },
          "metadata": {},
          "execution_count": 2
        }
      ]
    },
    {
      "cell_type": "code",
      "source": [
        "df.columns = ['currency', 'close', 'opne', 'high', 'low']"
      ],
      "metadata": {
        "id": "2YSilbfKANl8"
      },
      "execution_count": 3,
      "outputs": []
    },
    {
      "cell_type": "code",
      "source": [
        "df.info()"
      ],
      "metadata": {
        "colab": {
          "base_uri": "https://localhost:8080/"
        },
        "id": "sLE3-H17Ypa2",
        "outputId": "1862c261-a6cd-446a-9cd1-66b6431ecfb5"
      },
      "execution_count": 4,
      "outputs": [
        {
          "output_type": "stream",
          "name": "stdout",
          "text": [
            "<class 'pandas.core.frame.DataFrame'>\n",
            "DatetimeIndex: 2787 entries, 2013-10-01 to 2021-05-18\n",
            "Data columns (total 5 columns):\n",
            " #   Column    Non-Null Count  Dtype  \n",
            "---  ------    --------------  -----  \n",
            " 0   currency  2787 non-null   object \n",
            " 1   close     2787 non-null   float64\n",
            " 2   opne      2787 non-null   float64\n",
            " 3   high      2787 non-null   float64\n",
            " 4   low       2787 non-null   float64\n",
            "dtypes: float64(4), object(1)\n",
            "memory usage: 130.6+ KB\n"
          ]
        }
      ]
    },
    {
      "cell_type": "code",
      "source": [
        "df.columns"
      ],
      "metadata": {
        "colab": {
          "base_uri": "https://localhost:8080/"
        },
        "id": "XOHjHWmJSNF4",
        "outputId": "6bda507a-86fa-4ff9-9f21-cccee8f2cb40"
      },
      "execution_count": 5,
      "outputs": [
        {
          "output_type": "execute_result",
          "data": {
            "text/plain": [
              "Index(['currency', 'close', 'opne', 'high', 'low'], dtype='object')"
            ]
          },
          "metadata": {},
          "execution_count": 5
        }
      ]
    },
    {
      "cell_type": "code",
      "source": [
        "df.isnull().sum()"
      ],
      "metadata": {
        "colab": {
          "base_uri": "https://localhost:8080/"
        },
        "id": "bhHIFS-FSVqf",
        "outputId": "0345f78b-7422-4d8d-c7a8-116859ec85b4"
      },
      "execution_count": 6,
      "outputs": [
        {
          "output_type": "execute_result",
          "data": {
            "text/plain": [
              "currency    0\n",
              "close       0\n",
              "opne        0\n",
              "high        0\n",
              "low         0\n",
              "dtype: int64"
            ]
          },
          "metadata": {},
          "execution_count": 6
        }
      ]
    },
    {
      "cell_type": "code",
      "source": [
        "\n",
        "# Only want closing price for each day\n",
        "bf = pd.DataFrame(df[\"close\"]).rename(columns={\"close\": \"price\"})\n",
        "bf.head()"
      ],
      "metadata": {
        "colab": {
          "base_uri": "https://localhost:8080/",
          "height": 237
        },
        "id": "4uAVDnPE2Qg_",
        "outputId": "6ba1ade0-fffb-4d17-99a7-eba92577e2d7"
      },
      "execution_count": 7,
      "outputs": [
        {
          "output_type": "execute_result",
          "data": {
            "text/plain": [
              "                price\n",
              "Date                 \n",
              "2013-10-01  123.65499\n",
              "2013-10-02  125.45500\n",
              "2013-10-03  108.58483\n",
              "2013-10-04  118.67466\n",
              "2013-10-05  121.33866"
            ],
            "text/html": [
              "\n",
              "  <div id=\"df-d070c3eb-2d33-4a19-b713-6b7ee8062b32\" class=\"colab-df-container\">\n",
              "    <div>\n",
              "<style scoped>\n",
              "    .dataframe tbody tr th:only-of-type {\n",
              "        vertical-align: middle;\n",
              "    }\n",
              "\n",
              "    .dataframe tbody tr th {\n",
              "        vertical-align: top;\n",
              "    }\n",
              "\n",
              "    .dataframe thead th {\n",
              "        text-align: right;\n",
              "    }\n",
              "</style>\n",
              "<table border=\"1\" class=\"dataframe\">\n",
              "  <thead>\n",
              "    <tr style=\"text-align: right;\">\n",
              "      <th></th>\n",
              "      <th>price</th>\n",
              "    </tr>\n",
              "    <tr>\n",
              "      <th>Date</th>\n",
              "      <th></th>\n",
              "    </tr>\n",
              "  </thead>\n",
              "  <tbody>\n",
              "    <tr>\n",
              "      <th>2013-10-01</th>\n",
              "      <td>123.65499</td>\n",
              "    </tr>\n",
              "    <tr>\n",
              "      <th>2013-10-02</th>\n",
              "      <td>125.45500</td>\n",
              "    </tr>\n",
              "    <tr>\n",
              "      <th>2013-10-03</th>\n",
              "      <td>108.58483</td>\n",
              "    </tr>\n",
              "    <tr>\n",
              "      <th>2013-10-04</th>\n",
              "      <td>118.67466</td>\n",
              "    </tr>\n",
              "    <tr>\n",
              "      <th>2013-10-05</th>\n",
              "      <td>121.33866</td>\n",
              "    </tr>\n",
              "  </tbody>\n",
              "</table>\n",
              "</div>\n",
              "    <div class=\"colab-df-buttons\">\n",
              "\n",
              "  <div class=\"colab-df-container\">\n",
              "    <button class=\"colab-df-convert\" onclick=\"convertToInteractive('df-d070c3eb-2d33-4a19-b713-6b7ee8062b32')\"\n",
              "            title=\"Convert this dataframe to an interactive table.\"\n",
              "            style=\"display:none;\">\n",
              "\n",
              "  <svg xmlns=\"http://www.w3.org/2000/svg\" height=\"24px\" viewBox=\"0 -960 960 960\">\n",
              "    <path d=\"M120-120v-720h720v720H120Zm60-500h600v-160H180v160Zm220 220h160v-160H400v160Zm0 220h160v-160H400v160ZM180-400h160v-160H180v160Zm440 0h160v-160H620v160ZM180-180h160v-160H180v160Zm440 0h160v-160H620v160Z\"/>\n",
              "  </svg>\n",
              "    </button>\n",
              "\n",
              "  <style>\n",
              "    .colab-df-container {\n",
              "      display:flex;\n",
              "      gap: 12px;\n",
              "    }\n",
              "\n",
              "    .colab-df-convert {\n",
              "      background-color: #E8F0FE;\n",
              "      border: none;\n",
              "      border-radius: 50%;\n",
              "      cursor: pointer;\n",
              "      display: none;\n",
              "      fill: #1967D2;\n",
              "      height: 32px;\n",
              "      padding: 0 0 0 0;\n",
              "      width: 32px;\n",
              "    }\n",
              "\n",
              "    .colab-df-convert:hover {\n",
              "      background-color: #E2EBFA;\n",
              "      box-shadow: 0px 1px 2px rgba(60, 64, 67, 0.3), 0px 1px 3px 1px rgba(60, 64, 67, 0.15);\n",
              "      fill: #174EA6;\n",
              "    }\n",
              "\n",
              "    .colab-df-buttons div {\n",
              "      margin-bottom: 4px;\n",
              "    }\n",
              "\n",
              "    [theme=dark] .colab-df-convert {\n",
              "      background-color: #3B4455;\n",
              "      fill: #D2E3FC;\n",
              "    }\n",
              "\n",
              "    [theme=dark] .colab-df-convert:hover {\n",
              "      background-color: #434B5C;\n",
              "      box-shadow: 0px 1px 3px 1px rgba(0, 0, 0, 0.15);\n",
              "      filter: drop-shadow(0px 1px 2px rgba(0, 0, 0, 0.3));\n",
              "      fill: #FFFFFF;\n",
              "    }\n",
              "  </style>\n",
              "\n",
              "    <script>\n",
              "      const buttonEl =\n",
              "        document.querySelector('#df-d070c3eb-2d33-4a19-b713-6b7ee8062b32 button.colab-df-convert');\n",
              "      buttonEl.style.display =\n",
              "        google.colab.kernel.accessAllowed ? 'block' : 'none';\n",
              "\n",
              "      async function convertToInteractive(key) {\n",
              "        const element = document.querySelector('#df-d070c3eb-2d33-4a19-b713-6b7ee8062b32');\n",
              "        const dataTable =\n",
              "          await google.colab.kernel.invokeFunction('convertToInteractive',\n",
              "                                                    [key], {});\n",
              "        if (!dataTable) return;\n",
              "\n",
              "        const docLinkHtml = 'Like what you see? Visit the ' +\n",
              "          '<a target=\"_blank\" href=https://colab.research.google.com/notebooks/data_table.ipynb>data table notebook</a>'\n",
              "          + ' to learn more about interactive tables.';\n",
              "        element.innerHTML = '';\n",
              "        dataTable['output_type'] = 'display_data';\n",
              "        await google.colab.output.renderOutput(dataTable, element);\n",
              "        const docLink = document.createElement('div');\n",
              "        docLink.innerHTML = docLinkHtml;\n",
              "        element.appendChild(docLink);\n",
              "      }\n",
              "    </script>\n",
              "  </div>\n",
              "\n",
              "\n",
              "<div id=\"df-d8a405df-f6f5-4a25-9f90-c94f324fdc06\">\n",
              "  <button class=\"colab-df-quickchart\" onclick=\"quickchart('df-d8a405df-f6f5-4a25-9f90-c94f324fdc06')\"\n",
              "            title=\"Suggest charts\"\n",
              "            style=\"display:none;\">\n",
              "\n",
              "<svg xmlns=\"http://www.w3.org/2000/svg\" height=\"24px\"viewBox=\"0 0 24 24\"\n",
              "     width=\"24px\">\n",
              "    <g>\n",
              "        <path d=\"M19 3H5c-1.1 0-2 .9-2 2v14c0 1.1.9 2 2 2h14c1.1 0 2-.9 2-2V5c0-1.1-.9-2-2-2zM9 17H7v-7h2v7zm4 0h-2V7h2v10zm4 0h-2v-4h2v4z\"/>\n",
              "    </g>\n",
              "</svg>\n",
              "  </button>\n",
              "\n",
              "<style>\n",
              "  .colab-df-quickchart {\n",
              "      --bg-color: #E8F0FE;\n",
              "      --fill-color: #1967D2;\n",
              "      --hover-bg-color: #E2EBFA;\n",
              "      --hover-fill-color: #174EA6;\n",
              "      --disabled-fill-color: #AAA;\n",
              "      --disabled-bg-color: #DDD;\n",
              "  }\n",
              "\n",
              "  [theme=dark] .colab-df-quickchart {\n",
              "      --bg-color: #3B4455;\n",
              "      --fill-color: #D2E3FC;\n",
              "      --hover-bg-color: #434B5C;\n",
              "      --hover-fill-color: #FFFFFF;\n",
              "      --disabled-bg-color: #3B4455;\n",
              "      --disabled-fill-color: #666;\n",
              "  }\n",
              "\n",
              "  .colab-df-quickchart {\n",
              "    background-color: var(--bg-color);\n",
              "    border: none;\n",
              "    border-radius: 50%;\n",
              "    cursor: pointer;\n",
              "    display: none;\n",
              "    fill: var(--fill-color);\n",
              "    height: 32px;\n",
              "    padding: 0;\n",
              "    width: 32px;\n",
              "  }\n",
              "\n",
              "  .colab-df-quickchart:hover {\n",
              "    background-color: var(--hover-bg-color);\n",
              "    box-shadow: 0 1px 2px rgba(60, 64, 67, 0.3), 0 1px 3px 1px rgba(60, 64, 67, 0.15);\n",
              "    fill: var(--button-hover-fill-color);\n",
              "  }\n",
              "\n",
              "  .colab-df-quickchart-complete:disabled,\n",
              "  .colab-df-quickchart-complete:disabled:hover {\n",
              "    background-color: var(--disabled-bg-color);\n",
              "    fill: var(--disabled-fill-color);\n",
              "    box-shadow: none;\n",
              "  }\n",
              "\n",
              "  .colab-df-spinner {\n",
              "    border: 2px solid var(--fill-color);\n",
              "    border-color: transparent;\n",
              "    border-bottom-color: var(--fill-color);\n",
              "    animation:\n",
              "      spin 1s steps(1) infinite;\n",
              "  }\n",
              "\n",
              "  @keyframes spin {\n",
              "    0% {\n",
              "      border-color: transparent;\n",
              "      border-bottom-color: var(--fill-color);\n",
              "      border-left-color: var(--fill-color);\n",
              "    }\n",
              "    20% {\n",
              "      border-color: transparent;\n",
              "      border-left-color: var(--fill-color);\n",
              "      border-top-color: var(--fill-color);\n",
              "    }\n",
              "    30% {\n",
              "      border-color: transparent;\n",
              "      border-left-color: var(--fill-color);\n",
              "      border-top-color: var(--fill-color);\n",
              "      border-right-color: var(--fill-color);\n",
              "    }\n",
              "    40% {\n",
              "      border-color: transparent;\n",
              "      border-right-color: var(--fill-color);\n",
              "      border-top-color: var(--fill-color);\n",
              "    }\n",
              "    60% {\n",
              "      border-color: transparent;\n",
              "      border-right-color: var(--fill-color);\n",
              "    }\n",
              "    80% {\n",
              "      border-color: transparent;\n",
              "      border-right-color: var(--fill-color);\n",
              "      border-bottom-color: var(--fill-color);\n",
              "    }\n",
              "    90% {\n",
              "      border-color: transparent;\n",
              "      border-bottom-color: var(--fill-color);\n",
              "    }\n",
              "  }\n",
              "</style>\n",
              "\n",
              "  <script>\n",
              "    async function quickchart(key) {\n",
              "      const quickchartButtonEl =\n",
              "        document.querySelector('#' + key + ' button');\n",
              "      quickchartButtonEl.disabled = true;  // To prevent multiple clicks.\n",
              "      quickchartButtonEl.classList.add('colab-df-spinner');\n",
              "      try {\n",
              "        const charts = await google.colab.kernel.invokeFunction(\n",
              "            'suggestCharts', [key], {});\n",
              "      } catch (error) {\n",
              "        console.error('Error during call to suggestCharts:', error);\n",
              "      }\n",
              "      quickchartButtonEl.classList.remove('colab-df-spinner');\n",
              "      quickchartButtonEl.classList.add('colab-df-quickchart-complete');\n",
              "    }\n",
              "    (() => {\n",
              "      let quickchartButtonEl =\n",
              "        document.querySelector('#df-d8a405df-f6f5-4a25-9f90-c94f324fdc06 button');\n",
              "      quickchartButtonEl.style.display =\n",
              "        google.colab.kernel.accessAllowed ? 'block' : 'none';\n",
              "    })();\n",
              "  </script>\n",
              "</div>\n",
              "\n",
              "    </div>\n",
              "  </div>\n"
            ],
            "application/vnd.google.colaboratory.intrinsic+json": {
              "type": "dataframe",
              "variable_name": "bf",
              "summary": "{\n  \"name\": \"bf\",\n  \"rows\": 2787,\n  \"fields\": [\n    {\n      \"column\": \"Date\",\n      \"properties\": {\n        \"dtype\": \"date\",\n        \"min\": \"2013-10-01 00:00:00\",\n        \"max\": \"2021-05-18 00:00:00\",\n        \"num_unique_values\": 2787,\n        \"samples\": [\n          \"2019-06-11 00:00:00\",\n          \"2021-05-03 00:00:00\",\n          \"2017-10-05 00:00:00\"\n        ],\n        \"semantic_type\": \"\",\n        \"description\": \"\"\n      }\n    },\n    {\n      \"column\": \"price\",\n      \"properties\": {\n        \"dtype\": \"number\",\n        \"std\": 10887.84744436952,\n        \"min\": 108.58483,\n        \"max\": 63346.7890351052,\n        \"num_unique_values\": 2787,\n        \"samples\": [\n          7954.0062377205,\n          56427.0431250152,\n          4186.78374\n        ],\n        \"semantic_type\": \"\",\n        \"description\": \"\"\n      }\n    }\n  ]\n}"
            }
          },
          "metadata": {},
          "execution_count": 7
        }
      ]
    },
    {
      "cell_type": "code",
      "source": [
        "import matplotlib.pyplot as plt\n",
        "plt.figure(figsize=(20, 8))\n",
        "plt.plot(df.index[-150:], df['close'][-150:])"
      ],
      "metadata": {
        "colab": {
          "base_uri": "https://localhost:8080/",
          "height": 470
        },
        "id": "pvfy7k4ASXJV",
        "outputId": "952ebb71-e0de-4cf6-ec41-f65b4367e511"
      },
      "execution_count": 8,
      "outputs": [
        {
          "output_type": "execute_result",
          "data": {
            "text/plain": [
              "[<matplotlib.lines.Line2D at 0x7f3739e31a80>]"
            ]
          },
          "metadata": {},
          "execution_count": 8
        },
        {
          "output_type": "display_data",
          "data": {
            "text/plain": [
              "<Figure size 2000x800 with 1 Axes>"
            ],
            "image/png": "[encoded data removed]"
          },
          "metadata": {}
        }
      ]
    },
    {
      "cell_type": "markdown",
      "source": [
        "##Split the dataset"
      ],
      "metadata": {
        "id": "7XFwFJt2_HLs"
      }
    },
    {
      "cell_type": "code",
      "source": [
        "# Create a function to plot time series data\n",
        "def plot_time_series(timesteps, values, format='.', start=0, end=None, label=None):\n",
        "  \"\"\"\n",
        "  Plots a timesteps (a series of points in time) against values (a series of values across timesteps).\n",
        "\n",
        "  Parameters\n",
        "  ---------\n",
        "  timesteps : array of timesteps\n",
        "  values : array of values across time\n",
        "  format : style of plot, default \".\"\n",
        "  start : where to start the plot (setting a value will index from start of timesteps & values)\n",
        "  end : where to end the plot (setting a value will index from end of timesteps & values)\n",
        "  label : label to show on plot of values\n",
        "  \"\"\"\n",
        "  # Plot the series\n",
        "  plt.plot(timesteps[start:end], values[start:end], format, label=label)\n",
        "  plt.xlabel(\"Time\")\n",
        "  plt.ylabel(\"BTC Price\")\n",
        "  if label:\n",
        "    plt.legend(fontsize=14) # make label bigger\n",
        "  plt.grid(True)"
      ],
      "metadata": {
        "id": "D4Tk7l3fnTAP"
      },
      "execution_count": 9,
      "outputs": []
    },
    {
      "cell_type": "code",
      "source": [
        "from sklearn.model_selection import train_test_split\n",
        "\n",
        "X = df.index\n",
        "y = df.close\n",
        "\n",
        "X_train, X_test, y_train, y_test = train_test_split(X, y, test_size=0.2, random_state=42, shuffle=False)\n",
        "len(X_train), len(X_test)"
      ],
      "metadata": {
        "colab": {
          "base_uri": "https://localhost:8080/"
        },
        "id": "0g8IH8xQSpck",
        "outputId": "6a79d6cc-9eda-4e35-be8c-9409698c8748"
      },
      "execution_count": 10,
      "outputs": [
        {
          "output_type": "execute_result",
          "data": {
            "text/plain": [
              "(2229, 558)"
            ]
          },
          "metadata": {},
          "execution_count": 10
        }
      ]
    },
    {
      "cell_type": "code",
      "source": [
        "plt.figure(figsize=(15, 5))\n",
        "plot_time_series(X_train, y_train)\n",
        "plot_time_series(X_test, y_test)"
      ],
      "metadata": {
        "colab": {
          "base_uri": "https://localhost:8080/",
          "height": 399
        },
        "id": "O6vXWOglBkyx",
        "outputId": "9f3046bf-0c4b-4aa4-df86-1729e2fff591"
      },
      "execution_count": 11,
      "outputs": [
        {
          "output_type": "display_data",
          "data": {
            "text/plain": [
              "<Figure size 1500x500 with 1 Axes>"
            ],
            "image/png": "[encoded data removed]"
          },
          "metadata": {}
        }
      ]
    },
    {
      "cell_type": "markdown",
      "source": [
        "##Model Experiments\n",
        "\n",
        "Termes to be fimilier with:\n",
        "* **Horizen**: number of timesteps into the future we're going to predict.\n",
        "* **Window size**: number of timesteps we are going to use to predict.\n",
        "\n",
        "Models:\n",
        "* 1.Naive Bayes (baseline)\n",
        "* 2.Dense Model (Horizen=1, window=7)\n",
        "* 3.Same as Model2 (Horizen=1, window=30)\n",
        "* 4.Same as Model2 (Horizen=7, window=30)\n",
        "* 5.Conv1D\n",
        "* 6.LSTM\n",
        "* 7.Same as Model 2 but with multivariet data\n",
        "* 8.N-BEATS algorithm\n",
        "* 9.Ensemble (multiple models stacked togather)\n",
        "* 10.Future prediction model\n",
        "* 11.Same as Model 1"
      ],
      "metadata": {
        "id": "mMiwhNUIal_C"
      }
    },
    {
      "cell_type": "markdown",
      "source": [
        "### Model_1 Naive Bayes Model\n",
        "\n",
        "Formula:\n",
        "$$\\hat{y}_{t} = y_{t-1}$$\n",
        "\n",
        "> The prediction at timestep t (y-hat) is equal to the value at timestep t-1 (previous timestep) - This is the Horizen of 1."
      ],
      "metadata": {
        "id": "IHLa2HRybrum"
      }
    },
    {
      "cell_type": "code",
      "source": [
        "# Create a naïve forecast\n",
        "naive_forecast = y_test[:-1] # Naïve forecast equals every value excluding the last value\n",
        "naive_forecast[:10], naive_forecast[-10:] # View frist 10 and last 10"
      ],
      "metadata": {
        "colab": {
          "base_uri": "https://localhost:8080/"
        },
        "id": "XNYjJgDxhWPH",
        "outputId": "54d0edf9-ecfc-4c22-bd1f-3529d9c57f15"
      },
      "execution_count": 12,
      "outputs": [
        {
          "output_type": "execute_result",
          "data": {
            "text/plain": [
              "(Date\n",
              " 2019-11-08    9226.485821\n",
              " 2019-11-09    8794.358645\n",
              " 2019-11-10    8798.042055\n",
              " 2019-11-11    9081.186878\n",
              " 2019-11-12    8711.534339\n",
              " 2019-11-13    8760.892718\n",
              " 2019-11-14    8749.520591\n",
              " 2019-11-15    8656.970922\n",
              " 2019-11-16    8500.643558\n",
              " 2019-11-17    8469.260899\n",
              " Name: close, dtype: float64,\n",
              " Date\n",
              " 2021-05-08    57107.120672\n",
              " 2021-05-09    58788.209679\n",
              " 2021-05-10    58102.191426\n",
              " 2021-05-11    55715.546651\n",
              " 2021-05-12    56573.555472\n",
              " 2021-05-13    52147.821187\n",
              " 2021-05-14    49764.132082\n",
              " 2021-05-15    50032.693137\n",
              " 2021-05-16    47885.625255\n",
              " 2021-05-17    45604.615754\n",
              " Name: close, dtype: float64)"
            ]
          },
          "metadata": {},
          "execution_count": 12
        }
      ]
    },
    {
      "cell_type": "code",
      "source": [
        "# Plot naive forecast\n",
        "plt.figure(figsize=(15, 5))\n",
        "# plot_time_series(timesteps=X_train, values=y_train, label=\"Train data\")\n",
        "plot_time_series(timesteps=X_test, start=300, values=y_test, label=\"Test data\")\n",
        "plot_time_series(timesteps=X_test[1:], start=300, values=naive_forecast, format=\"-\", label=\"Naive forecast\")"
      ],
      "metadata": {
        "colab": {
          "base_uri": "https://localhost:8080/",
          "height": 399
        },
        "id": "klpjgBqqhxI4",
        "outputId": "5486b95a-6d3a-4a87-e71a-1be6373279a2"
      },
      "execution_count": 13,
      "outputs": [
        {
          "output_type": "display_data",
          "data": {
            "text/plain": [
              "<Figure size 1500x500 with 1 Axes>"
            ],
            "image/png": "[encoded data removed]"
          },
          "metadata": {}
        }
      ]
    },
    {
      "cell_type": "markdown",
      "source": [
        "### Some common Evaluating metrics\n",
        "* MAE - Mean Absolute error\n",
        "* MSE - Mean Squared error\n",
        "* Root MSE - root(MSE)\n",
        "* Mean Absolute Percentage Error\n",
        "* Mean Absolute Scaled Error (MASE)\n",
        "\n",
        ">Resourse: https://otexts.com/fpp3/accuracy.html#percentage-errors\n"
      ],
      "metadata": {
        "id": "qJ3KsfxKn1F6"
      }
    },
    {
      "cell_type": "code",
      "source": [
        "import tensorflow as tf"
      ],
      "metadata": {
        "id": "_aVkCDQ8pbwL"
      },
      "execution_count": 14,
      "outputs": []
    },
    {
      "cell_type": "code",
      "source": [
        "# MASE implemented courtesy of sktime - https://github.com/alan-turing-institute/sktime/blob/ee7a06843a44f4aaec7582d847e36073a9ab0566/sktime/performance_metrics/forecasting/_functions.py#L16\n",
        "def mean_absolute_scaled_error(y_true, y_pred):\n",
        "  \"\"\"\n",
        "  Implement MASE (assuming no seasonality of data).\n",
        "  \"\"\"\n",
        "  mae = tf.reduce_mean(tf.abs(y_true - y_pred))\n",
        "\n",
        "  # Find MAE of naive forecast (no seasonality)\n",
        "  mae_naive_no_season = tf.reduce_mean(tf.abs(y_true[1:] - y_true[:-1])) # our seasonality is 1 day (hence the shifting of 1 day)\n",
        "\n",
        "  return mae / mae_naive_no_season"
      ],
      "metadata": {
        "id": "8rtTlFfTsVur"
      },
      "execution_count": 15,
      "outputs": []
    },
    {
      "cell_type": "code",
      "source": [
        "mean_absolute_scaled_error(y_test[1:].values, naive_forecast.values).numpy()"
      ],
      "metadata": {
        "colab": {
          "base_uri": "https://localhost:8080/"
        },
        "id": "CXzu_5YVt-gp",
        "outputId": "b21f27a6-5e94-42be-cef8-91ad400ae05d"
      },
      "execution_count": 16,
      "outputs": [
        {
          "output_type": "execute_result",
          "data": {
            "text/plain": [
              "0.9995699939182624"
            ]
          },
          "metadata": {},
          "execution_count": 16
        }
      ]
    },
    {
      "cell_type": "code",
      "source": [
        "## Creating the evaluation matrix function\n",
        "def calculate_evaluation_metrics(y_true, y_pred):\n",
        "  y_true = tf.cast(y_true, dtype=tf.float32)\n",
        "  y_pred = tf.cast(y_pred, dtype=tf.float32)\n",
        "\n",
        "  mae = tf.keras.metrics.mean_absolute_error(y_true, y_pred)\n",
        "  mse = tf.keras.metrics.mean_squared_error(y_true, y_pred)\n",
        "  rmse = tf.sqrt(mse)\n",
        "  mape = tf.keras.metrics.mean_absolute_percentage_error(y_true, y_pred)\n",
        "  mase = mean_absolute_scaled_error(y_true, y_pred)\n",
        "\n",
        "  return {\"mae\": mae.numpy(),\n",
        "          \"mse\": mse.numpy(),\n",
        "          \"rmse\": rmse.numpy(),\n",
        "          \"mape\": mape.numpy(),\n",
        "          \"mase\": mase.numpy()}"
      ],
      "metadata": {
        "id": "hQaUFkSszH7s"
      },
      "execution_count": 17,
      "outputs": []
    },
    {
      "cell_type": "code",
      "source": [
        "naive_bayes_eval = calculate_evaluation_metrics(y_test[1:].values, naive_forecast.values)\n",
        "naive_bayes_eval"
      ],
      "metadata": {
        "colab": {
          "base_uri": "https://localhost:8080/"
        },
        "id": "ISkq8W7K0-VH",
        "outputId": "86722f23-25ef-4499-b18f-737b649cce43"
      },
      "execution_count": 18,
      "outputs": [
        {
          "output_type": "execute_result",
          "data": {
            "text/plain": [
              "{'mae': 567.9802,\n",
              " 'mse': 1147547.0,\n",
              " 'rmse': 1071.2362,\n",
              " 'mape': 2.516525,\n",
              " 'mase': 0.99957}"
            ]
          },
          "metadata": {},
          "execution_count": 18
        }
      ]
    },
    {
      "cell_type": "markdown",
      "source": [
        "## Format Dataset: Windowing our dataset"
      ],
      "metadata": {
        "id": "ORQtxy091O3k"
      }
    },
    {
      "cell_type": "code",
      "source": [
        "btc_price = df.close.to_numpy()"
      ],
      "metadata": {
        "id": "_EqXeWfZhs2K"
      },
      "execution_count": 19,
      "outputs": []
    },
    {
      "cell_type": "code",
      "source": [
        "btc_price"
      ],
      "metadata": {
        "colab": {
          "base_uri": "https://localhost:8080/"
        },
        "id": "U448qqkUjwCt",
        "outputId": "6e7cc951-8b5d-4b61-f364-68534c2c2ea5"
      },
      "execution_count": 20,
      "outputs": [
        {
          "output_type": "execute_result",
          "data": {
            "text/plain": [
              "array([  123.65499   ,   125.455     ,   108.58483   , ...,\n",
              "       47885.62525472, 45604.61575361, 43144.47129086])"
            ]
          },
          "metadata": {},
          "execution_count": 20
        }
      ]
    },
    {
      "cell_type": "code",
      "source": [
        "print(f\"We want to use {btc_price[:7]}, to predict this: {btc_price[7]}\")"
      ],
      "metadata": {
        "colab": {
          "base_uri": "https://localhost:8080/"
        },
        "id": "aNpIncrmj1vJ",
        "outputId": "1de3657b-55f7-4485-f780-790e72de046c"
      },
      "execution_count": 21,
      "outputs": [
        {
          "output_type": "stream",
          "name": "stdout",
          "text": [
            "We want to use [123.65499 125.455   108.58483 118.67466 121.33866 120.65533 121.795  ], to predict this: 123.033\n"
          ]
        }
      ]
    },
    {
      "cell_type": "code",
      "source": [
        "HORIZON = 1\n",
        "WINDOW = 7"
      ],
      "metadata": {
        "id": "LARLyMqJkEc7"
      },
      "execution_count": 22,
      "outputs": []
    },
    {
      "cell_type": "code",
      "source": [
        "def get_labelled_window(x, horizon=HORIZON):\n",
        "  return x[:, :-horizon], x[: , -horizon:]"
      ],
      "metadata": {
        "id": "18fePNr6kVrN"
      },
      "execution_count": 23,
      "outputs": []
    },
    {
      "cell_type": "code",
      "source": [
        "data, label = get_labelled_window(tf.expand_dims(tf.range(8), axis=0))"
      ],
      "metadata": {
        "id": "bxq86FOdlNTe"
      },
      "execution_count": 24,
      "outputs": []
    },
    {
      "cell_type": "code",
      "source": [
        "tf.squeeze(data[0]).numpy(), tf.squeeze(label[0]).numpy()"
      ],
      "metadata": {
        "colab": {
          "base_uri": "https://localhost:8080/"
        },
        "id": "UTa4N-m1mmmx",
        "outputId": "a61a687e-5268-4638-a3de-808933ddce5c"
      },
      "execution_count": 25,
      "outputs": [
        {
          "output_type": "execute_result",
          "data": {
            "text/plain": [
              "(array([0, 1, 2, 3, 4, 5, 6], dtype=int32), 7)"
            ]
          },
          "metadata": {},
          "execution_count": 25
        }
      ]
    },
    {
      "cell_type": "code",
      "source": [
        "data = tf.squeeze(data).numpy()\n",
        "label = tf.squeeze(label).numpy()"
      ],
      "metadata": {
        "id": "5TuQrWIJnMuc"
      },
      "execution_count": 26,
      "outputs": []
    },
    {
      "cell_type": "code",
      "source": [
        "data, label"
      ],
      "metadata": {
        "id": "1Nmz2HTBnYew",
        "outputId": "8c50f5bc-07f5-4021-dbfe-cbc8e91c3ef0",
        "colab": {
          "base_uri": "https://localhost:8080/"
        }
      },
      "execution_count": 27,
      "outputs": [
        {
          "output_type": "execute_result",
          "data": {
            "text/plain": [
              "(array([0, 1, 2, 3, 4, 5, 6], dtype=int32), 7)"
            ]
          },
          "metadata": {},
          "execution_count": 27
        }
      ]
    },
    {
      "cell_type": "code",
      "source": [
        "prices = btc_price"
      ],
      "metadata": {
        "id": "A5nOsPmVJmDT"
      },
      "execution_count": 28,
      "outputs": []
    },
    {
      "cell_type": "code",
      "source": [
        "import numpy as np\n",
        "# Create function to view NumPy arrays as windows\n",
        "def make_windows(x, window_size=7, horizon=1):\n",
        "  \"\"\"\n",
        "  Turns a 1D array into a 2D array of sequential windows of window_size.\n",
        "  \"\"\"\n",
        "  # 1. Create a window of specific window_size (add the horizon on the end for later labelling)\n",
        "  window_step = np.expand_dims(np.arange(window_size+horizon), axis=0)\n",
        "  # print(f\"Window step:\\n {window_step}\")\n",
        "\n",
        "  # 2. Create a 2D array of multiple window steps (minus 1 to account for 0 indexing)\n",
        "  window_indexes = window_step + np.expand_dims(np.arange(len(x)-(window_size+horizon-1)), axis=0).T # create 2D array of windows of size window_size\n",
        "  # print(f\"Window indexes:\\n {window_indexes[:3], window_indexes[-3:], window_indexes.shape}\")\n",
        "\n",
        "  # 3. Index on the target array (time series) with 2D array of multiple window steps\n",
        "  windowed_array = x[window_indexes]\n",
        "\n",
        "  # 4. Get the labelled windows\n",
        "  windows, labels = get_labelled_window(windowed_array, horizon=horizon)\n",
        "\n",
        "  return windows, labels"
      ],
      "metadata": {
        "id": "L8EqMnbglrEx"
      },
      "execution_count": 29,
      "outputs": []
    },
    {
      "cell_type": "code",
      "source": [
        "full_windows, full_labels = make_windows(btc_price, window_size=WINDOW, horizon=HORIZON)\n",
        "len(full_windows), len(full_labels)"
      ],
      "metadata": {
        "colab": {
          "base_uri": "https://localhost:8080/"
        },
        "id": "FLvI7Sn7_VkT",
        "outputId": "a29e6771-28fa-4e79-c8b2-455e8f72679d"
      },
      "execution_count": 30,
      "outputs": [
        {
          "output_type": "execute_result",
          "data": {
            "text/plain": [
              "(2780, 2780)"
            ]
          },
          "metadata": {},
          "execution_count": 30
        }
      ]
    },
    {
      "cell_type": "code",
      "source": [
        "## View first 3\n",
        "for i in range(3):\n",
        "  print(full_windows[i], full_labels[i])"
      ],
      "metadata": {
        "colab": {
          "base_uri": "https://localhost:8080/"
        },
        "id": "G9bWisUEIUjV",
        "outputId": "6499c304-36aa-4651-a35c-5f06d2563990"
      },
      "execution_count": 31,
      "outputs": [
        {
          "output_type": "stream",
          "name": "stdout",
          "text": [
            "[123.65499 125.455   108.58483 118.67466 121.33866 120.65533 121.795  ] [123.033]\n",
            "[125.455   108.58483 118.67466 121.33866 120.65533 121.795   123.033  ] [124.049]\n",
            "[108.58483 118.67466 121.33866 120.65533 121.795   123.033   124.049  ] [125.96116]\n"
          ]
        }
      ]
    },
    {
      "cell_type": "markdown",
      "source": [
        "### Turning the windows and labels into train_data and test_data\n"
      ],
      "metadata": {
        "id": "hjGgN44uMNtu"
      }
    },
    {
      "cell_type": "code",
      "source": [
        "from sklearn.model_selection import train_test_split\n",
        "X_train, X_test, y_train, y_test = train_test_split(full_windows, full_labels, test_size=0.2, shuffle=False)\n",
        "len(X_train), len(X_test)"
      ],
      "metadata": {
        "colab": {
          "base_uri": "https://localhost:8080/"
        },
        "id": "7FAQx-A2Lk2e",
        "outputId": "1525c543-e712-430b-8ae8-71de29f30cd2"
      },
      "execution_count": 32,
      "outputs": [
        {
          "output_type": "execute_result",
          "data": {
            "text/plain": [
              "(2224, 556)"
            ]
          },
          "metadata": {},
          "execution_count": 32
        }
      ]
    },
    {
      "cell_type": "markdown",
      "source": [
        "### Building model checkpoint"
      ],
      "metadata": {
        "id": "TDEHWJz6Mtas"
      }
    },
    {
      "cell_type": "code",
      "source": [
        "import os\n",
        "def model_checkpoint(model_name, path='model_experiment'):\n",
        "  return tf.keras.callbacks.ModelCheckpoint(os.path.join(path, model_name),\n",
        "                                            save_best_only=True,\n",
        "                                            save_freq='epoch')"
      ],
      "metadata": {
        "id": "pyeJPVzOPLYv"
      },
      "execution_count": 33,
      "outputs": []
    },
    {
      "cell_type": "markdown",
      "source": [
        "## Model_1: Dense model with window=7, horizon=1"
      ],
      "metadata": {
        "id": "7J8Ga8khTgQG"
      }
    },
    {
      "cell_type": "code",
      "source": [
        "tf.random.set_seed(42)\n",
        "\n",
        "model = tf.keras.models.Sequential([\n",
        "    tf.keras.layers.Dense(units = 128, activation='relu'),\n",
        "    tf.keras.layers.Dense(units=HORIZON, activation='linear')\n",
        "])\n",
        "\n",
        "model.compile(loss='mae',\n",
        "              optimizer='Adam',\n",
        "              metrics=['mae', 'mse'])\n",
        "\n",
        "history_1 = model.fit(X_train,\n",
        "                      y_train,\n",
        "                      epochs=100,\n",
        "                      batch_size=128,\n",
        "                      verbose=0,\n",
        "                      validation_data=(X_test, y_test),\n",
        "                      callbacks=[model_checkpoint('model_1')])"
      ],
      "metadata": {
        "id": "Edf98WsmQG3J"
      },
      "execution_count": 34,
      "outputs": []
    },
    {
      "cell_type": "code",
      "source": [
        "model_1 = tf.keras.models.load_model('model_experiment/model_1/')\n",
        "model_1.evaluate(X_test, y_test)"
      ],
      "metadata": {
        "colab": {
          "base_uri": "https://localhost:8080/"
        },
        "id": "NFLLPu3kVCvD",
        "outputId": "b1115c9d-9467-40f1-8a70-65e80f077cd0"
      },
      "execution_count": 35,
      "outputs": [
        {
          "output_type": "stream",
          "name": "stdout",
          "text": [
            "18/18 [==============================] - 0s 4ms/step - loss: 578.1647 - mae: 578.1647 - mse: 1191063.5000\n"
          ]
        },
        {
          "output_type": "execute_result",
          "data": {
            "text/plain": [
              "[578.1646728515625, 578.1646728515625, 1191063.5]"
            ]
          },
          "metadata": {},
          "execution_count": 35
        }
      ]
    },
    {
      "cell_type": "code",
      "source": [
        "def make_preds(model, input_data):\n",
        "  forecast = model.predict(input_data)\n",
        "  return tf.squeeze(forecast)"
      ],
      "metadata": {
        "id": "JabgsnzRXTo6"
      },
      "execution_count": 36,
      "outputs": []
    },
    {
      "cell_type": "code",
      "source": [
        "## Making some predictions\n",
        "model_1_preds = make_preds(model_1, X_test)"
      ],
      "metadata": {
        "colab": {
          "base_uri": "https://localhost:8080/"
        },
        "id": "bLm8ky_4yun-",
        "outputId": "8f357697-7174-4301-804d-07cb53dbe2f7"
      },
      "execution_count": 37,
      "outputs": [
        {
          "output_type": "stream",
          "name": "stdout",
          "text": [
            "18/18 [==============================] - 0s 2ms/step\n"
          ]
        }
      ]
    },
    {
      "cell_type": "code",
      "source": [
        "for i in range(10):\n",
        "  print(f\"Actual: {y_test[i]} Predicted: {model_1_preds[i]}\")"
      ],
      "metadata": {
        "colab": {
          "base_uri": "https://localhost:8080/"
        },
        "id": "shgI6GPLzsVG",
        "outputId": "4f300f67-276c-4470-92bf-ee485263b685"
      },
      "execution_count": 38,
      "outputs": [
        {
          "output_type": "stream",
          "name": "stdout",
          "text": [
            "Actual: [8798.04205463] Predicted: 8911.9833984375\n",
            "Actual: [9081.18687849] Predicted: 8803.94140625\n",
            "Actual: [8711.53433917] Predicted: 8993.4765625\n",
            "Actual: [8760.89271814] Predicted: 8845.521484375\n",
            "Actual: [8749.52059102] Predicted: 8779.482421875\n",
            "Actual: [8656.97092235] Predicted: 8680.08203125\n",
            "Actual: [8500.64355816] Predicted: 8745.69140625\n",
            "Actual: [8469.2608989] Predicted: 8550.2021484375\n",
            "Actual: [8537.33965197] Predicted: 8463.28515625\n",
            "Actual: [8205.80636599] Predicted: 8533.6474609375\n"
          ]
        }
      ]
    },
    {
      "cell_type": "code",
      "source": [
        "y_test.shape, model_1_preds.shape"
      ],
      "metadata": {
        "colab": {
          "base_uri": "https://localhost:8080/"
        },
        "id": "ZiKg43By1ASw",
        "outputId": "d1da0806-3731-48ea-a00d-a44b91f41f9d"
      },
      "execution_count": 39,
      "outputs": [
        {
          "output_type": "execute_result",
          "data": {
            "text/plain": [
              "((556, 1), TensorShape([556]))"
            ]
          },
          "metadata": {},
          "execution_count": 39
        }
      ]
    },
    {
      "cell_type": "code",
      "source": [
        "calculate_evaluation_metrics(tf.squeeze(y_test), model_1_preds)"
      ],
      "metadata": {
        "colab": {
          "base_uri": "https://localhost:8080/"
        },
        "id": "E77HMnf_0Gue",
        "outputId": "bb32b175-d062-41a6-e5aa-69189af580a3"
      },
      "execution_count": 40,
      "outputs": [
        {
          "output_type": "execute_result",
          "data": {
            "text/plain": [
              "{'mae': 578.16473,\n",
              " 'mse': 1191063.6,\n",
              " 'rmse': 1091.3586,\n",
              " 'mape': 2.6095393,\n",
              " 'mase': 1.0156753}"
            ]
          },
          "metadata": {},
          "execution_count": 40
        }
      ]
    },
    {
      "cell_type": "code",
      "source": [
        "naive_bayes_eval"
      ],
      "metadata": {
        "colab": {
          "base_uri": "https://localhost:8080/"
        },
        "id": "76SNXgoN1SXR",
        "outputId": "67e93b56-177e-47c3-fef4-100e174b9118"
      },
      "execution_count": 41,
      "outputs": [
        {
          "output_type": "execute_result",
          "data": {
            "text/plain": [
              "{'mae': 567.9802,\n",
              " 'mse': 1147547.0,\n",
              " 'rmse': 1071.2362,\n",
              " 'mape': 2.516525,\n",
              " 'mase': 0.99957}"
            ]
          },
          "metadata": {},
          "execution_count": 41
        }
      ]
    },
    {
      "cell_type": "code",
      "source": [
        "len(naive_forecast.index), len(y_test)"
      ],
      "metadata": {
        "colab": {
          "base_uri": "https://localhost:8080/"
        },
        "id": "OiexSVW76kNe",
        "outputId": "c23ccca7-4180-4845-fc18-9569a07206a2"
      },
      "execution_count": 42,
      "outputs": [
        {
          "output_type": "execute_result",
          "data": {
            "text/plain": [
              "(557, 556)"
            ]
          },
          "metadata": {},
          "execution_count": 42
        }
      ]
    },
    {
      "cell_type": "code",
      "source": [
        "naive_forecast[-1], y_test[-2]"
      ],
      "metadata": {
        "colab": {
          "base_uri": "https://localhost:8080/"
        },
        "id": "gzSWotAN6v-0",
        "outputId": "a0bbe70f-7560-4957-bd95-4e0835bc0ef8"
      },
      "execution_count": 43,
      "outputs": [
        {
          "output_type": "execute_result",
          "data": {
            "text/plain": [
              "(45604.6157536131, array([45604.61575361]))"
            ]
          },
          "metadata": {},
          "execution_count": 43
        }
      ]
    },
    {
      "cell_type": "code",
      "source": [
        "y_test.shape,"
      ],
      "metadata": {
        "colab": {
          "base_uri": "https://localhost:8080/"
        },
        "id": "ouovalW57PG3",
        "outputId": "a3db5451-d452-4dad-85bb-3f1780ce318d"
      },
      "execution_count": 44,
      "outputs": [
        {
          "output_type": "execute_result",
          "data": {
            "text/plain": [
              "((556, 1),)"
            ]
          },
          "metadata": {},
          "execution_count": 44
        }
      ]
    },
    {
      "cell_type": "code",
      "source": [
        "len(y_test), len(model_1_preds)"
      ],
      "metadata": {
        "colab": {
          "base_uri": "https://localhost:8080/"
        },
        "id": "exBqkk-s8Xvc",
        "outputId": "755d5b9a-39d0-40bd-f4dd-ebadd446867e"
      },
      "execution_count": 45,
      "outputs": [
        {
          "output_type": "execute_result",
          "data": {
            "text/plain": [
              "(556, 556)"
            ]
          },
          "metadata": {},
          "execution_count": 45
        }
      ]
    },
    {
      "cell_type": "code",
      "source": [
        "## Plotting the model performance\n",
        "offset = 300\n",
        "plt.figure(figsize=(10, 7))\n",
        "\n",
        "plot_time_series(timesteps=naive_forecast.index[:-1],\n",
        "                 values = tf.squeeze(y_test),\n",
        "                 start=offset,\n",
        "                 label='test_data')\n",
        "\n",
        "plot_time_series(timesteps=naive_forecast.index[:-1],\n",
        "                 values=model_1_preds,\n",
        "                 label='preds',\n",
        "                 start=offset,\n",
        "                 format='-')"
      ],
      "metadata": {
        "colab": {
          "base_uri": "https://localhost:8080/",
          "height": 619
        },
        "id": "ZhaXaDuY2PJl",
        "outputId": "0ba2fa95-7284-4905-ad0c-6024df1c1c74"
      },
      "execution_count": 46,
      "outputs": [
        {
          "output_type": "display_data",
          "data": {
            "text/plain": [
              "<Figure size 1000x700 with 1 Axes>"
            ],
            "image/png": "[encoded data removed]"
          },
          "metadata": {}
        }
      ]
    },
    {
      "cell_type": "markdown",
      "source": [
        "## Model_2: Dense (WINDOW=30 HORIZON=1)"
      ],
      "metadata": {
        "id": "sFNisZjY3hkx"
      }
    },
    {
      "cell_type": "code",
      "source": [
        "HORIZON = 1\n",
        "WINDOW_SIZE = 30"
      ],
      "metadata": {
        "id": "MXTKebr9Upfg"
      },
      "execution_count": 47,
      "outputs": []
    },
    {
      "cell_type": "code",
      "source": [
        "full_windows, full_labels = make_windows(prices, WINDOW_SIZE, HORIZON)\n",
        "full_windows[0], full_labels[0]"
      ],
      "metadata": {
        "colab": {
          "base_uri": "https://localhost:8080/"
        },
        "id": "jNurnFbIVNoF",
        "outputId": "0afb393d-84d4-4145-900d-f8c146fe73ab"
      },
      "execution_count": 48,
      "outputs": [
        {
          "output_type": "execute_result",
          "data": {
            "text/plain": [
              "(array([123.65499, 125.455  , 108.58483, 118.67466, 121.33866, 120.65533,\n",
              "        121.795  , 123.033  , 124.049  , 125.96116, 125.27966, 125.9275 ,\n",
              "        126.38333, 135.24199, 133.20333, 142.76333, 137.92333, 142.95166,\n",
              "        152.55183, 160.33883, 164.31499, 177.63333, 188.29716, 200.70166,\n",
              "        180.355  , 175.03166, 177.6965 , 187.15983, 192.75666, 197.4    ]),\n",
              " array([196.02499]))"
            ]
          },
          "metadata": {},
          "execution_count": 48
        }
      ]
    },
    {
      "cell_type": "code",
      "source": [
        "## Dividing it into training and testing\n",
        "X_train, X_test, y_train, y_test = train_test_split(full_windows, full_labels, test_size=0.2, shuffle=False)\n",
        "len(X_train), len(X_test)"
      ],
      "metadata": {
        "colab": {
          "base_uri": "https://localhost:8080/"
        },
        "id": "E1vnN7FsVtNR",
        "outputId": "66930e4e-7a4b-4140-b9e2-d2a9d1a098c8"
      },
      "execution_count": 49,
      "outputs": [
        {
          "output_type": "execute_result",
          "data": {
            "text/plain": [
              "(2205, 552)"
            ]
          },
          "metadata": {},
          "execution_count": 49
        }
      ]
    },
    {
      "cell_type": "code",
      "source": [
        "tf.random.set_seed(42)\n",
        "\n",
        "model_2 = tf.keras.models.Sequential([\n",
        "    tf.keras.layers.Dense(128, activation='relu'),\n",
        "    tf.keras.layers.Dense(HORIZON, activation='linear')\n",
        "])\n",
        "\n",
        "model_2.compile(loss='mae',\n",
        "                optimizer='Adam',\n",
        "                metrics=['mae', 'mse'])\n",
        "\n",
        "history_2 = model_2.fit(X_train, y_train,\n",
        "                        epochs=100,\n",
        "                        batch_size=128,\n",
        "                        verbose=0,\n",
        "                        validation_data=(X_test, y_test),\n",
        "                        callbacks=[model_checkpoint(\"Model_2\")])"
      ],
      "metadata": {
        "id": "s5vdRCeiWH6r"
      },
      "execution_count": 50,
      "outputs": []
    },
    {
      "cell_type": "code",
      "source": [
        "model_2.evaluate(X_test, y_test)"
      ],
      "metadata": {
        "colab": {
          "base_uri": "https://localhost:8080/"
        },
        "id": "GlMvORp1XlAT",
        "outputId": "c3373ec3-ffe1-4324-c019-6207b1d2d41a"
      },
      "execution_count": 51,
      "outputs": [
        {
          "output_type": "stream",
          "name": "stdout",
          "text": [
            "18/18 [==============================] - 0s 2ms/step - loss: 644.9982 - mae: 644.9982 - mse: 1335629.3750\n"
          ]
        },
        {
          "output_type": "execute_result",
          "data": {
            "text/plain": [
              "[644.9982299804688, 644.9982299804688, 1335629.375]"
            ]
          },
          "metadata": {},
          "execution_count": 51
        }
      ]
    },
    {
      "cell_type": "code",
      "source": [
        "model_2 = tf.keras.models.load_model('/content/model_experiment/Model_2')"
      ],
      "metadata": {
        "id": "maqNKAXTayf2"
      },
      "execution_count": 52,
      "outputs": []
    },
    {
      "cell_type": "code",
      "source": [
        "model_2.evaluate(X_test, y_test)"
      ],
      "metadata": {
        "colab": {
          "base_uri": "https://localhost:8080/"
        },
        "id": "srvX4bHUa97m",
        "outputId": "7c8bbad7-5beb-4c1c-eb82-e404209b8465"
      },
      "execution_count": 53,
      "outputs": [
        {
          "output_type": "stream",
          "name": "stdout",
          "text": [
            "18/18 [==============================] - 0s 3ms/step - loss: 604.2285 - mae: 604.2285 - mse: 1241574.2500\n"
          ]
        },
        {
          "output_type": "execute_result",
          "data": {
            "text/plain": [
              "[604.228515625, 604.228515625, 1241574.25]"
            ]
          },
          "metadata": {},
          "execution_count": 53
        }
      ]
    },
    {
      "cell_type": "code",
      "source": [
        "## Making some predictions\n",
        "model_2_preds = make_preds(model_2, X_test)"
      ],
      "metadata": {
        "colab": {
          "base_uri": "https://localhost:8080/"
        },
        "id": "m7GM9OXIYSlg",
        "outputId": "0b3d3670-4dd8-47c0-8e92-e0dbf64afb3d"
      },
      "execution_count": 54,
      "outputs": [
        {
          "output_type": "stream",
          "name": "stdout",
          "text": [
            "18/18 [==============================] - 0s 2ms/step\n"
          ]
        }
      ]
    },
    {
      "cell_type": "code",
      "source": [
        "for i in range(10):\n",
        "  print(tf.squeeze(y_test[i]).numpy(), model_2_preds[i].numpy())"
      ],
      "metadata": {
        "colab": {
          "base_uri": "https://localhost:8080/"
        },
        "id": "FGtN0wKYYlNt",
        "outputId": "0fd1e5ad-a116-424f-a69e-e4e168e36787"
      },
      "execution_count": 55,
      "outputs": [
        {
          "output_type": "stream",
          "name": "stdout",
          "text": [
            "8749.520591019 8852.086\n",
            "8656.970922354 8824.305\n",
            "8500.6435581622 8759.107\n",
            "8469.2608988992 8615.117\n",
            "8537.3396519676 8364.955\n",
            "8205.8063659942 8334.069\n",
            "8118.4885358003 8147.621\n",
            "8074.8431736099 8313.5\n",
            "7612.7405735024 8115.325\n",
            "7262.1105349483 7771.832\n"
          ]
        }
      ]
    },
    {
      "cell_type": "code",
      "source": [
        "calculate_evaluation_metrics(tf.squeeze(y_test), model_2_preds)"
      ],
      "metadata": {
        "colab": {
          "base_uri": "https://localhost:8080/"
        },
        "id": "9Z3ppJseZCTK",
        "outputId": "53c1c247-afa5-4a7f-eb81-8dbf20068147"
      },
      "execution_count": 56,
      "outputs": [
        {
          "output_type": "execute_result",
          "data": {
            "text/plain": [
              "{'mae': 604.2286,\n",
              " 'mse': 1241574.2,\n",
              " 'rmse': 1114.2595,\n",
              " 'mape': 2.7428854,\n",
              " 'mase': 1.0561975}"
            ]
          },
          "metadata": {},
          "execution_count": 56
        }
      ]
    },
    {
      "cell_type": "code",
      "source": [
        "len(model_2_preds), len(y_test), len(naive_forecast.index)"
      ],
      "metadata": {
        "colab": {
          "base_uri": "https://localhost:8080/"
        },
        "id": "ZnM7KfvUZRB1",
        "outputId": "e8dc3335-e0de-4f18-f97a-ec7f6cdeb14c"
      },
      "execution_count": 57,
      "outputs": [
        {
          "output_type": "execute_result",
          "data": {
            "text/plain": [
              "(552, 552, 557)"
            ]
          },
          "metadata": {},
          "execution_count": 57
        }
      ]
    },
    {
      "cell_type": "code",
      "source": [
        "## Plotting the model performance\n",
        "offset = 300\n",
        "plt.figure(figsize=(10, 7))\n",
        "\n",
        "plot_time_series(timesteps=naive_forecast.index[:-5],\n",
        "                 values = tf.squeeze(y_test),\n",
        "                 start=offset,\n",
        "                 label='test_data')\n",
        "\n",
        "plot_time_series(timesteps=naive_forecast.index[:-5],\n",
        "                 values=model_2_preds,\n",
        "                 label='preds',\n",
        "                 start=offset,\n",
        "                 format='-')"
      ],
      "metadata": {
        "colab": {
          "base_uri": "https://localhost:8080/",
          "height": 619
        },
        "id": "ME2urNISZHyw",
        "outputId": "451b59f7-3312-4e7d-fab5-7162d73d4180"
      },
      "execution_count": 58,
      "outputs": [
        {
          "output_type": "display_data",
          "data": {
            "text/plain": [
              "<Figure size 1000x700 with 1 Axes>"
            ],
            "image/png": "[encoded data removed]"
          },
          "metadata": {}
        }
      ]
    },
    {
      "cell_type": "markdown",
      "source": [
        "## Model_3: Dense (WINDOW=30, HORIZON=7)"
      ],
      "metadata": {
        "id": "FCs7OCa0bE3W"
      }
    },
    {
      "cell_type": "code",
      "source": [
        "HORIZON = 7\n",
        "WINDOW_SIZE = 30"
      ],
      "metadata": {
        "id": "bg3WCVMjcdzt"
      },
      "execution_count": 59,
      "outputs": []
    },
    {
      "cell_type": "code",
      "source": [
        "full_windows, full_labels = make_windows(prices, WINDOW_SIZE, HORIZON)\n",
        "full_windows[0], full_labels[0]"
      ],
      "metadata": {
        "colab": {
          "base_uri": "https://localhost:8080/"
        },
        "id": "vAGTbirrcjEr",
        "outputId": "b30890c2-0f25-4292-ce9f-fcb3451c01c3"
      },
      "execution_count": 60,
      "outputs": [
        {
          "output_type": "execute_result",
          "data": {
            "text/plain": [
              "(array([123.65499, 125.455  , 108.58483, 118.67466, 121.33866, 120.65533,\n",
              "        121.795  , 123.033  , 124.049  , 125.96116, 125.27966, 125.9275 ,\n",
              "        126.38333, 135.24199, 133.20333, 142.76333, 137.92333, 142.95166,\n",
              "        152.55183, 160.33883, 164.31499, 177.63333, 188.29716, 200.70166,\n",
              "        180.355  , 175.03166, 177.6965 , 187.15983, 192.75666, 197.4    ]),\n",
              " array([196.02499, 198.04883, 198.93233, 200.543  , 210.3075 , 225.02   ,\n",
              "        248.25333]))"
            ]
          },
          "metadata": {},
          "execution_count": 60
        }
      ]
    },
    {
      "cell_type": "code",
      "source": [
        "## Dividing it into training and testing\n",
        "X_train, X_test, y_train, y_test = train_test_split(full_windows, full_labels, test_size=0.2, shuffle=False)\n",
        "len(X_train), len(X_test)"
      ],
      "metadata": {
        "colab": {
          "base_uri": "https://localhost:8080/"
        },
        "outputId": "c387970e-d200-4457-9687-127ca249a563",
        "id": "ZSnjP3GVc46a"
      },
      "execution_count": 61,
      "outputs": [
        {
          "output_type": "execute_result",
          "data": {
            "text/plain": [
              "(2200, 551)"
            ]
          },
          "metadata": {},
          "execution_count": 61
        }
      ]
    },
    {
      "cell_type": "code",
      "source": [
        "tf.random.set_seed(42)\n",
        "\n",
        "model_3 = tf.keras.models.Sequential([\n",
        "    tf.keras.layers.Dense(128, activation='relu'),\n",
        "    tf.keras.layers.Dense(HORIZON, activation='linear')\n",
        "])\n",
        "\n",
        "model_3.compile(loss='mae',\n",
        "                optimizer='Adam',\n",
        "                metrics=['mae', 'mse'])\n",
        "\n",
        "history_3 = model_3.fit(X_train, y_train,\n",
        "                        epochs=100,\n",
        "                        batch_size=128,\n",
        "                        verbose=0,\n",
        "                        validation_data=(X_test, y_test),\n",
        "                        callbacks=[model_checkpoint(\"Model_3\")])"
      ],
      "metadata": {
        "id": "55PU9e3Gc46h"
      },
      "execution_count": 62,
      "outputs": []
    },
    {
      "cell_type": "code",
      "source": [
        "model_3.evaluate(X_test, y_test)"
      ],
      "metadata": {
        "colab": {
          "base_uri": "https://localhost:8080/"
        },
        "outputId": "d51c15ce-bbd7-41c4-c80a-62d13062cb73",
        "id": "eh9ZTHd-c46h"
      },
      "execution_count": 63,
      "outputs": [
        {
          "output_type": "stream",
          "name": "stdout",
          "text": [
            "18/18 [==============================] - 0s 2ms/step - loss: 1315.0967 - mae: 1315.0967 - mse: 5661095.5000\n"
          ]
        },
        {
          "output_type": "execute_result",
          "data": {
            "text/plain": [
              "[1315.0966796875, 1315.0966796875, 5661095.5]"
            ]
          },
          "metadata": {},
          "execution_count": 63
        }
      ]
    },
    {
      "cell_type": "code",
      "source": [
        "model_3 = tf.keras.models.load_model('/content/model_experiment/Model_3')"
      ],
      "metadata": {
        "id": "z_IZWhmqc46h"
      },
      "execution_count": 64,
      "outputs": []
    },
    {
      "cell_type": "code",
      "source": [
        "model_3.evaluate(X_test, y_test)"
      ],
      "metadata": {
        "colab": {
          "base_uri": "https://localhost:8080/"
        },
        "outputId": "dbd560e9-af88-488f-a634-16595d4d4fa3",
        "id": "tcG2XNcbc46h"
      },
      "execution_count": 65,
      "outputs": [
        {
          "output_type": "stream",
          "name": "stdout",
          "text": [
            "18/18 [==============================] - 0s 3ms/step - loss: 1218.9695 - mae: 1218.9695 - mse: 5424010.5000\n"
          ]
        },
        {
          "output_type": "execute_result",
          "data": {
            "text/plain": [
              "[1218.969482421875, 1218.969482421875, 5424010.5]"
            ]
          },
          "metadata": {},
          "execution_count": 65
        }
      ]
    },
    {
      "cell_type": "code",
      "source": [
        "## Making some predictions\n",
        "model_3_preds = make_preds(model_3, X_test)"
      ],
      "metadata": {
        "colab": {
          "base_uri": "https://localhost:8080/"
        },
        "outputId": "30a55aab-7bb7-4913-cf2f-85290f7b9bbf",
        "id": "FzHPYdGAc46i"
      },
      "execution_count": 66,
      "outputs": [
        {
          "output_type": "stream",
          "name": "stdout",
          "text": [
            "18/18 [==============================] - 0s 2ms/step\n"
          ]
        }
      ]
    },
    {
      "cell_type": "code",
      "source": [
        "for i in range(10):\n",
        "  print(tf.squeeze(y_test[i]).numpy(), model_3_preds[i].numpy())"
      ],
      "metadata": {
        "colab": {
          "base_uri": "https://localhost:8080/"
        },
        "outputId": "65402516-0a83-4f14-df72-7639760583bc",
        "id": "atG3KKF0c46i"
      },
      "execution_count": 67,
      "outputs": [
        {
          "output_type": "stream",
          "name": "stdout",
          "text": [
            "[8794.35864452 8798.04205463 9081.18687849 8711.53433917 8760.89271814\n",
            " 8749.52059102 8656.97092235] [9115.507  9290.262  9401.9795 9506.984  9544.722  9665.545  9720.4795]\n",
            "[8798.04205463 9081.18687849 8711.53433917 8760.89271814 8749.52059102\n",
            " 8656.97092235 8500.64355816] [8905.088 9059.224 9228.929 9341.755 9230.224 9318.703 9275.143]\n",
            "[9081.18687849 8711.53433917 8760.89271814 8749.52059102 8656.97092235\n",
            " 8500.64355816 8469.2608989 ] [8809.338  8872.723  8988.2705 9215.409  9074.885  9088.762  9118.035 ]\n",
            "[8711.53433917 8760.89271814 8749.52059102 8656.97092235 8500.64355816\n",
            " 8469.2608989  8537.33965197] [9042.429 8956.023 9265.197 9412.927 9307.427 9294.524 9435.77 ]\n",
            "[8760.89271814 8749.52059102 8656.97092235 8500.64355816 8469.2608989\n",
            " 8537.33965197 8205.80636599] [8802.968 9000.818 8969.689 9243.733 9090.537 9329.74  9469.476]\n",
            "[8749.52059102 8656.97092235 8500.64355816 8469.2608989  8537.33965197\n",
            " 8205.80636599 8118.4885358 ] [8751.958 8982.54  8958.311 9279.45  9120.323 9223.068 9380.068]\n",
            "[8656.97092235 8500.64355816 8469.2608989  8537.33965197 8205.80636599\n",
            " 8118.4885358  8074.84317361] [8755.555  8736.798  8940.212  9115.914  9026.6875 9029.697  9124.432 ]\n",
            "[8500.64355816 8469.2608989  8537.33965197 8205.80636599 8118.4885358\n",
            " 8074.84317361 7612.7405735 ] [8622.59  8560.935 8639.218 8755.902 8763.777 8771.151 8678.399]\n",
            "[8469.2608989  8537.33965197 8205.80636599 8118.4885358  8074.84317361\n",
            " 7612.7405735  7262.11053495] [8406.517  8464.578  8630.975  8565.284  8630.827  8471.3955 8625.665 ]\n",
            "[8537.33965197 8205.80636599 8118.4885358  8074.84317361 7612.7405735\n",
            " 7262.11053495 7303.40575852] [8409.941 8431.918 8659.001 8427.107 8343.452 8477.831 8555.684]\n"
          ]
        }
      ]
    },
    {
      "cell_type": "code",
      "source": [
        "y_test.shape, model_3_preds.shape"
      ],
      "metadata": {
        "colab": {
          "base_uri": "https://localhost:8080/"
        },
        "id": "i6bBb10JhoSU",
        "outputId": "b3374894-0c6a-4020-d353-c440e97b7631"
      },
      "execution_count": 68,
      "outputs": [
        {
          "output_type": "execute_result",
          "data": {
            "text/plain": [
              "((551, 7), TensorShape([551, 7]))"
            ]
          },
          "metadata": {},
          "execution_count": 68
        }
      ]
    },
    {
      "cell_type": "code",
      "source": [
        "calculate_evaluation_metrics(tf.squeeze(y_test), model_3_preds)"
      ],
      "metadata": {
        "colab": {
          "base_uri": "https://localhost:8080/"
        },
        "outputId": "854f9bed-bbd1-4116-84ee-06f563114ee6",
        "id": "Hj4ObqNAc46i"
      },
      "execution_count": 69,
      "outputs": [
        {
          "output_type": "execute_result",
          "data": {
            "text/plain": [
              "{'mae': array([ 670.4248  ,  449.17145 ,  397.30148 ,  618.305   ,  575.2182  ,\n",
              "         636.81256 ,  595.13446 ,  467.54987 ,  540.80896 ,  634.99945 ,\n",
              "         900.5644  ,  961.3253  ,  963.05334 ,  873.2652  ,  642.67035 ,\n",
              "         213.8789  ,  130.31096 ,  190.72461 ,  240.04541 ,  256.41162 ,\n",
              "         256.39508 ,  266.65695 ,  257.36313 ,  253.67041 ,  130.57848 ,\n",
              "         103.07659 ,  114.246376,  206.86914 ,  241.63045 ,  317.68668 ,\n",
              "         388.81216 ,  493.21674 ,  378.2897  ,  374.91525 ,  363.33572 ,\n",
              "         347.1721  ,  387.47272 ,  290.9465  ,  215.99324 ,  150.37535 ,\n",
              "         467.50732 ,   82.91211 ,  163.4878  ,  156.33914 ,  198.52449 ,\n",
              "         143.32967 ,   98.31208 ,  114.40339 ,  115.70863 ,  192.6444  ,\n",
              "         212.76549 ,  217.49547 ,  323.33984 ,  177.8667  ,  214.12074 ,\n",
              "         282.7818  ,  508.2971  ,  470.01578 ,  355.6958  ,  405.768   ,\n",
              "         262.00998 ,  139.17188 ,  233.4114  ,  305.7023  ,  303.55182 ,\n",
              "         324.65073 ,  326.9183  ,  423.27246 ,  197.82254 ,  349.64426 ,\n",
              "         366.20258 ,  502.27524 ,  647.1879  ,  479.3439  ,  387.6921  ,\n",
              "         388.60043 ,  316.29575 ,  297.5646  ,  401.12555 ,  617.5378  ,\n",
              "         659.92914 ,  455.52203 ,  203.04381 ,  214.34724 ,  255.3556  ,\n",
              "         213.8358  ,  153.41393 ,  226.45703 ,  353.1639  ,  452.41782 ,\n",
              "         284.96136 ,  282.49832 ,  171.5618  ,  203.48479 ,  275.035   ,\n",
              "         338.78836 ,  387.7839  ,  676.60223 ,  730.0689  ,  900.5995  ,\n",
              "         594.4664  ,  403.5957  ,  273.66895 ,  475.30582 ,  532.85925 ,\n",
              "         514.7056  ,  640.2909  ,  760.36523 , 1081.7638  ,  989.2503  ,\n",
              "         862.76605 ,  394.8559  ,  135.5385  ,  166.75432 ,  163.10449 ,\n",
              "         334.8095  ,  368.21646 ,  541.19666 ,  670.80176 , 1129.6029  ,\n",
              "        1736.2578  , 2171.9036  , 2018.4056  , 1935.3568  , 2259.2559  ,\n",
              "        2562.619   , 1244.2383  ,  641.5112  ,  416.17682 ,  328.7385  ,\n",
              "         370.9705  ,  415.04926 ,  496.61377 ,  275.13364 ,  250.88184 ,\n",
              "         315.1644  ,  420.7078  ,  286.64584 ,  400.15945 ,  393.518   ,\n",
              "         312.21088 ,  343.34494 ,  238.01326 ,  666.37396 ,  550.2656  ,\n",
              "         264.8221  ,  275.15033 ,  115.322685,  223.88818 ,  324.50797 ,\n",
              "         232.31836 ,  379.82632 ,  582.737   ,  722.4305  ,  748.0446  ,\n",
              "         345.61996 ,  199.7267  ,  105.28041 ,  106.71156 ,  204.92209 ,\n",
              "         232.5436  ,  219.66566 ,  207.89236 ,  207.54875 ,  140.74539 ,\n",
              "         324.21652 ,  532.62305 ,  614.6571  ,  351.24017 ,  454.92935 ,\n",
              "         628.978   ,  835.44635 ,  865.7724  , 1015.4921  ,  355.85922 ,\n",
              "         215.81041 ,  327.20578 ,  260.12988 ,  363.7871  ,  480.94992 ,\n",
              "         550.52094 ,  658.9531  ,  879.6137  , 1133.2566  ,  932.14874 ,\n",
              "         237.69824 ,  496.8227  ,  695.62024 ,  257.34262 ,  385.8506  ,\n",
              "         328.95633 ,  373.40024 ,  476.9982  ,  564.4604  ,  624.8037  ,\n",
              "         718.8136  ,  414.8425  ,  298.37625 ,  200.61496 ,  186.04701 ,\n",
              "         435.4615  ,  688.5936  ,  642.1999  ,  245.52818 ,  254.65877 ,\n",
              "         330.68735 ,  279.39606 ,  469.6649  ,  155.13881 ,   90.651505,\n",
              "         349.88504 ,  308.9488  ,  348.79672 ,  424.00473 ,  449.83258 ,\n",
              "         500.98438 ,  683.8545  ,  236.14076 ,  255.3492  ,  294.727   ,\n",
              "         245.91336 ,  312.17368 ,  236.51018 ,  208.52037 ,  210.71666 ,\n",
              "         201.21233 ,  315.55914 ,  342.09012 ,  538.0455  ,  574.32996 ,\n",
              "         429.148   ,  250.93289 ,  180.3291  ,  120.58873 ,  170.54674 ,\n",
              "         184.82268 ,  234.11174 ,  232.42299 ,   79.68834 ,  133.85812 ,\n",
              "         104.635185,  143.7069  ,  190.3005  ,  271.66016 ,  361.50375 ,\n",
              "         305.67355 ,  203.99275 ,  202.137   ,  195.91072 ,  270.33496 ,\n",
              "         253.0798  ,  213.15918 ,   86.078964,   86.574356,  143.89607 ,\n",
              "         233.64816 ,  474.57632 ,  541.2319  ,  590.42566 ,  735.78796 ,\n",
              "         983.0745  , 1213.8156  , 1194.802   ,  259.2228  ,  240.17955 ,\n",
              "         287.72363 ,  268.42438 ,  263.583   ,  493.2712  ,  136.86174 ,\n",
              "         158.37556 ,  248.04185 ,  295.8358  ,  440.2553  ,  430.60938 ,\n",
              "         403.1147  ,  354.39468 ,  438.56012 ,  172.93568 ,  203.61356 ,\n",
              "         164.78893 ,  282.8577  ,  392.6137  ,  384.78082 ,  684.7708  ,\n",
              "         705.14984 ,  498.56683 ,  445.3704  ,  339.61188 ,  367.065   ,\n",
              "         357.76422 ,  449.4746  ,   92.470146,  152.0106  ,  317.83414 ,\n",
              "         476.898   ,  797.51843 , 1025.1404  , 1293.2948  , 1569.5446  ,\n",
              "        1448.1605  ,  857.66437 ,  506.76492 ,  153.48717 ,  140.90793 ,\n",
              "         115.48256 ,  217.32059 ,  244.08733 ,  214.53293 ,  359.2977  ,\n",
              "         356.29047 ,  418.51953 ,  279.143   ,  294.51715 ,  477.55734 ,\n",
              "         471.59906 ,  542.3062  ,  516.46875 ,  446.6486  ,  178.79478 ,\n",
              "         125.10003 ,  188.64816 ,  203.8351  ,  317.47797 ,  315.56168 ,\n",
              "         367.56863 ,  459.10254 ,  430.06012 ,  435.07367 ,  287.7934  ,\n",
              "         109.26032 ,  206.20229 ,  209.7535  ,  249.12137 ,  411.43277 ,\n",
              "         549.31793 ,  421.6645  ,  267.3687  ,  229.72127 ,  277.5307  ,\n",
              "         395.7564  ,  289.77554 ,  335.20117 ,  462.98285 ,  585.71515 ,\n",
              "         837.0572  ,  975.7349  ,  911.45575 ,  996.45746 ,  243.99959 ,\n",
              "         317.4149  ,  163.57603 ,  155.56459 ,  212.2168  ,  199.02107 ,\n",
              "         313.51117 ,  164.83621 ,  385.2737  ,  545.4827  ,  560.9512  ,\n",
              "         629.7081  ,  845.2171  , 1042.6492  ,  879.75226 ,  282.68555 ,\n",
              "         327.84418 ,  260.13727 ,  203.36914 ,  379.4138  ,  719.305   ,\n",
              "         705.14343 ,  560.8083  ,  713.4349  , 1030.0162  , 1724.0428  ,\n",
              "        1506.38    ,  671.2486  ,  356.89203 ,  454.94113 ,  898.5142  ,\n",
              "        1059.7863  , 1251.1348  , 1088.1412  , 1201.9978  , 1133.2296  ,\n",
              "         657.7179  , 1235.3066  , 1111.1875  ,  806.09906 ,  413.65765 ,\n",
              "         575.36804 ,  612.9411  , 1074.3954  ,  850.3672  ,  841.43164 ,\n",
              "         853.46515 ,  790.41656 ,  490.2712  ,  608.0904  , 1369.5547  ,\n",
              "        2167.0935  , 2387.8926  , 2794.1838  , 2976.885   , 3187.3762  ,\n",
              "        1991.8641  ,  536.50555 ,  477.83762 ,  802.58203 , 1096.9896  ,\n",
              "        1238.3646  , 1382.3572  , 2049.1777  , 2649.4768  , 2639.4856  ,\n",
              "        1897.2428  , 2227.2341  , 2472.5645  , 3325.7183  , 2941.8088  ,\n",
              "        3499.0823  , 4945.087   , 3925.5193  , 3760.4368  , 4531.1875  ,\n",
              "        3448.7378  , 2801.197   , 2943.996   , 4898.3193  , 5757.964   ,\n",
              "        5148.266   , 1255.4147  , 1647.9911  , 1232.9291  , 3629.51    ,\n",
              "        3463.8464  , 3441.9934  , 3459.1653  , 3474.5054  , 3958.9602  ,\n",
              "        3820.8345  ,  984.8571  , 1344.7053  , 1198.5089  , 1220.094   ,\n",
              "         997.9118  , 1383.2428  , 2842.943   , 2615.7917  , 1464.3444  ,\n",
              "        1875.1725  , 2224.5312  , 5140.7456  , 5425.4146  , 4529.608   ,\n",
              "        5215.3384  , 5395.1953  , 4740.164   , 6717.179   , 3661.0364  ,\n",
              "        1097.0201  , 1070.7188  , 1274.9052  , 1967.1506  , 2339.6992  ,\n",
              "        2487.2239  , 2633.649   , 3420.9583  , 2776.4006  , 3986.3572  ,\n",
              "        5901.0425  , 8416.855   , 9727.942   , 9869.786   , 4666.3276  ,\n",
              "        2194.7214  , 2019.0955  , 1641.8895  , 1767.0134  , 3420.766   ,\n",
              "        1828.7584  , 1816.3822  , 2111.399   , 3097.905   , 4329.54    ,\n",
              "        5874.161   , 6627.2935  , 5637.178   , 4161.9585  , 1746.1088  ,\n",
              "        1450.4147  , 1658.0045  , 2493.1042  , 4487.026   , 2552.0608  ,\n",
              "        2301.3582  , 3798.5352  , 4618.907   , 5482.8706  , 5986.011   ,\n",
              "        5556.2534  , 2742.7495  , 1294.015   , 1649.5228  , 3408.2925  ,\n",
              "        3014.187   , 1688.0983  , 1846.6356  , 1480.4006  ,  930.33984 ,\n",
              "        1435.716   , 1940.5284  , 1515.9381  , 1332.4213  , 1182.0334  ,\n",
              "         747.2712  ,  908.2154  , 2175.494   , 2928.2222  , 2564.9688  ,\n",
              "        1727.2908  , 2281.2266  , 3368.5105  , 4711.258   , 6267.804   ,\n",
              "        7838.281   , 8973.647   , 8903.752   , 6742.3813  , 5526.083   ,\n",
              "        5208.903   , 3252.0881  , 1862.7148  , 2086.5603  , 3491.5312  ,\n",
              "        5471.227   , 3684.6719  , 1333.9811  , 1566.5988  , 2256.4648  ,\n",
              "        1305.6719  , 1651.0089  , 1139.8131  , 1273.0095  , 1538.1272  ,\n",
              "        1308.6808  , 3048.3945  , 4413.93    , 7013.807   , 8309.978   ,\n",
              "        8570.64    ], dtype=float32),\n",
              " 'mse': array([5.23657938e+05, 2.69407594e+05, 1.87154250e+05, 4.46299219e+05,\n",
              "        4.75091219e+05, 5.62591625e+05, 4.61116094e+05, 3.39018594e+05,\n",
              "        4.70758938e+05, 5.80530875e+05, 1.07637462e+06, 1.20976100e+06,\n",
              "        1.13523262e+06, 8.43005188e+05, 4.42217656e+05, 8.15522578e+04,\n",
              "        2.78576875e+04, 6.27929297e+04, 7.55533047e+04, 9.51574453e+04,\n",
              "        7.73080859e+04, 8.84228359e+04, 8.38636406e+04, 7.78218750e+04,\n",
              "        2.89437832e+04, 1.59667578e+04, 1.97252656e+04, 5.11445820e+04,\n",
              "        7.04922344e+04, 1.21979617e+05, 1.86079453e+05, 2.82192844e+05,\n",
              "        1.86085906e+05, 2.45770859e+05, 2.22638047e+05, 1.89173219e+05,\n",
              "        2.23858578e+05, 1.26118891e+05, 7.43667578e+04, 3.74796523e+04,\n",
              "        2.46297391e+05, 9.50046680e+03, 3.39798750e+04, 3.13636230e+04,\n",
              "        5.41238047e+04, 2.81232871e+04, 1.53878281e+04, 2.04104004e+04,\n",
              "        2.07442227e+04, 5.35275547e+04, 6.08244883e+04, 5.83156367e+04,\n",
              "        1.30622984e+05, 5.56661328e+04, 7.55035703e+04, 1.43812453e+05,\n",
              "        3.28076438e+05, 2.59889484e+05, 1.56368250e+05, 1.89296750e+05,\n",
              "        9.67377109e+04, 5.35927539e+04, 7.24361016e+04, 1.74917469e+05,\n",
              "        1.49187453e+05, 1.40825094e+05, 1.40037500e+05, 2.18217672e+05,\n",
              "        4.57210977e+04, 1.83881109e+05, 1.82502719e+05, 3.18756781e+05,\n",
              "        4.88987906e+05, 3.00311656e+05, 1.98607250e+05, 1.98086750e+05,\n",
              "        1.37822547e+05, 1.38452391e+05, 2.30959734e+05, 4.31466000e+05,\n",
              "        4.52217719e+05, 2.32532219e+05, 5.77824570e+04, 6.39646875e+04,\n",
              "        9.37462344e+04, 7.71519844e+04, 3.35976914e+04, 7.02632031e+04,\n",
              "        1.49913828e+05, 2.18017828e+05, 1.00152000e+05, 9.13037891e+04,\n",
              "        3.89849570e+04, 6.30630742e+04, 1.00392352e+05, 1.53108641e+05,\n",
              "        2.34023609e+05, 6.20457062e+05, 6.97079500e+05, 8.93730312e+05,\n",
              "        4.28405562e+05, 1.90419078e+05, 1.08107539e+05, 2.67977375e+05,\n",
              "        4.76207969e+05, 5.24664562e+05, 6.40955438e+05, 8.17812875e+05,\n",
              "        1.42896075e+06, 1.10850088e+06, 7.79786000e+05, 2.12661641e+05,\n",
              "        3.55699961e+04, 3.33525273e+04, 3.67412969e+04, 1.64208219e+05,\n",
              "        2.74344812e+05, 4.97268531e+05, 5.42260625e+05, 2.30368625e+06,\n",
              "        4.63764350e+06, 6.42024000e+06, 5.72810000e+06, 5.21742750e+06,\n",
              "        5.97350000e+06, 6.65266500e+06, 1.71947262e+06, 5.24486188e+05,\n",
              "        2.13125531e+05, 1.33122062e+05, 1.83219609e+05, 2.27906422e+05,\n",
              "        2.86824438e+05, 1.09439438e+05, 9.65571172e+04, 1.12046484e+05,\n",
              "        2.14895609e+05, 1.22069961e+05, 2.95806812e+05, 2.39681750e+05,\n",
              "        1.15746984e+05, 1.78413547e+05, 6.78167344e+04, 4.65970281e+05,\n",
              "        3.26031062e+05, 8.11381797e+04, 9.45631094e+04, 1.99961895e+04,\n",
              "        9.24753047e+04, 1.58841078e+05, 8.49891250e+04, 1.98093391e+05,\n",
              "        4.50531219e+05, 6.14090438e+05, 6.18403375e+05, 1.33490281e+05,\n",
              "        6.77169453e+04, 1.42006045e+04, 1.52976436e+04, 4.89439648e+04,\n",
              "        7.52691484e+04, 6.57374141e+04, 6.48303398e+04, 6.77976797e+04,\n",
              "        2.66567031e+04, 1.31519000e+05, 3.24506062e+05, 5.44321500e+05,\n",
              "        3.16177562e+05, 4.11255688e+05, 6.06268625e+05, 8.82384000e+05,\n",
              "        8.75889125e+05, 1.03261169e+06, 1.55199109e+05, 7.28547656e+04,\n",
              "        1.57210828e+05, 1.08974508e+05, 2.05999172e+05, 2.96733500e+05,\n",
              "        3.52297219e+05, 5.20553438e+05, 1.14540125e+06, 1.48111762e+06,\n",
              "        9.66719312e+05, 8.86148984e+04, 2.92834562e+05, 5.39795750e+05,\n",
              "        8.68465703e+04, 2.24794969e+05, 2.21017875e+05, 2.08808547e+05,\n",
              "        3.34249781e+05, 4.22513344e+05, 4.99263062e+05, 5.79922688e+05,\n",
              "        2.17849516e+05, 1.51275875e+05, 5.75388477e+04, 5.04348320e+04,\n",
              "        2.80811656e+05, 5.75005062e+05, 4.84651719e+05, 1.10233039e+05,\n",
              "        1.33006516e+05, 1.41549906e+05, 1.21186547e+05, 2.55907750e+05,\n",
              "        3.16052812e+04, 1.24221387e+04, 2.23556125e+05, 1.63323422e+05,\n",
              "        2.11281828e+05, 2.50139297e+05, 2.53610453e+05, 2.90778344e+05,\n",
              "        4.82681719e+05, 8.49937344e+04, 8.82920703e+04, 1.24170734e+05,\n",
              "        7.97806953e+04, 1.43406953e+05, 8.14400703e+04, 6.39214648e+04,\n",
              "        7.17961406e+04, 6.25375898e+04, 1.17079070e+05, 1.51931281e+05,\n",
              "        3.57190062e+05, 3.65378031e+05, 2.07091250e+05, 1.05450750e+05,\n",
              "        4.00953125e+04, 1.56037178e+04, 3.56480664e+04, 4.70341328e+04,\n",
              "        6.24494727e+04, 7.00017500e+04, 1.30563672e+04, 2.08974863e+04,\n",
              "        1.92994727e+04, 3.42104375e+04, 4.83178359e+04, 8.83749141e+04,\n",
              "        1.52446219e+05, 1.22816797e+05, 6.83644297e+04, 5.51140430e+04,\n",
              "        5.07942383e+04, 9.28162422e+04, 7.96186328e+04, 5.88414258e+04,\n",
              "        1.94795508e+04, 1.09731885e+04, 3.02414746e+04, 6.77995391e+04,\n",
              "        4.52723281e+05, 5.94039375e+05, 7.25241562e+05, 8.42095312e+05,\n",
              "        1.22045775e+06, 1.64346012e+06, 1.47806288e+06, 1.21677812e+05,\n",
              "        7.04496484e+04, 1.20039250e+05, 9.80450234e+04, 1.13073570e+05,\n",
              "        2.56345016e+05, 3.22331035e+04, 3.83449102e+04, 1.03506125e+05,\n",
              "        1.56669328e+05, 2.63958000e+05, 2.53819719e+05, 2.31419906e+05,\n",
              "        1.44295656e+05, 2.12667141e+05, 4.37039727e+04, 6.78051406e+04,\n",
              "        5.66909922e+04, 1.15922141e+05, 2.04139391e+05, 1.82805891e+05,\n",
              "        5.45922000e+05, 5.59464812e+05, 3.15776594e+05, 2.98576938e+05,\n",
              "        1.88609531e+05, 1.95495828e+05, 1.49803828e+05, 2.16351141e+05,\n",
              "        1.58440830e+04, 3.56479180e+04, 1.85762406e+05, 3.59510344e+05,\n",
              "        1.03312550e+06, 1.54632438e+06, 2.12134775e+06, 2.81554625e+06,\n",
              "        2.22121325e+06, 8.07942438e+05, 2.77017562e+05, 2.70552949e+04,\n",
              "        3.93182539e+04, 1.79060488e+04, 5.83256680e+04, 7.51903672e+04,\n",
              "        6.23129180e+04, 1.57191141e+05, 1.43363391e+05, 1.95363016e+05,\n",
              "        9.66933672e+04, 1.49585641e+05, 3.91711719e+05, 3.41192938e+05,\n",
              "        3.63403031e+05, 3.42316906e+05, 2.25509891e+05, 4.83578633e+04,\n",
              "        2.98810840e+04, 4.51959922e+04, 4.89724258e+04, 1.63783719e+05,\n",
              "        1.36541484e+05, 1.76267641e+05, 2.56720906e+05, 2.20393750e+05,\n",
              "        2.27389719e+05, 1.06293930e+05, 3.35977148e+04, 6.06496445e+04,\n",
              "        7.70170469e+04, 1.00089016e+05, 2.17133000e+05, 3.38894500e+05,\n",
              "        1.90195500e+05, 1.07996898e+05, 7.40177734e+04, 9.95161797e+04,\n",
              "        1.93702969e+05, 1.27662039e+05, 2.57125734e+05, 4.56206219e+05,\n",
              "        7.20990562e+05, 9.72874938e+05, 1.10551125e+06, 9.39631188e+05,\n",
              "        1.03944512e+06, 7.93245234e+04, 1.28825852e+05, 3.09483574e+04,\n",
              "        4.26901914e+04, 7.07545312e+04, 7.27869766e+04, 1.11212625e+05,\n",
              "        4.40537773e+04, 3.06897344e+05, 5.59024688e+05, 5.90003312e+05,\n",
              "        6.48669688e+05, 8.93584875e+05, 1.32146362e+06, 8.67996125e+05,\n",
              "        1.06425188e+05, 2.06223172e+05, 1.21457273e+05, 8.61618984e+04,\n",
              "        2.16955781e+05, 8.74014625e+05, 6.70428125e+05, 5.02139094e+05,\n",
              "        6.88044625e+05, 1.31753662e+06, 3.20251725e+06, 2.31269725e+06,\n",
              "        5.02660906e+05, 1.91765953e+05, 5.54293688e+05, 1.71001662e+06,\n",
              "        1.91088825e+06, 2.36373975e+06, 1.85899500e+06, 2.03775362e+06,\n",
              "        1.80029862e+06, 5.00649562e+05, 1.76464662e+06, 1.45016088e+06,\n",
              "        8.44747000e+05, 2.10799875e+05, 4.83654250e+05, 5.27564812e+05,\n",
              "        1.36856662e+06, 1.10845538e+06, 9.57776125e+05, 9.71627562e+05,\n",
              "        8.38507562e+05, 3.61705156e+05, 7.11203938e+05, 3.51596550e+06,\n",
              "        6.80120050e+06, 8.62209000e+06, 1.02078300e+07, 1.04701370e+07,\n",
              "        1.05114670e+07, 4.13757600e+06, 5.19114500e+05, 2.75700688e+05,\n",
              "        9.34398562e+05, 1.40791188e+06, 2.45920275e+06, 2.98466200e+06,\n",
              "        5.44463650e+06, 8.20408150e+06, 8.03477100e+06, 6.12653600e+06,\n",
              "        8.16686450e+06, 8.84300900e+06, 1.34686650e+07, 1.27369110e+07,\n",
              "        2.01251640e+07, 3.29468780e+07, 2.35828620e+07, 1.75850240e+07,\n",
              "        2.55525900e+07, 1.67100940e+07, 1.00891780e+07, 1.37019130e+07,\n",
              "        3.08121780e+07, 3.66847960e+07, 2.72939640e+07, 2.04918862e+06,\n",
              "        3.91327150e+06, 1.86122962e+06, 1.78660420e+07, 1.74834440e+07,\n",
              "        1.88936720e+07, 1.81988980e+07, 1.47814740e+07, 1.82489980e+07,\n",
              "        1.58532890e+07, 1.22443475e+06, 2.77268650e+06, 2.08525738e+06,\n",
              "        2.01433175e+06, 1.35150062e+06, 2.51526400e+06, 1.00108090e+07,\n",
              "        9.48800700e+06, 3.40878475e+06, 4.01888625e+06, 7.11236900e+06,\n",
              "        3.42133520e+07, 4.28729040e+07, 3.30488380e+07, 3.73904960e+07,\n",
              "        3.76749520e+07, 2.53366580e+07, 4.64798320e+07, 1.39310290e+07,\n",
              "        1.31995825e+06, 2.11017425e+06, 2.32373175e+06, 5.48369150e+06,\n",
              "        9.94786400e+06, 9.84614200e+06, 8.94047500e+06, 1.37759470e+07,\n",
              "        1.24144950e+07, 1.92302260e+07, 5.35583120e+07, 9.03323920e+07,\n",
              "        1.07856208e+08, 1.01796856e+08, 2.50253900e+07, 8.01836400e+06,\n",
              "        5.05970750e+06, 3.76028000e+06, 4.15812775e+06, 1.23997940e+07,\n",
              "        5.18502500e+06, 5.90398850e+06, 9.96773500e+06, 1.44314000e+07,\n",
              "        2.75790300e+07, 4.43369160e+07, 5.14060040e+07, 3.65541800e+07,\n",
              "        2.06744340e+07, 4.03995450e+06, 2.99088800e+06, 3.95331725e+06,\n",
              "        7.11804900e+06, 2.18454740e+07, 1.11933930e+07, 8.43229100e+06,\n",
              "        2.39170200e+07, 3.38788800e+07, 3.74500640e+07, 4.36568600e+07,\n",
              "        3.28993740e+07, 1.15372620e+07, 2.56535425e+06, 3.76065650e+06,\n",
              "        1.28643360e+07, 9.47336200e+06, 3.62617175e+06, 3.82698325e+06,\n",
              "        2.71539075e+06, 1.01445969e+06, 3.54407950e+06, 4.58387300e+06,\n",
              "        3.33235825e+06, 3.01765075e+06, 2.56285725e+06, 1.46538825e+06,\n",
              "        1.57028038e+06, 6.61810800e+06, 1.20916350e+07, 7.53953200e+06,\n",
              "        3.94631400e+06, 9.04658900e+06, 1.58255860e+07, 3.53741360e+07,\n",
              "        5.57229120e+07, 7.75297680e+07, 9.75275920e+07, 8.94682320e+07,\n",
              "        5.66159320e+07, 3.81426320e+07, 3.16814300e+07, 1.52786790e+07,\n",
              "        5.36137700e+06, 5.47080000e+06, 1.43822970e+07, 3.18827500e+07,\n",
              "        1.47065890e+07, 2.85864675e+06, 3.46750050e+06, 6.43166950e+06,\n",
              "        2.62877675e+06, 3.99273800e+06, 2.26277775e+06, 2.82290975e+06,\n",
              "        3.20067600e+06, 4.23054700e+06, 1.74574040e+07, 3.25134900e+07,\n",
              "        7.23819440e+07, 9.08162160e+07, 9.37556640e+07], dtype=float32),\n",
              " 'rmse': array([  723.64215 ,   519.04486 ,   432.61328 ,   668.0563  ,\n",
              "          689.2686  ,   750.0611  ,   679.0553  ,   582.25305 ,\n",
              "          686.1187  ,   761.9258  ,  1037.4847  ,  1099.8914  ,\n",
              "         1065.4729  ,   918.15314 ,   664.99445 ,   285.57355 ,\n",
              "          166.90622 ,   250.58517 ,   274.8696  ,   308.47598 ,\n",
              "          278.0433  ,   297.35977 ,   289.5922  ,   278.96573 ,\n",
              "          170.12872 ,   126.359634,   140.44666 ,   226.15167 ,\n",
              "          265.50372 ,   349.2558  ,   431.36926 ,   531.21826 ,\n",
              "          431.37677 ,   495.7528  ,   471.84537 ,   434.94046 ,\n",
              "          473.13696 ,   355.1322  ,   272.7027  ,   193.59662 ,\n",
              "          496.28357 ,    97.47034 ,   184.3363  ,   177.09778 ,\n",
              "          232.64523 ,   167.7     ,   124.04768 ,   142.86497 ,\n",
              "          144.02855 ,   231.36023 ,   246.6262  ,   241.48631 ,\n",
              "          361.41803 ,   235.9367  ,   274.7791  ,   379.2261  ,\n",
              "          572.77954 ,   509.79358 ,   395.43427 ,   435.08246 ,\n",
              "          311.02686 ,   231.50108 ,   269.13956 ,   418.23135 ,\n",
              "          386.24792 ,   375.2667  ,   374.21585 ,   467.13776 ,\n",
              "          213.82492 ,   428.8136  ,   427.20337 ,   564.5855  ,\n",
              "          699.2767  ,   548.00696 ,   445.65372 ,   445.06937 ,\n",
              "          371.24457 ,   372.09192 ,   480.5827  ,   656.8607  ,\n",
              "          672.4713  ,   482.21594 ,   240.37982 ,   252.91241 ,\n",
              "          306.18005 ,   277.76245 ,   183.29672 ,   265.07208 ,\n",
              "          387.18707 ,   466.9238  ,   316.46802 ,   302.16516 ,\n",
              "          197.44609 ,   251.12363 ,   316.8475  ,   391.291   ,\n",
              "          483.75986 ,   787.691   ,   834.91284 ,   945.3731  ,\n",
              "          654.527   ,   436.37033 ,   328.79712 ,   517.6653  ,\n",
              "          690.0782  ,   724.33734 ,   800.5969  ,   904.3301  ,\n",
              "         1195.3915  ,  1052.8536  ,   883.05493 ,   461.1525  ,\n",
              "          188.6001  ,   182.62674 ,   191.68019 ,   405.22614 ,\n",
              "          523.77936 ,   705.17267 ,   736.3835  ,  1517.7899  ,\n",
              "         2153.5188  ,  2533.8193  ,  2393.345   ,  2284.169   ,\n",
              "         2444.0745  ,  2579.2761  ,  1311.2866  ,   724.2142  ,\n",
              "          461.6552  ,   364.85895 ,   428.0416  ,   477.39545 ,\n",
              "          535.55994 ,   330.8163  ,   310.73642 ,   334.73346 ,\n",
              "          463.56833 ,   349.3851  ,   543.8812  ,   489.57303 ,\n",
              "          340.21606 ,   422.39026 ,   260.41644 ,   682.6202  ,\n",
              "          570.9913  ,   284.84763 ,   307.51114 ,   141.40788 ,\n",
              "          304.0975  ,   398.5487  ,   291.52893 ,   445.07684 ,\n",
              "          671.21625 ,   783.6392  ,   786.3863  ,   365.36322 ,\n",
              "          260.2248  ,   119.16629 ,   123.68364 ,   221.23283 ,\n",
              "          274.35223 ,   256.39307 ,   254.61803 ,   260.37985 ,\n",
              "          163.2688  ,   362.6555  ,   569.6543  ,   737.78143 ,\n",
              "          562.2967  ,   641.2922  ,   778.6325  ,   939.35297 ,\n",
              "          935.8895  ,  1016.175   ,   393.9532  ,   269.9162  ,\n",
              "          396.4982  ,   330.11285 ,   453.8713  ,   544.7325  ,\n",
              "          593.54626 ,   721.4939  ,  1070.2343  ,  1217.0117  ,\n",
              "          983.2189  ,   297.68256 ,   541.1419  ,   734.70795 ,\n",
              "          294.69742 ,   474.1255  ,   470.1254  ,   456.95575 ,\n",
              "          578.1434  ,   650.01025 ,   706.5855  ,   761.52655 ,\n",
              "          466.74353 ,   388.942   ,   239.87256 ,   224.57701 ,\n",
              "          529.9166  ,   758.29083 ,   696.1693  ,   332.0136  ,\n",
              "          364.7006  ,   376.23117 ,   348.11856 ,   505.87326 ,\n",
              "          177.77873 ,   111.45464 ,   472.81723 ,   404.13293 ,\n",
              "          459.65402 ,   500.13928 ,   503.5975  ,   539.23865 ,\n",
              "          694.753   ,   291.53683 ,   297.1398  ,   352.37866 ,\n",
              "          282.45477 ,   378.6911  ,   285.37708 ,   252.82695 ,\n",
              "          267.948   ,   250.07516 ,   342.16818 ,   389.78363 ,\n",
              "          597.65375 ,   604.4651  ,   455.07278 ,   324.7318  ,\n",
              "          200.23813 ,   124.91484 ,   188.80696 ,   216.87354 ,\n",
              "          249.89893 ,   264.57843 ,   114.26446 ,   144.55963 ,\n",
              "          138.92253 ,   184.96063 ,   219.81317 ,   297.27917 ,\n",
              "          390.4436  ,   350.45227 ,   261.4659  ,   234.7638  ,\n",
              "          225.37576 ,   304.65756 ,   282.16772 ,   242.57253 ,\n",
              "          139.56915 ,   104.75298 ,   173.90076 ,   260.38342 ,\n",
              "          672.8471  ,   770.7395  ,   851.61115 ,   917.65753 ,\n",
              "         1104.7433  ,  1281.9751  ,  1215.7561  ,   348.82346 ,\n",
              "          265.42352 ,   346.4668  ,   313.12143 ,   336.26413 ,\n",
              "          506.30524 ,   179.5358  ,   195.81856 ,   321.72366 ,\n",
              "          395.81476 ,   513.76843 ,   503.80524 ,   481.06122 ,\n",
              "          379.86267 ,   461.15848 ,   209.05495 ,   260.3942  ,\n",
              "          238.09871 ,   340.4734  ,   451.81787 ,   427.55804 ,\n",
              "          738.86536 ,   747.9738  ,   561.94    ,   546.42194 ,\n",
              "          434.292   ,   442.1491  ,   387.04498 ,   465.13562 ,\n",
              "          125.87328 ,   188.80656 ,   431.00162 ,   599.5918  ,\n",
              "         1016.4278  ,  1243.513   ,  1456.4847  ,  1677.959   ,\n",
              "         1490.3735  ,   898.8562  ,   526.3246  ,   164.48494 ,\n",
              "          198.28831 ,   133.81349 ,   241.50708 ,   274.20862 ,\n",
              "          249.62555 ,   396.4734  ,   378.63358 ,   441.99887 ,\n",
              "          310.95557 ,   386.76303 ,   625.8688  ,   584.11725 ,\n",
              "          602.82916 ,   585.07855 ,   474.8788  ,   219.9042  ,\n",
              "          172.86145 ,   212.59349 ,   221.29715 ,   404.70203 ,\n",
              "          369.5152  ,   419.8424  ,   506.67633 ,   469.46112 ,\n",
              "          476.85397 ,   326.0275  ,   183.2968  ,   246.27148 ,\n",
              "          277.51944 ,   316.36847 ,   465.9753  ,   582.1465  ,\n",
              "          436.1141  ,   328.6288  ,   272.06207 ,   315.46185 ,\n",
              "          440.11697 ,   357.29825 ,   507.07565 ,   675.43036 ,\n",
              "          849.11163 ,   986.34424 ,  1051.433   ,   969.34576 ,\n",
              "         1019.5318  ,   281.6461  ,   358.9232  ,   175.92145 ,\n",
              "          206.61604 ,   265.99722 ,   269.79062 ,   333.48557 ,\n",
              "          209.88992 ,   553.98315 ,   747.6795  ,   768.1167  ,\n",
              "          805.4003  ,   945.2962  ,  1149.5493  ,   931.6631  ,\n",
              "          326.22873 ,   454.118   ,   348.5072  ,   293.53345 ,\n",
              "          465.78513 ,   934.8875  ,   818.79675 ,   708.61774 ,\n",
              "          829.48456 ,  1147.84    ,  1789.5579  ,  1520.7555  ,\n",
              "          708.98584 ,   437.9109  ,   744.50903 ,  1307.676   ,\n",
              "         1382.3488  ,  1537.4458  ,  1363.4497  ,  1427.499   ,\n",
              "         1341.7521  ,   707.5659  ,  1328.4     ,  1204.2262  ,\n",
              "          919.1012  ,   459.1295  ,   695.4525  ,   726.33655 ,\n",
              "         1169.8575  ,  1052.832   ,   978.6604  ,   985.7117  ,\n",
              "          915.70056 ,   601.41925 ,   843.3291  ,  1875.0907  ,\n",
              "         2607.9111  ,  2936.3396  ,  3194.9695  ,  3235.759   ,\n",
              "         3242.1392  ,  2034.1033  ,   720.496   ,   525.0721  ,\n",
              "          966.6429  ,  1186.5546  ,  1568.1844  ,  1727.6174  ,\n",
              "         2333.3745  ,  2864.2766  ,  2834.5671  ,  2475.184   ,\n",
              "         2857.7727  ,  2973.7197  ,  3669.968   ,  3568.8809  ,\n",
              "         4486.108   ,  5739.937   ,  4856.2188  ,  4193.45    ,\n",
              "         5054.957   ,  4087.798   ,  3176.3467  ,  3701.6094  ,\n",
              "         5550.8716  ,  6056.7974  ,  5224.3623  ,  1431.4987  ,\n",
              "         1978.199   ,  1364.2689  ,  4226.8237  ,  4181.321   ,\n",
              "         4346.685   ,  4266.0166  ,  3844.6682  ,  4271.885   ,\n",
              "         3981.619   ,  1106.5417  ,  1665.1385  ,  1444.042   ,\n",
              "         1419.2715  ,  1162.5405  ,  1585.9584  ,  3163.9863  ,\n",
              "         3080.2607  ,  1846.2894  ,  2004.716   ,  2666.9023  ,\n",
              "         5849.218   ,  6547.74    ,  5748.812   ,  6114.777   ,\n",
              "         6137.9927  ,  5033.553   ,  6817.612   ,  3732.4292  ,\n",
              "         1148.8943  ,  1452.6438  ,  1524.3792  ,  2341.7283  ,\n",
              "         3154.0234  ,  3137.8562  ,  2990.0627  ,  3711.5962  ,\n",
              "         3523.421   ,  4385.228   ,  7318.3545  ,  9504.335   ,\n",
              "        10385.385   , 10089.442   ,  5002.538   ,  2831.6716  ,\n",
              "         2249.3794  ,  1939.1442  ,  2039.1488  ,  3521.334   ,\n",
              "         2277.065   ,  2429.8125  ,  3157.1719  ,  3798.8682  ,\n",
              "         5251.5737  ,  6658.597   ,  7169.798   ,  6046.0054  ,\n",
              "         4546.9146  ,  2009.9637  ,  1729.4183  ,  1988.295   ,\n",
              "         2667.967   ,  4673.914   ,  3345.6528  ,  2903.8406  ,\n",
              "         4890.503   ,  5820.5566  ,  6119.6455  ,  6607.3335  ,\n",
              "         5735.7974  ,  3396.6545  ,  1601.6722  ,  1939.2412  ,\n",
              "         3586.6887  ,  3077.8826  ,  1904.251   ,  1956.2677  ,\n",
              "         1647.8442  ,  1007.20386 ,  1882.5725  ,  2140.998   ,\n",
              "         1825.4749  ,  1737.1387  ,  1600.8926  ,  1210.5322  ,\n",
              "         1253.1083  ,  2572.5684  ,  3477.3027  ,  2745.8208  ,\n",
              "         1986.5332  ,  3007.755   ,  3978.1384  ,  5947.6157  ,\n",
              "         7464.778   ,  8805.099   ,  9875.605   ,  9458.765   ,\n",
              "         7524.356   ,  6175.972   ,  5628.626   ,  3908.795   ,\n",
              "         2315.4646  ,  2338.974   ,  3792.4     ,  5646.481   ,\n",
              "         3834.917   ,  1690.7533  ,  1862.1226  ,  2536.0735  ,\n",
              "         1621.3502  ,  1998.1837  ,  1504.2532  ,  1680.1517  ,\n",
              "         1789.0433  ,  2056.8293  ,  4178.2056  ,  5702.06    ,\n",
              "         8507.758   ,  9529.754   ,  9682.751   ], dtype=float32),\n",
              " 'mape': array([ 7.658749  ,  5.182422  ,  4.5957537 ,  7.2014794 ,  6.8176055 ,\n",
              "         7.643408  ,  7.211476  ,  5.8548512 ,  7.0312443 ,  8.393379  ,\n",
              "        12.179657  , 13.184628  , 13.329151  , 12.058323  ,  8.877893  ,\n",
              "         2.973433  ,  1.7702941 ,  2.524246  ,  3.1993847 ,  3.4050264 ,\n",
              "         3.4631736 ,  3.60105   ,  3.5071292 ,  3.4405854 ,  1.7754157 ,\n",
              "         1.3953648 ,  1.5467544 ,  2.811936  ,  3.301176  ,  4.372999  ,\n",
              "         5.3984427 ,  6.878069  ,  5.3459773 ,  5.4727373 ,  5.278857  ,\n",
              "         5.038606  ,  5.6159234 ,  4.1991735 ,  3.1216512 ,  2.1162498 ,\n",
              "         6.438091  ,  1.1539322 ,  2.2678313 ,  2.1622338 ,  2.7428176 ,\n",
              "         1.9801077 ,  1.3572108 ,  1.58266   ,  1.6027586 ,  2.6954305 ,\n",
              "         2.9740882 ,  3.0278695 ,  4.5013537 ,  2.4873745 ,  2.82987   ,\n",
              "         3.630011  ,  6.520686  ,  5.9576664 ,  4.4578424 ,  5.0585537 ,\n",
              "         3.2412753 ,  1.6495949 ,  2.7822282 ,  3.527924  ,  3.460949  ,\n",
              "         3.6883779 ,  3.7058897 ,  4.80311   ,  2.2567277 ,  4.0365276 ,\n",
              "         4.260785  ,  5.875417  ,  7.6186113 ,  5.661887  ,  4.5687814 ,\n",
              "         4.5658064 ,  3.6905508 ,  3.2524698 ,  4.3257    ,  6.6590333 ,\n",
              "         7.0798755 ,  4.866731  ,  2.1664572 ,  2.2949977 ,  2.7336104 ,\n",
              "         2.287543  ,  1.6253827 ,  2.315789  ,  3.5919435 ,  4.556759  ,\n",
              "         2.8250325 ,  2.7871907 ,  1.6823199 ,  2.016909  ,  2.7449834 ,\n",
              "         3.400602  ,  3.914798  ,  6.873765  ,  7.4785194 ,  9.228589  ,\n",
              "         6.127909  ,  4.150788  ,  2.794688  ,  4.944029  ,  5.7594085 ,\n",
              "         5.7245336 ,  7.1554847 ,  8.599772  , 12.353822  , 11.306427  ,\n",
              "         9.882627  ,  4.5431504 ,  1.5609597 ,  1.8732827 ,  1.8204252 ,\n",
              "         3.8587608 ,  4.4545302 ,  6.6469193 ,  8.177922  , 16.376266  ,\n",
              "        26.8512    , 35.72494   , 35.31854   , 35.980408  , 41.922615  ,\n",
              "        47.674236  , 23.219126  , 12.005665  ,  7.51056   ,  5.856497  ,\n",
              "         6.0347347 ,  6.600339  ,  7.7293105 ,  4.3331614 ,  3.9401717 ,\n",
              "         4.8405495 ,  6.4829326 ,  4.4743276 ,  6.4518633 ,  6.312938  ,\n",
              "         4.926611  ,  5.4803305 ,  3.6568668 ,  9.931786  ,  8.057072  ,\n",
              "         3.8238187 ,  3.9276528 ,  1.6648588 ,  3.1791503 ,  4.607556  ,\n",
              "         3.293686  ,  5.4517736 ,  8.411266  , 10.508115  , 10.837414  ,\n",
              "         4.9905686 ,  2.893488  ,  1.5069354 ,  1.5281365 ,  2.9081168 ,\n",
              "         3.248755  ,  3.1063857 ,  2.9478927 ,  2.9327333 ,  1.9467169 ,\n",
              "         4.2919774 ,  6.9901576 ,  7.658822  ,  4.1023064 ,  5.2371297 ,\n",
              "         7.185299  ,  9.509368  ,  9.773137  , 11.443622  ,  3.9533682 ,\n",
              "         2.327997  ,  3.440573  ,  2.7248156 ,  3.840422  ,  5.1453285 ,\n",
              "         5.9534097 ,  7.245641  ,  9.861413  , 12.567128  , 10.324361  ,\n",
              "         2.6267962 ,  5.204511  ,  7.238172  ,  2.6726387 ,  4.1027627 ,\n",
              "         3.543898  ,  4.0174484 ,  5.189449  ,  6.1949873 ,  6.9304185 ,\n",
              "         7.9646544 ,  4.593965  ,  3.3191342 ,  2.214103  ,  1.9835008 ,\n",
              "         4.473357  ,  7.1026287 ,  6.5907984 ,  2.478529  ,  2.567938  ,\n",
              "         3.3761966 ,  2.8225656 ,  4.853289  ,  1.5944436 ,  0.92800486,\n",
              "         3.6710765 ,  3.2533526 ,  3.6910985 ,  4.492037  ,  4.7750444 ,\n",
              "         5.3125405 ,  7.259361  ,  2.504179  ,  2.719236  ,  3.1432514 ,\n",
              "         2.6297596 ,  3.3343487 ,  2.5159845 ,  2.2317858 ,  2.2611082 ,\n",
              "         2.1512952 ,  3.385231  ,  3.6886687 ,  5.8722672 ,  6.28034   ,\n",
              "         4.6902685 ,  2.7487783 ,  1.9779851 ,  1.3187132 ,  1.8683974 ,\n",
              "         2.0223734 ,  2.556894  ,  2.5354202 ,  0.864772  ,  1.4481975 ,\n",
              "         1.1277099 ,  1.5404403 ,  2.04963   ,  2.9275486 ,  3.910866  ,\n",
              "         3.3184106 ,  2.220993  ,  2.1998796 ,  2.1354492 ,  2.9467306 ,\n",
              "         2.7475724 ,  2.3106222 ,  0.9320884 ,  0.9203137 ,  1.5053606 ,\n",
              "         2.421863  ,  4.5832167 ,  5.070248  ,  5.3447986 ,  6.6618376 ,\n",
              "         8.858025  , 10.791128  , 10.580678  ,  2.270114  ,  2.115166  ,\n",
              "         2.5408452 ,  2.3579884 ,  2.319078  ,  4.307374  ,  1.1868021 ,\n",
              "         1.3539071 ,  2.1398652 ,  2.5652378 ,  3.7973728 ,  3.7072308 ,\n",
              "         3.4674838 ,  3.0380893 ,  3.742808  ,  1.4408778 ,  1.6992387 ,\n",
              "         1.3928407 ,  2.3775296 ,  3.313989  ,  3.242876  ,  5.8495307 ,\n",
              "         6.070436  ,  4.3171134 ,  3.888866  ,  2.9756489 ,  3.208401  ,\n",
              "         3.1202729 ,  3.9094012 ,  0.80631423,  1.3093895 ,  2.8248918 ,\n",
              "         4.3354177 ,  7.515446  ,  9.799342  , 12.414661  , 15.231397  ,\n",
              "        14.111933  ,  8.390154  ,  4.9599533 ,  1.4935607 ,  1.3591598 ,\n",
              "         1.1181453 ,  2.0706735 ,  2.2898588 ,  1.9919544 ,  3.3142269 ,\n",
              "         3.2725117 ,  3.8365304 ,  2.56904   ,  2.7595913 ,  4.544281  ,\n",
              "         4.4851584 ,  5.141232  ,  4.9058633 ,  4.2318983 ,  1.6892675 ,\n",
              "         1.1685154 ,  1.7561247 ,  1.8998543 ,  2.9775467 ,  2.966683  ,\n",
              "         3.4556906 ,  4.315315  ,  4.049625  ,  4.092883  ,  2.6918602 ,\n",
              "         1.026577  ,  1.8917972 ,  1.8778398 ,  2.195296  ,  3.623722  ,\n",
              "         4.8318257 ,  3.6914356 ,  2.3295848 ,  2.0068812 ,  2.419939  ,\n",
              "         3.457749  ,  2.5286539 ,  2.7216241 ,  3.6394591 ,  4.5134187 ,\n",
              "         6.4920077 ,  7.5573907 ,  7.005848  ,  7.5638094 ,  1.8415844 ,\n",
              "         2.409501  ,  1.2341399 ,  1.1650586 ,  1.5571846 ,  1.452061  ,\n",
              "         2.2961195 ,  1.1981683 ,  2.6503239 ,  3.6491983 ,  3.7173536 ,\n",
              "         4.1210866 ,  5.5515084 ,  6.8027506 ,  5.6886034 ,  1.818767  ,\n",
              "         2.15608   ,  1.625969  ,  1.2662226 ,  2.3294997 ,  4.2784834 ,\n",
              "         4.1419454 ,  3.2338912 ,  4.0722466 ,  5.7234864 ,  9.5022335 ,\n",
              "         8.239635  ,  3.62393   ,  1.9107614 ,  2.5633497 ,  5.1433454 ,\n",
              "         6.0455227 ,  7.129906  ,  6.194687  ,  6.806089  ,  6.412547  ,\n",
              "         3.5248492 ,  6.5005555 ,  5.80691   ,  4.197341  ,  2.1700552 ,\n",
              "         3.038945  ,  3.2540078 ,  5.7450047 ,  4.606459  ,  4.5494146 ,\n",
              "         4.6060143 ,  4.265008  ,  2.6468337 ,  3.0626993 ,  6.472634  ,\n",
              "        10.056108  , 10.606611  , 12.240755  , 12.917876  , 13.777765  ,\n",
              "         8.53447   ,  2.2740836 ,  2.0176497 ,  3.3265483 ,  4.4455767 ,\n",
              "         4.7844253 ,  5.229818  ,  7.5962954 ,  9.64619   ,  9.400333  ,\n",
              "         6.340798  ,  7.1668205 ,  7.8931904 , 10.401075  ,  8.717222  ,\n",
              "         9.717913  , 13.355825  , 10.10409   ,  9.760545  , 11.659564  ,\n",
              "         8.792841  ,  7.333129  ,  8.21416   , 13.627228  , 16.011763  ,\n",
              "        14.321886  ,  3.48582   ,  4.4268208 ,  3.3744264 , 10.660335  ,\n",
              "        10.358275  , 10.566141  , 10.751683  , 10.755515  , 12.324134  ,\n",
              "        12.037992  ,  3.0601432 ,  4.117089  ,  3.6200194 ,  3.6629908 ,\n",
              "         3.006384  ,  4.082476  ,  8.060819  ,  7.2429233 ,  3.9634395 ,\n",
              "         5.0578737 ,  5.8061404 , 12.853053  , 12.8020315 , 10.262134  ,\n",
              "        11.577309  , 11.698835  , 10.250605  , 14.275019  ,  7.7087946 ,\n",
              "         2.3154674 ,  2.158757  ,  2.5597234 ,  3.8510344 ,  4.3442698 ,\n",
              "         4.550266  ,  4.8262234 ,  6.368409  ,  5.4197264 ,  7.814728  ,\n",
              "        12.267191  , 17.628649  , 20.672585  , 20.957296  ,  9.952845  ,\n",
              "         4.7310944 ,  4.2847166 ,  3.385746  ,  3.5930276 ,  6.9137154 ,\n",
              "         3.6284952 ,  3.4865286 ,  3.8908384 ,  5.6515775 ,  7.723354  ,\n",
              "        10.275088  , 11.415148  ,  9.6676235 ,  7.1059704 ,  2.9713151 ,\n",
              "         2.4696908 ,  2.8202112 ,  4.3155107 ,  7.776569  ,  4.522692  ,\n",
              "         4.109801  ,  6.9537377 ,  8.613186  , 10.176487  , 11.111468  ,\n",
              "        10.286476  ,  5.1079197 ,  2.3631032 ,  2.8778155 ,  5.9213843 ,\n",
              "         5.203084  ,  2.8954284 ,  3.1611834 ,  2.524303  ,  1.5954015 ,\n",
              "         2.497905  ,  3.3637304 ,  2.6326866 ,  2.3112233 ,  2.0457833 ,\n",
              "         1.2993665 ,  1.5108634 ,  3.5568938 ,  4.713792  ,  4.135297  ,\n",
              "         2.7715645 ,  3.80828   ,  5.6875896 ,  8.189944  , 11.109187  ,\n",
              "        14.2069    , 16.692738  , 16.832563  , 13.163112  , 10.829384  ,\n",
              "        10.167187  ,  6.410407  ,  3.6623638 ,  3.8853712 ,  6.3311048 ,\n",
              "         9.820745  ,  6.548552  ,  2.3832176 ,  2.7907863 ,  3.964154  ,\n",
              "         2.3399715 ,  2.9566317 ,  2.0367417 ,  2.288347  ,  2.6725378 ,\n",
              "         2.4033992 ,  5.797162  ,  8.539553  , 13.944395  , 17.004183  ,\n",
              "        18.23897   ], dtype=float32),\n",
              " 'mase': 2.169088}"
            ]
          },
          "metadata": {},
          "execution_count": 69
        }
      ]
    },
    {
      "cell_type": "markdown",
      "source": [
        "### Make our evaluation function work for large horizon"
      ],
      "metadata": {
        "id": "SENLtyxNc46i"
      }
    },
    {
      "cell_type": "code",
      "source": [
        "## Creating the evaluation matrix function\n",
        "def calculate_evaluation_metrics(y_true, y_pred):\n",
        "  y_true = tf.cast(y_true, dtype=tf.float32)\n",
        "  y_pred = tf.cast(y_pred, dtype=tf.float32)\n",
        "\n",
        "  # Calculate various metrics\n",
        "  mae = tf.keras.metrics.mean_absolute_error(y_true, y_pred)\n",
        "  mse = tf.keras.metrics.mean_squared_error(y_true, y_pred)\n",
        "  rmse = tf.sqrt(mse)\n",
        "  mape = tf.keras.metrics.mean_absolute_percentage_error(y_true, y_pred)\n",
        "  mase = mean_absolute_scaled_error(y_true, y_pred)\n",
        "\n",
        "  # Account for different sized metrics (for longer horizons, reduce to single number)\n",
        "  if mae.ndim > 0: # if mae isn't already a scalar, reduce it to one by aggregating tensors to mean\n",
        "    mae = tf.reduce_mean(mae)\n",
        "    mse = tf.reduce_mean(mse)\n",
        "    rmse = tf.reduce_mean(rmse)\n",
        "    mape = tf.reduce_mean(mape)\n",
        "    mase = tf.reduce_mean(mase)\n",
        "\n",
        "  return {\"mae\": mae.numpy(),\n",
        "          \"mse\": mse.numpy(),\n",
        "          \"rmse\": rmse.numpy(),\n",
        "          \"mape\": mape.numpy(),\n",
        "          \"mase\": mase.numpy()}"
      ],
      "metadata": {
        "id": "mbZeslD-i1sX"
      },
      "execution_count": 70,
      "outputs": []
    },
    {
      "cell_type": "code",
      "source": [
        "model_3_preds = make_preds(model_3, X_test)"
      ],
      "metadata": {
        "colab": {
          "base_uri": "https://localhost:8080/"
        },
        "id": "MCEBzux-kbHa",
        "outputId": "b49fb302-1eeb-4bbe-bf53-8580f0f10e84"
      },
      "execution_count": 71,
      "outputs": [
        {
          "output_type": "stream",
          "name": "stdout",
          "text": [
            "18/18 [==============================] - 0s 2ms/step\n"
          ]
        }
      ]
    },
    {
      "cell_type": "code",
      "source": [
        "for i in range(10):\n",
        "  print(y_test[i], model_3_preds[i])"
      ],
      "metadata": {
        "colab": {
          "base_uri": "https://localhost:8080/"
        },
        "id": "uXgVy3s1kf7e",
        "outputId": "ba4f9761-20d7-452b-ac28-ac902889db34"
      },
      "execution_count": 72,
      "outputs": [
        {
          "output_type": "stream",
          "name": "stdout",
          "text": [
            "[8794.35864452 8798.04205463 9081.18687849 8711.53433917 8760.89271814\n",
            " 8749.52059102 8656.97092235] tf.Tensor([9115.507  9290.262  9401.9795 9506.984  9544.722  9665.545  9720.4795], shape=(7,), dtype=float32)\n",
            "[8798.04205463 9081.18687849 8711.53433917 8760.89271814 8749.52059102\n",
            " 8656.97092235 8500.64355816] tf.Tensor([8905.088 9059.224 9228.929 9341.755 9230.224 9318.703 9275.143], shape=(7,), dtype=float32)\n",
            "[9081.18687849 8711.53433917 8760.89271814 8749.52059102 8656.97092235\n",
            " 8500.64355816 8469.2608989 ] tf.Tensor([8809.338  8872.723  8988.2705 9215.409  9074.885  9088.762  9118.035 ], shape=(7,), dtype=float32)\n",
            "[8711.53433917 8760.89271814 8749.52059102 8656.97092235 8500.64355816\n",
            " 8469.2608989  8537.33965197] tf.Tensor([9042.429 8956.023 9265.197 9412.927 9307.427 9294.524 9435.77 ], shape=(7,), dtype=float32)\n",
            "[8760.89271814 8749.52059102 8656.97092235 8500.64355816 8469.2608989\n",
            " 8537.33965197 8205.80636599] tf.Tensor([8802.968 9000.818 8969.689 9243.733 9090.537 9329.74  9469.476], shape=(7,), dtype=float32)\n",
            "[8749.52059102 8656.97092235 8500.64355816 8469.2608989  8537.33965197\n",
            " 8205.80636599 8118.4885358 ] tf.Tensor([8751.958 8982.54  8958.311 9279.45  9120.323 9223.068 9380.068], shape=(7,), dtype=float32)\n",
            "[8656.97092235 8500.64355816 8469.2608989  8537.33965197 8205.80636599\n",
            " 8118.4885358  8074.84317361] tf.Tensor([8755.555  8736.798  8940.212  9115.914  9026.6875 9029.697  9124.432 ], shape=(7,), dtype=float32)\n",
            "[8500.64355816 8469.2608989  8537.33965197 8205.80636599 8118.4885358\n",
            " 8074.84317361 7612.7405735 ] tf.Tensor([8622.59  8560.935 8639.218 8755.902 8763.777 8771.151 8678.399], shape=(7,), dtype=float32)\n",
            "[8469.2608989  8537.33965197 8205.80636599 8118.4885358  8074.84317361\n",
            " 7612.7405735  7262.11053495] tf.Tensor([8406.517  8464.578  8630.975  8565.284  8630.827  8471.3955 8625.665 ], shape=(7,), dtype=float32)\n",
            "[8537.33965197 8205.80636599 8118.4885358  8074.84317361 7612.7405735\n",
            " 7262.11053495 7303.40575852] tf.Tensor([8409.941 8431.918 8659.001 8427.107 8343.452 8477.831 8555.684], shape=(7,), dtype=float32)\n"
          ]
        }
      ]
    },
    {
      "cell_type": "code",
      "source": [
        "model_3_results = calculate_evaluation_metrics(tf.squeeze(y_test), model_3_preds)\n",
        "model_3_results"
      ],
      "metadata": {
        "colab": {
          "base_uri": "https://localhost:8080/"
        },
        "id": "7vOmg6pgkn56",
        "outputId": "03442988-d0c6-4074-d113-f48c5302ce2b"
      },
      "execution_count": 73,
      "outputs": [
        {
          "output_type": "execute_result",
          "data": {
            "text/plain": [
              "{'mae': 1218.9695,\n",
              " 'mse': 5424010.0,\n",
              " 'rmse': 1405.7128,\n",
              " 'mape': 5.5572395,\n",
              " 'mase': 2.169088}"
            ]
          },
          "metadata": {},
          "execution_count": 73
        }
      ]
    },
    {
      "cell_type": "code",
      "source": [
        "## Plotting the model performance\n",
        "offset = 300\n",
        "plt.figure(figsize=(10, 7))\n",
        "\n",
        "plot_time_series(timesteps=naive_forecast.index[:-6],\n",
        "                 values = tf.reduce_mean(y_test, axis=1),\n",
        "                 start=offset,\n",
        "                 label='test_data')\n",
        "\n",
        "plot_time_series(timesteps=naive_forecast.index[:-6],\n",
        "                 values=tf.reduce_mean(model_3_preds, axis=1),\n",
        "                 label='preds',\n",
        "                 start=offset,\n",
        "                 format='-')"
      ],
      "metadata": {
        "colab": {
          "base_uri": "https://localhost:8080/",
          "height": 619
        },
        "outputId": "9835bed0-0a23-4da5-a096-01341c6f2ed9",
        "id": "5l0vd7D_c46i"
      },
      "execution_count": 74,
      "outputs": [
        {
          "output_type": "display_data",
          "data": {
            "text/plain": [
              "<Figure size 1000x700 with 1 Axes>"
            ],
            "image/png": "[encoded data removed]"
          },
          "metadata": {}
        }
      ]
    },
    {
      "cell_type": "markdown",
      "source": [
        "## Model_4: Conv1D"
      ],
      "metadata": {
        "id": "xPbN57-9k0Y5"
      }
    },
    {
      "cell_type": "code",
      "source": [
        "HORIZON = 1\n",
        "WINDOW_SIZE = 7"
      ],
      "metadata": {
        "id": "L7FQpVkM_rjN"
      },
      "execution_count": 75,
      "outputs": []
    },
    {
      "cell_type": "code",
      "source": [
        "full_windows, full_labels = make_windows(prices, WINDOW_SIZE, HORIZON)"
      ],
      "metadata": {
        "id": "Pbb4_EmZ_xOD"
      },
      "execution_count": 76,
      "outputs": []
    },
    {
      "cell_type": "code",
      "source": [
        "X_train, X_test, y_train, y_test = train_test_split(full_windows, full_labels, test_size=0.2, shuffle=False)"
      ],
      "metadata": {
        "id": "Ev8yzD30_9t7"
      },
      "execution_count": 77,
      "outputs": []
    },
    {
      "cell_type": "code",
      "source": [
        "len(X_train), len(X_test)"
      ],
      "metadata": {
        "colab": {
          "base_uri": "https://localhost:8080/"
        },
        "id": "Cr2C0jOdApFR",
        "outputId": "61bf80da-5939-40b1-ce95-a0ecdbe133ac"
      },
      "execution_count": 78,
      "outputs": [
        {
          "output_type": "execute_result",
          "data": {
            "text/plain": [
              "(2224, 556)"
            ]
          },
          "metadata": {},
          "execution_count": 78
        }
      ]
    },
    {
      "cell_type": "code",
      "source": [
        "x = tf.constant(X_train[0])\n",
        "x"
      ],
      "metadata": {
        "colab": {
          "base_uri": "https://localhost:8080/"
        },
        "id": "w2gBmN9eAsLA",
        "outputId": "629e3dc2-9e9b-43b3-b640-a867c8e291e8"
      },
      "execution_count": 79,
      "outputs": [
        {
          "output_type": "execute_result",
          "data": {
            "text/plain": [
              "<tf.Tensor: shape=(7,), dtype=float64, numpy=\n",
              "array([123.65499, 125.455  , 108.58483, 118.67466, 121.33866, 120.65533,\n",
              "       121.795  ])>"
            ]
          },
          "metadata": {},
          "execution_count": 79
        }
      ]
    },
    {
      "cell_type": "code",
      "source": [
        "expand_dims_layer = tf.keras.layers.Lambda(lambda x: tf.expand_dims(x, axis=1))"
      ],
      "metadata": {
        "id": "xy2QM3msBfxh"
      },
      "execution_count": 80,
      "outputs": []
    },
    {
      "cell_type": "code",
      "source": [
        "x.shape, expand_dims_layer(x).shape"
      ],
      "metadata": {
        "colab": {
          "base_uri": "https://localhost:8080/"
        },
        "id": "0fTNi7eNB_0e",
        "outputId": "2352bce7-e274-4eb8-efdb-9f54a3b1ff20"
      },
      "execution_count": 81,
      "outputs": [
        {
          "output_type": "execute_result",
          "data": {
            "text/plain": [
              "(TensorShape([7]), TensorShape([7, 1]))"
            ]
          },
          "metadata": {},
          "execution_count": 81
        }
      ]
    },
    {
      "cell_type": "code",
      "source": [
        "tf.random.set_seed(42)\n",
        "\n",
        "model_4 = tf.keras.models.Sequential([\n",
        "    tf.keras.layers.Lambda(lambda x: tf.expand_dims(x, axis=1)),\n",
        "    tf.keras.layers.Conv1D(filters=128, kernel_size=5, padding='causal', activation='relu'),\n",
        "    tf.keras.layers.Dense(HORIZON, activation='linear')\n",
        "])\n",
        "\n",
        "model_4.compile(loss='mae',\n",
        "              optimizer='Adam',\n",
        "              metrics=['mae', 'mse'])\n",
        "\n",
        "model_4.fit(X_train, y_train,\n",
        "            epochs=100,\n",
        "            batch_size=32,\n",
        "            verbose=0,\n",
        "            validation_data=(X_test, y_test),\n",
        "            callbacks=[model_checkpoint('Model_4')])"
      ],
      "metadata": {
        "colab": {
          "base_uri": "https://localhost:8080/"
        },
        "id": "LodppkuMCmP0",
        "outputId": "adbdb271-f3e8-4625-febd-8e7af31097bf"
      },
      "execution_count": 82,
      "outputs": [
        {
          "output_type": "execute_result",
          "data": {
            "text/plain": [
              "<keras.src.callbacks.History at 0x7f361f340eb0>"
            ]
          },
          "metadata": {},
          "execution_count": 82
        }
      ]
    },
    {
      "cell_type": "code",
      "source": [
        "model_4.summary()"
      ],
      "metadata": {
        "colab": {
          "base_uri": "https://localhost:8080/"
        },
        "id": "i99CC-4uJ5ep",
        "outputId": "bf7a9db6-9872-4048-85cf-53973c372caa"
      },
      "execution_count": 83,
      "outputs": [
        {
          "output_type": "stream",
          "name": "stdout",
          "text": [
            "Model: \"sequential_3\"\n",
            "_________________________________________________________________\n",
            " Layer (type)                Output Shape              Param #   \n",
            "=================================================================\n",
            " lambda_1 (Lambda)           (None, 1, 7)              0         \n",
            "                                                                 \n",
            " conv1d (Conv1D)             (None, 1, 128)            4608      \n",
            "                                                                 \n",
            " dense_6 (Dense)             (None, 1, 1)              129       \n",
            "                                                                 \n",
            "=================================================================\n",
            "Total params: 4737 (18.50 KB)\n",
            "Trainable params: 4737 (18.50 KB)\n",
            "Non-trainable params: 0 (0.00 Byte)\n",
            "_________________________________________________________________\n"
          ]
        }
      ]
    },
    {
      "cell_type": "code",
      "source": [
        "model_4.evaluate(X_test, y_test)"
      ],
      "metadata": {
        "colab": {
          "base_uri": "https://localhost:8080/"
        },
        "id": "0VXEmy_wLLnn",
        "outputId": "e1fac06e-11be-4db7-8e7a-408aef095173"
      },
      "execution_count": 84,
      "outputs": [
        {
          "output_type": "stream",
          "name": "stdout",
          "text": [
            "18/18 [==============================] - 0s 3ms/step - loss: 570.1318 - mae: 570.1318 - mse: 1170472.2500\n"
          ]
        },
        {
          "output_type": "execute_result",
          "data": {
            "text/plain": [
              "[570.1318359375, 570.1318359375, 1170472.25]"
            ]
          },
          "metadata": {},
          "execution_count": 84
        }
      ]
    },
    {
      "cell_type": "code",
      "source": [
        "model_4_preds = model_4.predict(X_test)"
      ],
      "metadata": {
        "colab": {
          "base_uri": "https://localhost:8080/"
        },
        "id": "Xl8gf8DRMBuK",
        "outputId": "cda55adb-c5a6-4b08-eebe-984497ca0675"
      },
      "execution_count": 85,
      "outputs": [
        {
          "output_type": "stream",
          "name": "stdout",
          "text": [
            "18/18 [==============================] - 0s 2ms/step\n"
          ]
        }
      ]
    },
    {
      "cell_type": "code",
      "source": [
        "model_4 = tf.keras.models.load_model('/content/model_experiment/Model_4')"
      ],
      "metadata": {
        "id": "FKyV8DZ5MHbQ"
      },
      "execution_count": 86,
      "outputs": []
    },
    {
      "cell_type": "code",
      "source": [
        "model_4.evaluate(X_test, y_test)"
      ],
      "metadata": {
        "colab": {
          "base_uri": "https://localhost:8080/"
        },
        "id": "2UGcCsrzMQj-",
        "outputId": "4adafbe6-f661-4d04-9f38-f94741dc4319"
      },
      "execution_count": 87,
      "outputs": [
        {
          "output_type": "stream",
          "name": "stdout",
          "text": [
            "18/18 [==============================] - 0s 3ms/step - loss: 563.8019 - mae: 563.8019 - mse: 1157093.2500\n"
          ]
        },
        {
          "output_type": "execute_result",
          "data": {
            "text/plain": [
              "[563.8019409179688, 563.8019409179688, 1157093.25]"
            ]
          },
          "metadata": {},
          "execution_count": 87
        }
      ]
    },
    {
      "cell_type": "code",
      "source": [
        "model_4_results = calculate_evaluation_metrics(y_test, model_4_preds)\n",
        "model_4_results"
      ],
      "metadata": {
        "colab": {
          "base_uri": "https://localhost:8080/"
        },
        "id": "vp6NoluuMU_B",
        "outputId": "a4d0aeb5-af41-4d5c-cf95-9ce37ad14876"
      },
      "execution_count": 88,
      "outputs": [
        {
          "output_type": "execute_result",
          "data": {
            "text/plain": [
              "{'mae': 17175.668,\n",
              " 'mse': 617039600.0,\n",
              " 'rmse': 17175.668,\n",
              " 'mape': 113.73007,\n",
              " 'mase': 30.172892}"
            ]
          },
          "metadata": {},
          "execution_count": 88
        }
      ]
    },
    {
      "cell_type": "code",
      "source": [
        "model_3_results"
      ],
      "metadata": {
        "colab": {
          "base_uri": "https://localhost:8080/"
        },
        "id": "lHhttdVsMeu7",
        "outputId": "4e687047-ba50-4a7b-c904-e1f8bf4e01e1"
      },
      "execution_count": 89,
      "outputs": [
        {
          "output_type": "execute_result",
          "data": {
            "text/plain": [
              "{'mae': 1218.9695,\n",
              " 'mse': 5424010.0,\n",
              " 'rmse': 1405.7128,\n",
              " 'mape': 5.5572395,\n",
              " 'mase': 2.169088}"
            ]
          },
          "metadata": {},
          "execution_count": 89
        }
      ]
    },
    {
      "cell_type": "code",
      "source": [
        "## Plotting the model performance\n",
        "offset = 300\n",
        "plt.figure(figsize=(10, 7))\n",
        "\n",
        "plot_time_series(timesteps=naive_forecast.index[:-1],\n",
        "                 values = tf.reduce_mean(y_test, axis=1),\n",
        "                 start=offset,\n",
        "                 label='test_data')\n",
        "\n",
        "plot_time_series(timesteps=naive_forecast.index[:-1],\n",
        "                 values=tf.reduce_mean(model_4_preds, axis=1),\n",
        "                 label='preds',\n",
        "                 start=offset,\n",
        "                 format='-')"
      ],
      "metadata": {
        "colab": {
          "base_uri": "https://localhost:8080/",
          "height": 619
        },
        "id": "gjyf_t9RNCRB",
        "outputId": "fdecf9fe-a18a-4950-c07d-4c99a218353c"
      },
      "execution_count": 90,
      "outputs": [
        {
          "output_type": "display_data",
          "data": {
            "text/plain": [
              "<Figure size 1000x700 with 1 Axes>"
            ],
            "image/png": "[encoded data removed]"
          },
          "metadata": {}
        }
      ]
    },
    {
      "cell_type": "markdown",
      "source": [
        "##Model_5: LSTM"
      ],
      "metadata": {
        "id": "dwRx3FsvQAaO"
      }
    },
    {
      "cell_type": "code",
      "source": [
        "import tensorflow.keras.layers as layers\n",
        "tf.random.set_seed(42)\n",
        "\n",
        "# Let's build an LSTM model with the Functional API\n",
        "inputs = layers.Input(shape=(WINDOW_SIZE))\n",
        "x = layers.Lambda(lambda x: tf.expand_dims(x, axis=1))(inputs) # expand input dimension to be compatible with LSTM\n",
        "# print(x.shape)\n",
        "# x = layers.LSTM(128, activation=\"relu\", return_sequences=True)(x) # this layer will error if the inputs are not the right shape\n",
        "x = layers.LSTM(128, activation=\"relu\")(x) # using the tanh loss function results in a massive error\n",
        "# print(x.shape)\n",
        "# Add another optional dense layer (you could add more of these to see if they improve model performance)\n",
        "# x = layers.Dense(32, activation=\"relu\")(x)\n",
        "output = layers.Dense(HORIZON)(x)\n",
        "model_5 = tf.keras.Model(inputs=inputs, outputs=output, name=\"model_5_lstm\")\n",
        "\n",
        "\n",
        "model_5.compile(loss='mae',\n",
        "                optimizer='Adam',\n",
        "                metrics=['mae', 'mse'])\n",
        "\n",
        "model_5.fit(X_train, y_train,\n",
        "            epochs=100,\n",
        "            validation_data=(X_test, y_test),\n",
        "            batch_size=32,\n",
        "            verbose=0,\n",
        "            callbacks=[model_checkpoint('Model_5')])"
      ],
      "metadata": {
        "colab": {
          "base_uri": "https://localhost:8080/"
        },
        "id": "KaW7TGVFQChy",
        "outputId": "3e487641-9e2f-4deb-95e5-9042e62f5e20"
      },
      "execution_count": 91,
      "outputs": [
        {
          "output_type": "stream",
          "name": "stderr",
          "text": [
            "WARNING:tensorflow:Layer lstm will not use cuDNN kernels since it doesn't meet the criteria. It will use a generic GPU kernel as fallback when running on GPU.\n"
          ]
        },
        {
          "output_type": "execute_result",
          "data": {
            "text/plain": [
              "<keras.src.callbacks.History at 0x7f362487feb0>"
            ]
          },
          "metadata": {},
          "execution_count": 91
        }
      ]
    },
    {
      "cell_type": "code",
      "source": [
        "model_5.summary()"
      ],
      "metadata": {
        "colab": {
          "base_uri": "https://localhost:8080/"
        },
        "id": "EvlAQpMHRDYR",
        "outputId": "f4da0054-480a-46c0-e38c-7be68821d211"
      },
      "execution_count": 92,
      "outputs": [
        {
          "output_type": "stream",
          "name": "stdout",
          "text": [
            "Model: \"model_5_lstm\"\n",
            "_________________________________________________________________\n",
            " Layer (type)                Output Shape              Param #   \n",
            "=================================================================\n",
            " input_1 (InputLayer)        [(None, 7)]               0         \n",
            "                                                                 \n",
            " lambda_2 (Lambda)           (None, 1, 7)              0         \n",
            "                                                                 \n",
            " lstm (LSTM)                 (None, 128)               69632     \n",
            "                                                                 \n",
            " dense_7 (Dense)             (None, 1)                 129       \n",
            "                                                                 \n",
            "=================================================================\n",
            "Total params: 69761 (272.50 KB)\n",
            "Trainable params: 69761 (272.50 KB)\n",
            "Non-trainable params: 0 (0.00 Byte)\n",
            "_________________________________________________________________\n"
          ]
        }
      ]
    },
    {
      "cell_type": "code",
      "source": [
        "model_5.evaluate(X_test, y_test)"
      ],
      "metadata": {
        "colab": {
          "base_uri": "https://localhost:8080/"
        },
        "id": "nVag0I6-RFYT",
        "outputId": "07f2b32d-9553-4794-bc7b-9633924eee63"
      },
      "execution_count": 93,
      "outputs": [
        {
          "output_type": "stream",
          "name": "stdout",
          "text": [
            "18/18 [==============================] - 0s 2ms/step - loss: 566.6216 - mae: 566.6216 - mse: 1148556.5000\n"
          ]
        },
        {
          "output_type": "execute_result",
          "data": {
            "text/plain": [
              "[566.62158203125, 566.62158203125, 1148556.5]"
            ]
          },
          "metadata": {},
          "execution_count": 93
        }
      ]
    },
    {
      "cell_type": "code",
      "source": [
        "model_5 = tf.keras.models.load_model('/content/model_experiment/Model_5')"
      ],
      "metadata": {
        "id": "ZxlOPS62RRWd",
        "colab": {
          "base_uri": "https://localhost:8080/"
        },
        "outputId": "e1e3b675-ccdf-46bb-9390-9918a8707067"
      },
      "execution_count": 94,
      "outputs": [
        {
          "output_type": "stream",
          "name": "stderr",
          "text": [
            "WARNING:tensorflow:Layer lstm will not use cuDNN kernels since it doesn't meet the criteria. It will use a generic GPU kernel as fallback when running on GPU.\n"
          ]
        }
      ]
    },
    {
      "cell_type": "code",
      "source": [
        "model_5.evaluate(X_test, y_test)"
      ],
      "metadata": {
        "colab": {
          "base_uri": "https://localhost:8080/"
        },
        "id": "ZbOc8wmCRaUs",
        "outputId": "4710c2b5-7388-438f-f7f0-33123d47d78b"
      },
      "execution_count": 95,
      "outputs": [
        {
          "output_type": "stream",
          "name": "stdout",
          "text": [
            "18/18 [==============================] - 0s 3ms/step - loss: 562.0944 - mae: 562.0944 - mse: 1148488.0000\n"
          ]
        },
        {
          "output_type": "execute_result",
          "data": {
            "text/plain": [
              "[562.0944213867188, 562.0944213867188, 1148488.0]"
            ]
          },
          "metadata": {},
          "execution_count": 95
        }
      ]
    },
    {
      "cell_type": "code",
      "source": [
        "model_5_preds = model_5.predict(X_test)\n",
        "model_5_preds[:5]"
      ],
      "metadata": {
        "colab": {
          "base_uri": "https://localhost:8080/"
        },
        "id": "qWFI3Nc1RdZW",
        "outputId": "5fbb1cbd-941d-496b-cd7c-029f1e1c6621"
      },
      "execution_count": 119,
      "outputs": [
        {
          "output_type": "stream",
          "name": "stdout",
          "text": [
            "18/18 [==============================] - 0s 2ms/step\n"
          ]
        },
        {
          "output_type": "execute_result",
          "data": {
            "text/plain": [
              "array([[8850.368],\n",
              "       [8778.209],\n",
              "       [9017.773],\n",
              "       [8775.507],\n",
              "       [8760.918]], dtype=float32)"
            ]
          },
          "metadata": {},
          "execution_count": 119
        }
      ]
    },
    {
      "cell_type": "code",
      "source": [
        "model_5_results = calculate_evaluation_metrics(y_test, model_5_preds)\n",
        "model_5_results"
      ],
      "metadata": {
        "colab": {
          "base_uri": "https://localhost:8080/"
        },
        "id": "rump_HysRkgV",
        "outputId": "d5254a5f-fd36-44f7-e94d-6a509ff4360a"
      },
      "execution_count": 120,
      "outputs": [
        {
          "output_type": "execute_result",
          "data": {
            "text/plain": [
              "{'mae': 562.0944,\n",
              " 'mse': 1148488.1,\n",
              " 'rmse': 562.0944,\n",
              " 'mape': 2.5373986,\n",
              " 'mase': 0.9874442}"
            ]
          },
          "metadata": {},
          "execution_count": 120
        }
      ]
    },
    {
      "cell_type": "code",
      "source": [
        "y_test.shape, model_5_preds.shape"
      ],
      "metadata": {
        "colab": {
          "base_uri": "https://localhost:8080/"
        },
        "id": "GQOmlzbRH5iw",
        "outputId": "9bb69188-75e9-4c9a-e7b6-0d062c825dea"
      },
      "execution_count": 121,
      "outputs": [
        {
          "output_type": "execute_result",
          "data": {
            "text/plain": [
              "((556, 1), (556, 1))"
            ]
          },
          "metadata": {},
          "execution_count": 121
        }
      ]
    },
    {
      "cell_type": "code",
      "source": [
        "len(y_test), len(model_5_preds)"
      ],
      "metadata": {
        "colab": {
          "base_uri": "https://localhost:8080/"
        },
        "id": "_qt1S_iTIG2q",
        "outputId": "47c4b679-fc35-413c-92f6-6e8c94ec1100"
      },
      "execution_count": 122,
      "outputs": [
        {
          "output_type": "execute_result",
          "data": {
            "text/plain": [
              "(556, 556)"
            ]
          },
          "metadata": {},
          "execution_count": 122
        }
      ]
    },
    {
      "cell_type": "code",
      "source": [
        "## Plotting the model performance\n",
        "offset = 300\n",
        "plt.figure(figsize=(10, 7))\n",
        "\n",
        "plot_time_series(timesteps=naive_forecast.index[:-1],\n",
        "                 values = tf.reduce_mean(y_test, axis=1),\n",
        "                 start=offset,\n",
        "                 label='test_data')\n",
        "\n",
        "plot_time_series(timesteps=naive_forecast.index[:-1],\n",
        "                 values=tf.reduce_mean(model_5_preds, axis=1),\n",
        "                 label='preds',\n",
        "                 start=offset,\n",
        "                 format='-')"
      ],
      "metadata": {
        "colab": {
          "base_uri": "https://localhost:8080/",
          "height": 619
        },
        "id": "SrXjIE9nRsHa",
        "outputId": "a86a0f5c-f926-447e-a831-8abc2bf56ba2"
      },
      "execution_count": 124,
      "outputs": [
        {
          "output_type": "display_data",
          "data": {
            "text/plain": [
              "<Figure size 1000x700 with 1 Axes>"
            ],
            "image/png": "[encoded data removed]"
          },
          "metadata": {}
        }
      ]
    },
    {
      "cell_type": "markdown",
      "source": [
        "##Multivariat time series dataset"
      ],
      "metadata": {
        "id": "uOrhKFK-RxZ6"
      }
    },
    {
      "cell_type": "code",
      "source": [
        "btc_price[:5]"
      ],
      "metadata": {
        "colab": {
          "base_uri": "https://localhost:8080/"
        },
        "id": "bZlgZ8C8HLsX",
        "outputId": "b6c68715-cd03-4e9d-c713-01d68bd809c1"
      },
      "execution_count": 125,
      "outputs": [
        {
          "output_type": "execute_result",
          "data": {
            "text/plain": [
              "array([123.65499, 125.455  , 108.58483, 118.67466, 121.33866])"
            ]
          },
          "metadata": {},
          "execution_count": 125
        }
      ]
    },
    {
      "cell_type": "code",
      "source": [
        "# Block reward values\n",
        "block_reward_1 = 50 # 3 January 2009 (2009-01-03) - this block reward isn't in our dataset (it starts from 01 October 2013)\n",
        "block_reward_2 = 25 # 28 November 2012\n",
        "block_reward_3 = 12.5 # 9 July 2016\n",
        "block_reward_4 = 6.25 # 11 May 2020\n",
        "\n",
        "# Block reward dates (datetime form of the above date stamps)\n",
        "block_reward_2_datetime = np.datetime64(\"2012-11-28\")\n",
        "block_reward_3_datetime = np.datetime64(\"2016-07-09\")\n",
        "block_reward_4_datetime = np.datetime64(\"2020-05-11\")"
      ],
      "metadata": {
        "id": "WMMbDouCEh0h"
      },
      "execution_count": 126,
      "outputs": []
    },
    {
      "cell_type": "code",
      "source": [
        "# Get date indexes for when to add in different block dates\n",
        "block_reward_2_days = (block_reward_3_datetime - df.index[0]).days\n",
        "block_reward_3_days = (block_reward_4_datetime - df.index[0]).days\n",
        "block_reward_2_days, block_reward_3_days"
      ],
      "metadata": {
        "colab": {
          "base_uri": "https://localhost:8080/"
        },
        "id": "bnban5lBHcbt",
        "outputId": "aa007d5b-b731-414a-a837-eee10ea0e62d"
      },
      "execution_count": 127,
      "outputs": [
        {
          "output_type": "execute_result",
          "data": {
            "text/plain": [
              "(1012, 2414)"
            ]
          },
          "metadata": {},
          "execution_count": 127
        }
      ]
    },
    {
      "cell_type": "code",
      "source": [
        "\n",
        "# Add block_reward column\n",
        "bitcoin_prices_block = df.copy()\n",
        "bitcoin_prices_block[\"block_reward\"] = None\n",
        "\n",
        "# Set values of block_reward column (it's the last column hence -1 indexing on iloc)\n",
        "bitcoin_prices_block.iloc[:block_reward_2_days, -1] = block_reward_2\n",
        "bitcoin_prices_block.iloc[block_reward_2_days:block_reward_3_days, -1] = block_reward_3\n",
        "bitcoin_prices_block.iloc[block_reward_3_days:, -1] = block_reward_4\n",
        "bitcoin_prices_block.head()"
      ],
      "metadata": {
        "colab": {
          "base_uri": "https://localhost:8080/",
          "height": 237
        },
        "id": "NYRrxtsZHkl0",
        "outputId": "be936a64-757d-4d70-ee4b-d7e663263447"
      },
      "execution_count": 128,
      "outputs": [
        {
          "output_type": "execute_result",
          "data": {
            "text/plain": [
              "           currency      close       opne       high        low block_reward\n",
              "Date                                                                        \n",
              "2013-10-01      BTC  123.65499  124.30466  124.75166  122.56349           25\n",
              "2013-10-02      BTC  125.45500  123.65499  125.75850  123.63383           25\n",
              "2013-10-03      BTC  108.58483  125.45500  125.66566   83.32833           25\n",
              "2013-10-04      BTC  118.67466  108.58483  118.67500  107.05816           25\n",
              "2013-10-05      BTC  121.33866  118.67466  121.93633  118.00566           25"
            ],
            "text/html": [
              "\n",
              "  <div id=\"df-50dc02e5-284d-492a-bd34-997e717722e7\" class=\"colab-df-container\">\n",
              "    <div>\n",
              "<style scoped>\n",
              "    .dataframe tbody tr th:only-of-type {\n",
              "        vertical-align: middle;\n",
              "    }\n",
              "\n",
              "    .dataframe tbody tr th {\n",
              "        vertical-align: top;\n",
              "    }\n",
              "\n",
              "    .dataframe thead th {\n",
              "        text-align: right;\n",
              "    }\n",
              "</style>\n",
              "<table border=\"1\" class=\"dataframe\">\n",
              "  <thead>\n",
              "    <tr style=\"text-align: right;\">\n",
              "      <th></th>\n",
              "      <th>currency</th>\n",
              "      <th>close</th>\n",
              "      <th>opne</th>\n",
              "      <th>high</th>\n",
              "      <th>low</th>\n",
              "      <th>block_reward</th>\n",
              "    </tr>\n",
              "    <tr>\n",
              "      <th>Date</th>\n",
              "      <th></th>\n",
              "      <th></th>\n",
              "      <th></th>\n",
              "      <th></th>\n",
              "      <th></th>\n",
              "      <th></th>\n",
              "    </tr>\n",
              "  </thead>\n",
              "  <tbody>\n",
              "    <tr>\n",
              "      <th>2013-10-01</th>\n",
              "      <td>BTC</td>\n",
              "      <td>123.65499</td>\n",
              "      <td>124.30466</td>\n",
              "      <td>124.75166</td>\n",
              "      <td>122.56349</td>\n",
              "      <td>25</td>\n",
              "    </tr>\n",
              "    <tr>\n",
              "      <th>2013-10-02</th>\n",
              "      <td>BTC</td>\n",
              "      <td>125.45500</td>\n",
              "      <td>123.65499</td>\n",
              "      <td>125.75850</td>\n",
              "      <td>123.63383</td>\n",
              "      <td>25</td>\n",
              "    </tr>\n",
              "    <tr>\n",
              "      <th>2013-10-03</th>\n",
              "      <td>BTC</td>\n",
              "      <td>108.58483</td>\n",
              "      <td>125.45500</td>\n",
              "      <td>125.66566</td>\n",
              "      <td>83.32833</td>\n",
              "      <td>25</td>\n",
              "    </tr>\n",
              "    <tr>\n",
              "      <th>2013-10-04</th>\n",
              "      <td>BTC</td>\n",
              "      <td>118.67466</td>\n",
              "      <td>108.58483</td>\n",
              "      <td>118.67500</td>\n",
              "      <td>107.05816</td>\n",
              "      <td>25</td>\n",
              "    </tr>\n",
              "    <tr>\n",
              "      <th>2013-10-05</th>\n",
              "      <td>BTC</td>\n",
              "      <td>121.33866</td>\n",
              "      <td>118.67466</td>\n",
              "      <td>121.93633</td>\n",
              "      <td>118.00566</td>\n",
              "      <td>25</td>\n",
              "    </tr>\n",
              "  </tbody>\n",
              "</table>\n",
              "</div>\n",
              "    <div class=\"colab-df-buttons\">\n",
              "\n",
              "  <div class=\"colab-df-container\">\n",
              "    <button class=\"colab-df-convert\" onclick=\"convertToInteractive('df-50dc02e5-284d-492a-bd34-997e717722e7')\"\n",
              "            title=\"Convert this dataframe to an interactive table.\"\n",
              "            style=\"display:none;\">\n",
              "\n",
              "  <svg xmlns=\"http://www.w3.org/2000/svg\" height=\"24px\" viewBox=\"0 -960 960 960\">\n",
              "    <path d=\"M120-120v-720h720v720H120Zm60-500h600v-160H180v160Zm220 220h160v-160H400v160Zm0 220h160v-160H400v160ZM180-400h160v-160H180v160Zm440 0h160v-160H620v160ZM180-180h160v-160H180v160Zm440 0h160v-160H620v160Z\"/>\n",
              "  </svg>\n",
              "    </button>\n",
              "\n",
              "  <style>\n",
              "    .colab-df-container {\n",
              "      display:flex;\n",
              "      gap: 12px;\n",
              "    }\n",
              "\n",
              "    .colab-df-convert {\n",
              "      background-color: #E8F0FE;\n",
              "      border: none;\n",
              "      border-radius: 50%;\n",
              "      cursor: pointer;\n",
              "      display: none;\n",
              "      fill: #1967D2;\n",
              "      height: 32px;\n",
              "      padding: 0 0 0 0;\n",
              "      width: 32px;\n",
              "    }\n",
              "\n",
              "    .colab-df-convert:hover {\n",
              "      background-color: #E2EBFA;\n",
              "      box-shadow: 0px 1px 2px rgba(60, 64, 67, 0.3), 0px 1px 3px 1px rgba(60, 64, 67, 0.15);\n",
              "      fill: #174EA6;\n",
              "    }\n",
              "\n",
              "    .colab-df-buttons div {\n",
              "      margin-bottom: 4px;\n",
              "    }\n",
              "\n",
              "    [theme=dark] .colab-df-convert {\n",
              "      background-color: #3B4455;\n",
              "      fill: #D2E3FC;\n",
              "    }\n",
              "\n",
              "    [theme=dark] .colab-df-convert:hover {\n",
              "      background-color: #434B5C;\n",
              "      box-shadow: 0px 1px 3px 1px rgba(0, 0, 0, 0.15);\n",
              "      filter: drop-shadow(0px 1px 2px rgba(0, 0, 0, 0.3));\n",
              "      fill: #FFFFFF;\n",
              "    }\n",
              "  </style>\n",
              "\n",
              "    <script>\n",
              "      const buttonEl =\n",
              "        document.querySelector('#df-50dc02e5-284d-492a-bd34-997e717722e7 button.colab-df-convert');\n",
              "      buttonEl.style.display =\n",
              "        google.colab.kernel.accessAllowed ? 'block' : 'none';\n",
              "\n",
              "      async function convertToInteractive(key) {\n",
              "        const element = document.querySelector('#df-50dc02e5-284d-492a-bd34-997e717722e7');\n",
              "        const dataTable =\n",
              "          await google.colab.kernel.invokeFunction('convertToInteractive',\n",
              "                                                    [key], {});\n",
              "        if (!dataTable) return;\n",
              "\n",
              "        const docLinkHtml = 'Like what you see? Visit the ' +\n",
              "          '<a target=\"_blank\" href=https://colab.research.google.com/notebooks/data_table.ipynb>data table notebook</a>'\n",
              "          + ' to learn more about interactive tables.';\n",
              "        element.innerHTML = '';\n",
              "        dataTable['output_type'] = 'display_data';\n",
              "        await google.colab.output.renderOutput(dataTable, element);\n",
              "        const docLink = document.createElement('div');\n",
              "        docLink.innerHTML = docLinkHtml;\n",
              "        element.appendChild(docLink);\n",
              "      }\n",
              "    </script>\n",
              "  </div>\n",
              "\n",
              "\n",
              "<div id=\"df-ab6e3799-2e82-4468-817d-d37424c7c4f0\">\n",
              "  <button class=\"colab-df-quickchart\" onclick=\"quickchart('df-ab6e3799-2e82-4468-817d-d37424c7c4f0')\"\n",
              "            title=\"Suggest charts\"\n",
              "            style=\"display:none;\">\n",
              "\n",
              "<svg xmlns=\"http://www.w3.org/2000/svg\" height=\"24px\"viewBox=\"0 0 24 24\"\n",
              "     width=\"24px\">\n",
              "    <g>\n",
              "        <path d=\"M19 3H5c-1.1 0-2 .9-2 2v14c0 1.1.9 2 2 2h14c1.1 0 2-.9 2-2V5c0-1.1-.9-2-2-2zM9 17H7v-7h2v7zm4 0h-2V7h2v10zm4 0h-2v-4h2v4z\"/>\n",
              "    </g>\n",
              "</svg>\n",
              "  </button>\n",
              "\n",
              "<style>\n",
              "  .colab-df-quickchart {\n",
              "      --bg-color: #E8F0FE;\n",
              "      --fill-color: #1967D2;\n",
              "      --hover-bg-color: #E2EBFA;\n",
              "      --hover-fill-color: #174EA6;\n",
              "      --disabled-fill-color: #AAA;\n",
              "      --disabled-bg-color: #DDD;\n",
              "  }\n",
              "\n",
              "  [theme=dark] .colab-df-quickchart {\n",
              "      --bg-color: #3B4455;\n",
              "      --fill-color: #D2E3FC;\n",
              "      --hover-bg-color: #434B5C;\n",
              "      --hover-fill-color: #FFFFFF;\n",
              "      --disabled-bg-color: #3B4455;\n",
              "      --disabled-fill-color: #666;\n",
              "  }\n",
              "\n",
              "  .colab-df-quickchart {\n",
              "    background-color: var(--bg-color);\n",
              "    border: none;\n",
              "    border-radius: 50%;\n",
              "    cursor: pointer;\n",
              "    display: none;\n",
              "    fill: var(--fill-color);\n",
              "    height: 32px;\n",
              "    padding: 0;\n",
              "    width: 32px;\n",
              "  }\n",
              "\n",
              "  .colab-df-quickchart:hover {\n",
              "    background-color: var(--hover-bg-color);\n",
              "    box-shadow: 0 1px 2px rgba(60, 64, 67, 0.3), 0 1px 3px 1px rgba(60, 64, 67, 0.15);\n",
              "    fill: var(--button-hover-fill-color);\n",
              "  }\n",
              "\n",
              "  .colab-df-quickchart-complete:disabled,\n",
              "  .colab-df-quickchart-complete:disabled:hover {\n",
              "    background-color: var(--disabled-bg-color);\n",
              "    fill: var(--disabled-fill-color);\n",
              "    box-shadow: none;\n",
              "  }\n",
              "\n",
              "  .colab-df-spinner {\n",
              "    border: 2px solid var(--fill-color);\n",
              "    border-color: transparent;\n",
              "    border-bottom-color: var(--fill-color);\n",
              "    animation:\n",
              "      spin 1s steps(1) infinite;\n",
              "  }\n",
              "\n",
              "  @keyframes spin {\n",
              "    0% {\n",
              "      border-color: transparent;\n",
              "      border-bottom-color: var(--fill-color);\n",
              "      border-left-color: var(--fill-color);\n",
              "    }\n",
              "    20% {\n",
              "      border-color: transparent;\n",
              "      border-left-color: var(--fill-color);\n",
              "      border-top-color: var(--fill-color);\n",
              "    }\n",
              "    30% {\n",
              "      border-color: transparent;\n",
              "      border-left-color: var(--fill-color);\n",
              "      border-top-color: var(--fill-color);\n",
              "      border-right-color: var(--fill-color);\n",
              "    }\n",
              "    40% {\n",
              "      border-color: transparent;\n",
              "      border-right-color: var(--fill-color);\n",
              "      border-top-color: var(--fill-color);\n",
              "    }\n",
              "    60% {\n",
              "      border-color: transparent;\n",
              "      border-right-color: var(--fill-color);\n",
              "    }\n",
              "    80% {\n",
              "      border-color: transparent;\n",
              "      border-right-color: var(--fill-color);\n",
              "      border-bottom-color: var(--fill-color);\n",
              "    }\n",
              "    90% {\n",
              "      border-color: transparent;\n",
              "      border-bottom-color: var(--fill-color);\n",
              "    }\n",
              "  }\n",
              "</style>\n",
              "\n",
              "  <script>\n",
              "    async function quickchart(key) {\n",
              "      const quickchartButtonEl =\n",
              "        document.querySelector('#' + key + ' button');\n",
              "      quickchartButtonEl.disabled = true;  // To prevent multiple clicks.\n",
              "      quickchartButtonEl.classList.add('colab-df-spinner');\n",
              "      try {\n",
              "        const charts = await google.colab.kernel.invokeFunction(\n",
              "            'suggestCharts', [key], {});\n",
              "      } catch (error) {\n",
              "        console.error('Error during call to suggestCharts:', error);\n",
              "      }\n",
              "      quickchartButtonEl.classList.remove('colab-df-spinner');\n",
              "      quickchartButtonEl.classList.add('colab-df-quickchart-complete');\n",
              "    }\n",
              "    (() => {\n",
              "      let quickchartButtonEl =\n",
              "        document.querySelector('#df-ab6e3799-2e82-4468-817d-d37424c7c4f0 button');\n",
              "      quickchartButtonEl.style.display =\n",
              "        google.colab.kernel.accessAllowed ? 'block' : 'none';\n",
              "    })();\n",
              "  </script>\n",
              "</div>\n",
              "\n",
              "    </div>\n",
              "  </div>\n"
            ],
            "application/vnd.google.colaboratory.intrinsic+json": {
              "type": "dataframe",
              "variable_name": "bitcoin_prices_block",
              "summary": "{\n  \"name\": \"bitcoin_prices_block\",\n  \"rows\": 2787,\n  \"fields\": [\n    {\n      \"column\": \"Date\",\n      \"properties\": {\n        \"dtype\": \"date\",\n        \"min\": \"2013-10-01 00:00:00\",\n        \"max\": \"2021-05-18 00:00:00\",\n        \"num_unique_values\": 2787,\n        \"samples\": [\n          \"2019-06-11 00:00:00\",\n          \"2021-05-03 00:00:00\",\n          \"2017-10-05 00:00:00\"\n        ],\n        \"semantic_type\": \"\",\n        \"description\": \"\"\n      }\n    },\n    {\n      \"column\": \"currency\",\n      \"properties\": {\n        \"dtype\": \"category\",\n        \"num_unique_values\": 1,\n        \"samples\": [\n          \"BTC\"\n        ],\n        \"semantic_type\": \"\",\n        \"description\": \"\"\n      }\n    },\n    {\n      \"column\": \"close\",\n      \"properties\": {\n        \"dtype\": \"number\",\n        \"std\": 10887.84744436952,\n        \"min\": 108.58483,\n        \"max\": 63346.7890351052,\n        \"num_unique_values\": 2787,\n        \"samples\": [\n          7954.0062377205\n        ],\n        \"semantic_type\": \"\",\n        \"description\": \"\"\n      }\n    },\n    {\n      \"column\": \"opne\",\n      \"properties\": {\n        \"dtype\": \"number\",\n        \"std\": 10863.80077212387,\n        \"min\": 108.58483,\n        \"max\": 63562.6735446382,\n        \"num_unique_values\": 2787,\n        \"samples\": [\n          7600.9225047785\n        ],\n        \"semantic_type\": \"\",\n        \"description\": \"\"\n      }\n    },\n    {\n      \"column\": \"high\",\n      \"properties\": {\n        \"dtype\": \"number\",\n        \"std\": 11206.779756254151,\n        \"min\": 118.675,\n        \"max\": 64801.787869525,\n        \"num_unique_values\": 2787,\n        \"samples\": [\n          8064.9001353225\n        ],\n        \"semantic_type\": \"\",\n        \"description\": \"\"\n      }\n    },\n    {\n      \"column\": \"low\",\n      \"properties\": {\n        \"dtype\": \"number\",\n        \"std\": 10475.8112518284,\n        \"min\": 83.32833,\n        \"max\": 62094.6329143272,\n        \"num_unique_values\": 2785,\n        \"samples\": [\n          7714.610306452\n        ],\n        \"semantic_type\": \"\",\n        \"description\": \"\"\n      }\n    },\n    {\n      \"column\": \"block_reward\",\n      \"properties\": {\n        \"dtype\": \"date\",\n        \"min\": 6.25,\n        \"max\": 25,\n        \"num_unique_values\": 3,\n        \"samples\": [\n          25\n        ],\n        \"semantic_type\": \"\",\n        \"description\": \"\"\n      }\n    }\n  ]\n}"
            }
          },
          "metadata": {},
          "execution_count": 128
        }
      ]
    },
    {
      "cell_type": "code",
      "source": [
        "btc_price = bitcoin_prices_block[['close', 'block_reward']]"
      ],
      "metadata": {
        "id": "eWORd-LvIDwg"
      },
      "execution_count": 129,
      "outputs": []
    },
    {
      "cell_type": "code",
      "source": [
        "btc_price.head()"
      ],
      "metadata": {
        "colab": {
          "base_uri": "https://localhost:8080/",
          "height": 237
        },
        "id": "1VQqwOE3ILMG",
        "outputId": "1e0617ff-1e67-46e0-8167-df35bfaba6d3"
      },
      "execution_count": 130,
      "outputs": [
        {
          "output_type": "execute_result",
          "data": {
            "text/plain": [
              "                close block_reward\n",
              "Date                              \n",
              "2013-10-01  123.65499           25\n",
              "2013-10-02  125.45500           25\n",
              "2013-10-03  108.58483           25\n",
              "2013-10-04  118.67466           25\n",
              "2013-10-05  121.33866           25"
            ],
            "text/html": [
              "\n",
              "  <div id=\"df-5b4f9938-8f7c-4ce4-96fb-5571ae06a8a8\" class=\"colab-df-container\">\n",
              "    <div>\n",
              "<style scoped>\n",
              "    .dataframe tbody tr th:only-of-type {\n",
              "        vertical-align: middle;\n",
              "    }\n",
              "\n",
              "    .dataframe tbody tr th {\n",
              "        vertical-align: top;\n",
              "    }\n",
              "\n",
              "    .dataframe thead th {\n",
              "        text-align: right;\n",
              "    }\n",
              "</style>\n",
              "<table border=\"1\" class=\"dataframe\">\n",
              "  <thead>\n",
              "    <tr style=\"text-align: right;\">\n",
              "      <th></th>\n",
              "      <th>close</th>\n",
              "      <th>block_reward</th>\n",
              "    </tr>\n",
              "    <tr>\n",
              "      <th>Date</th>\n",
              "      <th></th>\n",
              "      <th></th>\n",
              "    </tr>\n",
              "  </thead>\n",
              "  <tbody>\n",
              "    <tr>\n",
              "      <th>2013-10-01</th>\n",
              "      <td>123.65499</td>\n",
              "      <td>25</td>\n",
              "    </tr>\n",
              "    <tr>\n",
              "      <th>2013-10-02</th>\n",
              "      <td>125.45500</td>\n",
              "      <td>25</td>\n",
              "    </tr>\n",
              "    <tr>\n",
              "      <th>2013-10-03</th>\n",
              "      <td>108.58483</td>\n",
              "      <td>25</td>\n",
              "    </tr>\n",
              "    <tr>\n",
              "      <th>2013-10-04</th>\n",
              "      <td>118.67466</td>\n",
              "      <td>25</td>\n",
              "    </tr>\n",
              "    <tr>\n",
              "      <th>2013-10-05</th>\n",
              "      <td>121.33866</td>\n",
              "      <td>25</td>\n",
              "    </tr>\n",
              "  </tbody>\n",
              "</table>\n",
              "</div>\n",
              "    <div class=\"colab-df-buttons\">\n",
              "\n",
              "  <div class=\"colab-df-container\">\n",
              "    <button class=\"colab-df-convert\" onclick=\"convertToInteractive('df-5b4f9938-8f7c-4ce4-96fb-5571ae06a8a8')\"\n",
              "            title=\"Convert this dataframe to an interactive table.\"\n",
              "            style=\"display:none;\">\n",
              "\n",
              "  <svg xmlns=\"http://www.w3.org/2000/svg\" height=\"24px\" viewBox=\"0 -960 960 960\">\n",
              "    <path d=\"M120-120v-720h720v720H120Zm60-500h600v-160H180v160Zm220 220h160v-160H400v160Zm0 220h160v-160H400v160ZM180-400h160v-160H180v160Zm440 0h160v-160H620v160ZM180-180h160v-160H180v160Zm440 0h160v-160H620v160Z\"/>\n",
              "  </svg>\n",
              "    </button>\n",
              "\n",
              "  <style>\n",
              "    .colab-df-container {\n",
              "      display:flex;\n",
              "      gap: 12px;\n",
              "    }\n",
              "\n",
              "    .colab-df-convert {\n",
              "      background-color: #E8F0FE;\n",
              "      border: none;\n",
              "      border-radius: 50%;\n",
              "      cursor: pointer;\n",
              "      display: none;\n",
              "      fill: #1967D2;\n",
              "      height: 32px;\n",
              "      padding: 0 0 0 0;\n",
              "      width: 32px;\n",
              "    }\n",
              "\n",
              "    .colab-df-convert:hover {\n",
              "      background-color: #E2EBFA;\n",
              "      box-shadow: 0px 1px 2px rgba(60, 64, 67, 0.3), 0px 1px 3px 1px rgba(60, 64, 67, 0.15);\n",
              "      fill: #174EA6;\n",
              "    }\n",
              "\n",
              "    .colab-df-buttons div {\n",
              "      margin-bottom: 4px;\n",
              "    }\n",
              "\n",
              "    [theme=dark] .colab-df-convert {\n",
              "      background-color: #3B4455;\n",
              "      fill: #D2E3FC;\n",
              "    }\n",
              "\n",
              "    [theme=dark] .colab-df-convert:hover {\n",
              "      background-color: #434B5C;\n",
              "      box-shadow: 0px 1px 3px 1px rgba(0, 0, 0, 0.15);\n",
              "      filter: drop-shadow(0px 1px 2px rgba(0, 0, 0, 0.3));\n",
              "      fill: #FFFFFF;\n",
              "    }\n",
              "  </style>\n",
              "\n",
              "    <script>\n",
              "      const buttonEl =\n",
              "        document.querySelector('#df-5b4f9938-8f7c-4ce4-96fb-5571ae06a8a8 button.colab-df-convert');\n",
              "      buttonEl.style.display =\n",
              "        google.colab.kernel.accessAllowed ? 'block' : 'none';\n",
              "\n",
              "      async function convertToInteractive(key) {\n",
              "        const element = document.querySelector('#df-5b4f9938-8f7c-4ce4-96fb-5571ae06a8a8');\n",
              "        const dataTable =\n",
              "          await google.colab.kernel.invokeFunction('convertToInteractive',\n",
              "                                                    [key], {});\n",
              "        if (!dataTable) return;\n",
              "\n",
              "        const docLinkHtml = 'Like what you see? Visit the ' +\n",
              "          '<a target=\"_blank\" href=https://colab.research.google.com/notebooks/data_table.ipynb>data table notebook</a>'\n",
              "          + ' to learn more about interactive tables.';\n",
              "        element.innerHTML = '';\n",
              "        dataTable['output_type'] = 'display_data';\n",
              "        await google.colab.output.renderOutput(dataTable, element);\n",
              "        const docLink = document.createElement('div');\n",
              "        docLink.innerHTML = docLinkHtml;\n",
              "        element.appendChild(docLink);\n",
              "      }\n",
              "    </script>\n",
              "  </div>\n",
              "\n",
              "\n",
              "<div id=\"df-6ec56812-8a7b-4d11-a27f-1ad2c3533fbe\">\n",
              "  <button class=\"colab-df-quickchart\" onclick=\"quickchart('df-6ec56812-8a7b-4d11-a27f-1ad2c3533fbe')\"\n",
              "            title=\"Suggest charts\"\n",
              "            style=\"display:none;\">\n",
              "\n",
              "<svg xmlns=\"http://www.w3.org/2000/svg\" height=\"24px\"viewBox=\"0 0 24 24\"\n",
              "     width=\"24px\">\n",
              "    <g>\n",
              "        <path d=\"M19 3H5c-1.1 0-2 .9-2 2v14c0 1.1.9 2 2 2h14c1.1 0 2-.9 2-2V5c0-1.1-.9-2-2-2zM9 17H7v-7h2v7zm4 0h-2V7h2v10zm4 0h-2v-4h2v4z\"/>\n",
              "    </g>\n",
              "</svg>\n",
              "  </button>\n",
              "\n",
              "<style>\n",
              "  .colab-df-quickchart {\n",
              "      --bg-color: #E8F0FE;\n",
              "      --fill-color: #1967D2;\n",
              "      --hover-bg-color: #E2EBFA;\n",
              "      --hover-fill-color: #174EA6;\n",
              "      --disabled-fill-color: #AAA;\n",
              "      --disabled-bg-color: #DDD;\n",
              "  }\n",
              "\n",
              "  [theme=dark] .colab-df-quickchart {\n",
              "      --bg-color: #3B4455;\n",
              "      --fill-color: #D2E3FC;\n",
              "      --hover-bg-color: #434B5C;\n",
              "      --hover-fill-color: #FFFFFF;\n",
              "      --disabled-bg-color: #3B4455;\n",
              "      --disabled-fill-color: #666;\n",
              "  }\n",
              "\n",
              "  .colab-df-quickchart {\n",
              "    background-color: var(--bg-color);\n",
              "    border: none;\n",
              "    border-radius: 50%;\n",
              "    cursor: pointer;\n",
              "    display: none;\n",
              "    fill: var(--fill-color);\n",
              "    height: 32px;\n",
              "    padding: 0;\n",
              "    width: 32px;\n",
              "  }\n",
              "\n",
              "  .colab-df-quickchart:hover {\n",
              "    background-color: var(--hover-bg-color);\n",
              "    box-shadow: 0 1px 2px rgba(60, 64, 67, 0.3), 0 1px 3px 1px rgba(60, 64, 67, 0.15);\n",
              "    fill: var(--button-hover-fill-color);\n",
              "  }\n",
              "\n",
              "  .colab-df-quickchart-complete:disabled,\n",
              "  .colab-df-quickchart-complete:disabled:hover {\n",
              "    background-color: var(--disabled-bg-color);\n",
              "    fill: var(--disabled-fill-color);\n",
              "    box-shadow: none;\n",
              "  }\n",
              "\n",
              "  .colab-df-spinner {\n",
              "    border: 2px solid var(--fill-color);\n",
              "    border-color: transparent;\n",
              "    border-bottom-color: var(--fill-color);\n",
              "    animation:\n",
              "      spin 1s steps(1) infinite;\n",
              "  }\n",
              "\n",
              "  @keyframes spin {\n",
              "    0% {\n",
              "      border-color: transparent;\n",
              "      border-bottom-color: var(--fill-color);\n",
              "      border-left-color: var(--fill-color);\n",
              "    }\n",
              "    20% {\n",
              "      border-color: transparent;\n",
              "      border-left-color: var(--fill-color);\n",
              "      border-top-color: var(--fill-color);\n",
              "    }\n",
              "    30% {\n",
              "      border-color: transparent;\n",
              "      border-left-color: var(--fill-color);\n",
              "      border-top-color: var(--fill-color);\n",
              "      border-right-color: var(--fill-color);\n",
              "    }\n",
              "    40% {\n",
              "      border-color: transparent;\n",
              "      border-right-color: var(--fill-color);\n",
              "      border-top-color: var(--fill-color);\n",
              "    }\n",
              "    60% {\n",
              "      border-color: transparent;\n",
              "      border-right-color: var(--fill-color);\n",
              "    }\n",
              "    80% {\n",
              "      border-color: transparent;\n",
              "      border-right-color: var(--fill-color);\n",
              "      border-bottom-color: var(--fill-color);\n",
              "    }\n",
              "    90% {\n",
              "      border-color: transparent;\n",
              "      border-bottom-color: var(--fill-color);\n",
              "    }\n",
              "  }\n",
              "</style>\n",
              "\n",
              "  <script>\n",
              "    async function quickchart(key) {\n",
              "      const quickchartButtonEl =\n",
              "        document.querySelector('#' + key + ' button');\n",
              "      quickchartButtonEl.disabled = true;  // To prevent multiple clicks.\n",
              "      quickchartButtonEl.classList.add('colab-df-spinner');\n",
              "      try {\n",
              "        const charts = await google.colab.kernel.invokeFunction(\n",
              "            'suggestCharts', [key], {});\n",
              "      } catch (error) {\n",
              "        console.error('Error during call to suggestCharts:', error);\n",
              "      }\n",
              "      quickchartButtonEl.classList.remove('colab-df-spinner');\n",
              "      quickchartButtonEl.classList.add('colab-df-quickchart-complete');\n",
              "    }\n",
              "    (() => {\n",
              "      let quickchartButtonEl =\n",
              "        document.querySelector('#df-6ec56812-8a7b-4d11-a27f-1ad2c3533fbe button');\n",
              "      quickchartButtonEl.style.display =\n",
              "        google.colab.kernel.accessAllowed ? 'block' : 'none';\n",
              "    })();\n",
              "  </script>\n",
              "</div>\n",
              "\n",
              "    </div>\n",
              "  </div>\n"
            ],
            "application/vnd.google.colaboratory.intrinsic+json": {
              "type": "dataframe",
              "variable_name": "btc_price",
              "summary": "{\n  \"name\": \"btc_price\",\n  \"rows\": 2787,\n  \"fields\": [\n    {\n      \"column\": \"Date\",\n      \"properties\": {\n        \"dtype\": \"date\",\n        \"min\": \"2013-10-01 00:00:00\",\n        \"max\": \"2021-05-18 00:00:00\",\n        \"num_unique_values\": 2787,\n        \"samples\": [\n          \"2019-06-11 00:00:00\",\n          \"2021-05-03 00:00:00\",\n          \"2017-10-05 00:00:00\"\n        ],\n        \"semantic_type\": \"\",\n        \"description\": \"\"\n      }\n    },\n    {\n      \"column\": \"close\",\n      \"properties\": {\n        \"dtype\": \"number\",\n        \"std\": 10887.84744436952,\n        \"min\": 108.58483,\n        \"max\": 63346.7890351052,\n        \"num_unique_values\": 2787,\n        \"samples\": [\n          7954.0062377205,\n          56427.0431250152,\n          4186.78374\n        ],\n        \"semantic_type\": \"\",\n        \"description\": \"\"\n      }\n    },\n    {\n      \"column\": \"block_reward\",\n      \"properties\": {\n        \"dtype\": \"date\",\n        \"min\": 6.25,\n        \"max\": 25,\n        \"num_unique_values\": 3,\n        \"samples\": [\n          25,\n          12.5,\n          6.25\n        ],\n        \"semantic_type\": \"\",\n        \"description\": \"\"\n      }\n    }\n  ]\n}"
            }
          },
          "metadata": {},
          "execution_count": 130
        }
      ]
    },
    {
      "cell_type": "code",
      "source": [
        "# Plot the block reward/price over time\n",
        "# Note: Because of the different scales of our values we'll scale them to be between 0 and 1.\n",
        "from sklearn.preprocessing import minmax_scale\n",
        "scaled_price_block_df = pd.DataFrame(minmax_scale(btc_price[[\"close\", \"block_reward\"]]), # we need to scale the data first\n",
        "                                     columns=btc_price.columns,\n",
        "                                     index=btc_price.index)\n",
        "scaled_price_block_df.plot(figsize=(10, 7));"
      ],
      "metadata": {
        "colab": {
          "base_uri": "https://localhost:8080/",
          "height": 619
        },
        "id": "76_1DPzmIXU1",
        "outputId": "a3575c94-41ef-452f-b118-f2505f995ea5"
      },
      "execution_count": 131,
      "outputs": [
        {
          "output_type": "display_data",
          "data": {
            "text/plain": [
              "<Figure size 1000x700 with 1 Axes>"
            ],
            "image/png": "[encoded data removed]"
          },
          "metadata": {}
        }
      ]
    },
    {
      "cell_type": "markdown",
      "source": [
        "## Making Windowed dataset using pandas"
      ],
      "metadata": {
        "id": "_aRr8FMkKIY1"
      }
    },
    {
      "cell_type": "code",
      "source": [
        "HORIZON = 1\n",
        "WINDOW = 7"
      ],
      "metadata": {
        "id": "MlzrU8NSKQeu"
      },
      "execution_count": 132,
      "outputs": []
    },
    {
      "cell_type": "code",
      "source": [
        "# Make a copy of the Bitcoin historical data with block reward feature\n",
        "bitcoin_prices_windowed = btc_price.copy()\n",
        "\n",
        "# Add windowed columns\n",
        "for i in range(WINDOW_SIZE): # Shift values for each step in WINDOW_SIZE\n",
        "  bitcoin_prices_windowed[f\"Price+{i+1}\"] = btc_price[\"close\"].shift(periods=i+1)\n",
        "bitcoin_prices_windowed.head(10)"
      ],
      "metadata": {
        "colab": {
          "base_uri": "https://localhost:8080/",
          "height": 394
        },
        "id": "Q_wmKNtzKOw0",
        "outputId": "af3926d8-9709-4f33-968e-fc35602164d4"
      },
      "execution_count": 133,
      "outputs": [
        {
          "output_type": "execute_result",
          "data": {
            "text/plain": [
              "                close block_reward    Price+1    Price+2    Price+3  \\\n",
              "Date                                                                  \n",
              "2013-10-01  123.65499           25        NaN        NaN        NaN   \n",
              "2013-10-02  125.45500           25  123.65499        NaN        NaN   \n",
              "2013-10-03  108.58483           25  125.45500  123.65499        NaN   \n",
              "2013-10-04  118.67466           25  108.58483  125.45500  123.65499   \n",
              "2013-10-05  121.33866           25  118.67466  108.58483  125.45500   \n",
              "2013-10-06  120.65533           25  121.33866  118.67466  108.58483   \n",
              "2013-10-07  121.79500           25  120.65533  121.33866  118.67466   \n",
              "2013-10-08  123.03300           25  121.79500  120.65533  121.33866   \n",
              "2013-10-09  124.04900           25  123.03300  121.79500  120.65533   \n",
              "2013-10-10  125.96116           25  124.04900  123.03300  121.79500   \n",
              "\n",
              "              Price+4    Price+5    Price+6    Price+7  \n",
              "Date                                                    \n",
              "2013-10-01        NaN        NaN        NaN        NaN  \n",
              "2013-10-02        NaN        NaN        NaN        NaN  \n",
              "2013-10-03        NaN        NaN        NaN        NaN  \n",
              "2013-10-04        NaN        NaN        NaN        NaN  \n",
              "2013-10-05  123.65499        NaN        NaN        NaN  \n",
              "2013-10-06  125.45500  123.65499        NaN        NaN  \n",
              "2013-10-07  108.58483  125.45500  123.65499        NaN  \n",
              "2013-10-08  118.67466  108.58483  125.45500  123.65499  \n",
              "2013-10-09  121.33866  118.67466  108.58483  125.45500  \n",
              "2013-10-10  120.65533  121.33866  118.67466  108.58483  "
            ],
            "text/html": [
              "\n",
              "  <div id=\"df-670806e3-5b99-476e-bc4f-119277f0abd6\" class=\"colab-df-container\">\n",
              "    <div>\n",
              "<style scoped>\n",
              "    .dataframe tbody tr th:only-of-type {\n",
              "        vertical-align: middle;\n",
              "    }\n",
              "\n",
              "    .dataframe tbody tr th {\n",
              "        vertical-align: top;\n",
              "    }\n",
              "\n",
              "    .dataframe thead th {\n",
              "        text-align: right;\n",
              "    }\n",
              "</style>\n",
              "<table border=\"1\" class=\"dataframe\">\n",
              "  <thead>\n",
              "    <tr style=\"text-align: right;\">\n",
              "      <th></th>\n",
              "      <th>close</th>\n",
              "      <th>block_reward</th>\n",
              "      <th>Price+1</th>\n",
              "      <th>Price+2</th>\n",
              "      <th>Price+3</th>\n",
              "      <th>Price+4</th>\n",
              "      <th>Price+5</th>\n",
              "      <th>Price+6</th>\n",
              "      <th>Price+7</th>\n",
              "    </tr>\n",
              "    <tr>\n",
              "      <th>Date</th>\n",
              "      <th></th>\n",
              "      <th></th>\n",
              "      <th></th>\n",
              "      <th></th>\n",
              "      <th></th>\n",
              "      <th></th>\n",
              "      <th></th>\n",
              "      <th></th>\n",
              "      <th></th>\n",
              "    </tr>\n",
              "  </thead>\n",
              "  <tbody>\n",
              "    <tr>\n",
              "      <th>2013-10-01</th>\n",
              "      <td>123.65499</td>\n",
              "      <td>25</td>\n",
              "      <td>NaN</td>\n",
              "      <td>NaN</td>\n",
              "      <td>NaN</td>\n",
              "      <td>NaN</td>\n",
              "      <td>NaN</td>\n",
              "      <td>NaN</td>\n",
              "      <td>NaN</td>\n",
              "    </tr>\n",
              "    <tr>\n",
              "      <th>2013-10-02</th>\n",
              "      <td>125.45500</td>\n",
              "      <td>25</td>\n",
              "      <td>123.65499</td>\n",
              "      <td>NaN</td>\n",
              "      <td>NaN</td>\n",
              "      <td>NaN</td>\n",
              "      <td>NaN</td>\n",
              "      <td>NaN</td>\n",
              "      <td>NaN</td>\n",
              "    </tr>\n",
              "    <tr>\n",
              "      <th>2013-10-03</th>\n",
              "      <td>108.58483</td>\n",
              "      <td>25</td>\n",
              "      <td>125.45500</td>\n",
              "      <td>123.65499</td>\n",
              "      <td>NaN</td>\n",
              "      <td>NaN</td>\n",
              "      <td>NaN</td>\n",
              "      <td>NaN</td>\n",
              "      <td>NaN</td>\n",
              "    </tr>\n",
              "    <tr>\n",
              "      <th>2013-10-04</th>\n",
              "      <td>118.67466</td>\n",
              "      <td>25</td>\n",
              "      <td>108.58483</td>\n",
              "      <td>125.45500</td>\n",
              "      <td>123.65499</td>\n",
              "      <td>NaN</td>\n",
              "      <td>NaN</td>\n",
              "      <td>NaN</td>\n",
              "      <td>NaN</td>\n",
              "    </tr>\n",
              "    <tr>\n",
              "      <th>2013-10-05</th>\n",
              "      <td>121.33866</td>\n",
              "      <td>25</td>\n",
              "      <td>118.67466</td>\n",
              "      <td>108.58483</td>\n",
              "      <td>125.45500</td>\n",
              "      <td>123.65499</td>\n",
              "      <td>NaN</td>\n",
              "      <td>NaN</td>\n",
              "      <td>NaN</td>\n",
              "    </tr>\n",
              "    <tr>\n",
              "      <th>2013-10-06</th>\n",
              "      <td>120.65533</td>\n",
              "      <td>25</td>\n",
              "      <td>121.33866</td>\n",
              "      <td>118.67466</td>\n",
              "      <td>108.58483</td>\n",
              "      <td>125.45500</td>\n",
              "      <td>123.65499</td>\n",
              "      <td>NaN</td>\n",
              "      <td>NaN</td>\n",
              "    </tr>\n",
              "    <tr>\n",
              "      <th>2013-10-07</th>\n",
              "      <td>121.79500</td>\n",
              "      <td>25</td>\n",
              "      <td>120.65533</td>\n",
              "      <td>121.33866</td>\n",
              "      <td>118.67466</td>\n",
              "      <td>108.58483</td>\n",
              "      <td>125.45500</td>\n",
              "      <td>123.65499</td>\n",
              "      <td>NaN</td>\n",
              "    </tr>\n",
              "    <tr>\n",
              "      <th>2013-10-08</th>\n",
              "      <td>123.03300</td>\n",
              "      <td>25</td>\n",
              "      <td>121.79500</td>\n",
              "      <td>120.65533</td>\n",
              "      <td>121.33866</td>\n",
              "      <td>118.67466</td>\n",
              "      <td>108.58483</td>\n",
              "      <td>125.45500</td>\n",
              "      <td>123.65499</td>\n",
              "    </tr>\n",
              "    <tr>\n",
              "      <th>2013-10-09</th>\n",
              "      <td>124.04900</td>\n",
              "      <td>25</td>\n",
              "      <td>123.03300</td>\n",
              "      <td>121.79500</td>\n",
              "      <td>120.65533</td>\n",
              "      <td>121.33866</td>\n",
              "      <td>118.67466</td>\n",
              "      <td>108.58483</td>\n",
              "      <td>125.45500</td>\n",
              "    </tr>\n",
              "    <tr>\n",
              "      <th>2013-10-10</th>\n",
              "      <td>125.96116</td>\n",
              "      <td>25</td>\n",
              "      <td>124.04900</td>\n",
              "      <td>123.03300</td>\n",
              "      <td>121.79500</td>\n",
              "      <td>120.65533</td>\n",
              "      <td>121.33866</td>\n",
              "      <td>118.67466</td>\n",
              "      <td>108.58483</td>\n",
              "    </tr>\n",
              "  </tbody>\n",
              "</table>\n",
              "</div>\n",
              "    <div class=\"colab-df-buttons\">\n",
              "\n",
              "  <div class=\"colab-df-container\">\n",
              "    <button class=\"colab-df-convert\" onclick=\"convertToInteractive('df-670806e3-5b99-476e-bc4f-119277f0abd6')\"\n",
              "            title=\"Convert this dataframe to an interactive table.\"\n",
              "            style=\"display:none;\">\n",
              "\n",
              "  <svg xmlns=\"http://www.w3.org/2000/svg\" height=\"24px\" viewBox=\"0 -960 960 960\">\n",
              "    <path d=\"M120-120v-720h720v720H120Zm60-500h600v-160H180v160Zm220 220h160v-160H400v160Zm0 220h160v-160H400v160ZM180-400h160v-160H180v160Zm440 0h160v-160H620v160ZM180-180h160v-160H180v160Zm440 0h160v-160H620v160Z\"/>\n",
              "  </svg>\n",
              "    </button>\n",
              "\n",
              "  <style>\n",
              "    .colab-df-container {\n",
              "      display:flex;\n",
              "      gap: 12px;\n",
              "    }\n",
              "\n",
              "    .colab-df-convert {\n",
              "      background-color: #E8F0FE;\n",
              "      border: none;\n",
              "      border-radius: 50%;\n",
              "      cursor: pointer;\n",
              "      display: none;\n",
              "      fill: #1967D2;\n",
              "      height: 32px;\n",
              "      padding: 0 0 0 0;\n",
              "      width: 32px;\n",
              "    }\n",
              "\n",
              "    .colab-df-convert:hover {\n",
              "      background-color: #E2EBFA;\n",
              "      box-shadow: 0px 1px 2px rgba(60, 64, 67, 0.3), 0px 1px 3px 1px rgba(60, 64, 67, 0.15);\n",
              "      fill: #174EA6;\n",
              "    }\n",
              "\n",
              "    .colab-df-buttons div {\n",
              "      margin-bottom: 4px;\n",
              "    }\n",
              "\n",
              "    [theme=dark] .colab-df-convert {\n",
              "      background-color: #3B4455;\n",
              "      fill: #D2E3FC;\n",
              "    }\n",
              "\n",
              "    [theme=dark] .colab-df-convert:hover {\n",
              "      background-color: #434B5C;\n",
              "      box-shadow: 0px 1px 3px 1px rgba(0, 0, 0, 0.15);\n",
              "      filter: drop-shadow(0px 1px 2px rgba(0, 0, 0, 0.3));\n",
              "      fill: #FFFFFF;\n",
              "    }\n",
              "  </style>\n",
              "\n",
              "    <script>\n",
              "      const buttonEl =\n",
              "        document.querySelector('#df-670806e3-5b99-476e-bc4f-119277f0abd6 button.colab-df-convert');\n",
              "      buttonEl.style.display =\n",
              "        google.colab.kernel.accessAllowed ? 'block' : 'none';\n",
              "\n",
              "      async function convertToInteractive(key) {\n",
              "        const element = document.querySelector('#df-670806e3-5b99-476e-bc4f-119277f0abd6');\n",
              "        const dataTable =\n",
              "          await google.colab.kernel.invokeFunction('convertToInteractive',\n",
              "                                                    [key], {});\n",
              "        if (!dataTable) return;\n",
              "\n",
              "        const docLinkHtml = 'Like what you see? Visit the ' +\n",
              "          '<a target=\"_blank\" href=https://colab.research.google.com/notebooks/data_table.ipynb>data table notebook</a>'\n",
              "          + ' to learn more about interactive tables.';\n",
              "        element.innerHTML = '';\n",
              "        dataTable['output_type'] = 'display_data';\n",
              "        await google.colab.output.renderOutput(dataTable, element);\n",
              "        const docLink = document.createElement('div');\n",
              "        docLink.innerHTML = docLinkHtml;\n",
              "        element.appendChild(docLink);\n",
              "      }\n",
              "    </script>\n",
              "  </div>\n",
              "\n",
              "\n",
              "<div id=\"df-d4a6d022-cf8d-439a-9f92-d8edb5f6f019\">\n",
              "  <button class=\"colab-df-quickchart\" onclick=\"quickchart('df-d4a6d022-cf8d-439a-9f92-d8edb5f6f019')\"\n",
              "            title=\"Suggest charts\"\n",
              "            style=\"display:none;\">\n",
              "\n",
              "<svg xmlns=\"http://www.w3.org/2000/svg\" height=\"24px\"viewBox=\"0 0 24 24\"\n",
              "     width=\"24px\">\n",
              "    <g>\n",
              "        <path d=\"M19 3H5c-1.1 0-2 .9-2 2v14c0 1.1.9 2 2 2h14c1.1 0 2-.9 2-2V5c0-1.1-.9-2-2-2zM9 17H7v-7h2v7zm4 0h-2V7h2v10zm4 0h-2v-4h2v4z\"/>\n",
              "    </g>\n",
              "</svg>\n",
              "  </button>\n",
              "\n",
              "<style>\n",
              "  .colab-df-quickchart {\n",
              "      --bg-color: #E8F0FE;\n",
              "      --fill-color: #1967D2;\n",
              "      --hover-bg-color: #E2EBFA;\n",
              "      --hover-fill-color: #174EA6;\n",
              "      --disabled-fill-color: #AAA;\n",
              "      --disabled-bg-color: #DDD;\n",
              "  }\n",
              "\n",
              "  [theme=dark] .colab-df-quickchart {\n",
              "      --bg-color: #3B4455;\n",
              "      --fill-color: #D2E3FC;\n",
              "      --hover-bg-color: #434B5C;\n",
              "      --hover-fill-color: #FFFFFF;\n",
              "      --disabled-bg-color: #3B4455;\n",
              "      --disabled-fill-color: #666;\n",
              "  }\n",
              "\n",
              "  .colab-df-quickchart {\n",
              "    background-color: var(--bg-color);\n",
              "    border: none;\n",
              "    border-radius: 50%;\n",
              "    cursor: pointer;\n",
              "    display: none;\n",
              "    fill: var(--fill-color);\n",
              "    height: 32px;\n",
              "    padding: 0;\n",
              "    width: 32px;\n",
              "  }\n",
              "\n",
              "  .colab-df-quickchart:hover {\n",
              "    background-color: var(--hover-bg-color);\n",
              "    box-shadow: 0 1px 2px rgba(60, 64, 67, 0.3), 0 1px 3px 1px rgba(60, 64, 67, 0.15);\n",
              "    fill: var(--button-hover-fill-color);\n",
              "  }\n",
              "\n",
              "  .colab-df-quickchart-complete:disabled,\n",
              "  .colab-df-quickchart-complete:disabled:hover {\n",
              "    background-color: var(--disabled-bg-color);\n",
              "    fill: var(--disabled-fill-color);\n",
              "    box-shadow: none;\n",
              "  }\n",
              "\n",
              "  .colab-df-spinner {\n",
              "    border: 2px solid var(--fill-color);\n",
              "    border-color: transparent;\n",
              "    border-bottom-color: var(--fill-color);\n",
              "    animation:\n",
              "      spin 1s steps(1) infinite;\n",
              "  }\n",
              "\n",
              "  @keyframes spin {\n",
              "    0% {\n",
              "      border-color: transparent;\n",
              "      border-bottom-color: var(--fill-color);\n",
              "      border-left-color: var(--fill-color);\n",
              "    }\n",
              "    20% {\n",
              "      border-color: transparent;\n",
              "      border-left-color: var(--fill-color);\n",
              "      border-top-color: var(--fill-color);\n",
              "    }\n",
              "    30% {\n",
              "      border-color: transparent;\n",
              "      border-left-color: var(--fill-color);\n",
              "      border-top-color: var(--fill-color);\n",
              "      border-right-color: var(--fill-color);\n",
              "    }\n",
              "    40% {\n",
              "      border-color: transparent;\n",
              "      border-right-color: var(--fill-color);\n",
              "      border-top-color: var(--fill-color);\n",
              "    }\n",
              "    60% {\n",
              "      border-color: transparent;\n",
              "      border-right-color: var(--fill-color);\n",
              "    }\n",
              "    80% {\n",
              "      border-color: transparent;\n",
              "      border-right-color: var(--fill-color);\n",
              "      border-bottom-color: var(--fill-color);\n",
              "    }\n",
              "    90% {\n",
              "      border-color: transparent;\n",
              "      border-bottom-color: var(--fill-color);\n",
              "    }\n",
              "  }\n",
              "</style>\n",
              "\n",
              "  <script>\n",
              "    async function quickchart(key) {\n",
              "      const quickchartButtonEl =\n",
              "        document.querySelector('#' + key + ' button');\n",
              "      quickchartButtonEl.disabled = true;  // To prevent multiple clicks.\n",
              "      quickchartButtonEl.classList.add('colab-df-spinner');\n",
              "      try {\n",
              "        const charts = await google.colab.kernel.invokeFunction(\n",
              "            'suggestCharts', [key], {});\n",
              "      } catch (error) {\n",
              "        console.error('Error during call to suggestCharts:', error);\n",
              "      }\n",
              "      quickchartButtonEl.classList.remove('colab-df-spinner');\n",
              "      quickchartButtonEl.classList.add('colab-df-quickchart-complete');\n",
              "    }\n",
              "    (() => {\n",
              "      let quickchartButtonEl =\n",
              "        document.querySelector('#df-d4a6d022-cf8d-439a-9f92-d8edb5f6f019 button');\n",
              "      quickchartButtonEl.style.display =\n",
              "        google.colab.kernel.accessAllowed ? 'block' : 'none';\n",
              "    })();\n",
              "  </script>\n",
              "</div>\n",
              "\n",
              "    </div>\n",
              "  </div>\n"
            ],
            "application/vnd.google.colaboratory.intrinsic+json": {
              "type": "dataframe",
              "variable_name": "bitcoin_prices_windowed",
              "summary": "{\n  \"name\": \"bitcoin_prices_windowed\",\n  \"rows\": 2787,\n  \"fields\": [\n    {\n      \"column\": \"Date\",\n      \"properties\": {\n        \"dtype\": \"date\",\n        \"min\": \"2013-10-01 00:00:00\",\n        \"max\": \"2021-05-18 00:00:00\",\n        \"num_unique_values\": 2787,\n        \"samples\": [\n          \"2019-06-11 00:00:00\",\n          \"2021-05-03 00:00:00\",\n          \"2017-10-05 00:00:00\"\n        ],\n        \"semantic_type\": \"\",\n        \"description\": \"\"\n      }\n    },\n    {\n      \"column\": \"close\",\n      \"properties\": {\n        \"dtype\": \"number\",\n        \"std\": 10887.84744436952,\n        \"min\": 108.58483,\n        \"max\": 63346.7890351052,\n        \"num_unique_values\": 2787,\n        \"samples\": [\n          7954.0062377205,\n          56427.0431250152,\n          4186.78374\n        ],\n        \"semantic_type\": \"\",\n        \"description\": \"\"\n      }\n    },\n    {\n      \"column\": \"block_reward\",\n      \"properties\": {\n        \"dtype\": \"date\",\n        \"min\": 6.25,\n        \"max\": 25,\n        \"num_unique_values\": 3,\n        \"samples\": [\n          25,\n          12.5,\n          6.25\n        ],\n        \"semantic_type\": \"\",\n        \"description\": \"\"\n      }\n    },\n    {\n      \"column\": \"Price+1\",\n      \"properties\": {\n        \"dtype\": \"number\",\n        \"std\": 10867.669449725987,\n        \"min\": 108.58483,\n        \"max\": 63346.7890351052,\n        \"num_unique_values\": 2786,\n        \"samples\": [\n          7600.9224920885,\n          57677.9752218988,\n          4186.78374\n        ],\n        \"semantic_type\": \"\",\n        \"description\": \"\"\n      }\n    },\n    {\n      \"column\": \"Price+2\",\n      \"properties\": {\n        \"dtype\": \"number\",\n        \"std\": 10844.337848303785,\n        \"min\": 108.58483,\n        \"max\": 63346.7890351052,\n        \"num_unique_values\": 2785,\n        \"samples\": [\n          7600.9224920885,\n          57302.6464240813,\n          4186.78374\n        ],\n        \"semantic_type\": \"\",\n        \"description\": \"\"\n      }\n    },\n    {\n      \"column\": \"Price+3\",\n      \"properties\": {\n        \"dtype\": \"number\",\n        \"std\": 10817.871229715483,\n        \"min\": 108.58483,\n        \"max\": 63346.7890351052,\n        \"num_unique_values\": 2784,\n        \"samples\": [\n          241.07183,\n          6883.4963937703,\n          9126.6368222216\n        ],\n        \"semantic_type\": \"\",\n        \"description\": \"\"\n      }\n    },\n    {\n      \"column\": \"Price+4\",\n      \"properties\": {\n        \"dtype\": \"number\",\n        \"std\": 10788.261115483672,\n        \"min\": 108.58483,\n        \"max\": 63346.7890351052,\n        \"num_unique_values\": 2783,\n        \"samples\": [\n          241.07183,\n          15374.0443857602,\n          9078.5787771302\n        ],\n        \"semantic_type\": \"\",\n        \"description\": \"\"\n      }\n    },\n    {\n      \"column\": \"Price+5\",\n      \"properties\": {\n        \"dtype\": \"number\",\n        \"std\": 10758.915269128049,\n        \"min\": 108.58483,\n        \"max\": 63346.7890351052,\n        \"num_unique_values\": 2782,\n        \"samples\": [\n          6181.7442069566,\n          10691.31129913,\n          3920.99125\n        ],\n        \"semantic_type\": \"\",\n        \"description\": \"\"\n      }\n    },\n    {\n      \"column\": \"Price+6\",\n      \"properties\": {\n        \"dtype\": \"number\",\n        \"std\": 10725.887328798459,\n        \"min\": 108.58483,\n        \"max\": 63346.7890351052,\n        \"num_unique_values\": 2781,\n        \"samples\": [\n          15242.93625,\n          609.495,\n          3753.435\n        ],\n        \"semantic_type\": \"\",\n        \"description\": \"\"\n      }\n    },\n    {\n      \"column\": \"Price+7\",\n      \"properties\": {\n        \"dtype\": \"number\",\n        \"std\": 10685.56601239665,\n        \"min\": 108.58483,\n        \"max\": 63346.7890351052,\n        \"num_unique_values\": 2780,\n        \"samples\": [\n          15242.93625,\n          609.495,\n          3753.435\n        ],\n        \"semantic_type\": \"\",\n        \"description\": \"\"\n      }\n    }\n  ]\n}"
            }
          },
          "metadata": {},
          "execution_count": 133
        }
      ]
    },
    {
      "cell_type": "code",
      "source": [
        "# Let's create X & y, remove the NaN's and convert to float32 to prevent TensorFlow errors\n",
        "X = bitcoin_prices_windowed.dropna().drop(\"close\", axis=1).astype(np.float32)\n",
        "y = bitcoin_prices_windowed.dropna()[\"close\"].astype(np.float32)\n",
        "X.head()"
      ],
      "metadata": {
        "colab": {
          "base_uri": "https://localhost:8080/",
          "height": 237
        },
        "id": "LRaTs4d5KY6H",
        "outputId": "89cbf08e-6f61-4835-9ad3-347ef79a9130"
      },
      "execution_count": 134,
      "outputs": [
        {
          "output_type": "execute_result",
          "data": {
            "text/plain": [
              "            block_reward     Price+1     Price+2     Price+3     Price+4  \\\n",
              "Date                                                                       \n",
              "2013-10-08          25.0  121.794998  120.655327  121.338661  118.674660   \n",
              "2013-10-09          25.0  123.032997  121.794998  120.655327  121.338661   \n",
              "2013-10-10          25.0  124.049004  123.032997  121.794998  120.655327   \n",
              "2013-10-11          25.0  125.961159  124.049004  123.032997  121.794998   \n",
              "2013-10-12          25.0  125.279663  125.961159  124.049004  123.032997   \n",
              "\n",
              "               Price+5     Price+6     Price+7  \n",
              "Date                                            \n",
              "2013-10-08  108.584831  125.455002  123.654991  \n",
              "2013-10-09  118.674660  108.584831  125.455002  \n",
              "2013-10-10  121.338661  118.674660  108.584831  \n",
              "2013-10-11  120.655327  121.338661  118.674660  \n",
              "2013-10-12  121.794998  120.655327  121.338661  "
            ],
            "text/html": [
              "\n",
              "  <div id=\"df-21ce19e3-dbc2-4702-a4e2-ede0425b2092\" class=\"colab-df-container\">\n",
              "    <div>\n",
              "<style scoped>\n",
              "    .dataframe tbody tr th:only-of-type {\n",
              "        vertical-align: middle;\n",
              "    }\n",
              "\n",
              "    .dataframe tbody tr th {\n",
              "        vertical-align: top;\n",
              "    }\n",
              "\n",
              "    .dataframe thead th {\n",
              "        text-align: right;\n",
              "    }\n",
              "</style>\n",
              "<table border=\"1\" class=\"dataframe\">\n",
              "  <thead>\n",
              "    <tr style=\"text-align: right;\">\n",
              "      <th></th>\n",
              "      <th>block_reward</th>\n",
              "      <th>Price+1</th>\n",
              "      <th>Price+2</th>\n",
              "      <th>Price+3</th>\n",
              "      <th>Price+4</th>\n",
              "      <th>Price+5</th>\n",
              "      <th>Price+6</th>\n",
              "      <th>Price+7</th>\n",
              "    </tr>\n",
              "    <tr>\n",
              "      <th>Date</th>\n",
              "      <th></th>\n",
              "      <th></th>\n",
              "      <th></th>\n",
              "      <th></th>\n",
              "      <th></th>\n",
              "      <th></th>\n",
              "      <th></th>\n",
              "      <th></th>\n",
              "    </tr>\n",
              "  </thead>\n",
              "  <tbody>\n",
              "    <tr>\n",
              "      <th>2013-10-08</th>\n",
              "      <td>25.0</td>\n",
              "      <td>121.794998</td>\n",
              "      <td>120.655327</td>\n",
              "      <td>121.338661</td>\n",
              "      <td>118.674660</td>\n",
              "      <td>108.584831</td>\n",
              "      <td>125.455002</td>\n",
              "      <td>123.654991</td>\n",
              "    </tr>\n",
              "    <tr>\n",
              "      <th>2013-10-09</th>\n",
              "      <td>25.0</td>\n",
              "      <td>123.032997</td>\n",
              "      <td>121.794998</td>\n",
              "      <td>120.655327</td>\n",
              "      <td>121.338661</td>\n",
              "      <td>118.674660</td>\n",
              "      <td>108.584831</td>\n",
              "      <td>125.455002</td>\n",
              "    </tr>\n",
              "    <tr>\n",
              "      <th>2013-10-10</th>\n",
              "      <td>25.0</td>\n",
              "      <td>124.049004</td>\n",
              "      <td>123.032997</td>\n",
              "      <td>121.794998</td>\n",
              "      <td>120.655327</td>\n",
              "      <td>121.338661</td>\n",
              "      <td>118.674660</td>\n",
              "      <td>108.584831</td>\n",
              "    </tr>\n",
              "    <tr>\n",
              "      <th>2013-10-11</th>\n",
              "      <td>25.0</td>\n",
              "      <td>125.961159</td>\n",
              "      <td>124.049004</td>\n",
              "      <td>123.032997</td>\n",
              "      <td>121.794998</td>\n",
              "      <td>120.655327</td>\n",
              "      <td>121.338661</td>\n",
              "      <td>118.674660</td>\n",
              "    </tr>\n",
              "    <tr>\n",
              "      <th>2013-10-12</th>\n",
              "      <td>25.0</td>\n",
              "      <td>125.279663</td>\n",
              "      <td>125.961159</td>\n",
              "      <td>124.049004</td>\n",
              "      <td>123.032997</td>\n",
              "      <td>121.794998</td>\n",
              "      <td>120.655327</td>\n",
              "      <td>121.338661</td>\n",
              "    </tr>\n",
              "  </tbody>\n",
              "</table>\n",
              "</div>\n",
              "    <div class=\"colab-df-buttons\">\n",
              "\n",
              "  <div class=\"colab-df-container\">\n",
              "    <button class=\"colab-df-convert\" onclick=\"convertToInteractive('df-21ce19e3-dbc2-4702-a4e2-ede0425b2092')\"\n",
              "            title=\"Convert this dataframe to an interactive table.\"\n",
              "            style=\"display:none;\">\n",
              "\n",
              "  <svg xmlns=\"http://www.w3.org/2000/svg\" height=\"24px\" viewBox=\"0 -960 960 960\">\n",
              "    <path d=\"M120-120v-720h720v720H120Zm60-500h600v-160H180v160Zm220 220h160v-160H400v160Zm0 220h160v-160H400v160ZM180-400h160v-160H180v160Zm440 0h160v-160H620v160ZM180-180h160v-160H180v160Zm440 0h160v-160H620v160Z\"/>\n",
              "  </svg>\n",
              "    </button>\n",
              "\n",
              "  <style>\n",
              "    .colab-df-container {\n",
              "      display:flex;\n",
              "      gap: 12px;\n",
              "    }\n",
              "\n",
              "    .colab-df-convert {\n",
              "      background-color: #E8F0FE;\n",
              "      border: none;\n",
              "      border-radius: 50%;\n",
              "      cursor: pointer;\n",
              "      display: none;\n",
              "      fill: #1967D2;\n",
              "      height: 32px;\n",
              "      padding: 0 0 0 0;\n",
              "      width: 32px;\n",
              "    }\n",
              "\n",
              "    .colab-df-convert:hover {\n",
              "      background-color: #E2EBFA;\n",
              "      box-shadow: 0px 1px 2px rgba(60, 64, 67, 0.3), 0px 1px 3px 1px rgba(60, 64, 67, 0.15);\n",
              "      fill: #174EA6;\n",
              "    }\n",
              "\n",
              "    .colab-df-buttons div {\n",
              "      margin-bottom: 4px;\n",
              "    }\n",
              "\n",
              "    [theme=dark] .colab-df-convert {\n",
              "      background-color: #3B4455;\n",
              "      fill: #D2E3FC;\n",
              "    }\n",
              "\n",
              "    [theme=dark] .colab-df-convert:hover {\n",
              "      background-color: #434B5C;\n",
              "      box-shadow: 0px 1px 3px 1px rgba(0, 0, 0, 0.15);\n",
              "      filter: drop-shadow(0px 1px 2px rgba(0, 0, 0, 0.3));\n",
              "      fill: #FFFFFF;\n",
              "    }\n",
              "  </style>\n",
              "\n",
              "    <script>\n",
              "      const buttonEl =\n",
              "        document.querySelector('#df-21ce19e3-dbc2-4702-a4e2-ede0425b2092 button.colab-df-convert');\n",
              "      buttonEl.style.display =\n",
              "        google.colab.kernel.accessAllowed ? 'block' : 'none';\n",
              "\n",
              "      async function convertToInteractive(key) {\n",
              "        const element = document.querySelector('#df-21ce19e3-dbc2-4702-a4e2-ede0425b2092');\n",
              "        const dataTable =\n",
              "          await google.colab.kernel.invokeFunction('convertToInteractive',\n",
              "                                                    [key], {});\n",
              "        if (!dataTable) return;\n",
              "\n",
              "        const docLinkHtml = 'Like what you see? Visit the ' +\n",
              "          '<a target=\"_blank\" href=https://colab.research.google.com/notebooks/data_table.ipynb>data table notebook</a>'\n",
              "          + ' to learn more about interactive tables.';\n",
              "        element.innerHTML = '';\n",
              "        dataTable['output_type'] = 'display_data';\n",
              "        await google.colab.output.renderOutput(dataTable, element);\n",
              "        const docLink = document.createElement('div');\n",
              "        docLink.innerHTML = docLinkHtml;\n",
              "        element.appendChild(docLink);\n",
              "      }\n",
              "    </script>\n",
              "  </div>\n",
              "\n",
              "\n",
              "<div id=\"df-0784d8d6-3991-43ce-bf6d-1ff9dab753d6\">\n",
              "  <button class=\"colab-df-quickchart\" onclick=\"quickchart('df-0784d8d6-3991-43ce-bf6d-1ff9dab753d6')\"\n",
              "            title=\"Suggest charts\"\n",
              "            style=\"display:none;\">\n",
              "\n",
              "<svg xmlns=\"http://www.w3.org/2000/svg\" height=\"24px\"viewBox=\"0 0 24 24\"\n",
              "     width=\"24px\">\n",
              "    <g>\n",
              "        <path d=\"M19 3H5c-1.1 0-2 .9-2 2v14c0 1.1.9 2 2 2h14c1.1 0 2-.9 2-2V5c0-1.1-.9-2-2-2zM9 17H7v-7h2v7zm4 0h-2V7h2v10zm4 0h-2v-4h2v4z\"/>\n",
              "    </g>\n",
              "</svg>\n",
              "  </button>\n",
              "\n",
              "<style>\n",
              "  .colab-df-quickchart {\n",
              "      --bg-color: #E8F0FE;\n",
              "      --fill-color: #1967D2;\n",
              "      --hover-bg-color: #E2EBFA;\n",
              "      --hover-fill-color: #174EA6;\n",
              "      --disabled-fill-color: #AAA;\n",
              "      --disabled-bg-color: #DDD;\n",
              "  }\n",
              "\n",
              "  [theme=dark] .colab-df-quickchart {\n",
              "      --bg-color: #3B4455;\n",
              "      --fill-color: #D2E3FC;\n",
              "      --hover-bg-color: #434B5C;\n",
              "      --hover-fill-color: #FFFFFF;\n",
              "      --disabled-bg-color: #3B4455;\n",
              "      --disabled-fill-color: #666;\n",
              "  }\n",
              "\n",
              "  .colab-df-quickchart {\n",
              "    background-color: var(--bg-color);\n",
              "    border: none;\n",
              "    border-radius: 50%;\n",
              "    cursor: pointer;\n",
              "    display: none;\n",
              "    fill: var(--fill-color);\n",
              "    height: 32px;\n",
              "    padding: 0;\n",
              "    width: 32px;\n",
              "  }\n",
              "\n",
              "  .colab-df-quickchart:hover {\n",
              "    background-color: var(--hover-bg-color);\n",
              "    box-shadow: 0 1px 2px rgba(60, 64, 67, 0.3), 0 1px 3px 1px rgba(60, 64, 67, 0.15);\n",
              "    fill: var(--button-hover-fill-color);\n",
              "  }\n",
              "\n",
              "  .colab-df-quickchart-complete:disabled,\n",
              "  .colab-df-quickchart-complete:disabled:hover {\n",
              "    background-color: var(--disabled-bg-color);\n",
              "    fill: var(--disabled-fill-color);\n",
              "    box-shadow: none;\n",
              "  }\n",
              "\n",
              "  .colab-df-spinner {\n",
              "    border: 2px solid var(--fill-color);\n",
              "    border-color: transparent;\n",
              "    border-bottom-color: var(--fill-color);\n",
              "    animation:\n",
              "      spin 1s steps(1) infinite;\n",
              "  }\n",
              "\n",
              "  @keyframes spin {\n",
              "    0% {\n",
              "      border-color: transparent;\n",
              "      border-bottom-color: var(--fill-color);\n",
              "      border-left-color: var(--fill-color);\n",
              "    }\n",
              "    20% {\n",
              "      border-color: transparent;\n",
              "      border-left-color: var(--fill-color);\n",
              "      border-top-color: var(--fill-color);\n",
              "    }\n",
              "    30% {\n",
              "      border-color: transparent;\n",
              "      border-left-color: var(--fill-color);\n",
              "      border-top-color: var(--fill-color);\n",
              "      border-right-color: var(--fill-color);\n",
              "    }\n",
              "    40% {\n",
              "      border-color: transparent;\n",
              "      border-right-color: var(--fill-color);\n",
              "      border-top-color: var(--fill-color);\n",
              "    }\n",
              "    60% {\n",
              "      border-color: transparent;\n",
              "      border-right-color: var(--fill-color);\n",
              "    }\n",
              "    80% {\n",
              "      border-color: transparent;\n",
              "      border-right-color: var(--fill-color);\n",
              "      border-bottom-color: var(--fill-color);\n",
              "    }\n",
              "    90% {\n",
              "      border-color: transparent;\n",
              "      border-bottom-color: var(--fill-color);\n",
              "    }\n",
              "  }\n",
              "</style>\n",
              "\n",
              "  <script>\n",
              "    async function quickchart(key) {\n",
              "      const quickchartButtonEl =\n",
              "        document.querySelector('#' + key + ' button');\n",
              "      quickchartButtonEl.disabled = true;  // To prevent multiple clicks.\n",
              "      quickchartButtonEl.classList.add('colab-df-spinner');\n",
              "      try {\n",
              "        const charts = await google.colab.kernel.invokeFunction(\n",
              "            'suggestCharts', [key], {});\n",
              "      } catch (error) {\n",
              "        console.error('Error during call to suggestCharts:', error);\n",
              "      }\n",
              "      quickchartButtonEl.classList.remove('colab-df-spinner');\n",
              "      quickchartButtonEl.classList.add('colab-df-quickchart-complete');\n",
              "    }\n",
              "    (() => {\n",
              "      let quickchartButtonEl =\n",
              "        document.querySelector('#df-0784d8d6-3991-43ce-bf6d-1ff9dab753d6 button');\n",
              "      quickchartButtonEl.style.display =\n",
              "        google.colab.kernel.accessAllowed ? 'block' : 'none';\n",
              "    })();\n",
              "  </script>\n",
              "</div>\n",
              "\n",
              "    </div>\n",
              "  </div>\n"
            ],
            "application/vnd.google.colaboratory.intrinsic+json": {
              "type": "dataframe",
              "variable_name": "X",
              "summary": "{\n  \"name\": \"X\",\n  \"rows\": 2780,\n  \"fields\": [\n    {\n      \"column\": \"Date\",\n      \"properties\": {\n        \"dtype\": \"date\",\n        \"min\": \"2013-10-08 00:00:00\",\n        \"max\": \"2021-05-18 00:00:00\",\n        \"num_unique_values\": 2780,\n        \"samples\": [\n          \"2018-01-16 00:00:00\",\n          \"2016-10-11 00:00:00\",\n          \"2017-10-02 00:00:00\"\n        ],\n        \"semantic_type\": \"\",\n        \"description\": \"\"\n      }\n    },\n    {\n      \"column\": \"block_reward\",\n      \"properties\": {\n        \"dtype\": \"float32\",\n        \"num_unique_values\": 3,\n        \"samples\": [\n          25.0,\n          12.5,\n          6.25\n        ],\n        \"semantic_type\": \"\",\n        \"description\": \"\"\n      }\n    },\n    {\n      \"column\": \"Price+1\",\n      \"properties\": {\n        \"dtype\": \"float32\",\n        \"num_unique_values\": 2780,\n        \"samples\": [\n          13519.92578125,\n          615.916259765625,\n          4300.55126953125\n        ],\n        \"semantic_type\": \"\",\n        \"description\": \"\"\n      }\n    },\n    {\n      \"column\": \"Price+2\",\n      \"properties\": {\n        \"dtype\": \"float32\",\n        \"num_unique_values\": 2780,\n        \"samples\": [\n          14217.3623046875,\n          614.5962524414062,\n          4207.8251953125\n        ],\n        \"semantic_type\": \"\",\n        \"description\": \"\"\n      }\n    },\n    {\n      \"column\": \"Price+3\",\n      \"properties\": {\n        \"dtype\": \"float32\",\n        \"num_unique_values\": 2780,\n        \"samples\": [\n          14165.90625,\n          617.4450073242188,\n          4062.203857421875\n        ],\n        \"semantic_type\": \"\",\n        \"description\": \"\"\n      }\n    },\n    {\n      \"column\": \"Price+4\",\n      \"properties\": {\n        \"dtype\": \"float32\",\n        \"num_unique_values\": 2780,\n        \"samples\": [\n          13633.36328125,\n          610.2337646484375,\n          4220.27978515625\n        ],\n        \"semantic_type\": \"\",\n        \"description\": \"\"\n      }\n    },\n    {\n      \"column\": \"Price+5\",\n      \"properties\": {\n        \"dtype\": \"float32\",\n        \"num_unique_values\": 2780,\n        \"samples\": [\n          13269.59765625,\n          610.5700073242188,\n          3939.514892578125\n        ],\n        \"semantic_type\": \"\",\n        \"description\": \"\"\n      }\n    },\n    {\n      \"column\": \"Price+6\",\n      \"properties\": {\n        \"dtype\": \"float32\",\n        \"num_unique_values\": 2780,\n        \"samples\": [\n          14122.8251953125,\n          608.125,\n          3920.9912109375\n        ],\n        \"semantic_type\": \"\",\n        \"description\": \"\"\n      }\n    },\n    {\n      \"column\": \"Price+7\",\n      \"properties\": {\n        \"dtype\": \"float32\",\n        \"num_unique_values\": 2780,\n        \"samples\": [\n          15242.9365234375,\n          609.4949951171875,\n          3753.43505859375\n        ],\n        \"semantic_type\": \"\",\n        \"description\": \"\"\n      }\n    }\n  ]\n}"
            }
          },
          "metadata": {},
          "execution_count": 134
        }
      ]
    },
    {
      "cell_type": "code",
      "source": [
        "y.head()"
      ],
      "metadata": {
        "colab": {
          "base_uri": "https://localhost:8080/"
        },
        "id": "YoQHk97XLMFj",
        "outputId": "6c0d1cc2-3204-4bfc-af9a-7e8897b55bf0"
      },
      "execution_count": 135,
      "outputs": [
        {
          "output_type": "execute_result",
          "data": {
            "text/plain": [
              "Date\n",
              "2013-10-08    123.032997\n",
              "2013-10-09    124.049004\n",
              "2013-10-10    125.961159\n",
              "2013-10-11    125.279663\n",
              "2013-10-12    125.927498\n",
              "Name: close, dtype: float32"
            ]
          },
          "metadata": {},
          "execution_count": 135
        }
      ]
    },
    {
      "cell_type": "code",
      "source": [
        "from sklearn.model_selection import train_test_split\n",
        "X_train, X_test, y_train, y_test = train_test_split(X, y, test_size=0.2, shuffle=False)\n",
        "len(X_train), len(X_test)"
      ],
      "metadata": {
        "colab": {
          "base_uri": "https://localhost:8080/"
        },
        "id": "JTupeUOmLYxt",
        "outputId": "8fdbf375-5997-4bf3-bc78-470c1c61a747"
      },
      "execution_count": 136,
      "outputs": [
        {
          "output_type": "execute_result",
          "data": {
            "text/plain": [
              "(2224, 556)"
            ]
          },
          "metadata": {},
          "execution_count": 136
        }
      ]
    },
    {
      "cell_type": "markdown",
      "source": [
        "## Model_6: Dense(Multivariate time series)"
      ],
      "metadata": {
        "id": "8IO7t5ziLziH"
      }
    },
    {
      "cell_type": "code",
      "source": [
        "tf.random.set_seed(42)\n",
        "\n",
        "model_6 = tf.keras.models.Sequential([\n",
        "    tf.keras.layers.Dense(128, activation='relu'),\n",
        "    tf.keras.layers.Dense(HORIZON)\n",
        "])\n",
        "\n",
        "model_6.compile(loss='mae',\n",
        "                optimizer='Adam',\n",
        "                metrics=['mae', 'mse'])\n",
        "model_6.fit(X_train,\n",
        "            y_train,\n",
        "            epochs=100,\n",
        "            verbose=0,\n",
        "            validation_data=(X_test, y_test),\n",
        "            callbacks=[model_checkpoint(\"Model_6\")])"
      ],
      "metadata": {
        "colab": {
          "base_uri": "https://localhost:8080/"
        },
        "id": "vpw6K0b3MAuk",
        "outputId": "fb4846a0-48aa-4c41-a8a8-62a2ddba389f"
      },
      "execution_count": 137,
      "outputs": [
        {
          "output_type": "execute_result",
          "data": {
            "text/plain": [
              "<keras.src.callbacks.History at 0x7f3615dd1150>"
            ]
          },
          "metadata": {},
          "execution_count": 137
        }
      ]
    },
    {
      "cell_type": "code",
      "source": [
        "model_6.summary()"
      ],
      "metadata": {
        "colab": {
          "base_uri": "https://localhost:8080/"
        },
        "id": "d1J8igwVMvMd",
        "outputId": "f5d9ba20-6b3d-4d4e-9205-000abddaed8f"
      },
      "execution_count": 138,
      "outputs": [
        {
          "output_type": "stream",
          "name": "stdout",
          "text": [
            "Model: \"sequential_4\"\n",
            "_________________________________________________________________\n",
            " Layer (type)                Output Shape              Param #   \n",
            "=================================================================\n",
            " dense_8 (Dense)             (None, 128)               1152      \n",
            "                                                                 \n",
            " dense_9 (Dense)             (None, 1)                 129       \n",
            "                                                                 \n",
            "=================================================================\n",
            "Total params: 1281 (5.00 KB)\n",
            "Trainable params: 1281 (5.00 KB)\n",
            "Non-trainable params: 0 (0.00 Byte)\n",
            "_________________________________________________________________\n"
          ]
        }
      ]
    },
    {
      "cell_type": "code",
      "source": [
        "model_6.evaluate(X_test, y_test)"
      ],
      "metadata": {
        "colab": {
          "base_uri": "https://localhost:8080/"
        },
        "id": "uizw2ZlMNDIG",
        "outputId": "8d053cc7-bfdd-421d-fec0-123f4da52967"
      },
      "execution_count": 139,
      "outputs": [
        {
          "output_type": "stream",
          "name": "stdout",
          "text": [
            "18/18 [==============================] - 0s 4ms/step - loss: 635.4935 - mae: 635.4935 - mse: 1288832.5000\n"
          ]
        },
        {
          "output_type": "execute_result",
          "data": {
            "text/plain": [
              "[635.4934692382812, 635.4934692382812, 1288832.5]"
            ]
          },
          "metadata": {},
          "execution_count": 139
        }
      ]
    },
    {
      "cell_type": "code",
      "source": [
        "model_6 = tf.keras.models.load_model('/content/model_experiment/Model_6')\n",
        "model_6.evaluate(X_test, y_test)"
      ],
      "metadata": {
        "colab": {
          "base_uri": "https://localhost:8080/"
        },
        "id": "3CWj8rXRM0xl",
        "outputId": "14bde2fd-1312-49e9-b642-81b5fc57049b"
      },
      "execution_count": 140,
      "outputs": [
        {
          "output_type": "stream",
          "name": "stdout",
          "text": [
            "18/18 [==============================] - 0s 2ms/step - loss: 563.4858 - mae: 563.4858 - mse: 1147256.2500\n"
          ]
        },
        {
          "output_type": "execute_result",
          "data": {
            "text/plain": [
              "[563.48583984375, 563.48583984375, 1147256.25]"
            ]
          },
          "metadata": {},
          "execution_count": 140
        }
      ]
    },
    {
      "cell_type": "code",
      "source": [
        "model_6_preds = tf.squeeze(model_6.predict(X_test))\n",
        "model_6_preds[:10]"
      ],
      "metadata": {
        "colab": {
          "base_uri": "https://localhost:8080/"
        },
        "id": "bghXE1p2RSqJ",
        "outputId": "ec8e73b9-3e4a-49b5-dcfb-a9b687d17897"
      },
      "execution_count": 141,
      "outputs": [
        {
          "output_type": "stream",
          "name": "stdout",
          "text": [
            "18/18 [==============================] - 0s 2ms/step\n"
          ]
        },
        {
          "output_type": "execute_result",
          "data": {
            "text/plain": [
              "<tf.Tensor: shape=(10,), dtype=float32, numpy=\n",
              "array([8821.982, 8756.549, 9026.089, 8748.141, 8720.26 , 8720.334,\n",
              "       8665.328, 8495.837, 8440.07 , 8513.428], dtype=float32)>"
            ]
          },
          "metadata": {},
          "execution_count": 141
        }
      ]
    },
    {
      "cell_type": "code",
      "source": [
        "model_6_results = calculate_evaluation_metrics(y_test, model_6_preds)\n",
        "model_6_results"
      ],
      "metadata": {
        "colab": {
          "base_uri": "https://localhost:8080/"
        },
        "id": "1ejKUUxxNHPC",
        "outputId": "d3906ee0-4f48-4f3e-955c-f6ca0401c958"
      },
      "execution_count": 142,
      "outputs": [
        {
          "output_type": "execute_result",
          "data": {
            "text/plain": [
              "{'mae': 563.48584,\n",
              " 'mse': 1147256.1,\n",
              " 'rmse': 1071.1003,\n",
              " 'mape': 2.5250113,\n",
              " 'mase': 0.98988855}"
            ]
          },
          "metadata": {},
          "execution_count": 142
        }
      ]
    },
    {
      "cell_type": "markdown",
      "source": [
        "##Model 7: N-BEATS algorithm"
      ],
      "metadata": {
        "id": "hlvXG-shJXhY"
      }
    },
    {
      "cell_type": "markdown",
      "source": [
        "###Building and testing an N-BEATS block layer"
      ],
      "metadata": {
        "id": "UI5bbI8WJxbL"
      }
    },
    {
      "cell_type": "code",
      "source": [
        "# Create NBeatsBlock custom layer\n",
        "class NBeatsBlock(tf.keras.layers.Layer):\n",
        "  def __init__(self, # the constructor takes all the hyperparameters for the layer\n",
        "               input_size: int,\n",
        "               theta_size: int,\n",
        "               horizon: int,\n",
        "               n_neurons: int,\n",
        "               n_layers: int,\n",
        "               **kwargs): # the **kwargs argument takes care of all of the arguments for the parent class (input_shape, trainable, name)\n",
        "    super().__init__(**kwargs)\n",
        "    self.input_size = input_size\n",
        "    self.theta_size = theta_size\n",
        "    self.horizon = horizon\n",
        "    self.n_neurons = n_neurons\n",
        "    self.n_layers = n_layers\n",
        "\n",
        "    # Block contains stack of 4 fully connected layers each has ReLU activation\n",
        "    self.hidden = [tf.keras.layers.Dense(n_neurons, activation=\"relu\") for _ in range(n_layers)]\n",
        "    # Output of block is a theta layer with linear activation\n",
        "    self.theta_layer = tf.keras.layers.Dense(theta_size, activation=\"linear\", name=\"theta\")\n",
        "\n",
        "  def call(self, inputs): # the call method is what runs when the layer is called\n",
        "    x = inputs\n",
        "    for layer in self.hidden: # pass inputs through each hidden layer\n",
        "      x = layer(x)\n",
        "    theta = self.theta_layer(x)\n",
        "    # Output the backcast and forecast from theta\n",
        "    backcast, forecast = theta[:, :self.input_size], theta[:, -self.horizon:]\n",
        "    return backcast, forecast"
      ],
      "metadata": {
        "id": "79d0YdC-N1uN"
      },
      "execution_count": 143,
      "outputs": []
    },
    {
      "cell_type": "code",
      "source": [
        "# Set up dummy NBeatsBlock layer to represent inputs and outputs\n",
        "dummy_nbeats_block_layer = NBeatsBlock(input_size=WINDOW_SIZE,\n",
        "                                       theta_size=WINDOW_SIZE+HORIZON, # backcast + forecast\n",
        "                                       horizon=HORIZON,\n",
        "                                       n_neurons=128,\n",
        "                                       n_layers=4)"
      ],
      "metadata": {
        "id": "_uUXqx6tQpNt"
      },
      "execution_count": 144,
      "outputs": []
    },
    {
      "cell_type": "code",
      "source": [
        "# Create dummy inputs (have to be same size as input_size)\n",
        "dummy_inputs = tf.expand_dims(tf.range(WINDOW_SIZE) + 1, axis=0) # input shape to the model has to reflect Dense layer input requirements (ndim=2)\n",
        "dummy_inputs"
      ],
      "metadata": {
        "colab": {
          "base_uri": "https://localhost:8080/"
        },
        "id": "MmTArveSQvKO",
        "outputId": "534f3d89-6231-44a2-e2d8-a9d2ad257948"
      },
      "execution_count": 145,
      "outputs": [
        {
          "output_type": "execute_result",
          "data": {
            "text/plain": [
              "<tf.Tensor: shape=(1, 7), dtype=int32, numpy=array([[1, 2, 3, 4, 5, 6, 7]], dtype=int32)>"
            ]
          },
          "metadata": {},
          "execution_count": 145
        }
      ]
    },
    {
      "cell_type": "code",
      "source": [
        "# Pass dummy inputs to dummy NBeatsBlock layer\n",
        "backcast, forecast = dummy_nbeats_block_layer(dummy_inputs)\n",
        "# These are the activation outputs of the theta layer (they'll be random due to no training of the model)\n",
        "print(f\"Backcast: {tf.squeeze(backcast.numpy())}\")\n",
        "print(f\"Forecast: {tf.squeeze(forecast.numpy())}\")"
      ],
      "metadata": {
        "colab": {
          "base_uri": "https://localhost:8080/"
        },
        "id": "abgHP-aMQyuq",
        "outputId": "6a64208e-5eff-4d64-91f1-512d2a6aeee1"
      },
      "execution_count": 146,
      "outputs": [
        {
          "output_type": "stream",
          "name": "stdout",
          "text": [
            "Backcast: [ 0.05080438  0.5002811  -0.05694128  0.14262527 -0.31042814 -0.46741998\n",
            "  0.2808075 ]\n",
            "Forecast: -0.26672786474227905\n"
          ]
        }
      ]
    },
    {
      "cell_type": "code",
      "source": [],
      "metadata": {
        "id": "A0zWo50DQ1Qo"
      },
      "execution_count": null,
      "outputs": []
    }
  ]
}