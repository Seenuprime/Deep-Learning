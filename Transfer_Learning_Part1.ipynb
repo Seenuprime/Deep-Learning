{
  "nbformat": 4,
  "nbformat_minor": 0,
  "metadata": {
    "colab": {
      "provenance": [],
      "authorship_tag": "ABX9TyNS4ZorLAVinPPLQ/Vef1ul",
      "include_colab_link": true
    },
    "kernelspec": {
      "name": "python3",
      "display_name": "Python 3"
    },
    "language_info": {
      "name": "python"
    }
  },
  "cells": [
    {
      "cell_type": "markdown",
      "metadata": {
        "id": "view-in-github",
        "colab_type": "text"
      },
      "source": [
        "<a href=\"https://colab.research.google.com/github/Seenuprime/Deep-Learning/blob/main/Transfer_Learning_Part1.ipynb\" target=\"_parent\"><img src=\"https://colab.research.google.com/assets/colab-badge.svg\" alt=\"Open In Colab\"/></a>"
      ]
    },
    {
      "cell_type": "markdown",
      "source": [
        "# Feature Extraction"
      ],
      "metadata": {
        "id": "d_oEwyPnBvI4"
      }
    },
    {
      "cell_type": "code",
      "execution_count": null,
      "metadata": {
        "id": "tlyi80siAG8N"
      },
      "outputs": [],
      "source": [
        "import tensorflow as tf"
      ]
    },
    {
      "cell_type": "code",
      "source": [
        "import zipfile\n",
        "\n",
        "!wget https://storage.googleapis.com/ztm_tf_course/food_vision/10_food_classes_10_percent.zip\n",
        "\n",
        "zip_ref = zipfile.ZipFile('10_food_classes_10_percent.zip')\n",
        "zip_ref.extractall()\n",
        "zip_ref.close()"
      ],
      "metadata": {
        "colab": {
          "base_uri": "https://localhost:8080/"
        },
        "id": "v624Mr4nAfzn",
        "outputId": "b6c6a505-30d9-4a9b-fdfc-a84255812574"
      },
      "execution_count": null,
      "outputs": [
        {
          "output_type": "stream",
          "name": "stdout",
          "text": [
            "--2024-04-29 05:54:17--  https://storage.googleapis.com/ztm_tf_course/food_vision/10_food_classes_10_percent.zip\n",
            "Resolving storage.googleapis.com (storage.googleapis.com)... 142.251.107.207, 74.125.196.207, 74.125.141.207, ...\n",
            "Connecting to storage.googleapis.com (storage.googleapis.com)|142.251.107.207|:443... connected.\n",
            "HTTP request sent, awaiting response... 200 OK\n",
            "Length: 168546183 (161M) [application/zip]\n",
            "Saving to: ‘10_food_classes_10_percent.zip’\n",
            "\n",
            "10_food_classes_10_ 100%[===================>] 160.74M   101MB/s    in 1.6s    \n",
            "\n",
            "2024-04-29 05:54:18 (101 MB/s) - ‘10_food_classes_10_percent.zip’ saved [168546183/168546183]\n",
            "\n"
          ]
        }
      ]
    },
    {
      "cell_type": "code",
      "source": [
        "!ls 10_food_classes_10_percent"
      ],
      "metadata": {
        "colab": {
          "base_uri": "https://localhost:8080/"
        },
        "id": "yPe30T12HuF6",
        "outputId": "be7bf06f-173e-4cb6-80bc-916fc0bb1e4c"
      },
      "execution_count": null,
      "outputs": [
        {
          "output_type": "stream",
          "name": "stdout",
          "text": [
            "test  train\n"
          ]
        }
      ]
    },
    {
      "cell_type": "code",
      "source": [
        "import os\n",
        "\n",
        "## walking through the directories to get the info\n",
        "for dir_path, dir_names, file_name in os.walk('10_food_classes_10_percent'):\n",
        "  print(f\"There are {len(dir_names)} and {len(file_name)} images in {dir_path}\")"
      ],
      "metadata": {
        "colab": {
          "base_uri": "https://localhost:8080/"
        },
        "id": "cJg1v3BLIWgc",
        "outputId": "a455c190-82cb-4876-a8fb-c5412ac39566"
      },
      "execution_count": null,
      "outputs": [
        {
          "output_type": "stream",
          "name": "stdout",
          "text": [
            "There are 2 and 0 images in 10_food_classes_10_percent\n",
            "There are 10 and 0 images in 10_food_classes_10_percent/train\n",
            "There are 0 and 75 images in 10_food_classes_10_percent/train/hamburger\n",
            "There are 0 and 75 images in 10_food_classes_10_percent/train/grilled_salmon\n",
            "There are 0 and 75 images in 10_food_classes_10_percent/train/ramen\n",
            "There are 0 and 75 images in 10_food_classes_10_percent/train/chicken_wings\n",
            "There are 0 and 75 images in 10_food_classes_10_percent/train/fried_rice\n",
            "There are 0 and 75 images in 10_food_classes_10_percent/train/sushi\n",
            "There are 0 and 75 images in 10_food_classes_10_percent/train/steak\n",
            "There are 0 and 75 images in 10_food_classes_10_percent/train/pizza\n",
            "There are 0 and 75 images in 10_food_classes_10_percent/train/ice_cream\n",
            "There are 0 and 75 images in 10_food_classes_10_percent/train/chicken_curry\n",
            "There are 10 and 0 images in 10_food_classes_10_percent/test\n",
            "There are 0 and 250 images in 10_food_classes_10_percent/test/hamburger\n",
            "There are 0 and 250 images in 10_food_classes_10_percent/test/grilled_salmon\n",
            "There are 0 and 250 images in 10_food_classes_10_percent/test/ramen\n",
            "There are 0 and 250 images in 10_food_classes_10_percent/test/chicken_wings\n",
            "There are 0 and 250 images in 10_food_classes_10_percent/test/fried_rice\n",
            "There are 0 and 250 images in 10_food_classes_10_percent/test/sushi\n",
            "There are 0 and 250 images in 10_food_classes_10_percent/test/steak\n",
            "There are 0 and 250 images in 10_food_classes_10_percent/test/pizza\n",
            "There are 0 and 250 images in 10_food_classes_10_percent/test/ice_cream\n",
            "There are 0 and 250 images in 10_food_classes_10_percent/test/chicken_curry\n"
          ]
        }
      ]
    },
    {
      "cell_type": "markdown",
      "source": [
        "we have less training data than the test data"
      ],
      "metadata": {
        "id": "nmidd1bRJSsE"
      }
    },
    {
      "cell_type": "markdown",
      "source": [
        "## Creating a Data loader\n",
        "using `ImageDataGenerator`"
      ],
      "metadata": {
        "id": "XuOj864PJfR5"
      }
    },
    {
      "cell_type": "code",
      "source": [
        "from tensorflow.keras.preprocessing.image import ImageDataGenerator\n",
        "train_dir = '/content/10_food_classes_10_percent/train'\n",
        "test_dir = '/content/10_food_classes_10_percent/test'\n",
        "\n",
        "train_datagen = ImageDataGenerator(rescale=1/255.)\n",
        "\n",
        "test_datagen = ImageDataGenerator(rescale=1/255.)\n",
        "\n",
        "training_data = train_datagen.flow_from_directory(directory=train_dir,\n",
        "                                                  shuffle=True,\n",
        "                                                  target_size=(224, 224),\n",
        "                                                  batch_size=32,\n",
        "                                                  class_mode='categorical')\n",
        "\n",
        "testing_data = test_datagen.flow_from_directory(directory=test_dir,\n",
        "                                                shuffle=True,\n",
        "                                                target_size=(224, 224),\n",
        "                                                batch_size=32,\n",
        "                                                class_mode='categorical')\n"
      ],
      "metadata": {
        "colab": {
          "base_uri": "https://localhost:8080/"
        },
        "id": "L0xUdInNJZ2n",
        "outputId": "03d1999a-f795-4ab2-eaa2-14e7d3555ef5"
      },
      "execution_count": null,
      "outputs": [
        {
          "output_type": "stream",
          "name": "stdout",
          "text": [
            "Found 750 images belonging to 10 classes.\n",
            "Found 2500 images belonging to 10 classes.\n"
          ]
        }
      ]
    },
    {
      "cell_type": "markdown",
      "source": [
        "## Setting up callback (things to run whilst our model trains)\n",
        "\n",
        "callbacks are extra functionality you can add to our models to be performed during or after training.\n",
        "\n",
        "Some of the most popular callbacks:\n",
        "* Tracking experiments while the TensorBoard callback\n",
        "* Model checkpoint with the ModelCheckpoint callback\n",
        "* Stopping the model from training (before it trains too long and overfit) with the EarlyStopping callback."
      ],
      "metadata": {
        "id": "9yQct1KWMid0"
      }
    },
    {
      "cell_type": "code",
      "source": [
        "## Creating a TensorBoard callback (functionalized, because we need to create a new one for each model)\n",
        "import datetime as dt\n",
        "\n",
        "def create_tensorboard_callback(dir_name, experiment_name):\n",
        "  log_dir = dir_name +'/'+ experiment_name +'/'+ dt.datetime.now().strftime(\"%Y%m%d-%H%m%s\")\n",
        "  tensorboard_callback = tf.keras.callbacks.TensorBoard(log_dir=log_dir)\n",
        "  print(f\"Saving TensorBoard log files to {log_dir}\")\n",
        "  return tensorboard_callback"
      ],
      "metadata": {
        "id": "cituJsWbKyLP"
      },
      "execution_count": null,
      "outputs": []
    },
    {
      "cell_type": "markdown",
      "source": [
        "## Creating Models using TensorFlow Hub\n",
        "\n",
        "we can access model in TensorFlow Hub\n"
      ],
      "metadata": {
        "id": "S1cHOjnBZ7GE"
      }
    },
    {
      "cell_type": "code",
      "source": [
        "resnet_url = \"https://kaggle.com/models/google/resnet-v2/frameworks/TensorFlow2/variations/50-feature-vector/versions/1\"\n",
        "\n",
        "efficient_url = \"https://www.kaggle.com/models/google/efficientnet-v2/TensorFlow2/imagenet1k-b0-classification/2\""
      ],
      "metadata": {
        "id": "yf7oBElLjTOn"
      },
      "execution_count": null,
      "outputs": []
    },
    {
      "cell_type": "code",
      "source": [
        "import tensorflow_hub as hub\n",
        "from tensorflow.keras import layers"
      ],
      "metadata": {
        "id": "Cb3k7S3Cerua"
      },
      "execution_count": null,
      "outputs": []
    },
    {
      "cell_type": "code",
      "source": [
        "# Make a create_model() function to create a model from a URL\n",
        "def create_model(model_url, num_classes=10):\n",
        "  \"\"\"\n",
        "  Takes a TensorFlow Hub URL and creates a Keras Sequential model\n",
        "\n",
        "  Args:\n",
        "    model_url (str): A TensorFlow Hub feature extraction URL.\n",
        "    num_classes (int): Number of output neurons in the output layer,\n",
        "      should be equal to number of target classes, default 10.\n",
        "\n",
        "  Returns:\n",
        "    An uncompiled Keras Sequential model with model_url as feature extractor\n",
        "    layer and Dense output layer with num_Classes output neurons.\n",
        "  \"\"\"\n",
        "  # Download the pretrained model and save it as a Keras layer\n",
        "  feature_extractor_layer = hub.KerasLayer(model_url,\n",
        "                                           trainable=False, ## Freeze already learned patterns\n",
        "                                           name=\"feature_extraction_layer\",\n",
        "                                           input_shape=(224, 224, 3))\n",
        "\n",
        "  # Create model\n",
        "  model = tf.keras.Sequential([\n",
        "      feature_extractor_layer,\n",
        "      layers.Dense(num_classes, activation=\"softmax\", name=\"output_layer\")\n",
        "  ])\n",
        "\n",
        "  return model"
      ],
      "metadata": {
        "id": "NTIAmaKpjGsr"
      },
      "execution_count": null,
      "outputs": []
    },
    {
      "cell_type": "markdown",
      "source": [
        "### Creating and testing Resnet TensorFlow Hub Feature Extraction model"
      ],
      "metadata": {
        "id": "RKuTPA_7kfkT"
      }
    },
    {
      "cell_type": "code",
      "source": [
        "resnet_model = create_model(resnet_url,\n",
        "                            num_classes=10)"
      ],
      "metadata": {
        "id": "6YcEFwhpjOmF"
      },
      "execution_count": null,
      "outputs": []
    },
    {
      "cell_type": "code",
      "source": [
        "resnet_model.summary()"
      ],
      "metadata": {
        "colab": {
          "base_uri": "https://localhost:8080/"
        },
        "id": "EoyKEvCbjgLO",
        "outputId": "2f77ed8a-8639-437b-f6e7-4bbbb510179e"
      },
      "execution_count": null,
      "outputs": [
        {
          "output_type": "stream",
          "name": "stdout",
          "text": [
            "Model: \"sequential\"\n",
            "_________________________________________________________________\n",
            " Layer (type)                Output Shape              Param #   \n",
            "=================================================================\n",
            " feature_extraction_layer (  (None, 2048)              23564800  \n",
            " KerasLayer)                                                     \n",
            "                                                                 \n",
            " output_layer (Dense)        (None, 10)                20490     \n",
            "                                                                 \n",
            "=================================================================\n",
            "Total params: 23585290 (89.97 MB)\n",
            "Trainable params: 20490 (80.04 KB)\n",
            "Non-trainable params: 23564800 (89.89 MB)\n",
            "_________________________________________________________________\n"
          ]
        }
      ]
    },
    {
      "cell_type": "code",
      "source": [
        "## Compile a model\n",
        "resnet_model.compile(loss='categorical_crossentropy',\n",
        "                     optimizer=tf.keras.optimizers.Adam(),\n",
        "                     metrics=['accuracy'])"
      ],
      "metadata": {
        "id": "4uoAdEMBkYHu"
      },
      "execution_count": null,
      "outputs": []
    },
    {
      "cell_type": "code",
      "source": [
        "history = resnet_model.fit(training_data,\n",
        "                           epochs=5,\n",
        "                           callbacks=[create_tensorboard_callback('Transfer_learning', 'resnet_model')])"
      ],
      "metadata": {
        "colab": {
          "base_uri": "https://localhost:8080/"
        },
        "id": "Lh5LSOszlfIZ",
        "outputId": "7c7b8c43-7089-40d7-cc28-49802e6fc377"
      },
      "execution_count": null,
      "outputs": [
        {
          "output_type": "stream",
          "name": "stdout",
          "text": [
            "Saving TensorBoard log files to Transfer_learning/resnet_model/20240429-05041714370069\n",
            "Epoch 1/5\n",
            "24/24 [==============================] - 125s 5s/step - loss: 1.9155 - accuracy: 0.3480\n",
            "Epoch 2/5\n",
            "24/24 [==============================] - 119s 5s/step - loss: 0.8764 - accuracy: 0.7373\n",
            "Epoch 3/5\n",
            "24/24 [==============================] - 123s 5s/step - loss: 0.5923 - accuracy: 0.8453\n",
            "Epoch 4/5\n",
            "24/24 [==============================] - 128s 5s/step - loss: 0.4556 - accuracy: 0.8933\n",
            "Epoch 5/5\n",
            "24/24 [==============================] - 120s 5s/step - loss: 0.3644 - accuracy: 0.9280\n"
          ]
        }
      ]
    },
    {
      "cell_type": "code",
      "source": [
        "resnet_model.evaluate(testing_data)"
      ],
      "metadata": {
        "colab": {
          "base_uri": "https://localhost:8080/"
        },
        "id": "tokWGk5fpOIF",
        "outputId": "0ed10258-a026-4ee7-c75d-9f50cb9a4785"
      },
      "execution_count": null,
      "outputs": [
        {
          "output_type": "stream",
          "name": "stdout",
          "text": [
            "79/79 [==============================] - 408s 5s/step - loss: 0.6842 - accuracy: 0.7776\n"
          ]
        },
        {
          "output_type": "execute_result",
          "data": {
            "text/plain": [
              "[0.6842128038406372, 0.7775999903678894]"
            ]
          },
          "metadata": {},
          "execution_count": 14
        }
      ]
    },
    {
      "cell_type": "code",
      "source": [
        "import pandas as pd\n",
        "\n",
        "pd.DataFrame(history.history).plot()"
      ],
      "metadata": {
        "colab": {
          "base_uri": "https://localhost:8080/",
          "height": 447
        },
        "id": "RI5JIaejmPIk",
        "outputId": "4e1137f0-6d4c-42da-aed8-ac7ca28f34b6"
      },
      "execution_count": null,
      "outputs": [
        {
          "output_type": "execute_result",
          "data": {
            "text/plain": [
              "<Axes: >"
            ]
          },
          "metadata": {},
          "execution_count": 15
        },
        {
          "output_type": "display_data",
          "data": {
            "text/plain": [
              "<Figure size 640x480 with 1 Axes>"
            ],
            "image/png": "[encoded data removed]"
          },
          "metadata": {}
        }
      ]
    },
    {
      "cell_type": "code",
      "source": [
        "## effientnet model\n",
        "\n",
        "efficient_model = create_model(efficient_url, 10)"
      ],
      "metadata": {
        "id": "voM2eF11qjS5"
      },
      "execution_count": null,
      "outputs": []
    },
    {
      "cell_type": "code",
      "source": [
        "efficient_model.compile(loss='categorical_crossentropy',\n",
        "                        optimizer = tf.keras.optimizers.Adam(),\n",
        "                        metrics=['accuracy'])"
      ],
      "metadata": {
        "id": "RNuuLBgnq8Jw"
      },
      "execution_count": null,
      "outputs": []
    },
    {
      "cell_type": "code",
      "source": [
        "history_1 = efficient_model.fit(training_data,\n",
        "                                epochs=5,\n",
        "                                validation_data=testing_data,\n",
        "                                callbacks=[create_tensorboard_callback('transfer_learning', 'efficient_net')])"
      ],
      "metadata": {
        "colab": {
          "base_uri": "https://localhost:8080/"
        },
        "id": "RHXM7ns-rOAD",
        "outputId": "5b9d622c-2f10-4a1c-b030-03d5de915477"
      },
      "execution_count": null,
      "outputs": [
        {
          "output_type": "stream",
          "name": "stdout",
          "text": [
            "Saving TensorBoard log files to transfer_learning/efficient_net/20240429-06041714371155\n",
            "Epoch 1/5\n",
            "24/24 [==============================] - 191s 8s/step - loss: 2.0435 - accuracy: 0.3573 - val_loss: 1.2508 - val_accuracy: 0.5808\n",
            "Epoch 2/5\n",
            "24/24 [==============================] - 183s 8s/step - loss: 1.0351 - accuracy: 0.6667 - val_loss: 0.8980 - val_accuracy: 0.6988\n",
            "Epoch 3/5\n",
            "24/24 [==============================] - 181s 8s/step - loss: 0.7666 - accuracy: 0.7640 - val_loss: 0.8069 - val_accuracy: 0.7200\n",
            "Epoch 4/5\n",
            "24/24 [==============================] - 166s 7s/step - loss: 0.6259 - accuracy: 0.8147 - val_loss: 0.7649 - val_accuracy: 0.7368\n",
            "Epoch 5/5\n",
            "24/24 [==============================] - 174s 7s/step - loss: 0.5420 - accuracy: 0.8440 - val_loss: 0.7580 - val_accuracy: 0.7424\n"
          ]
        }
      ]
    },
    {
      "cell_type": "code",
      "source": [
        "efficient_model.summary()"
      ],
      "metadata": {
        "colab": {
          "base_uri": "https://localhost:8080/"
        },
        "id": "NzCZXj7YrrB-",
        "outputId": "fe457d55-b8ef-435a-e40f-647a1def8f5a"
      },
      "execution_count": null,
      "outputs": [
        {
          "output_type": "stream",
          "name": "stdout",
          "text": [
            "Model: \"sequential_1\"\n",
            "_________________________________________________________________\n",
            " Layer (type)                Output Shape              Param #   \n",
            "=================================================================\n",
            " feature_extraction_layer (  (None, 1000)              7200312   \n",
            " KerasLayer)                                                     \n",
            "                                                                 \n",
            " output_layer (Dense)        (None, 10)                10010     \n",
            "                                                                 \n",
            "=================================================================\n",
            "Total params: 7210322 (27.51 MB)\n",
            "Trainable params: 10010 (39.10 KB)\n",
            "Non-trainable params: 7200312 (27.47 MB)\n",
            "_________________________________________________________________\n"
          ]
        }
      ]
    },
    {
      "cell_type": "code",
      "source": [
        "df = pd.DataFrame(history_1.history)"
      ],
      "metadata": {
        "id": "fFl7TRc8r4KL"
      },
      "execution_count": null,
      "outputs": []
    },
    {
      "cell_type": "markdown",
      "source": [
        "### Different types of Transfer Learning\n",
        "\n",
        "* **As is Transfer learning** -\n",
        "* **Feature Extraction Transfer learninig** - use prelearned patterns of existing an model and adjust output layer for your own problem\n",
        "* **Fine Tunning Transfer learning**  - here we can \"Fine-tune\" many or all the underlying layers.\n"
      ],
      "metadata": {
        "id": "YvoAunGsK2VF"
      }
    },
    {
      "cell_type": "code",
      "source": [],
      "metadata": {
        "id": "wmm35Pc2K03k"
      },
      "execution_count": null,
      "outputs": []
    }
  ]
}